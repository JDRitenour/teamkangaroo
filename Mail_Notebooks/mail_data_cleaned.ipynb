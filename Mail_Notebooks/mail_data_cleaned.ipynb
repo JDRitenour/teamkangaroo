{
 "cells": [
  {
   "cell_type": "code",
   "execution_count": 1,
   "metadata": {},
   "outputs": [],
   "source": [
    "import polars as pl\n",
    "import requests\n",
    "import json"
   ]
  },
  {
   "cell_type": "code",
   "execution_count": 2,
   "metadata": {},
   "outputs": [],
   "source": [
    "Token = 'PawWhEunzcfyHfPtjouuRcCyeQXeMwhk'"
   ]
  },
  {
   "cell_type": "markdown",
   "metadata": {},
   "source": [
    "Import Origination Data"
   ]
  },
  {
   "cell_type": "code",
   "execution_count": 3,
   "metadata": {},
   "outputs": [],
   "source": [
    "originatingPeices1 = pl.read_csv('../../Data/Mail_v2/Originating Pieces pt.1 v2.csv', null_values='null')"
   ]
  },
  {
   "cell_type": "code",
   "execution_count": 4,
   "metadata": {},
   "outputs": [],
   "source": [
    "originatingPeices2 = pl.read_csv('../../Data/Mail_v2/Originating Pieces pt.2 v2.csv', null_values='null')"
   ]
  },
  {
   "cell_type": "code",
   "execution_count": 5,
   "metadata": {},
   "outputs": [],
   "source": [
    "originatingPeices = pl.concat([originatingPeices1, originatingPeices2], how = 'vertical')"
   ]
  },
  {
   "cell_type": "code",
   "execution_count": 6,
   "metadata": {},
   "outputs": [
    {
     "data": {
      "text/plain": [
       "(42174946, 10)"
      ]
     },
     "execution_count": 6,
     "metadata": {},
     "output_type": "execute_result"
    }
   ],
   "source": [
    "originatingPeices.shape"
   ]
  },
  {
   "cell_type": "markdown",
   "metadata": {},
   "source": [
    "Remove Null Values"
   ]
  },
  {
   "cell_type": "code",
   "execution_count": 7,
   "metadata": {},
   "outputs": [],
   "source": [
    "originatingPeices_v2 = originatingPeices.drop_nulls()"
   ]
  },
  {
   "cell_type": "code",
   "execution_count": 8,
   "metadata": {},
   "outputs": [
    {
     "data": {
      "text/plain": [
       "(41160323, 10)"
      ]
     },
     "execution_count": 8,
     "metadata": {},
     "output_type": "execute_result"
    }
   ],
   "source": [
    "originatingPeices_v2.shape"
   ]
  },
  {
   "cell_type": "markdown",
   "metadata": {},
   "source": [
    "Remove Duplicate Values"
   ]
  },
  {
   "cell_type": "code",
   "execution_count": 9,
   "metadata": {},
   "outputs": [],
   "source": [
    "originatingPeices_v3 = originatingPeices_v2.unique(subset=['UNIQUE_IDENTIFIER'], keep='none')"
   ]
  },
  {
   "cell_type": "code",
   "execution_count": 10,
   "metadata": {},
   "outputs": [
    {
     "data": {
      "text/plain": [
       "(41160140, 10)"
      ]
     },
     "execution_count": 10,
     "metadata": {},
     "output_type": "execute_result"
    }
   ],
   "source": [
    "originatingPeices_v3.shape"
   ]
  },
  {
   "cell_type": "markdown",
   "metadata": {},
   "source": [
    "Remove Date Errors"
   ]
  },
  {
   "cell_type": "code",
   "execution_count": 11,
   "metadata": {},
   "outputs": [],
   "source": [
    "originatingPeices_v4 = originatingPeices_v3.filter(pl.col('ACTUAL_DLVRY_DATE') > pl.col('START_THE_CLOCK_DATE'))"
   ]
  },
  {
   "cell_type": "code",
   "execution_count": 12,
   "metadata": {},
   "outputs": [
    {
     "data": {
      "text/plain": [
       "(38832134, 10)"
      ]
     },
     "execution_count": 12,
     "metadata": {},
     "output_type": "execute_result"
    }
   ],
   "source": [
    "originatingPeices_v4.shape"
   ]
  },
  {
   "cell_type": "markdown",
   "metadata": {},
   "source": [
    "Filter for Mail Originating and Destinating in Music City"
   ]
  },
  {
   "cell_type": "code",
   "execution_count": 32,
   "metadata": {},
   "outputs": [],
   "source": [
    "originatingPeices_v5 = originatingPeices_v4.filter((pl.col('ORIGIN_FACILITY') == 'MUSIC CITY ANNEX - 1532174') &\n",
    "                                                   (pl.col('EXPECTED_DESTINATION_FACILITY') == 'MUSIC CITY ANNEX - 1532174'))"
   ]
  },
  {
   "cell_type": "code",
   "execution_count": 16,
   "metadata": {},
   "outputs": [
    {
     "data": {
      "text/plain": [
       "(1821507, 10)"
      ]
     },
     "execution_count": 16,
     "metadata": {},
     "output_type": "execute_result"
    }
   ],
   "source": [
    "originatingPeices_v5.shape"
   ]
  },
  {
   "cell_type": "markdown",
   "metadata": {},
   "source": [
    "Find unique originating zips and dates"
   ]
  },
  {
   "cell_type": "code",
   "execution_count": 41,
   "metadata": {},
   "outputs": [],
   "source": [
    "ozip = originatingPeices_v5.select(pl.col('OZIP3').alias('zip3')).unique(keep='first')"
   ]
  },
  {
   "cell_type": "code",
   "execution_count": 42,
   "metadata": {},
   "outputs": [
    {
     "data": {
      "text/html": [
       "<div><style>\n",
       ".dataframe > thead > tr,\n",
       ".dataframe > tbody > tr {\n",
       "  text-align: right;\n",
       "  white-space: pre-wrap;\n",
       "}\n",
       "</style>\n",
       "<small>shape: (1, 1)</small><table border=\"1\" class=\"dataframe\"><thead><tr><th>zip3</th></tr><tr><td>i64</td></tr></thead><tbody><tr><td>372</td></tr></tbody></table></div>"
      ],
      "text/plain": [
       "shape: (1, 1)\n",
       "┌──────┐\n",
       "│ zip3 │\n",
       "│ ---  │\n",
       "│ i64  │\n",
       "╞══════╡\n",
       "│ 372  │\n",
       "└──────┘"
      ]
     },
     "execution_count": 42,
     "metadata": {},
     "output_type": "execute_result"
    }
   ],
   "source": [
    "ozip"
   ]
  },
  {
   "cell_type": "code",
   "execution_count": 67,
   "metadata": {},
   "outputs": [
    {
     "data": {
      "text/html": [
       "<div><style>\n",
       ".dataframe > thead > tr,\n",
       ".dataframe > tbody > tr {\n",
       "  text-align: right;\n",
       "  white-space: pre-wrap;\n",
       "}\n",
       "</style>\n",
       "<small>shape: (13, 1)</small><table border=\"1\" class=\"dataframe\"><thead><tr><th>date</th></tr><tr><td>str</td></tr></thead><tbody><tr><td>&quot;2024-01-20&quot;</td></tr><tr><td>&quot;2024-01-13&quot;</td></tr><tr><td>&quot;2024-01-10&quot;</td></tr><tr><td>&quot;2024-01-21&quot;</td></tr><tr><td>&quot;2024-01-17&quot;</td></tr><tr><td>&hellip;</td></tr><tr><td>&quot;2024-01-14&quot;</td></tr><tr><td>&quot;2024-01-18&quot;</td></tr><tr><td>&quot;2024-01-11&quot;</td></tr><tr><td>&quot;2024-01-08&quot;</td></tr><tr><td>&quot;2024-01-16&quot;</td></tr></tbody></table></div>"
      ],
      "text/plain": [
       "shape: (13, 1)\n",
       "┌────────────┐\n",
       "│ date       │\n",
       "│ ---        │\n",
       "│ str        │\n",
       "╞════════════╡\n",
       "│ 2024-01-20 │\n",
       "│ 2024-01-13 │\n",
       "│ 2024-01-10 │\n",
       "│ 2024-01-21 │\n",
       "│ 2024-01-17 │\n",
       "│ …          │\n",
       "│ 2024-01-14 │\n",
       "│ 2024-01-18 │\n",
       "│ 2024-01-11 │\n",
       "│ 2024-01-08 │\n",
       "│ 2024-01-16 │\n",
       "└────────────┘"
      ]
     },
     "execution_count": 67,
     "metadata": {},
     "output_type": "execute_result"
    }
   ],
   "source": [
    "oStartDate = originatingPeices_v5.select(pl.col('START_THE_CLOCK_DATE').alias('date')).unique(keep='first')\n",
    "oStartDate"
   ]
  },
  {
   "cell_type": "markdown",
   "metadata": {},
   "source": [
    "Find Unique Destinating zips and dates"
   ]
  },
  {
   "cell_type": "code",
   "execution_count": 46,
   "metadata": {},
   "outputs": [
    {
     "data": {
      "text/html": [
       "<div><style>\n",
       ".dataframe > thead > tr,\n",
       ".dataframe > tbody > tr {\n",
       "  text-align: right;\n",
       "  white-space: pre-wrap;\n",
       "}\n",
       "</style>\n",
       "<small>shape: (10, 1)</small><table border=\"1\" class=\"dataframe\"><thead><tr><th>zip3</th></tr><tr><td>i64</td></tr></thead><tbody><tr><td>307</td></tr><tr><td>385</td></tr><tr><td>370</td></tr><tr><td>373</td></tr><tr><td>421</td></tr><tr><td>374</td></tr><tr><td>371</td></tr><tr><td>422</td></tr><tr><td>384</td></tr><tr><td>372</td></tr></tbody></table></div>"
      ],
      "text/plain": [
       "shape: (10, 1)\n",
       "┌──────┐\n",
       "│ zip3 │\n",
       "│ ---  │\n",
       "│ i64  │\n",
       "╞══════╡\n",
       "│ 307  │\n",
       "│ 385  │\n",
       "│ 370  │\n",
       "│ 373  │\n",
       "│ 421  │\n",
       "│ 374  │\n",
       "│ 371  │\n",
       "│ 422  │\n",
       "│ 384  │\n",
       "│ 372  │\n",
       "└──────┘"
      ]
     },
     "execution_count": 46,
     "metadata": {},
     "output_type": "execute_result"
    }
   ],
   "source": [
    "dzip = originatingPeices_v5.select(pl.col('DZIP3').alias('zip3')).unique(keep='first')\n",
    "dzip"
   ]
  },
  {
   "cell_type": "code",
   "execution_count": 68,
   "metadata": {},
   "outputs": [
    {
     "data": {
      "text/html": [
       "<div><style>\n",
       ".dataframe > thead > tr,\n",
       ".dataframe > tbody > tr {\n",
       "  text-align: right;\n",
       "  white-space: pre-wrap;\n",
       "}\n",
       "</style>\n",
       "<small>shape: (16, 1)</small><table border=\"1\" class=\"dataframe\"><thead><tr><th>date</th></tr><tr><td>str</td></tr></thead><tbody><tr><td>&quot;2024-01-12&quot;</td></tr><tr><td>&quot;2024-01-16&quot;</td></tr><tr><td>&quot;2024-01-27&quot;</td></tr><tr><td>&quot;2024-01-22&quot;</td></tr><tr><td>&quot;2024-01-09&quot;</td></tr><tr><td>&hellip;</td></tr><tr><td>&quot;2024-01-25&quot;</td></tr><tr><td>&quot;2024-01-19&quot;</td></tr><tr><td>&quot;2024-01-23&quot;</td></tr><tr><td>&quot;2024-01-10&quot;</td></tr><tr><td>&quot;2024-01-26&quot;</td></tr></tbody></table></div>"
      ],
      "text/plain": [
       "shape: (16, 1)\n",
       "┌────────────┐\n",
       "│ date       │\n",
       "│ ---        │\n",
       "│ str        │\n",
       "╞════════════╡\n",
       "│ 2024-01-12 │\n",
       "│ 2024-01-16 │\n",
       "│ 2024-01-27 │\n",
       "│ 2024-01-22 │\n",
       "│ 2024-01-09 │\n",
       "│ …          │\n",
       "│ 2024-01-25 │\n",
       "│ 2024-01-19 │\n",
       "│ 2024-01-23 │\n",
       "│ 2024-01-10 │\n",
       "│ 2024-01-26 │\n",
       "└────────────┘"
      ]
     },
     "execution_count": 68,
     "metadata": {},
     "output_type": "execute_result"
    }
   ],
   "source": [
    "dDate = originatingPeices_v5.select(pl.col('EXPECTED_DELIVERY_DATE').alias('date')).unique(keep='first')\n",
    "dDate"
   ]
  },
  {
   "cell_type": "markdown",
   "metadata": {},
   "source": [
    "Find unique zips"
   ]
  },
  {
   "cell_type": "code",
   "execution_count": 64,
   "metadata": {},
   "outputs": [],
   "source": [
    "zip3 = pl.concat([ozip, dzip]).unique(keep='first')['zip3'].to_list()"
   ]
  },
  {
   "cell_type": "code",
   "execution_count": 66,
   "metadata": {},
   "outputs": [
    {
     "data": {
      "text/plain": [
       "[385, 422, 374, 307, 371, 372, 384, 373, 421, 370]"
      ]
     },
     "execution_count": 66,
     "metadata": {},
     "output_type": "execute_result"
    }
   ],
   "source": [
    "zip3"
   ]
  },
  {
   "cell_type": "markdown",
   "metadata": {},
   "source": [
    "Find unique dates"
   ]
  },
  {
   "cell_type": "code",
   "execution_count": 69,
   "metadata": {},
   "outputs": [],
   "source": [
    "date = pl.concat([oStartDate, dDate]).unique()['date'].to_list()"
   ]
  },
  {
   "cell_type": "code",
   "execution_count": 70,
   "metadata": {},
   "outputs": [
    {
     "data": {
      "text/plain": [
       "['2024-01-14',\n",
       " '2024-01-17',\n",
       " '2024-01-23',\n",
       " '2024-01-24',\n",
       " '2024-01-16',\n",
       " '2024-01-19',\n",
       " '2024-01-26',\n",
       " '2024-01-08',\n",
       " '2024-01-10',\n",
       " '2024-01-18',\n",
       " '2024-01-20',\n",
       " '2024-01-09',\n",
       " '2024-01-22',\n",
       " '2024-01-27',\n",
       " '2024-01-25',\n",
       " '2024-01-12',\n",
       " '2024-01-11',\n",
       " '2024-01-13',\n",
       " '2024-01-21']"
      ]
     },
     "execution_count": 70,
     "metadata": {},
     "output_type": "execute_result"
    }
   ],
   "source": [
    "date"
   ]
  },
  {
   "cell_type": "markdown",
   "metadata": {},
   "source": [
    "Import Zip Codes"
   ]
  },
  {
   "cell_type": "code",
   "execution_count": 54,
   "metadata": {},
   "outputs": [],
   "source": [
    "upspZipcodes = pl.read_excel('../../Data/ZIP_Locale_Detail.xls')"
   ]
  },
  {
   "cell_type": "code",
   "execution_count": 55,
   "metadata": {},
   "outputs": [
    {
     "data": {
      "text/html": [
       "<div><style>\n",
       ".dataframe > thead > tr,\n",
       ".dataframe > tbody > tr {\n",
       "  text-align: right;\n",
       "  white-space: pre-wrap;\n",
       "}\n",
       "</style>\n",
       "<small>shape: (5, 11)</small><table border=\"1\" class=\"dataframe\"><thead><tr><th>AREA NAME</th><th>AREA CODE</th><th>DISTRICT NAME</th><th>DISTRICT NO</th><th>DELIVERY ZIPCODE</th><th>LOCALE NAME</th><th>PHYSICAL DELV ADDR</th><th>PHYSICAL CITY</th><th>PHYSICAL STATE</th><th>PHYSICAL ZIP</th><th>PHYSICAL ZIP 4</th></tr><tr><td>str</td><td>str</td><td>str</td><td>str</td><td>str</td><td>str</td><td>str</td><td>str</td><td>str</td><td>str</td><td>str</td></tr></thead><tbody><tr><td>&quot;SOUTHERN&quot;</td><td>&quot;4G&quot;</td><td>&quot;PUERTO RICO&quot;</td><td>&quot;006&quot;</td><td>&quot;00601&quot;</td><td>&quot;ADJUNTAS&quot;</td><td>&quot;37 CALLE MUNOZ RIVERA&quot;</td><td>&quot;ADJUNTAS&quot;</td><td>&quot;PR&quot;</td><td>&quot;00601&quot;</td><td>&quot;9998&quot;</td></tr><tr><td>&quot;SOUTHERN&quot;</td><td>&quot;4G&quot;</td><td>&quot;PUERTO RICO&quot;</td><td>&quot;006&quot;</td><td>&quot;00602&quot;</td><td>&quot;AGUADA&quot;</td><td>&quot;5 AVE NATIVO ALERS&quot;</td><td>&quot;AGUADA&quot;</td><td>&quot;PR&quot;</td><td>&quot;00602&quot;</td><td>&quot;9998&quot;</td></tr><tr><td>&quot;SOUTHERN&quot;</td><td>&quot;4G&quot;</td><td>&quot;PUERTO RICO&quot;</td><td>&quot;006&quot;</td><td>&quot;00603&quot;</td><td>&quot;AGUADILLA&quot;</td><td>&quot;50 CARR 459 STE 1&quot;</td><td>&quot;AGUADILLA&quot;</td><td>&quot;PR&quot;</td><td>&quot;00603&quot;</td><td>&quot;9998&quot;</td></tr><tr><td>&quot;SOUTHERN&quot;</td><td>&quot;4G&quot;</td><td>&quot;PUERTO RICO&quot;</td><td>&quot;006&quot;</td><td>&quot;00604&quot;</td><td>&quot;RAMEY&quot;</td><td>&quot;100 AVE BORINQUEN&quot;</td><td>&quot;AGUADILLA&quot;</td><td>&quot;PR&quot;</td><td>&quot;00603&quot;</td><td>&quot;9996&quot;</td></tr><tr><td>&quot;SOUTHERN&quot;</td><td>&quot;4G&quot;</td><td>&quot;PUERTO RICO&quot;</td><td>&quot;006&quot;</td><td>&quot;00605&quot;</td><td>&quot;AGUADILLA&quot;</td><td>&quot;50 CARR 459 STE 1&quot;</td><td>&quot;AGUADILLA&quot;</td><td>&quot;PR&quot;</td><td>&quot;00603&quot;</td><td>&quot;9998&quot;</td></tr></tbody></table></div>"
      ],
      "text/plain": [
       "shape: (5, 11)\n",
       "┌────────────┬──────┬────────────┬────────────┬───┬────────────┬───────────┬───────────┬───────────┐\n",
       "│ AREA NAME  ┆ AREA ┆ DISTRICT   ┆ DISTRICT   ┆ … ┆ PHYSICAL   ┆ PHYSICAL  ┆ PHYSICAL  ┆ PHYSICAL  │\n",
       "│ ---        ┆ CODE ┆ NAME       ┆ NO         ┆   ┆ CITY       ┆ STATE     ┆ ZIP       ┆ ZIP 4     │\n",
       "│ str        ┆ ---  ┆ ---        ┆ ---        ┆   ┆ ---        ┆ ---       ┆ ---       ┆ ---       │\n",
       "│            ┆ str  ┆ str        ┆ str        ┆   ┆ str        ┆ str       ┆ str       ┆ str       │\n",
       "╞════════════╪══════╪════════════╪════════════╪═══╪════════════╪═══════════╪═══════════╪═══════════╡\n",
       "│ SOUTHERN   ┆ 4G   ┆ PUERTO     ┆ 006        ┆ … ┆ ADJUNTAS   ┆ PR        ┆ 00601     ┆ 9998      │\n",
       "│            ┆      ┆ RICO       ┆            ┆   ┆            ┆           ┆           ┆           │\n",
       "│ SOUTHERN   ┆ 4G   ┆ PUERTO     ┆ 006        ┆ … ┆ AGUADA     ┆ PR        ┆ 00602     ┆ 9998      │\n",
       "│            ┆      ┆ RICO       ┆            ┆   ┆            ┆           ┆           ┆           │\n",
       "│ SOUTHERN   ┆ 4G   ┆ PUERTO     ┆ 006        ┆ … ┆ AGUADILLA  ┆ PR        ┆ 00603     ┆ 9998      │\n",
       "│            ┆      ┆ RICO       ┆            ┆   ┆            ┆           ┆           ┆           │\n",
       "│ SOUTHERN   ┆ 4G   ┆ PUERTO     ┆ 006        ┆ … ┆ AGUADILLA  ┆ PR        ┆ 00603     ┆ 9996      │\n",
       "│            ┆      ┆ RICO       ┆            ┆   ┆            ┆           ┆           ┆           │\n",
       "│ SOUTHERN   ┆ 4G   ┆ PUERTO     ┆ 006        ┆ … ┆ AGUADILLA  ┆ PR        ┆ 00603     ┆ 9998      │\n",
       "│            ┆      ┆ RICO       ┆            ┆   ┆            ┆           ┆           ┆           │\n",
       "└────────────┴──────┴────────────┴────────────┴───┴────────────┴───────────┴───────────┴───────────┘"
      ]
     },
     "execution_count": 55,
     "metadata": {},
     "output_type": "execute_result"
    }
   ],
   "source": [
    "upspZipcodes.head()"
   ]
  },
  {
   "cell_type": "code",
   "execution_count": 58,
   "metadata": {},
   "outputs": [],
   "source": [
    "upspZipcodes_cleaned = upspZipcodes.select(pl.col('DELIVERY ZIPCODE')).with_columns(pl.col('DELIVERY ZIPCODE').str.slice(0,3).alias('zip3').cast(pl.Int64))"
   ]
  },
  {
   "cell_type": "code",
   "execution_count": 59,
   "metadata": {},
   "outputs": [
    {
     "data": {
      "text/html": [
       "<div><style>\n",
       ".dataframe > thead > tr,\n",
       ".dataframe > tbody > tr {\n",
       "  text-align: right;\n",
       "  white-space: pre-wrap;\n",
       "}\n",
       "</style>\n",
       "<small>shape: (5, 2)</small><table border=\"1\" class=\"dataframe\"><thead><tr><th>DELIVERY ZIPCODE</th><th>zip3</th></tr><tr><td>str</td><td>i64</td></tr></thead><tbody><tr><td>&quot;00601&quot;</td><td>6</td></tr><tr><td>&quot;00602&quot;</td><td>6</td></tr><tr><td>&quot;00603&quot;</td><td>6</td></tr><tr><td>&quot;00604&quot;</td><td>6</td></tr><tr><td>&quot;00605&quot;</td><td>6</td></tr></tbody></table></div>"
      ],
      "text/plain": [
       "shape: (5, 2)\n",
       "┌──────────────────┬──────┐\n",
       "│ DELIVERY ZIPCODE ┆ zip3 │\n",
       "│ ---              ┆ ---  │\n",
       "│ str              ┆ i64  │\n",
       "╞══════════════════╪══════╡\n",
       "│ 00601            ┆ 6    │\n",
       "│ 00602            ┆ 6    │\n",
       "│ 00603            ┆ 6    │\n",
       "│ 00604            ┆ 6    │\n",
       "│ 00605            ┆ 6    │\n",
       "└──────────────────┴──────┘"
      ]
     },
     "execution_count": 59,
     "metadata": {},
     "output_type": "execute_result"
    }
   ],
   "source": [
    "upspZipcodes_cleaned.head()"
   ]
  },
  {
   "cell_type": "markdown",
   "metadata": {},
   "source": [
    "Weather Data Pull Function"
   ]
  },
  {
   "cell_type": "code",
   "execution_count": 82,
   "metadata": {},
   "outputs": [],
   "source": [
    "def get_weather_data(api_key, zip_code, startdate, enddate):\n",
    "    base_url = \"https://www.ncdc.noaa.gov/cdo-web/api/v2/data\"\n",
    "    headers = {'token': api_key}\n",
    "    params = {\n",
    "        'datasetid': 'GHCND',\n",
    "        'locationid': f'ZIP:{zip_code}',\n",
    "        'startdate': startdate,\n",
    "        'enddate': enddate,\n",
    "        'datatypeid': ['TMIN', 'TMAX', 'PRCP', 'SNOW'],\n",
    "        'units': 'standard',\n",
    "        'limit': 1000\n",
    "    }\n",
    "\n",
    "    response = requests.get(base_url, headers=headers, params=params)\n",
    "\n",
    "    if response.status_code == 200:\n",
    "        data = response.json().get('results', [])\n",
    "        return data\n",
    "\n",
    "    else:\n",
    "        emp_list = []\n",
    "        return emp_list"
   ]
  },
  {
   "cell_type": "code",
   "execution_count": 78,
   "metadata": {},
   "outputs": [
    {
     "data": {
      "text/plain": [
       "[385, 422, 374, 307, 371, 372, 384, 373, 421, 370]"
      ]
     },
     "execution_count": 78,
     "metadata": {},
     "output_type": "execute_result"
    }
   ],
   "source": [
    "zip3"
   ]
  },
  {
   "cell_type": "code",
   "execution_count": 95,
   "metadata": {},
   "outputs": [],
   "source": [
    "weatherdf = pl.DataFrame()"
   ]
  },
  {
   "cell_type": "code",
   "execution_count": 96,
   "metadata": {},
   "outputs": [
    {
     "name": "stdout",
     "output_type": "stream",
     "text": [
      "385 - 0/57\n",
      "385 - 1/57\n",
      "385 - 2/57\n",
      "385 - 3/57\n",
      "385 - 4/57\n",
      "385 - 5/57\n",
      "385 - 6/57\n",
      "385 - 7/57\n",
      "385 - 8/57\n",
      "385 - 9/57\n",
      "385 - 10/57\n",
      "385 - 11/57\n",
      "385 - 12/57\n",
      "385 - 13/57\n",
      "385 - 14/57\n",
      "385 - 15/57\n",
      "385 - 16/57\n",
      "385 - 17/57\n",
      "385 - 18/57\n",
      "385 - 19/57\n",
      "385 - 20/57\n",
      "385 - 21/57\n",
      "385 - 22/57\n",
      "385 - 23/57\n",
      "385 - 24/57\n",
      "385 - 25/57\n",
      "385 - 26/57\n",
      "385 - 27/57\n",
      "385 - 28/57\n",
      "385 - 29/57\n",
      "385 - 30/57\n",
      "385 - 31/57\n",
      "385 - 32/57\n",
      "385 - 33/57\n",
      "385 - 34/57\n",
      "385 - 35/57\n",
      "385 - 36/57\n",
      "385 - 37/57\n",
      "385 - 38/57\n",
      "385 - 39/57\n",
      "385 - 40/57\n",
      "385 - 41/57\n",
      "385 - 42/57\n",
      "385 - 43/57\n",
      "385 - 44/57\n",
      "385 - 45/57\n",
      "385 - 46/57\n",
      "385 - 47/57\n",
      "385 - 48/57\n",
      "385 - 49/57\n",
      "385 - 50/57\n",
      "385 - 51/57\n",
      "385 - 52/57\n",
      "385 - 53/57\n",
      "385 - 54/57\n",
      "385 - 55/57\n",
      "385 - 56/57\n",
      "385 - 57/57\n",
      "422 - 0/44\n",
      "422 - 1/44\n",
      "422 - 2/44\n",
      "422 - 3/44\n",
      "422 - 4/44\n",
      "422 - 5/44\n",
      "422 - 6/44\n",
      "422 - 7/44\n",
      "422 - 8/44\n",
      "422 - 9/44\n",
      "422 - 10/44\n",
      "422 - 11/44\n",
      "422 - 12/44\n",
      "422 - 13/44\n",
      "422 - 14/44\n",
      "422 - 15/44\n",
      "422 - 16/44\n",
      "422 - 17/44\n",
      "422 - 18/44\n",
      "422 - 19/44\n",
      "422 - 20/44\n",
      "422 - 21/44\n",
      "422 - 22/44\n",
      "422 - 23/44\n",
      "422 - 24/44\n",
      "422 - 25/44\n",
      "422 - 26/44\n",
      "422 - 27/44\n",
      "422 - 28/44\n",
      "422 - 29/44\n",
      "422 - 30/44\n",
      "422 - 31/44\n",
      "422 - 32/44\n",
      "422 - 33/44\n",
      "422 - 34/44\n",
      "422 - 35/44\n",
      "422 - 36/44\n",
      "422 - 37/44\n",
      "422 - 38/44\n",
      "422 - 39/44\n",
      "422 - 40/44\n",
      "422 - 41/44\n",
      "422 - 42/44\n",
      "422 - 43/44\n",
      "422 - 44/44\n",
      "374 - 0/19\n",
      "374 - 1/19\n",
      "374 - 2/19\n",
      "374 - 3/19\n",
      "374 - 4/19\n",
      "374 - 5/19\n",
      "374 - 6/19\n",
      "374 - 7/19\n",
      "374 - 8/19\n",
      "374 - 9/19\n",
      "374 - 10/19\n",
      "374 - 11/19\n",
      "374 - 12/19\n",
      "374 - 13/19\n",
      "374 - 14/19\n",
      "374 - 15/19\n",
      "374 - 16/19\n",
      "374 - 17/19\n",
      "374 - 18/19\n",
      "374 - 19/19\n",
      "307 - 0/36\n",
      "307 - 1/36\n",
      "307 - 2/36\n",
      "307 - 3/36\n",
      "307 - 4/36\n",
      "307 - 5/36\n",
      "307 - 6/36\n",
      "307 - 7/36\n",
      "307 - 8/36\n",
      "307 - 9/36\n",
      "307 - 10/36\n",
      "307 - 11/36\n",
      "307 - 12/36\n",
      "307 - 13/36\n",
      "307 - 14/36\n",
      "307 - 15/36\n",
      "307 - 16/36\n",
      "307 - 17/36\n",
      "307 - 18/36\n",
      "307 - 19/36\n",
      "307 - 20/36\n",
      "307 - 21/36\n",
      "307 - 22/36\n",
      "307 - 23/36\n",
      "307 - 24/36\n",
      "307 - 25/36\n",
      "307 - 26/36\n",
      "307 - 27/36\n",
      "307 - 28/36\n",
      "307 - 29/36\n",
      "307 - 30/36\n",
      "307 - 31/36\n",
      "307 - 32/36\n",
      "307 - 33/36\n",
      "307 - 34/36\n",
      "307 - 35/36\n",
      "307 - 36/36\n",
      "371 - 0/57\n",
      "371 - 1/57\n",
      "371 - 2/57\n",
      "371 - 3/57\n",
      "371 - 4/57\n",
      "371 - 5/57\n",
      "371 - 6/57\n",
      "371 - 7/57\n",
      "371 - 8/57\n",
      "371 - 9/57\n",
      "371 - 10/57\n",
      "371 - 11/57\n",
      "371 - 12/57\n",
      "371 - 13/57\n",
      "371 - 14/57\n",
      "371 - 15/57\n",
      "371 - 16/57\n",
      "371 - 17/57\n",
      "371 - 18/57\n",
      "371 - 19/57\n",
      "371 - 20/57\n",
      "371 - 21/57\n",
      "371 - 22/57\n",
      "371 - 23/57\n",
      "371 - 24/57\n",
      "371 - 25/57\n",
      "371 - 26/57\n",
      "371 - 27/57\n",
      "371 - 28/57\n",
      "371 - 29/57\n",
      "371 - 30/57\n",
      "371 - 31/57\n",
      "371 - 32/57\n",
      "371 - 33/57\n",
      "371 - 34/57\n",
      "371 - 35/57\n",
      "371 - 36/57\n",
      "371 - 37/57\n",
      "371 - 38/57\n",
      "371 - 39/57\n",
      "371 - 40/57\n",
      "371 - 41/57\n",
      "371 - 42/57\n",
      "371 - 43/57\n",
      "371 - 44/57\n",
      "371 - 45/57\n",
      "371 - 46/57\n",
      "371 - 47/57\n",
      "371 - 48/57\n",
      "371 - 49/57\n",
      "371 - 50/57\n",
      "371 - 51/57\n",
      "371 - 52/57\n",
      "371 - 53/57\n",
      "371 - 54/57\n",
      "371 - 55/57\n",
      "371 - 56/57\n",
      "371 - 57/57\n",
      "372 - 0/26\n",
      "372 - 1/26\n",
      "372 - 2/26\n",
      "372 - 3/26\n",
      "372 - 4/26\n",
      "372 - 5/26\n",
      "372 - 6/26\n",
      "372 - 7/26\n",
      "372 - 8/26\n",
      "372 - 9/26\n",
      "372 - 10/26\n",
      "372 - 11/26\n",
      "372 - 12/26\n",
      "372 - 13/26\n",
      "372 - 14/26\n",
      "372 - 15/26\n",
      "372 - 16/26\n",
      "372 - 17/26\n",
      "372 - 18/26\n",
      "372 - 19/26\n",
      "372 - 20/26\n",
      "372 - 21/26\n",
      "372 - 22/26\n",
      "372 - 23/26\n",
      "372 - 24/26\n",
      "372 - 25/26\n",
      "372 - 26/26\n",
      "384 - 0/37\n",
      "384 - 1/37\n",
      "384 - 2/37\n",
      "384 - 3/37\n",
      "384 - 4/37\n",
      "384 - 5/37\n",
      "384 - 6/37\n",
      "384 - 7/37\n",
      "384 - 8/37\n",
      "384 - 9/37\n",
      "384 - 10/37\n",
      "384 - 11/37\n",
      "384 - 12/37\n",
      "384 - 13/37\n",
      "384 - 14/37\n",
      "384 - 15/37\n",
      "384 - 16/37\n",
      "384 - 17/37\n",
      "384 - 18/37\n",
      "384 - 19/37\n",
      "384 - 20/37\n",
      "384 - 21/37\n",
      "384 - 22/37\n",
      "384 - 23/37\n",
      "384 - 24/37\n",
      "384 - 25/37\n",
      "384 - 26/37\n",
      "384 - 27/37\n",
      "384 - 28/37\n",
      "384 - 29/37\n",
      "384 - 30/37\n",
      "384 - 31/37\n",
      "384 - 32/37\n",
      "384 - 33/37\n",
      "384 - 34/37\n",
      "384 - 35/37\n",
      "384 - 36/37\n",
      "384 - 37/37\n",
      "373 - 0/90\n",
      "373 - 1/90\n",
      "373 - 2/90\n",
      "373 - 3/90\n",
      "373 - 4/90\n",
      "373 - 5/90\n",
      "373 - 6/90\n",
      "373 - 7/90\n",
      "373 - 8/90\n",
      "373 - 9/90\n",
      "373 - 10/90\n",
      "373 - 11/90\n",
      "373 - 12/90\n",
      "373 - 13/90\n",
      "373 - 14/90\n",
      "373 - 15/90\n",
      "373 - 16/90\n",
      "373 - 17/90\n",
      "373 - 18/90\n",
      "373 - 19/90\n",
      "373 - 20/90\n",
      "373 - 21/90\n",
      "373 - 22/90\n",
      "373 - 23/90\n",
      "373 - 24/90\n",
      "373 - 25/90\n",
      "373 - 26/90\n",
      "373 - 27/90\n",
      "373 - 28/90\n",
      "373 - 29/90\n",
      "373 - 30/90\n",
      "373 - 31/90\n",
      "373 - 32/90\n",
      "373 - 33/90\n",
      "373 - 34/90\n",
      "373 - 35/90\n",
      "373 - 36/90\n",
      "373 - 37/90\n",
      "373 - 38/90\n",
      "373 - 39/90\n",
      "373 - 40/90\n",
      "373 - 41/90\n",
      "373 - 42/90\n",
      "373 - 43/90\n",
      "373 - 44/90\n",
      "373 - 45/90\n",
      "373 - 46/90\n",
      "373 - 47/90\n",
      "373 - 48/90\n",
      "373 - 49/90\n",
      "373 - 50/90\n",
      "373 - 51/90\n",
      "373 - 52/90\n",
      "373 - 53/90\n",
      "373 - 54/90\n",
      "373 - 55/90\n",
      "373 - 56/90\n",
      "373 - 57/90\n",
      "373 - 58/90\n",
      "373 - 59/90\n",
      "373 - 60/90\n",
      "373 - 61/90\n",
      "373 - 62/90\n",
      "373 - 63/90\n",
      "373 - 64/90\n",
      "373 - 65/90\n",
      "373 - 66/90\n",
      "373 - 67/90\n",
      "373 - 68/90\n",
      "373 - 69/90\n",
      "373 - 70/90\n",
      "373 - 71/90\n",
      "373 - 72/90\n",
      "373 - 73/90\n",
      "373 - 74/90\n",
      "373 - 75/90\n",
      "373 - 76/90\n",
      "373 - 77/90\n",
      "373 - 78/90\n",
      "373 - 79/90\n",
      "373 - 80/90\n",
      "373 - 81/90\n",
      "373 - 82/90\n",
      "373 - 83/90\n",
      "373 - 84/90\n",
      "373 - 85/90\n",
      "373 - 86/90\n",
      "373 - 87/90\n",
      "373 - 88/90\n",
      "373 - 89/90\n",
      "373 - 90/90\n",
      "421 - 0/31\n",
      "421 - 1/31\n",
      "421 - 2/31\n",
      "421 - 3/31\n",
      "421 - 4/31\n",
      "421 - 5/31\n",
      "421 - 6/31\n",
      "421 - 7/31\n",
      "421 - 8/31\n",
      "421 - 9/31\n",
      "421 - 10/31\n",
      "421 - 11/31\n",
      "421 - 12/31\n",
      "421 - 13/31\n",
      "421 - 14/31\n",
      "421 - 15/31\n",
      "421 - 16/31\n",
      "421 - 17/31\n",
      "421 - 18/31\n",
      "421 - 19/31\n",
      "421 - 20/31\n",
      "421 - 21/31\n",
      "421 - 22/31\n",
      "421 - 23/31\n",
      "421 - 24/31\n",
      "421 - 25/31\n",
      "421 - 26/31\n",
      "421 - 27/31\n",
      "421 - 28/31\n",
      "421 - 29/31\n",
      "421 - 30/31\n",
      "421 - 31/31\n",
      "370 - 0/85\n",
      "370 - 1/85\n",
      "370 - 2/85\n",
      "370 - 3/85\n",
      "370 - 4/85\n",
      "370 - 5/85\n",
      "370 - 6/85\n",
      "370 - 7/85\n",
      "370 - 8/85\n",
      "370 - 9/85\n",
      "370 - 10/85\n",
      "370 - 11/85\n",
      "370 - 12/85\n",
      "370 - 13/85\n",
      "370 - 14/85\n",
      "370 - 15/85\n",
      "370 - 16/85\n",
      "370 - 17/85\n",
      "370 - 18/85\n",
      "370 - 19/85\n",
      "370 - 20/85\n",
      "370 - 21/85\n",
      "370 - 22/85\n",
      "370 - 23/85\n",
      "370 - 24/85\n",
      "370 - 25/85\n",
      "370 - 26/85\n",
      "370 - 27/85\n",
      "370 - 28/85\n",
      "370 - 29/85\n",
      "370 - 30/85\n",
      "370 - 31/85\n",
      "370 - 32/85\n",
      "370 - 33/85\n",
      "370 - 34/85\n",
      "370 - 35/85\n",
      "370 - 36/85\n",
      "370 - 37/85\n",
      "370 - 38/85\n",
      "370 - 39/85\n",
      "370 - 40/85\n",
      "370 - 41/85\n",
      "370 - 42/85\n",
      "370 - 43/85\n",
      "370 - 44/85\n",
      "370 - 45/85\n",
      "370 - 46/85\n",
      "370 - 47/85\n",
      "370 - 48/85\n",
      "370 - 49/85\n",
      "370 - 50/85\n",
      "370 - 51/85\n",
      "370 - 52/85\n",
      "370 - 53/85\n",
      "370 - 54/85\n",
      "370 - 55/85\n",
      "370 - 56/85\n",
      "370 - 57/85\n",
      "370 - 58/85\n",
      "370 - 59/85\n",
      "370 - 60/85\n",
      "370 - 61/85\n",
      "370 - 62/85\n",
      "370 - 63/85\n",
      "370 - 64/85\n",
      "370 - 65/85\n",
      "370 - 66/85\n",
      "370 - 67/85\n",
      "370 - 68/85\n",
      "370 - 69/85\n",
      "370 - 70/85\n",
      "370 - 71/85\n",
      "370 - 72/85\n",
      "370 - 73/85\n",
      "370 - 74/85\n",
      "370 - 75/85\n",
      "370 - 76/85\n",
      "370 - 77/85\n",
      "370 - 78/85\n",
      "370 - 79/85\n",
      "370 - 80/85\n",
      "370 - 81/85\n",
      "370 - 82/85\n",
      "370 - 83/85\n",
      "370 - 84/85\n",
      "370 - 85/85\n"
     ]
    }
   ],
   "source": [
    "for i in zip3:\n",
    "    zipcodes = upspZipcodes_cleaned.filter(pl.col('zip3') == i)\n",
    "    for k in range(len(zipcodes)):\n",
    "        z = zipcodes['DELIVERY ZIPCODE'][k]\n",
    "        print('{2} - {0}/{1}'.format(k, (len(zipcodes)-1), i))\n",
    "        d = get_weather_data(Token, z, '2024-01-08', '2024-01-27')\n",
    "        if (len(d) > 0):\n",
    "            raw = pl.DataFrame(d)\n",
    "            pivoted = raw.pivot(index='date', values='value', columns='datatype', aggregate_function='max')\n",
    "            pivoted = pivoted.with_columns(pl.lit(i).alias('zip3'))\n",
    "            if len(weatherdf) == 0:\n",
    "                weatherdf = pl.concat([weatherdf, pivoted])\n",
    "            else:\n",
    "                weatherdf = pl.concat([weatherdf, pivoted], how='align')"
   ]
  },
  {
   "cell_type": "code",
   "execution_count": 97,
   "metadata": {},
   "outputs": [
    {
     "data": {
      "text/html": [
       "<div><style>\n",
       ".dataframe > thead > tr,\n",
       ".dataframe > tbody > tr {\n",
       "  text-align: right;\n",
       "  white-space: pre-wrap;\n",
       "}\n",
       "</style>\n",
       "<small>shape: (5, 6)</small><table border=\"1\" class=\"dataframe\"><thead><tr><th>date</th><th>PRCP</th><th>SNOW</th><th>TMAX</th><th>TMIN</th><th>zip3</th></tr><tr><td>str</td><td>f64</td><td>f64</td><td>f64</td><td>f64</td><td>i32</td></tr></thead><tbody><tr><td>&quot;2024-01-08T00:00:00&quot;</td><td>null</td><td>0.0</td><td>45.0</td><td>27.0</td><td>422</td></tr><tr><td>&quot;2024-01-08T00:00:00&quot;</td><td>null</td><td>null</td><td>51.0</td><td>28.0</td><td>307</td></tr><tr><td>&quot;2024-01-08T00:00:00&quot;</td><td>0.0</td><td>null</td><td>null</td><td>null</td><td>307</td></tr><tr><td>&quot;2024-01-08T00:00:00&quot;</td><td>0.0</td><td>null</td><td>null</td><td>null</td><td>307</td></tr><tr><td>&quot;2024-01-08T00:00:00&quot;</td><td>0.0</td><td>0.0</td><td>null</td><td>null</td><td>370</td></tr></tbody></table></div>"
      ],
      "text/plain": [
       "shape: (5, 6)\n",
       "┌─────────────────────┬──────┬──────┬──────┬──────┬──────┐\n",
       "│ date                ┆ PRCP ┆ SNOW ┆ TMAX ┆ TMIN ┆ zip3 │\n",
       "│ ---                 ┆ ---  ┆ ---  ┆ ---  ┆ ---  ┆ ---  │\n",
       "│ str                 ┆ f64  ┆ f64  ┆ f64  ┆ f64  ┆ i32  │\n",
       "╞═════════════════════╪══════╪══════╪══════╪══════╪══════╡\n",
       "│ 2024-01-08T00:00:00 ┆ null ┆ 0.0  ┆ 45.0 ┆ 27.0 ┆ 422  │\n",
       "│ 2024-01-08T00:00:00 ┆ null ┆ null ┆ 51.0 ┆ 28.0 ┆ 307  │\n",
       "│ 2024-01-08T00:00:00 ┆ 0.0  ┆ null ┆ null ┆ null ┆ 307  │\n",
       "│ 2024-01-08T00:00:00 ┆ 0.0  ┆ null ┆ null ┆ null ┆ 307  │\n",
       "│ 2024-01-08T00:00:00 ┆ 0.0  ┆ 0.0  ┆ null ┆ null ┆ 370  │\n",
       "└─────────────────────┴──────┴──────┴──────┴──────┴──────┘"
      ]
     },
     "execution_count": 97,
     "metadata": {},
     "output_type": "execute_result"
    }
   ],
   "source": [
    "weatherdf.head()"
   ]
  },
  {
   "cell_type": "code",
   "execution_count": null,
   "metadata": {},
   "outputs": [],
   "source": []
  },
  {
   "cell_type": "code",
   "execution_count": 98,
   "metadata": {},
   "outputs": [],
   "source": [
    "weatherdf = weatherdf.group_by(['date', 'zip3']).agg([pl.max('PRCP'),\n",
    "                                                      pl.max('SNOW'),\n",
    "                                                      pl.max('TMAX'),\n",
    "                                                      pl.min('TMIN')])"
   ]
  },
  {
   "cell_type": "code",
   "execution_count": 100,
   "metadata": {},
   "outputs": [],
   "source": [
    "weatherdf.write_parquet('../../Data/weatherMailData.parquet.gzip', compression='gzip')"
   ]
  },
  {
   "cell_type": "code",
   "execution_count": 101,
   "metadata": {},
   "outputs": [],
   "source": [
    "weatherdf = weatherdf.select(pl.col('date').str.to_date('%Y-%m-%dT%H:%M:%S'),\n",
    "                             pl.col('zip3'),\n",
    "                             pl.col('PRCP').alias('PRCP'),\n",
    "                             pl.col('SNOW').alias('SNOW'),\n",
    "                             pl.col('TMAX').alias('TMAX'),\n",
    "                             pl.col('TMIN').alias('TMIN'))"
   ]
  },
  {
   "cell_type": "code",
   "execution_count": 102,
   "metadata": {},
   "outputs": [],
   "source": [
    "weatherdf = weatherdf.select(pl.col('date'),\n",
    "                             pl.col('zip3').cast(pl.Int64),\n",
    "                             pl.col('PRCP'),\n",
    "                             pl.col('SNOW'),\n",
    "                             pl.col('TMAX'),\n",
    "                             pl.col('TMIN'))"
   ]
  },
  {
   "cell_type": "code",
   "execution_count": 103,
   "metadata": {},
   "outputs": [
    {
     "data": {
      "text/plain": [
       "['UNIQUE_IDENTIFIER',\n",
       " 'START_THE_CLOCK_DATE',\n",
       " 'ORIGIN_FACILITY',\n",
       " 'OZIP3',\n",
       " 'ACTUAL_DLVRY_DATE',\n",
       " 'EXPECTED_DELIVERY_DATE',\n",
       " 'EXPECTED_DESTINATION_FACILITY',\n",
       " 'DZIP3',\n",
       " 'MAIL_CLASS',\n",
       " 'MAIL_SHAPE']"
      ]
     },
     "execution_count": 103,
     "metadata": {},
     "output_type": "execute_result"
    }
   ],
   "source": [
    "originatingPeices_v5.columns"
   ]
  },
  {
   "cell_type": "code",
   "execution_count": 104,
   "metadata": {},
   "outputs": [],
   "source": [
    "originatingPeices_v5 = originatingPeices_v5.select(pl.col('UNIQUE_IDENTIFIER'),\n",
    "                                                   pl.col('START_THE_CLOCK_DATE').str.to_date('%Y-%m-%d'),\n",
    "                                                   pl.col('ORIGIN_FACILITY'),\n",
    "                                                   pl.col('OZIP3'),\n",
    "                                                   pl.col('ACTUAL_DLVRY_DATE').str.to_date('%Y-%m-%d'),\n",
    "                                                   pl.col('EXPECTED_DELIVERY_DATE').str.to_date('%Y-%m-%d'),\n",
    "                                                   pl.col('EXPECTED_DESTINATION_FACILITY'),\n",
    "                                                   pl.col('DZIP3'),\n",
    "                                                   pl.col('MAIL_CLASS'),\n",
    "                                                   pl.col('MAIL_SHAPE'))"
   ]
  },
  {
   "cell_type": "code",
   "execution_count": 105,
   "metadata": {},
   "outputs": [
    {
     "data": {
      "text/plain": [
       "['date', 'zip3', 'PRCP', 'SNOW', 'TMAX', 'TMIN']"
      ]
     },
     "execution_count": 105,
     "metadata": {},
     "output_type": "execute_result"
    }
   ],
   "source": [
    "weatherdf.columns"
   ]
  },
  {
   "cell_type": "code",
   "execution_count": 106,
   "metadata": {},
   "outputs": [
    {
     "data": {
      "text/plain": [
       "['UNIQUE_IDENTIFIER',\n",
       " 'START_THE_CLOCK_DATE',\n",
       " 'ORIGIN_FACILITY',\n",
       " 'OZIP3',\n",
       " 'ACTUAL_DLVRY_DATE',\n",
       " 'EXPECTED_DELIVERY_DATE',\n",
       " 'EXPECTED_DESTINATION_FACILITY',\n",
       " 'DZIP3',\n",
       " 'MAIL_CLASS',\n",
       " 'MAIL_SHAPE']"
      ]
     },
     "execution_count": 106,
     "metadata": {},
     "output_type": "execute_result"
    }
   ],
   "source": [
    "originatingPeices_v5.columns"
   ]
  },
  {
   "cell_type": "code",
   "execution_count": 107,
   "metadata": {},
   "outputs": [],
   "source": [
    "originatingPeices_v6 = originatingPeices_v5.join(weatherdf, \n",
    "                                                 left_on=['START_THE_CLOCK_DATE', 'OZIP3'], \n",
    "                                                 right_on=['date', 'zip3'])"
   ]
  },
  {
   "cell_type": "code",
   "execution_count": 108,
   "metadata": {},
   "outputs": [
    {
     "data": {
      "text/plain": [
       "['UNIQUE_IDENTIFIER',\n",
       " 'START_THE_CLOCK_DATE',\n",
       " 'ORIGIN_FACILITY',\n",
       " 'OZIP3',\n",
       " 'ACTUAL_DLVRY_DATE',\n",
       " 'EXPECTED_DELIVERY_DATE',\n",
       " 'EXPECTED_DESTINATION_FACILITY',\n",
       " 'DZIP3',\n",
       " 'MAIL_CLASS',\n",
       " 'MAIL_SHAPE',\n",
       " 'PRCP',\n",
       " 'SNOW',\n",
       " 'TMAX',\n",
       " 'TMIN']"
      ]
     },
     "execution_count": 108,
     "metadata": {},
     "output_type": "execute_result"
    }
   ],
   "source": [
    "originatingPeices_v6.columns"
   ]
  },
  {
   "cell_type": "code",
   "execution_count": 109,
   "metadata": {},
   "outputs": [],
   "source": [
    "originatingPeices_v6 = originatingPeices_v6.select(pl.col('UNIQUE_IDENTIFIER'),\n",
    "                                                   pl.col('START_THE_CLOCK_DATE'),\n",
    "                                                   pl.col('ORIGIN_FACILITY'),\n",
    "                                                   pl.col('ACTUAL_DLVRY_DATE'),\n",
    "                                                   pl.col('EXPECTED_DELIVERY_DATE'),\n",
    "                                                   pl.col('EXPECTED_DESTINATION_FACILITY'),\n",
    "                                                   pl.col('DZIP3'),\n",
    "                                                   pl.col('PRCP').alias('o_PRCP'),\n",
    "                                                   pl.col('SNOW').alias('o_SNOW'),\n",
    "                                                   pl.col('TMAX').alias('o_TMAX'),\n",
    "                                                   pl.col('TMIN').alias('o_TMIN'))"
   ]
  },
  {
   "cell_type": "code",
   "execution_count": 110,
   "metadata": {},
   "outputs": [],
   "source": [
    "originatingPeices_v7 = originatingPeices_v6.join(weatherdf, \n",
    "                                                 left_on=['EXPECTED_DELIVERY_DATE', 'DZIP3'], \n",
    "                                                 right_on=['date', 'zip3'])"
   ]
  },
  {
   "cell_type": "code",
   "execution_count": 111,
   "metadata": {},
   "outputs": [
    {
     "data": {
      "text/plain": [
       "['UNIQUE_IDENTIFIER',\n",
       " 'START_THE_CLOCK_DATE',\n",
       " 'ORIGIN_FACILITY',\n",
       " 'ACTUAL_DLVRY_DATE',\n",
       " 'EXPECTED_DELIVERY_DATE',\n",
       " 'EXPECTED_DESTINATION_FACILITY',\n",
       " 'DZIP3',\n",
       " 'o_PRCP',\n",
       " 'o_SNOW',\n",
       " 'o_TMAX',\n",
       " 'o_TMIN',\n",
       " 'PRCP',\n",
       " 'SNOW',\n",
       " 'TMAX',\n",
       " 'TMIN']"
      ]
     },
     "execution_count": 111,
     "metadata": {},
     "output_type": "execute_result"
    }
   ],
   "source": [
    "originatingPeices_v7.columns"
   ]
  },
  {
   "cell_type": "code",
   "execution_count": 112,
   "metadata": {},
   "outputs": [],
   "source": [
    "originatingPeices_v7 = originatingPeices_v7.select(pl.col('UNIQUE_IDENTIFIER'),\n",
    "                                                   pl.col('START_THE_CLOCK_DATE'),\n",
    "                                                   pl.col('ORIGIN_FACILITY'),\n",
    "                                                   pl.col('ACTUAL_DLVRY_DATE'),\n",
    "                                                   pl.col('EXPECTED_DELIVERY_DATE'),\n",
    "                                                   pl.col('EXPECTED_DESTINATION_FACILITY'),\n",
    "                                                   pl.col('DZIP3'),\n",
    "                                                   pl.col('o_PRCP'),\n",
    "                                                   pl.col('o_SNOW'),\n",
    "                                                   pl.col('o_TMAX'),\n",
    "                                                   pl.col('o_TMIN'),\n",
    "                                                   pl.col('PRCP').alias('d_PRCP'),\n",
    "                                                   pl.col('SNOW').alias('d_SNOW'),\n",
    "                                                   pl.col('TMAX').alias('d_TMAX'),\n",
    "                                                   pl.col('TMIN').alias('d_TMIN'))"
   ]
  },
  {
   "cell_type": "code",
   "execution_count": 113,
   "metadata": {},
   "outputs": [],
   "source": [
    "originatingPeices_v7.write_parquet('../../Data/originatingMail_withWeather.parquet.gzip', compression='gzip')"
   ]
  },
  {
   "cell_type": "code",
   "execution_count": 114,
   "metadata": {},
   "outputs": [
    {
     "data": {
      "text/plain": [
       "(1821507, 15)"
      ]
     },
     "execution_count": 114,
     "metadata": {},
     "output_type": "execute_result"
    }
   ],
   "source": [
    "originatingPeices_v7.shape"
   ]
  },
  {
   "cell_type": "code",
   "execution_count": 115,
   "metadata": {},
   "outputs": [],
   "source": [
    "test = pl.read_parquet('../../Data/originatingMail_withWeather.parquet.gzip')"
   ]
  },
  {
   "cell_type": "code",
   "execution_count": 117,
   "metadata": {},
   "outputs": [
    {
     "data": {
      "text/plain": [
       "(1821507, 15)"
      ]
     },
     "execution_count": 117,
     "metadata": {},
     "output_type": "execute_result"
    }
   ],
   "source": [
    "test.shape"
   ]
  },
  {
   "cell_type": "code",
   "execution_count": 118,
   "metadata": {},
   "outputs": [
    {
     "data": {
      "text/html": [
       "<div><style>\n",
       ".dataframe > thead > tr,\n",
       ".dataframe > tbody > tr {\n",
       "  text-align: right;\n",
       "  white-space: pre-wrap;\n",
       "}\n",
       "</style>\n",
       "<small>shape: (5, 15)</small><table border=\"1\" class=\"dataframe\"><thead><tr><th>UNIQUE_IDENTIFIER</th><th>START_THE_CLOCK_DATE</th><th>ORIGIN_FACILITY</th><th>ACTUAL_DLVRY_DATE</th><th>EXPECTED_DELIVERY_DATE</th><th>EXPECTED_DESTINATION_FACILITY</th><th>DZIP3</th><th>o_PRCP</th><th>o_SNOW</th><th>o_TMAX</th><th>o_TMIN</th><th>d_PRCP</th><th>d_SNOW</th><th>d_TMAX</th><th>d_TMIN</th></tr><tr><td>i64</td><td>date</td><td>str</td><td>date</td><td>date</td><td>str</td><td>i64</td><td>f64</td><td>f64</td><td>f64</td><td>f64</td><td>f64</td><td>f64</td><td>f64</td><td>f64</td></tr></thead><tbody><tr><td>286834011706370</td><td>2024-01-08</td><td>&quot;MUSIC CITY ANNEX - 1532174&quot;</td><td>2024-01-10</td><td>2024-01-11</td><td>&quot;MUSIC CITY ANNEX - 1532174&quot;</td><td>370</td><td>0.45</td><td>0.0</td><td>54.0</td><td>23.0</td><td>0.39</td><td>0.0</td><td>61.0</td><td>22.0</td></tr><tr><td>286834010262781</td><td>2024-01-08</td><td>&quot;MUSIC CITY ANNEX - 1532174&quot;</td><td>2024-01-09</td><td>2024-01-11</td><td>&quot;MUSIC CITY ANNEX - 1532174&quot;</td><td>370</td><td>0.45</td><td>0.0</td><td>54.0</td><td>23.0</td><td>0.39</td><td>0.0</td><td>61.0</td><td>22.0</td></tr><tr><td>286832830318347</td><td>2024-01-08</td><td>&quot;MUSIC CITY ANNEX - 1532174&quot;</td><td>2024-01-10</td><td>2024-01-11</td><td>&quot;MUSIC CITY ANNEX - 1532174&quot;</td><td>385</td><td>0.45</td><td>0.0</td><td>54.0</td><td>23.0</td><td>0.02</td><td>0.0</td><td>60.0</td><td>22.0</td></tr><tr><td>286832830321859</td><td>2024-01-08</td><td>&quot;MUSIC CITY ANNEX - 1532174&quot;</td><td>2024-01-10</td><td>2024-01-11</td><td>&quot;MUSIC CITY ANNEX - 1532174&quot;</td><td>372</td><td>0.45</td><td>0.0</td><td>54.0</td><td>23.0</td><td>0.0</td><td>0.0</td><td>59.0</td><td>30.0</td></tr><tr><td>286991153154247</td><td>2024-01-09</td><td>&quot;MUSIC CITY ANNEX - 1532174&quot;</td><td>2024-01-11</td><td>2024-01-12</td><td>&quot;MUSIC CITY ANNEX - 1532174&quot;</td><td>372</td><td>1.2</td><td>0.0</td><td>54.0</td><td>24.0</td><td>1.1</td><td>0.0</td><td>59.0</td><td>30.0</td></tr></tbody></table></div>"
      ],
      "text/plain": [
       "shape: (5, 15)\n",
       "┌──────────────┬──────────────┬──────────────┬─────────────┬───┬────────┬────────┬────────┬────────┐\n",
       "│ UNIQUE_IDENT ┆ START_THE_CL ┆ ORIGIN_FACIL ┆ ACTUAL_DLVR ┆ … ┆ d_PRCP ┆ d_SNOW ┆ d_TMAX ┆ d_TMIN │\n",
       "│ IFIER        ┆ OCK_DATE     ┆ ITY          ┆ Y_DATE      ┆   ┆ ---    ┆ ---    ┆ ---    ┆ ---    │\n",
       "│ ---          ┆ ---          ┆ ---          ┆ ---         ┆   ┆ f64    ┆ f64    ┆ f64    ┆ f64    │\n",
       "│ i64          ┆ date         ┆ str          ┆ date        ┆   ┆        ┆        ┆        ┆        │\n",
       "╞══════════════╪══════════════╪══════════════╪═════════════╪═══╪════════╪════════╪════════╪════════╡\n",
       "│ 286834011706 ┆ 2024-01-08   ┆ MUSIC CITY   ┆ 2024-01-10  ┆ … ┆ 0.39   ┆ 0.0    ┆ 61.0   ┆ 22.0   │\n",
       "│ 370          ┆              ┆ ANNEX -      ┆             ┆   ┆        ┆        ┆        ┆        │\n",
       "│              ┆              ┆ 1532174      ┆             ┆   ┆        ┆        ┆        ┆        │\n",
       "│ 286834010262 ┆ 2024-01-08   ┆ MUSIC CITY   ┆ 2024-01-09  ┆ … ┆ 0.39   ┆ 0.0    ┆ 61.0   ┆ 22.0   │\n",
       "│ 781          ┆              ┆ ANNEX -      ┆             ┆   ┆        ┆        ┆        ┆        │\n",
       "│              ┆              ┆ 1532174      ┆             ┆   ┆        ┆        ┆        ┆        │\n",
       "│ 286832830318 ┆ 2024-01-08   ┆ MUSIC CITY   ┆ 2024-01-10  ┆ … ┆ 0.02   ┆ 0.0    ┆ 60.0   ┆ 22.0   │\n",
       "│ 347          ┆              ┆ ANNEX -      ┆             ┆   ┆        ┆        ┆        ┆        │\n",
       "│              ┆              ┆ 1532174      ┆             ┆   ┆        ┆        ┆        ┆        │\n",
       "│ 286832830321 ┆ 2024-01-08   ┆ MUSIC CITY   ┆ 2024-01-10  ┆ … ┆ 0.0    ┆ 0.0    ┆ 59.0   ┆ 30.0   │\n",
       "│ 859          ┆              ┆ ANNEX -      ┆             ┆   ┆        ┆        ┆        ┆        │\n",
       "│              ┆              ┆ 1532174      ┆             ┆   ┆        ┆        ┆        ┆        │\n",
       "│ 286991153154 ┆ 2024-01-09   ┆ MUSIC CITY   ┆ 2024-01-11  ┆ … ┆ 1.1    ┆ 0.0    ┆ 59.0   ┆ 30.0   │\n",
       "│ 247          ┆              ┆ ANNEX -      ┆             ┆   ┆        ┆        ┆        ┆        │\n",
       "│              ┆              ┆ 1532174      ┆             ┆   ┆        ┆        ┆        ┆        │\n",
       "└──────────────┴──────────────┴──────────────┴─────────────┴───┴────────┴────────┴────────┴────────┘"
      ]
     },
     "execution_count": 118,
     "metadata": {},
     "output_type": "execute_result"
    }
   ],
   "source": [
    "test.head()"
   ]
  },
  {
   "cell_type": "code",
   "execution_count": null,
   "metadata": {},
   "outputs": [],
   "source": []
  }
 ],
 "metadata": {
  "kernelspec": {
   "display_name": "env_capstone",
   "language": "python",
   "name": "python3"
  },
  "language_info": {
   "codemirror_mode": {
    "name": "ipython",
    "version": 3
   },
   "file_extension": ".py",
   "mimetype": "text/x-python",
   "name": "python",
   "nbconvert_exporter": "python",
   "pygments_lexer": "ipython3",
   "version": "3.9.19"
  }
 },
 "nbformat": 4,
 "nbformat_minor": 2
}
