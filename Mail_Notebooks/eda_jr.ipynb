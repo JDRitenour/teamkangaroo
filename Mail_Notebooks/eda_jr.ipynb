{
 "cells": [
  {
   "cell_type": "code",
   "execution_count": 194,
   "metadata": {},
   "outputs": [],
   "source": [
    "import polars as pl\n",
    "import pandas as pd"
   ]
  },
  {
   "cell_type": "code",
   "execution_count": 3,
   "metadata": {},
   "outputs": [],
   "source": [
    "destinatingPeices1 = pl.read_csv('../Mail_v2/Destinating Pieces pt.1 v2.csv', infer_schema_length=int(1e10))\n"
   ]
  },
  {
   "cell_type": "code",
   "execution_count": 136,
   "metadata": {},
   "outputs": [
    {
     "data": {
      "text/html": [
       "<div><style>\n",
       ".dataframe > thead > tr,\n",
       ".dataframe > tbody > tr {\n",
       "  text-align: right;\n",
       "  white-space: pre-wrap;\n",
       "}\n",
       "</style>\n",
       "<small>shape: (1, 10)</small><table border=\"1\" class=\"dataframe\"><thead><tr><th>UNIQUE_IDENTIFIER</th><th>START_THE_CLOCK_DATE</th><th>ORIGIN_FACILITY</th><th>OZIP3</th><th>ACTUAL_DLVRY_DATE</th><th>EXPECTED_DELIVERY_DATE</th><th>EXPECTED_DESTINATION_FACILITY</th><th>dzip3</th><th>MAIL_CLASS</th><th>MAIL_SHAPE</th></tr><tr><td>u32</td><td>u32</td><td>u32</td><td>u32</td><td>u32</td><td>u32</td><td>u32</td><td>u32</td><td>u32</td><td>u32</td></tr></thead><tbody><tr><td>34242246</td><td>34242246</td><td>34242246</td><td>34242246</td><td>34242246</td><td>34242246</td><td>34242246</td><td>34242246</td><td>34242246</td><td>34242246</td></tr></tbody></table></div>"
      ],
      "text/plain": [
       "shape: (1, 10)\n",
       "┌────────────┬───────────┬───────────┬──────────┬───┬───────────┬──────────┬───────────┬───────────┐\n",
       "│ UNIQUE_IDE ┆ START_THE ┆ ORIGIN_FA ┆ OZIP3    ┆ … ┆ EXPECTED_ ┆ dzip3    ┆ MAIL_CLAS ┆ MAIL_SHAP │\n",
       "│ NTIFIER    ┆ _CLOCK_DA ┆ CILITY    ┆ ---      ┆   ┆ DESTINATI ┆ ---      ┆ S         ┆ E         │\n",
       "│ ---        ┆ TE        ┆ ---       ┆ u32      ┆   ┆ ON_FACILI ┆ u32      ┆ ---       ┆ ---       │\n",
       "│ u32        ┆ ---       ┆ u32       ┆          ┆   ┆ TY        ┆          ┆ u32       ┆ u32       │\n",
       "│            ┆ u32       ┆           ┆          ┆   ┆ ---       ┆          ┆           ┆           │\n",
       "│            ┆           ┆           ┆          ┆   ┆ u32       ┆          ┆           ┆           │\n",
       "╞════════════╪═══════════╪═══════════╪══════════╪═══╪═══════════╪══════════╪═══════════╪═══════════╡\n",
       "│ 34242246   ┆ 34242246  ┆ 34242246  ┆ 34242246 ┆ … ┆ 34242246  ┆ 34242246 ┆ 34242246  ┆ 34242246  │\n",
       "└────────────┴───────────┴───────────┴──────────┴───┴───────────┴──────────┴───────────┴───────────┘"
      ]
     },
     "execution_count": 136,
     "metadata": {},
     "output_type": "execute_result"
    }
   ],
   "source": [
    "destinatingPeices1.count()"
   ]
  },
  {
   "cell_type": "code",
   "execution_count": 5,
   "metadata": {},
   "outputs": [],
   "source": [
    "destinatingPeices2 = pl.read_csv('../Mail_v2/Destinating Pieces pt.2 v2.csv', infer_schema_length=int(1e10))"
   ]
  },
  {
   "cell_type": "code",
   "execution_count": 137,
   "metadata": {},
   "outputs": [
    {
     "data": {
      "text/html": [
       "<div><style>\n",
       ".dataframe > thead > tr,\n",
       ".dataframe > tbody > tr {\n",
       "  text-align: right;\n",
       "  white-space: pre-wrap;\n",
       "}\n",
       "</style>\n",
       "<small>shape: (1, 10)</small><table border=\"1\" class=\"dataframe\"><thead><tr><th>UNIQUE_IDENTIFIER</th><th>START_THE_CLOCK_DATE</th><th>ORIGIN_FACILITY</th><th>OZIP3</th><th>ACTUAL_DLVRY_DATE</th><th>EXPECTED_DELIVERY_DATE</th><th>EXPECTED_DESTINATION_FACILITY</th><th>dzip3</th><th>MAIL_CLASS</th><th>MAIL_SHAPE</th></tr><tr><td>u32</td><td>u32</td><td>u32</td><td>u32</td><td>u32</td><td>u32</td><td>u32</td><td>u32</td><td>u32</td><td>u32</td></tr></thead><tbody><tr><td>19490878</td><td>19490878</td><td>19490878</td><td>19490878</td><td>19490878</td><td>19490878</td><td>19490878</td><td>19490878</td><td>19490878</td><td>19490878</td></tr></tbody></table></div>"
      ],
      "text/plain": [
       "shape: (1, 10)\n",
       "┌────────────┬───────────┬───────────┬──────────┬───┬───────────┬──────────┬───────────┬───────────┐\n",
       "│ UNIQUE_IDE ┆ START_THE ┆ ORIGIN_FA ┆ OZIP3    ┆ … ┆ EXPECTED_ ┆ dzip3    ┆ MAIL_CLAS ┆ MAIL_SHAP │\n",
       "│ NTIFIER    ┆ _CLOCK_DA ┆ CILITY    ┆ ---      ┆   ┆ DESTINATI ┆ ---      ┆ S         ┆ E         │\n",
       "│ ---        ┆ TE        ┆ ---       ┆ u32      ┆   ┆ ON_FACILI ┆ u32      ┆ ---       ┆ ---       │\n",
       "│ u32        ┆ ---       ┆ u32       ┆          ┆   ┆ TY        ┆          ┆ u32       ┆ u32       │\n",
       "│            ┆ u32       ┆           ┆          ┆   ┆ ---       ┆          ┆           ┆           │\n",
       "│            ┆           ┆           ┆          ┆   ┆ u32       ┆          ┆           ┆           │\n",
       "╞════════════╪═══════════╪═══════════╪══════════╪═══╪═══════════╪══════════╪═══════════╪═══════════╡\n",
       "│ 19490878   ┆ 19490878  ┆ 19490878  ┆ 19490878 ┆ … ┆ 19490878  ┆ 19490878 ┆ 19490878  ┆ 19490878  │\n",
       "└────────────┴───────────┴───────────┴──────────┴───┴───────────┴──────────┴───────────┴───────────┘"
      ]
     },
     "execution_count": 137,
     "metadata": {},
     "output_type": "execute_result"
    }
   ],
   "source": [
    "destinatingPeices2.count()"
   ]
  },
  {
   "cell_type": "code",
   "execution_count": 138,
   "metadata": {},
   "outputs": [],
   "source": [
    "destinatingPeices = pl.concat([destinatingPeices1, destinatingPeices2], how = 'vertical')"
   ]
  },
  {
   "cell_type": "code",
   "execution_count": 139,
   "metadata": {},
   "outputs": [
    {
     "data": {
      "text/html": [
       "<div><style>\n",
       ".dataframe > thead > tr,\n",
       ".dataframe > tbody > tr {\n",
       "  text-align: right;\n",
       "  white-space: pre-wrap;\n",
       "}\n",
       "</style>\n",
       "<small>shape: (1, 10)</small><table border=\"1\" class=\"dataframe\"><thead><tr><th>UNIQUE_IDENTIFIER</th><th>START_THE_CLOCK_DATE</th><th>ORIGIN_FACILITY</th><th>OZIP3</th><th>ACTUAL_DLVRY_DATE</th><th>EXPECTED_DELIVERY_DATE</th><th>EXPECTED_DESTINATION_FACILITY</th><th>dzip3</th><th>MAIL_CLASS</th><th>MAIL_SHAPE</th></tr><tr><td>u32</td><td>u32</td><td>u32</td><td>u32</td><td>u32</td><td>u32</td><td>u32</td><td>u32</td><td>u32</td><td>u32</td></tr></thead><tbody><tr><td>53733124</td><td>53733124</td><td>53733124</td><td>53733124</td><td>53733124</td><td>53733124</td><td>53733124</td><td>53733124</td><td>53733124</td><td>53733124</td></tr></tbody></table></div>"
      ],
      "text/plain": [
       "shape: (1, 10)\n",
       "┌────────────┬───────────┬───────────┬──────────┬───┬───────────┬──────────┬───────────┬───────────┐\n",
       "│ UNIQUE_IDE ┆ START_THE ┆ ORIGIN_FA ┆ OZIP3    ┆ … ┆ EXPECTED_ ┆ dzip3    ┆ MAIL_CLAS ┆ MAIL_SHAP │\n",
       "│ NTIFIER    ┆ _CLOCK_DA ┆ CILITY    ┆ ---      ┆   ┆ DESTINATI ┆ ---      ┆ S         ┆ E         │\n",
       "│ ---        ┆ TE        ┆ ---       ┆ u32      ┆   ┆ ON_FACILI ┆ u32      ┆ ---       ┆ ---       │\n",
       "│ u32        ┆ ---       ┆ u32       ┆          ┆   ┆ TY        ┆          ┆ u32       ┆ u32       │\n",
       "│            ┆ u32       ┆           ┆          ┆   ┆ ---       ┆          ┆           ┆           │\n",
       "│            ┆           ┆           ┆          ┆   ┆ u32       ┆          ┆           ┆           │\n",
       "╞════════════╪═══════════╪═══════════╪══════════╪═══╪═══════════╪══════════╪═══════════╪═══════════╡\n",
       "│ 53733124   ┆ 53733124  ┆ 53733124  ┆ 53733124 ┆ … ┆ 53733124  ┆ 53733124 ┆ 53733124  ┆ 53733124  │\n",
       "└────────────┴───────────┴───────────┴──────────┴───┴───────────┴──────────┴───────────┴───────────┘"
      ]
     },
     "execution_count": 139,
     "metadata": {},
     "output_type": "execute_result"
    }
   ],
   "source": [
    "destinatingPeices.count()"
   ]
  },
  {
   "cell_type": "code",
   "execution_count": 141,
   "metadata": {},
   "outputs": [
    {
     "data": {
      "text/html": [
       "<div><style>\n",
       ".dataframe > thead > tr,\n",
       ".dataframe > tbody > tr {\n",
       "  text-align: right;\n",
       "  white-space: pre-wrap;\n",
       "}\n",
       "</style>\n",
       "<small>shape: (1, 10)</small><table border=\"1\" class=\"dataframe\"><thead><tr><th>UNIQUE_IDENTIFIER</th><th>START_THE_CLOCK_DATE</th><th>ORIGIN_FACILITY</th><th>OZIP3</th><th>ACTUAL_DLVRY_DATE</th><th>EXPECTED_DELIVERY_DATE</th><th>EXPECTED_DESTINATION_FACILITY</th><th>dzip3</th><th>MAIL_CLASS</th><th>MAIL_SHAPE</th></tr><tr><td>u32</td><td>u32</td><td>u32</td><td>u32</td><td>u32</td><td>u32</td><td>u32</td><td>u32</td><td>u32</td><td>u32</td></tr></thead><tbody><tr><td>0</td><td>0</td><td>0</td><td>0</td><td>0</td><td>0</td><td>0</td><td>0</td><td>0</td><td>0</td></tr></tbody></table></div>"
      ],
      "text/plain": [
       "shape: (1, 10)\n",
       "┌─────────────┬────────────┬────────────┬───────┬───┬────────────┬───────┬────────────┬────────────┐\n",
       "│ UNIQUE_IDEN ┆ START_THE_ ┆ ORIGIN_FAC ┆ OZIP3 ┆ … ┆ EXPECTED_D ┆ dzip3 ┆ MAIL_CLASS ┆ MAIL_SHAPE │\n",
       "│ TIFIER      ┆ CLOCK_DATE ┆ ILITY      ┆ ---   ┆   ┆ ESTINATION ┆ ---   ┆ ---        ┆ ---        │\n",
       "│ ---         ┆ ---        ┆ ---        ┆ u32   ┆   ┆ _FACILITY  ┆ u32   ┆ u32        ┆ u32        │\n",
       "│ u32         ┆ u32        ┆ u32        ┆       ┆   ┆ ---        ┆       ┆            ┆            │\n",
       "│             ┆            ┆            ┆       ┆   ┆ u32        ┆       ┆            ┆            │\n",
       "╞═════════════╪════════════╪════════════╪═══════╪═══╪════════════╪═══════╪════════════╪════════════╡\n",
       "│ 0           ┆ 0          ┆ 0          ┆ 0     ┆ … ┆ 0          ┆ 0     ┆ 0          ┆ 0          │\n",
       "└─────────────┴────────────┴────────────┴───────┴───┴────────────┴───────┴────────────┴────────────┘"
      ]
     },
     "execution_count": 141,
     "metadata": {},
     "output_type": "execute_result"
    }
   ],
   "source": [
    "#find count of null values\n",
    "destinatingPeices.null_count()"
   ]
  },
  {
   "cell_type": "code",
   "execution_count": 143,
   "metadata": {},
   "outputs": [
    {
     "name": "stdout",
     "output_type": "stream",
     "text": [
      "# of rows with \"null\" value\n",
      "START_THE_CLOCK_DATE = 6673631\n",
      "ORIGIN_FACILITY = 0\n",
      "OZIP3 = 2674\n",
      "ACTUAL_DLVRY_DATE = 0\n",
      "EXPECTED_DELIVERY_DATE = 6673631\n",
      "EXPECTED_DESTINATION_FACILITY = 0\n",
      "MAIL_CLASS = 0\n",
      "MAIL_SHAPE = 0\n"
     ]
    }
   ],
   "source": [
    "# find count of rows with the word 'null'\n",
    "print('# of rows with \"null\" value')\n",
    "for x in destinatingPeices.columns:\n",
    "    if str(destinatingPeices[x].dtype) == 'String':\n",
    "        filtered_df = destinatingPeices.filter(pl.col(x) == 'null')\n",
    "        count = filtered_df[x].count()\n",
    "        print(\"{} = {}\".format(x, count))"
   ]
  },
  {
   "cell_type": "code",
   "execution_count": 144,
   "metadata": {},
   "outputs": [],
   "source": [
    "#remove null values from the dataset\n",
    "destinatingPeices_noNull = destinatingPeices.filter((pl.col('START_THE_CLOCK_DATE') != 'null') &\n",
    "                                                      (pl.col('OZIP3') != 'null') &\n",
    "                                                      (pl.col('EXPECTED_DELIVERY_DATE') != 'null'))"
   ]
  },
  {
   "cell_type": "code",
   "execution_count": 145,
   "metadata": {},
   "outputs": [
    {
     "data": {
      "text/html": [
       "<div><style>\n",
       ".dataframe > thead > tr,\n",
       ".dataframe > tbody > tr {\n",
       "  text-align: right;\n",
       "  white-space: pre-wrap;\n",
       "}\n",
       "</style>\n",
       "<small>shape: (1, 10)</small><table border=\"1\" class=\"dataframe\"><thead><tr><th>UNIQUE_IDENTIFIER</th><th>START_THE_CLOCK_DATE</th><th>ORIGIN_FACILITY</th><th>OZIP3</th><th>ACTUAL_DLVRY_DATE</th><th>EXPECTED_DELIVERY_DATE</th><th>EXPECTED_DESTINATION_FACILITY</th><th>dzip3</th><th>MAIL_CLASS</th><th>MAIL_SHAPE</th></tr><tr><td>u32</td><td>u32</td><td>u32</td><td>u32</td><td>u32</td><td>u32</td><td>u32</td><td>u32</td><td>u32</td><td>u32</td></tr></thead><tbody><tr><td>47058984</td><td>47058984</td><td>47058984</td><td>47058984</td><td>47058984</td><td>47058984</td><td>47058984</td><td>47058984</td><td>47058984</td><td>47058984</td></tr></tbody></table></div>"
      ],
      "text/plain": [
       "shape: (1, 10)\n",
       "┌────────────┬───────────┬───────────┬──────────┬───┬───────────┬──────────┬───────────┬───────────┐\n",
       "│ UNIQUE_IDE ┆ START_THE ┆ ORIGIN_FA ┆ OZIP3    ┆ … ┆ EXPECTED_ ┆ dzip3    ┆ MAIL_CLAS ┆ MAIL_SHAP │\n",
       "│ NTIFIER    ┆ _CLOCK_DA ┆ CILITY    ┆ ---      ┆   ┆ DESTINATI ┆ ---      ┆ S         ┆ E         │\n",
       "│ ---        ┆ TE        ┆ ---       ┆ u32      ┆   ┆ ON_FACILI ┆ u32      ┆ ---       ┆ ---       │\n",
       "│ u32        ┆ ---       ┆ u32       ┆          ┆   ┆ TY        ┆          ┆ u32       ┆ u32       │\n",
       "│            ┆ u32       ┆           ┆          ┆   ┆ ---       ┆          ┆           ┆           │\n",
       "│            ┆           ┆           ┆          ┆   ┆ u32       ┆          ┆           ┆           │\n",
       "╞════════════╪═══════════╪═══════════╪══════════╪═══╪═══════════╪══════════╪═══════════╪═══════════╡\n",
       "│ 47058984   ┆ 47058984  ┆ 47058984  ┆ 47058984 ┆ … ┆ 47058984  ┆ 47058984 ┆ 47058984  ┆ 47058984  │\n",
       "└────────────┴───────────┴───────────┴──────────┴───┴───────────┴──────────┴───────────┴───────────┘"
      ]
     },
     "execution_count": 145,
     "metadata": {},
     "output_type": "execute_result"
    }
   ],
   "source": [
    "destinatingPeices_noNull.count()"
   ]
  },
  {
   "cell_type": "code",
   "execution_count": 154,
   "metadata": {},
   "outputs": [
    {
     "data": {
      "text/html": [
       "<div><style>\n",
       ".dataframe > thead > tr,\n",
       ".dataframe > tbody > tr {\n",
       "  text-align: right;\n",
       "  white-space: pre-wrap;\n",
       "}\n",
       "</style>\n",
       "<small>shape: (5, 2)</small><table border=\"1\" class=\"dataframe\"><thead><tr><th>UNIQUE_IDENTIFIER</th><th>count</th></tr><tr><td>i64</td><td>u32</td></tr></thead><tbody><tr><td>21040650000001</td><td>43</td></tr><tr><td>21087440000001</td><td>28</td></tr><tr><td>21110390000001</td><td>27</td></tr><tr><td>21102930000001</td><td>26</td></tr><tr><td>21041020000001</td><td>26</td></tr></tbody></table></div>"
      ],
      "text/plain": [
       "shape: (5, 2)\n",
       "┌───────────────────┬───────┐\n",
       "│ UNIQUE_IDENTIFIER ┆ count │\n",
       "│ ---               ┆ ---   │\n",
       "│ i64               ┆ u32   │\n",
       "╞═══════════════════╪═══════╡\n",
       "│ 21040650000001    ┆ 43    │\n",
       "│ 21087440000001    ┆ 28    │\n",
       "│ 21110390000001    ┆ 27    │\n",
       "│ 21102930000001    ┆ 26    │\n",
       "│ 21041020000001    ┆ 26    │\n",
       "└───────────────────┴───────┘"
      ]
     },
     "execution_count": 154,
     "metadata": {},
     "output_type": "execute_result"
    }
   ],
   "source": [
    "# count the number of records associated with each unique id\n",
    "duplicate_counts = destinatingPeices_noNull['UNIQUE_IDENTIFIER'].value_counts(sort=True)\n",
    "duplicate_counts.head()"
   ]
  },
  {
   "cell_type": "code",
   "execution_count": 155,
   "metadata": {},
   "outputs": [],
   "source": [
    "duplicate_ids = duplicate_counts.filter(pl.col('count') > 1)"
   ]
  },
  {
   "cell_type": "code",
   "execution_count": 156,
   "metadata": {},
   "outputs": [
    {
     "data": {
      "text/html": [
       "<div><style>\n",
       ".dataframe > thead > tr,\n",
       ".dataframe > tbody > tr {\n",
       "  text-align: right;\n",
       "  white-space: pre-wrap;\n",
       "}\n",
       "</style>\n",
       "<small>shape: (5, 2)</small><table border=\"1\" class=\"dataframe\"><thead><tr><th>UNIQUE_IDENTIFIER</th><th>count</th></tr><tr><td>i64</td><td>u32</td></tr></thead><tbody><tr><td>21040650000001</td><td>43</td></tr><tr><td>21087440000001</td><td>28</td></tr><tr><td>21110390000001</td><td>27</td></tr><tr><td>21102930000001</td><td>26</td></tr><tr><td>21041020000001</td><td>26</td></tr></tbody></table></div>"
      ],
      "text/plain": [
       "shape: (5, 2)\n",
       "┌───────────────────┬───────┐\n",
       "│ UNIQUE_IDENTIFIER ┆ count │\n",
       "│ ---               ┆ ---   │\n",
       "│ i64               ┆ u32   │\n",
       "╞═══════════════════╪═══════╡\n",
       "│ 21040650000001    ┆ 43    │\n",
       "│ 21087440000001    ┆ 28    │\n",
       "│ 21110390000001    ┆ 27    │\n",
       "│ 21102930000001    ┆ 26    │\n",
       "│ 21041020000001    ┆ 26    │\n",
       "└───────────────────┴───────┘"
      ]
     },
     "execution_count": 156,
     "metadata": {},
     "output_type": "execute_result"
    }
   ],
   "source": [
    "duplicate_ids.head()"
   ]
  },
  {
   "cell_type": "code",
   "execution_count": 157,
   "metadata": {},
   "outputs": [
    {
     "data": {
      "text/html": [
       "<div><style>\n",
       ".dataframe > thead > tr,\n",
       ".dataframe > tbody > tr {\n",
       "  text-align: right;\n",
       "  white-space: pre-wrap;\n",
       "}\n",
       "</style>\n",
       "<small>shape: (1, 2)</small><table border=\"1\" class=\"dataframe\"><thead><tr><th>UNIQUE_IDENTIFIER</th><th>count</th></tr><tr><td>u32</td><td>u32</td></tr></thead><tbody><tr><td>614</td><td>614</td></tr></tbody></table></div>"
      ],
      "text/plain": [
       "shape: (1, 2)\n",
       "┌───────────────────┬───────┐\n",
       "│ UNIQUE_IDENTIFIER ┆ count │\n",
       "│ ---               ┆ ---   │\n",
       "│ u32               ┆ u32   │\n",
       "╞═══════════════════╪═══════╡\n",
       "│ 614               ┆ 614   │\n",
       "└───────────────────┴───────┘"
      ]
     },
     "execution_count": 157,
     "metadata": {},
     "output_type": "execute_result"
    }
   ],
   "source": [
    "duplicate_ids.count()"
   ]
  },
  {
   "cell_type": "code",
   "execution_count": 158,
   "metadata": {},
   "outputs": [],
   "source": [
    "duplicate_ids_list = duplicate_ids['UNIQUE_IDENTIFIER'].to_list()"
   ]
  },
  {
   "cell_type": "code",
   "execution_count": 159,
   "metadata": {},
   "outputs": [],
   "source": [
    "duplicateRecords = destinatingPeices_noNull.filter(pl.col('UNIQUE_IDENTIFIER').is_in(duplicate_ids_list))"
   ]
  },
  {
   "cell_type": "code",
   "execution_count": 160,
   "metadata": {},
   "outputs": [
    {
     "data": {
      "text/html": [
       "<div><style>\n",
       ".dataframe > thead > tr,\n",
       ".dataframe > tbody > tr {\n",
       "  text-align: right;\n",
       "  white-space: pre-wrap;\n",
       "}\n",
       "</style>\n",
       "<small>shape: (1, 10)</small><table border=\"1\" class=\"dataframe\"><thead><tr><th>UNIQUE_IDENTIFIER</th><th>START_THE_CLOCK_DATE</th><th>ORIGIN_FACILITY</th><th>OZIP3</th><th>ACTUAL_DLVRY_DATE</th><th>EXPECTED_DELIVERY_DATE</th><th>EXPECTED_DESTINATION_FACILITY</th><th>dzip3</th><th>MAIL_CLASS</th><th>MAIL_SHAPE</th></tr><tr><td>u32</td><td>u32</td><td>u32</td><td>u32</td><td>u32</td><td>u32</td><td>u32</td><td>u32</td><td>u32</td><td>u32</td></tr></thead><tbody><tr><td>3693</td><td>3693</td><td>3693</td><td>3693</td><td>3693</td><td>3693</td><td>3693</td><td>3693</td><td>3693</td><td>3693</td></tr></tbody></table></div>"
      ],
      "text/plain": [
       "shape: (1, 10)\n",
       "┌─────────────┬────────────┬────────────┬───────┬───┬────────────┬───────┬────────────┬────────────┐\n",
       "│ UNIQUE_IDEN ┆ START_THE_ ┆ ORIGIN_FAC ┆ OZIP3 ┆ … ┆ EXPECTED_D ┆ dzip3 ┆ MAIL_CLASS ┆ MAIL_SHAPE │\n",
       "│ TIFIER      ┆ CLOCK_DATE ┆ ILITY      ┆ ---   ┆   ┆ ESTINATION ┆ ---   ┆ ---        ┆ ---        │\n",
       "│ ---         ┆ ---        ┆ ---        ┆ u32   ┆   ┆ _FACILITY  ┆ u32   ┆ u32        ┆ u32        │\n",
       "│ u32         ┆ u32        ┆ u32        ┆       ┆   ┆ ---        ┆       ┆            ┆            │\n",
       "│             ┆            ┆            ┆       ┆   ┆ u32        ┆       ┆            ┆            │\n",
       "╞═════════════╪════════════╪════════════╪═══════╪═══╪════════════╪═══════╪════════════╪════════════╡\n",
       "│ 3693        ┆ 3693       ┆ 3693       ┆ 3693  ┆ … ┆ 3693       ┆ 3693  ┆ 3693       ┆ 3693       │\n",
       "└─────────────┴────────────┴────────────┴───────┴───┴────────────┴───────┴────────────┴────────────┘"
      ]
     },
     "execution_count": 160,
     "metadata": {},
     "output_type": "execute_result"
    }
   ],
   "source": [
    "duplicateRecords.count()"
   ]
  },
  {
   "cell_type": "code",
   "execution_count": 161,
   "metadata": {},
   "outputs": [],
   "source": [
    "non_duplicate_ids = duplicate_counts.filter(pl.col('count') == 1)"
   ]
  },
  {
   "cell_type": "code",
   "execution_count": 162,
   "metadata": {},
   "outputs": [],
   "source": [
    "list_nonDupIds = non_duplicate_ids['UNIQUE_IDENTIFIER'].to_list()"
   ]
  },
  {
   "cell_type": "code",
   "execution_count": 163,
   "metadata": {},
   "outputs": [],
   "source": [
    "destinatingPeices_noDups = destinatingPeices.filter(pl.col('UNIQUE_IDENTIFIER').is_in(list_nonDupIds))"
   ]
  },
  {
   "cell_type": "code",
   "execution_count": 164,
   "metadata": {},
   "outputs": [
    {
     "data": {
      "text/html": [
       "<div><style>\n",
       ".dataframe > thead > tr,\n",
       ".dataframe > tbody > tr {\n",
       "  text-align: right;\n",
       "  white-space: pre-wrap;\n",
       "}\n",
       "</style>\n",
       "<small>shape: (1, 10)</small><table border=\"1\" class=\"dataframe\"><thead><tr><th>UNIQUE_IDENTIFIER</th><th>START_THE_CLOCK_DATE</th><th>ORIGIN_FACILITY</th><th>OZIP3</th><th>ACTUAL_DLVRY_DATE</th><th>EXPECTED_DELIVERY_DATE</th><th>EXPECTED_DESTINATION_FACILITY</th><th>dzip3</th><th>MAIL_CLASS</th><th>MAIL_SHAPE</th></tr><tr><td>u32</td><td>u32</td><td>u32</td><td>u32</td><td>u32</td><td>u32</td><td>u32</td><td>u32</td><td>u32</td><td>u32</td></tr></thead><tbody><tr><td>47055291</td><td>47055291</td><td>47055291</td><td>47055291</td><td>47055291</td><td>47055291</td><td>47055291</td><td>47055291</td><td>47055291</td><td>47055291</td></tr></tbody></table></div>"
      ],
      "text/plain": [
       "shape: (1, 10)\n",
       "┌────────────┬───────────┬───────────┬──────────┬───┬───────────┬──────────┬───────────┬───────────┐\n",
       "│ UNIQUE_IDE ┆ START_THE ┆ ORIGIN_FA ┆ OZIP3    ┆ … ┆ EXPECTED_ ┆ dzip3    ┆ MAIL_CLAS ┆ MAIL_SHAP │\n",
       "│ NTIFIER    ┆ _CLOCK_DA ┆ CILITY    ┆ ---      ┆   ┆ DESTINATI ┆ ---      ┆ S         ┆ E         │\n",
       "│ ---        ┆ TE        ┆ ---       ┆ u32      ┆   ┆ ON_FACILI ┆ u32      ┆ ---       ┆ ---       │\n",
       "│ u32        ┆ ---       ┆ u32       ┆          ┆   ┆ TY        ┆          ┆ u32       ┆ u32       │\n",
       "│            ┆ u32       ┆           ┆          ┆   ┆ ---       ┆          ┆           ┆           │\n",
       "│            ┆           ┆           ┆          ┆   ┆ u32       ┆          ┆           ┆           │\n",
       "╞════════════╪═══════════╪═══════════╪══════════╪═══╪═══════════╪══════════╪═══════════╪═══════════╡\n",
       "│ 47055291   ┆ 47055291  ┆ 47055291  ┆ 47055291 ┆ … ┆ 47055291  ┆ 47055291 ┆ 47055291  ┆ 47055291  │\n",
       "└────────────┴───────────┴───────────┴──────────┴───┴───────────┴──────────┴───────────┴───────────┘"
      ]
     },
     "execution_count": 164,
     "metadata": {},
     "output_type": "execute_result"
    }
   ],
   "source": [
    "destinatingPeices_noDups.count()"
   ]
  },
  {
   "cell_type": "code",
   "execution_count": 165,
   "metadata": {},
   "outputs": [
    {
     "data": {
      "text/html": [
       "<div><style>\n",
       ".dataframe > thead > tr,\n",
       ".dataframe > tbody > tr {\n",
       "  text-align: right;\n",
       "  white-space: pre-wrap;\n",
       "}\n",
       "</style>\n",
       "<small>shape: (1, 10)</small><table border=\"1\" class=\"dataframe\"><thead><tr><th>UNIQUE_IDENTIFIER</th><th>START_THE_CLOCK_DATE</th><th>ORIGIN_FACILITY</th><th>OZIP3</th><th>ACTUAL_DLVRY_DATE</th><th>EXPECTED_DELIVERY_DATE</th><th>EXPECTED_DESTINATION_FACILITY</th><th>dzip3</th><th>MAIL_CLASS</th><th>MAIL_SHAPE</th></tr><tr><td>u32</td><td>u32</td><td>u32</td><td>u32</td><td>u32</td><td>u32</td><td>u32</td><td>u32</td><td>u32</td><td>u32</td></tr></thead><tbody><tr><td>388444</td><td>388444</td><td>388444</td><td>388444</td><td>388444</td><td>388444</td><td>388444</td><td>388444</td><td>388444</td><td>388444</td></tr></tbody></table></div>"
      ],
      "text/plain": [
       "shape: (1, 10)\n",
       "┌────────────┬────────────┬────────────┬────────┬───┬────────────┬────────┬────────────┬───────────┐\n",
       "│ UNIQUE_IDE ┆ START_THE_ ┆ ORIGIN_FAC ┆ OZIP3  ┆ … ┆ EXPECTED_D ┆ dzip3  ┆ MAIL_CLASS ┆ MAIL_SHAP │\n",
       "│ NTIFIER    ┆ CLOCK_DATE ┆ ILITY      ┆ ---    ┆   ┆ ESTINATION ┆ ---    ┆ ---        ┆ E         │\n",
       "│ ---        ┆ ---        ┆ ---        ┆ u32    ┆   ┆ _FACILITY  ┆ u32    ┆ u32        ┆ ---       │\n",
       "│ u32        ┆ u32        ┆ u32        ┆        ┆   ┆ ---        ┆        ┆            ┆ u32       │\n",
       "│            ┆            ┆            ┆        ┆   ┆ u32        ┆        ┆            ┆           │\n",
       "╞════════════╪════════════╪════════════╪════════╪═══╪════════════╪════════╪════════════╪═══════════╡\n",
       "│ 388444     ┆ 388444     ┆ 388444     ┆ 388444 ┆ … ┆ 388444     ┆ 388444 ┆ 388444     ┆ 388444    │\n",
       "└────────────┴────────────┴────────────┴────────┴───┴────────────┴────────┴────────────┴───────────┘"
      ]
     },
     "execution_count": 165,
     "metadata": {},
     "output_type": "execute_result"
    }
   ],
   "source": [
    "destinatingPeices_noDups.filter(pl.col('ACTUAL_DLVRY_DATE') < pl.col('START_THE_CLOCK_DATE')).count()"
   ]
  },
  {
   "cell_type": "code",
   "execution_count": 166,
   "metadata": {},
   "outputs": [],
   "source": [
    "destinatingPeices_final = destinatingPeices_noDups.filter(pl.col('ACTUAL_DLVRY_DATE') > pl.col('START_THE_CLOCK_DATE'))"
   ]
  },
  {
   "cell_type": "code",
   "execution_count": 167,
   "metadata": {},
   "outputs": [
    {
     "data": {
      "text/html": [
       "<div><style>\n",
       ".dataframe > thead > tr,\n",
       ".dataframe > tbody > tr {\n",
       "  text-align: right;\n",
       "  white-space: pre-wrap;\n",
       "}\n",
       "</style>\n",
       "<small>shape: (1, 10)</small><table border=\"1\" class=\"dataframe\"><thead><tr><th>UNIQUE_IDENTIFIER</th><th>START_THE_CLOCK_DATE</th><th>ORIGIN_FACILITY</th><th>OZIP3</th><th>ACTUAL_DLVRY_DATE</th><th>EXPECTED_DELIVERY_DATE</th><th>EXPECTED_DESTINATION_FACILITY</th><th>dzip3</th><th>MAIL_CLASS</th><th>MAIL_SHAPE</th></tr><tr><td>u32</td><td>u32</td><td>u32</td><td>u32</td><td>u32</td><td>u32</td><td>u32</td><td>u32</td><td>u32</td><td>u32</td></tr></thead><tbody><tr><td>44716693</td><td>44716693</td><td>44716693</td><td>44716693</td><td>44716693</td><td>44716693</td><td>44716693</td><td>44716693</td><td>44716693</td><td>44716693</td></tr></tbody></table></div>"
      ],
      "text/plain": [
       "shape: (1, 10)\n",
       "┌────────────┬───────────┬───────────┬──────────┬───┬───────────┬──────────┬───────────┬───────────┐\n",
       "│ UNIQUE_IDE ┆ START_THE ┆ ORIGIN_FA ┆ OZIP3    ┆ … ┆ EXPECTED_ ┆ dzip3    ┆ MAIL_CLAS ┆ MAIL_SHAP │\n",
       "│ NTIFIER    ┆ _CLOCK_DA ┆ CILITY    ┆ ---      ┆   ┆ DESTINATI ┆ ---      ┆ S         ┆ E         │\n",
       "│ ---        ┆ TE        ┆ ---       ┆ u32      ┆   ┆ ON_FACILI ┆ u32      ┆ ---       ┆ ---       │\n",
       "│ u32        ┆ ---       ┆ u32       ┆          ┆   ┆ TY        ┆          ┆ u32       ┆ u32       │\n",
       "│            ┆ u32       ┆           ┆          ┆   ┆ ---       ┆          ┆           ┆           │\n",
       "│            ┆           ┆           ┆          ┆   ┆ u32       ┆          ┆           ┆           │\n",
       "╞════════════╪═══════════╪═══════════╪══════════╪═══╪═══════════╪══════════╪═══════════╪═══════════╡\n",
       "│ 44716693   ┆ 44716693  ┆ 44716693  ┆ 44716693 ┆ … ┆ 44716693  ┆ 44716693 ┆ 44716693  ┆ 44716693  │\n",
       "└────────────┴───────────┴───────────┴──────────┴───┴───────────┴──────────┴───────────┴───────────┘"
      ]
     },
     "execution_count": 167,
     "metadata": {},
     "output_type": "execute_result"
    }
   ],
   "source": [
    "destinatingPeices_final.count()"
   ]
  },
  {
   "cell_type": "code",
   "execution_count": 168,
   "metadata": {},
   "outputs": [
    {
     "data": {
      "text/html": [
       "<div><style>\n",
       ".dataframe > thead > tr,\n",
       ".dataframe > tbody > tr {\n",
       "  text-align: right;\n",
       "  white-space: pre-wrap;\n",
       "}\n",
       "</style>\n",
       "<small>shape: (3, 2)</small><table border=\"1\" class=\"dataframe\"><thead><tr><th>EXPECTED_DESTINATION_FACILITY</th><th>len</th></tr><tr><td>str</td><td>u32</td></tr></thead><tbody><tr><td>&quot;MUSIC CITY ANNEX - 1532174&quot;</td><td>3534969</td></tr><tr><td>&quot;NASHVILLE - 1441275&quot;</td><td>24657491</td></tr><tr><td>&quot;MEMPHIS - 1441274&quot;</td><td>16524233</td></tr></tbody></table></div>"
      ],
      "text/plain": [
       "shape: (3, 2)\n",
       "┌───────────────────────────────┬──────────┐\n",
       "│ EXPECTED_DESTINATION_FACILITY ┆ len      │\n",
       "│ ---                           ┆ ---      │\n",
       "│ str                           ┆ u32      │\n",
       "╞═══════════════════════════════╪══════════╡\n",
       "│ MUSIC CITY ANNEX - 1532174    ┆ 3534969  │\n",
       "│ NASHVILLE - 1441275           ┆ 24657491 │\n",
       "│ MEMPHIS - 1441274             ┆ 16524233 │\n",
       "└───────────────────────────────┴──────────┘"
      ]
     },
     "execution_count": 168,
     "metadata": {},
     "output_type": "execute_result"
    }
   ],
   "source": [
    "destinatingPeices_final.group_by('EXPECTED_DESTINATION_FACILITY').len()"
   ]
  },
  {
   "cell_type": "code",
   "execution_count": 169,
   "metadata": {},
   "outputs": [
    {
     "data": {
      "text/plain": [
       "111"
      ]
     },
     "execution_count": 169,
     "metadata": {},
     "output_type": "execute_result"
    }
   ],
   "source": [
    "destinatingPeices_final['START_THE_CLOCK_DATE'].n_unique()"
   ]
  },
  {
   "cell_type": "code",
   "execution_count": 170,
   "metadata": {},
   "outputs": [
    {
     "data": {
      "text/plain": [
       "1267"
      ]
     },
     "execution_count": 170,
     "metadata": {},
     "output_type": "execute_result"
    }
   ],
   "source": [
    "destinatingPeices_final['ORIGIN_FACILITY'].n_unique()"
   ]
  },
  {
   "cell_type": "code",
   "execution_count": 171,
   "metadata": {},
   "outputs": [
    {
     "data": {
      "text/plain": [
       "11"
      ]
     },
     "execution_count": 171,
     "metadata": {},
     "output_type": "execute_result"
    }
   ],
   "source": [
    "destinatingPeices_final['ACTUAL_DLVRY_DATE'].n_unique()"
   ]
  },
  {
   "cell_type": "code",
   "execution_count": 172,
   "metadata": {},
   "outputs": [],
   "source": [
    "d1 = destinatingPeices_final.group_by('ACTUAL_DLVRY_DATE').len()"
   ]
  },
  {
   "cell_type": "code",
   "execution_count": 173,
   "metadata": {},
   "outputs": [],
   "source": [
    "d1 = d1.select(pl.col(['ACTUAL_DLVRY_DATE', 'len']).sort_by('ACTUAL_DLVRY_DATE'))"
   ]
  },
  {
   "cell_type": "code",
   "execution_count": 174,
   "metadata": {},
   "outputs": [
    {
     "name": "stdout",
     "output_type": "stream",
     "text": [
      "shape: (11, 2)\n",
      "┌───────────────────┬─────────┐\n",
      "│ ACTUAL_DLVRY_DATE ┆ len     │\n",
      "│ ---               ┆ ---     │\n",
      "│ str               ┆ u32     │\n",
      "╞═══════════════════╪═════════╡\n",
      "│ 2024-01-08        ┆ 6750093 │\n",
      "│ 2024-01-09        ┆ 3863290 │\n",
      "│ 2024-01-10        ┆ 3830652 │\n",
      "│ 2024-01-11        ┆ 4482923 │\n",
      "│ 2024-01-12        ┆ 4321727 │\n",
      "│ 2024-01-13        ┆ 5215929 │\n",
      "│ 2024-01-16        ┆ 4958703 │\n",
      "│ 2024-01-17        ┆ 2993910 │\n",
      "│ 2024-01-18        ┆ 2797221 │\n",
      "│ 2024-01-19        ┆ 2594319 │\n",
      "│ 2024-01-20        ┆ 2907926 │\n",
      "└───────────────────┴─────────┘\n"
     ]
    }
   ],
   "source": [
    "with pl.Config(tbl_rows=20):\n",
    "    print(d1)"
   ]
  },
  {
   "cell_type": "code",
   "execution_count": 175,
   "metadata": {},
   "outputs": [
    {
     "data": {
      "text/plain": [
       "116"
      ]
     },
     "execution_count": 175,
     "metadata": {},
     "output_type": "execute_result"
    }
   ],
   "source": [
    "destinatingPeices_final['EXPECTED_DELIVERY_DATE'].n_unique()"
   ]
  },
  {
   "cell_type": "code",
   "execution_count": 176,
   "metadata": {},
   "outputs": [
    {
     "data": {
      "text/html": [
       "<div><style>\n",
       ".dataframe > thead > tr,\n",
       ".dataframe > tbody > tr {\n",
       "  text-align: right;\n",
       "  white-space: pre-wrap;\n",
       "}\n",
       "</style>\n",
       "<small>shape: (116, 2)</small><table border=\"1\" class=\"dataframe\"><thead><tr><th>EXPECTED_DELIVERY_DATE</th><th>len</th></tr><tr><td>str</td><td>u32</td></tr></thead><tbody><tr><td>&quot;2023-11-06&quot;</td><td>6</td></tr><tr><td>&quot;2023-12-02&quot;</td><td>45</td></tr><tr><td>&quot;2024-01-26&quot;</td><td>69</td></tr><tr><td>&quot;2023-08-25&quot;</td><td>1</td></tr><tr><td>&quot;2023-12-16&quot;</td><td>4919</td></tr><tr><td>&hellip;</td><td>&hellip;</td></tr><tr><td>&quot;2023-10-04&quot;</td><td>2</td></tr><tr><td>&quot;2023-10-21&quot;</td><td>1</td></tr><tr><td>&quot;2023-10-20&quot;</td><td>4</td></tr><tr><td>&quot;2023-09-21&quot;</td><td>2</td></tr><tr><td>&quot;2023-09-25&quot;</td><td>3</td></tr></tbody></table></div>"
      ],
      "text/plain": [
       "shape: (116, 2)\n",
       "┌────────────────────────┬──────┐\n",
       "│ EXPECTED_DELIVERY_DATE ┆ len  │\n",
       "│ ---                    ┆ ---  │\n",
       "│ str                    ┆ u32  │\n",
       "╞════════════════════════╪══════╡\n",
       "│ 2023-11-06             ┆ 6    │\n",
       "│ 2023-12-02             ┆ 45   │\n",
       "│ 2024-01-26             ┆ 69   │\n",
       "│ 2023-08-25             ┆ 1    │\n",
       "│ 2023-12-16             ┆ 4919 │\n",
       "│ …                      ┆ …    │\n",
       "│ 2023-10-04             ┆ 2    │\n",
       "│ 2023-10-21             ┆ 1    │\n",
       "│ 2023-10-20             ┆ 4    │\n",
       "│ 2023-09-21             ┆ 2    │\n",
       "│ 2023-09-25             ┆ 3    │\n",
       "└────────────────────────┴──────┘"
      ]
     },
     "execution_count": 176,
     "metadata": {},
     "output_type": "execute_result"
    }
   ],
   "source": [
    "destinatingPeices_final.group_by('EXPECTED_DELIVERY_DATE').len()"
   ]
  },
  {
   "cell_type": "code",
   "execution_count": 177,
   "metadata": {},
   "outputs": [
    {
     "data": {
      "text/plain": [
       "'2023-08-25'"
      ]
     },
     "execution_count": 177,
     "metadata": {},
     "output_type": "execute_result"
    }
   ],
   "source": [
    "destinatingPeices_final['EXPECTED_DELIVERY_DATE'].min()"
   ]
  },
  {
   "cell_type": "code",
   "execution_count": 178,
   "metadata": {},
   "outputs": [
    {
     "data": {
      "text/plain": [
       "'2024-02-07'"
      ]
     },
     "execution_count": 178,
     "metadata": {},
     "output_type": "execute_result"
    }
   ],
   "source": [
    "destinatingPeices_final['EXPECTED_DELIVERY_DATE'].max()"
   ]
  },
  {
   "cell_type": "code",
   "execution_count": 179,
   "metadata": {},
   "outputs": [
    {
     "data": {
      "text/plain": [
       "4"
      ]
     },
     "execution_count": 179,
     "metadata": {},
     "output_type": "execute_result"
    }
   ],
   "source": [
    "destinatingPeices_final['MAIL_CLASS'].n_unique()"
   ]
  },
  {
   "cell_type": "code",
   "execution_count": 180,
   "metadata": {},
   "outputs": [
    {
     "data": {
      "text/html": [
       "<div><style>\n",
       ".dataframe > thead > tr,\n",
       ".dataframe > tbody > tr {\n",
       "  text-align: right;\n",
       "  white-space: pre-wrap;\n",
       "}\n",
       "</style>\n",
       "<small>shape: (4, 2)</small><table border=\"1\" class=\"dataframe\"><thead><tr><th>MAIL_CLASS</th><th>len</th></tr><tr><td>str</td><td>u32</td></tr></thead><tbody><tr><td>&quot;USPS Marketing Mail&quot;</td><td>21768990</td></tr><tr><td>&quot;First Class Presort&quot;</td><td>15481257</td></tr><tr><td>&quot;Periodicals&quot;</td><td>789234</td></tr><tr><td>&quot;Single Piece First Class&quot;</td><td>6677212</td></tr></tbody></table></div>"
      ],
      "text/plain": [
       "shape: (4, 2)\n",
       "┌──────────────────────────┬──────────┐\n",
       "│ MAIL_CLASS               ┆ len      │\n",
       "│ ---                      ┆ ---      │\n",
       "│ str                      ┆ u32      │\n",
       "╞══════════════════════════╪══════════╡\n",
       "│ USPS Marketing Mail      ┆ 21768990 │\n",
       "│ First Class Presort      ┆ 15481257 │\n",
       "│ Periodicals              ┆ 789234   │\n",
       "│ Single Piece First Class ┆ 6677212  │\n",
       "└──────────────────────────┴──────────┘"
      ]
     },
     "execution_count": 180,
     "metadata": {},
     "output_type": "execute_result"
    }
   ],
   "source": [
    "destinatingPeices_final.group_by('MAIL_CLASS').len()"
   ]
  },
  {
   "cell_type": "code",
   "execution_count": 181,
   "metadata": {},
   "outputs": [
    {
     "data": {
      "text/plain": [
       "3"
      ]
     },
     "execution_count": 181,
     "metadata": {},
     "output_type": "execute_result"
    }
   ],
   "source": [
    "destinatingPeices_final['MAIL_SHAPE'].n_unique()"
   ]
  },
  {
   "cell_type": "code",
   "execution_count": 182,
   "metadata": {},
   "outputs": [
    {
     "data": {
      "text/html": [
       "<div><style>\n",
       ".dataframe > thead > tr,\n",
       ".dataframe > tbody > tr {\n",
       "  text-align: right;\n",
       "  white-space: pre-wrap;\n",
       "}\n",
       "</style>\n",
       "<small>shape: (3, 2)</small><table border=\"1\" class=\"dataframe\"><thead><tr><th>MAIL_SHAPE</th><th>len</th></tr><tr><td>str</td><td>u32</td></tr></thead><tbody><tr><td>&quot;Flat&quot;</td><td>4990079</td></tr><tr><td>&quot;Card&quot;</td><td>1011975</td></tr><tr><td>&quot;Letter&quot;</td><td>38714639</td></tr></tbody></table></div>"
      ],
      "text/plain": [
       "shape: (3, 2)\n",
       "┌────────────┬──────────┐\n",
       "│ MAIL_SHAPE ┆ len      │\n",
       "│ ---        ┆ ---      │\n",
       "│ str        ┆ u32      │\n",
       "╞════════════╪══════════╡\n",
       "│ Flat       ┆ 4990079  │\n",
       "│ Card       ┆ 1011975  │\n",
       "│ Letter     ┆ 38714639 │\n",
       "└────────────┴──────────┘"
      ]
     },
     "execution_count": 182,
     "metadata": {},
     "output_type": "execute_result"
    }
   ],
   "source": [
    "destinatingPeices_final.group_by('MAIL_SHAPE').len()"
   ]
  },
  {
   "cell_type": "code",
   "execution_count": 183,
   "metadata": {},
   "outputs": [
    {
     "data": {
      "text/html": [
       "<div><style>\n",
       ".dataframe > thead > tr,\n",
       ".dataframe > tbody > tr {\n",
       "  text-align: right;\n",
       "  white-space: pre-wrap;\n",
       "}\n",
       "</style>\n",
       "<small>shape: (9, 3)</small><table border=\"1\" class=\"dataframe\"><thead><tr><th>MAIL_CLASS</th><th>MAIL_SHAPE</th><th>len</th></tr><tr><td>str</td><td>str</td><td>u32</td></tr></thead><tbody><tr><td>&quot;First Class Presort&quot;</td><td>&quot;Card&quot;</td><td>1011975</td></tr><tr><td>&quot;First Class Presort&quot;</td><td>&quot;Flat&quot;</td><td>184609</td></tr><tr><td>&quot;First Class Presort&quot;</td><td>&quot;Letter&quot;</td><td>14284673</td></tr><tr><td>&quot;Periodicals&quot;</td><td>&quot;Flat&quot;</td><td>786870</td></tr><tr><td>&quot;Periodicals&quot;</td><td>&quot;Letter&quot;</td><td>2364</td></tr><tr><td>&quot;Single Piece First Class&quot;</td><td>&quot;Flat&quot;</td><td>1285818</td></tr><tr><td>&quot;Single Piece First Class&quot;</td><td>&quot;Letter&quot;</td><td>5391394</td></tr><tr><td>&quot;USPS Marketing Mail&quot;</td><td>&quot;Flat&quot;</td><td>2732782</td></tr><tr><td>&quot;USPS Marketing Mail&quot;</td><td>&quot;Letter&quot;</td><td>19036208</td></tr></tbody></table></div>"
      ],
      "text/plain": [
       "shape: (9, 3)\n",
       "┌──────────────────────────┬────────────┬──────────┐\n",
       "│ MAIL_CLASS               ┆ MAIL_SHAPE ┆ len      │\n",
       "│ ---                      ┆ ---        ┆ ---      │\n",
       "│ str                      ┆ str        ┆ u32      │\n",
       "╞══════════════════════════╪════════════╪══════════╡\n",
       "│ First Class Presort      ┆ Card       ┆ 1011975  │\n",
       "│ First Class Presort      ┆ Flat       ┆ 184609   │\n",
       "│ First Class Presort      ┆ Letter     ┆ 14284673 │\n",
       "│ Periodicals              ┆ Flat       ┆ 786870   │\n",
       "│ Periodicals              ┆ Letter     ┆ 2364     │\n",
       "│ Single Piece First Class ┆ Flat       ┆ 1285818  │\n",
       "│ Single Piece First Class ┆ Letter     ┆ 5391394  │\n",
       "│ USPS Marketing Mail      ┆ Flat       ┆ 2732782  │\n",
       "│ USPS Marketing Mail      ┆ Letter     ┆ 19036208 │\n",
       "└──────────────────────────┴────────────┴──────────┘"
      ]
     },
     "execution_count": 183,
     "metadata": {},
     "output_type": "execute_result"
    }
   ],
   "source": [
    "destinatingPeices_final.group_by(['MAIL_CLASS', 'MAIL_SHAPE']).len().select(pl.col(['MAIL_CLASS', 'MAIL_SHAPE', 'len']).sort_by(['MAIL_CLASS', 'MAIL_SHAPE']))"
   ]
  },
  {
   "cell_type": "markdown",
   "metadata": {},
   "source": [
    "Destinating Scans"
   ]
  },
  {
   "cell_type": "code",
   "execution_count": 110,
   "metadata": {},
   "outputs": [],
   "source": [
    "destinatingScans1 = pl.read_csv('../Data/Scan Data/Mail/Destinating Scans pt. 1.csv', infer_schema_length=int(1e10))"
   ]
  },
  {
   "cell_type": "code",
   "execution_count": 111,
   "metadata": {},
   "outputs": [],
   "source": [
    "destinatingScans2 = pl.read_csv('../Data/Scan Data/Mail/Destinating Scans pt. 2.csv', infer_schema_length=int(1e10))"
   ]
  },
  {
   "cell_type": "code",
   "execution_count": 112,
   "metadata": {},
   "outputs": [],
   "source": [
    "destinatingScans3 = pl.read_csv('../Data/Scan Data/Mail/Destinating Scans pt. 3.csv', infer_schema_length=int(1e10))"
   ]
  },
  {
   "cell_type": "code",
   "execution_count": 184,
   "metadata": {},
   "outputs": [],
   "source": [
    "destinatingScans = pl.concat([destinatingScans1, destinatingScans2, destinatingScans3], how = 'vertical')"
   ]
  },
  {
   "cell_type": "code",
   "execution_count": 185,
   "metadata": {},
   "outputs": [
    {
     "data": {
      "text/html": [
       "<div><style>\n",
       ".dataframe > thead > tr,\n",
       ".dataframe > tbody > tr {\n",
       "  text-align: right;\n",
       "  white-space: pre-wrap;\n",
       "}\n",
       "</style>\n",
       "<small>shape: (1, 4)</small><table border=\"1\" class=\"dataframe\"><thead><tr><th>UNIQUE_IDENTIFIER</th><th>scan_datetime</th><th>scan_facility</th><th>op_code</th></tr><tr><td>u32</td><td>u32</td><td>u32</td><td>u32</td></tr></thead><tbody><tr><td>139005571</td><td>139005571</td><td>139005571</td><td>139005571</td></tr></tbody></table></div>"
      ],
      "text/plain": [
       "shape: (1, 4)\n",
       "┌───────────────────┬───────────────┬───────────────┬───────────┐\n",
       "│ UNIQUE_IDENTIFIER ┆ scan_datetime ┆ scan_facility ┆ op_code   │\n",
       "│ ---               ┆ ---           ┆ ---           ┆ ---       │\n",
       "│ u32               ┆ u32           ┆ u32           ┆ u32       │\n",
       "╞═══════════════════╪═══════════════╪═══════════════╪═══════════╡\n",
       "│ 139005571         ┆ 139005571     ┆ 139005571     ┆ 139005571 │\n",
       "└───────────────────┴───────────────┴───────────────┴───────────┘"
      ]
     },
     "execution_count": 185,
     "metadata": {},
     "output_type": "execute_result"
    }
   ],
   "source": [
    "destinatingScans.count()"
   ]
  },
  {
   "cell_type": "code",
   "execution_count": 186,
   "metadata": {},
   "outputs": [
    {
     "data": {
      "text/html": [
       "<div><style>\n",
       ".dataframe > thead > tr,\n",
       ".dataframe > tbody > tr {\n",
       "  text-align: right;\n",
       "  white-space: pre-wrap;\n",
       "}\n",
       "</style>\n",
       "<small>shape: (1, 4)</small><table border=\"1\" class=\"dataframe\"><thead><tr><th>UNIQUE_IDENTIFIER</th><th>scan_datetime</th><th>scan_facility</th><th>op_code</th></tr><tr><td>u32</td><td>u32</td><td>u32</td><td>u32</td></tr></thead><tbody><tr><td>0</td><td>0</td><td>0</td><td>0</td></tr></tbody></table></div>"
      ],
      "text/plain": [
       "shape: (1, 4)\n",
       "┌───────────────────┬───────────────┬───────────────┬─────────┐\n",
       "│ UNIQUE_IDENTIFIER ┆ scan_datetime ┆ scan_facility ┆ op_code │\n",
       "│ ---               ┆ ---           ┆ ---           ┆ ---     │\n",
       "│ u32               ┆ u32           ┆ u32           ┆ u32     │\n",
       "╞═══════════════════╪═══════════════╪═══════════════╪═════════╡\n",
       "│ 0                 ┆ 0             ┆ 0             ┆ 0       │\n",
       "└───────────────────┴───────────────┴───────────────┴─────────┘"
      ]
     },
     "execution_count": 186,
     "metadata": {},
     "output_type": "execute_result"
    }
   ],
   "source": [
    "destinatingScans.null_count()"
   ]
  },
  {
   "cell_type": "code",
   "execution_count": 187,
   "metadata": {},
   "outputs": [
    {
     "name": "stdout",
     "output_type": "stream",
     "text": [
      "# of rows with \"null\" value\n",
      "scan_datetime = 1599\n",
      "scan_facility = 59362\n",
      "op_code = 224992\n"
     ]
    }
   ],
   "source": [
    "print('# of rows with \"null\" value')\n",
    "for x in destinatingScans.columns:\n",
    "    if str(destinatingScans[x].dtype) == 'String':\n",
    "        filtered_df = destinatingScans.filter(pl.col(x) == 'null')\n",
    "        count = filtered_df[x].count()\n",
    "        print(\"{} = {}\".format(x, count))"
   ]
  },
  {
   "cell_type": "code",
   "execution_count": 188,
   "metadata": {},
   "outputs": [],
   "source": [
    "destinatingScans_noNulls = destinatingScans.filter((pl.col('scan_datetime') != 'null') &\n",
    "                                                     (pl.col('scan_facility') != 'null') &\n",
    "                                                     (pl.col('op_code') != 'null'))"
   ]
  },
  {
   "cell_type": "code",
   "execution_count": 189,
   "metadata": {},
   "outputs": [
    {
     "data": {
      "text/html": [
       "<div><style>\n",
       ".dataframe > thead > tr,\n",
       ".dataframe > tbody > tr {\n",
       "  text-align: right;\n",
       "  white-space: pre-wrap;\n",
       "}\n",
       "</style>\n",
       "<small>shape: (1, 4)</small><table border=\"1\" class=\"dataframe\"><thead><tr><th>UNIQUE_IDENTIFIER</th><th>scan_datetime</th><th>scan_facility</th><th>op_code</th></tr><tr><td>u32</td><td>u32</td><td>u32</td><td>u32</td></tr></thead><tbody><tr><td>138722816</td><td>138722816</td><td>138722816</td><td>138722816</td></tr></tbody></table></div>"
      ],
      "text/plain": [
       "shape: (1, 4)\n",
       "┌───────────────────┬───────────────┬───────────────┬───────────┐\n",
       "│ UNIQUE_IDENTIFIER ┆ scan_datetime ┆ scan_facility ┆ op_code   │\n",
       "│ ---               ┆ ---           ┆ ---           ┆ ---       │\n",
       "│ u32               ┆ u32           ┆ u32           ┆ u32       │\n",
       "╞═══════════════════╪═══════════════╪═══════════════╪═══════════╡\n",
       "│ 138722816         ┆ 138722816     ┆ 138722816     ┆ 138722816 │\n",
       "└───────────────────┴───────────────┴───────────────┴───────────┘"
      ]
     },
     "execution_count": 189,
     "metadata": {},
     "output_type": "execute_result"
    }
   ],
   "source": [
    "destinatingScans_noNulls.count()"
   ]
  },
  {
   "cell_type": "code",
   "execution_count": 190,
   "metadata": {},
   "outputs": [
    {
     "data": {
      "text/plain": [
       "138722816"
      ]
     },
     "execution_count": 190,
     "metadata": {},
     "output_type": "execute_result"
    }
   ],
   "source": [
    "destinatingScans_noNulls.n_unique()"
   ]
  },
  {
   "cell_type": "code",
   "execution_count": 198,
   "metadata": {},
   "outputs": [
    {
     "name": "stdout",
     "output_type": "stream",
     "text": [
      "# of unique values in each column\n",
      "UNIQUE_IDENTIFIER = 53621334\n",
      "scan_datetime = 2063170\n",
      "scan_facility = 369\n",
      "op_code = 228\n"
     ]
    }
   ],
   "source": [
    "print('# of unique values in each column')\n",
    "for x in destinatingScans_noNulls.columns:\n",
    "    count = destinatingScans_noNulls[x].n_unique()\n",
    "    print(\"{} = {}\".format(x, count))"
   ]
  },
  {
   "cell_type": "code",
   "execution_count": 214,
   "metadata": {},
   "outputs": [
    {
     "data": {
      "text/plain": [
       "'2023-08-22 23:09:59'"
      ]
     },
     "execution_count": 214,
     "metadata": {},
     "output_type": "execute_result"
    }
   ],
   "source": [
    "destinatingScans_noNulls['scan_datetime'].min()"
   ]
  },
  {
   "cell_type": "code",
   "execution_count": 215,
   "metadata": {},
   "outputs": [
    {
     "data": {
      "text/plain": [
       "'2024-06-03 09:28:51'"
      ]
     },
     "execution_count": 215,
     "metadata": {},
     "output_type": "execute_result"
    }
   ],
   "source": [
    "destinatingScans_noNulls['scan_datetime'].max()"
   ]
  },
  {
   "cell_type": "code",
   "execution_count": 195,
   "metadata": {},
   "outputs": [],
   "source": [
    "opsCodes = pd.read_excel('../teamkangaroo/usps_opscodes.xlsx', header = 1, sheet_name='OpCodes')"
   ]
  },
  {
   "cell_type": "code",
   "execution_count": 196,
   "metadata": {},
   "outputs": [],
   "source": [
    "opsCodes = opsCodes['Operation Code'].to_list()"
   ]
  },
  {
   "cell_type": "code",
   "execution_count": 197,
   "metadata": {},
   "outputs": [],
   "source": [
    "cleanedCodes = [x for x in opsCodes if str(x) != 'nan']"
   ]
  },
  {
   "cell_type": "code",
   "execution_count": 205,
   "metadata": {},
   "outputs": [],
   "source": [
    "cleanedCodes = [int(x) for x in cleanedCodes]"
   ]
  },
  {
   "cell_type": "code",
   "execution_count": 199,
   "metadata": {},
   "outputs": [
    {
     "data": {
      "text/html": [
       "<div><style>\n",
       ".dataframe > thead > tr,\n",
       ".dataframe > tbody > tr {\n",
       "  text-align: right;\n",
       "  white-space: pre-wrap;\n",
       "}\n",
       "</style>\n",
       "<small>shape: (5, 1)</small><table border=\"1\" class=\"dataframe\"><thead><tr><th>op_code</th></tr><tr><td>str</td></tr></thead><tbody><tr><td>&quot;449&quot;</td></tr><tr><td>&quot;30&quot;</td></tr><tr><td>&quot;137&quot;</td></tr><tr><td>&quot;59&quot;</td></tr><tr><td>&quot;839&quot;</td></tr></tbody></table></div>"
      ],
      "text/plain": [
       "shape: (5, 1)\n",
       "┌─────────┐\n",
       "│ op_code │\n",
       "│ ---     │\n",
       "│ str     │\n",
       "╞═════════╡\n",
       "│ 449     │\n",
       "│ 30      │\n",
       "│ 137     │\n",
       "│ 59      │\n",
       "│ 839     │\n",
       "└─────────┘"
      ]
     },
     "execution_count": 199,
     "metadata": {},
     "output_type": "execute_result"
    }
   ],
   "source": [
    "scans_ops_codes = destinatingScans_noNulls.select(['op_code']).unique()\n",
    "scans_ops_codes.head()"
   ]
  },
  {
   "cell_type": "code",
   "execution_count": 207,
   "metadata": {},
   "outputs": [],
   "source": [
    "scans_ops_codes = scans_ops_codes.select(pl.col('op_code').cast(pl.Int64))"
   ]
  },
  {
   "cell_type": "code",
   "execution_count": 212,
   "metadata": {},
   "outputs": [],
   "source": [
    "scans_ops_codes_bad = scans_ops_codes.filter(~pl.col('op_code').is_in(cleanedCodes))"
   ]
  },
  {
   "cell_type": "code",
   "execution_count": 213,
   "metadata": {},
   "outputs": [],
   "source": [
    "scans_ops_codes_bad.write_csv('opCodeNotFound.csv')"
   ]
  },
  {
   "cell_type": "code",
   "execution_count": null,
   "metadata": {},
   "outputs": [],
   "source": []
  }
 ],
 "metadata": {
  "kernelspec": {
   "display_name": "env_capstone",
   "language": "python",
   "name": "python3"
  },
  "language_info": {
   "codemirror_mode": {
    "name": "ipython",
    "version": 3
   },
   "file_extension": ".py",
   "mimetype": "text/x-python",
   "name": "python",
   "nbconvert_exporter": "python",
   "pygments_lexer": "ipython3",
   "version": "3.9.19"
  }
 },
 "nbformat": 4,
 "nbformat_minor": 2
}
