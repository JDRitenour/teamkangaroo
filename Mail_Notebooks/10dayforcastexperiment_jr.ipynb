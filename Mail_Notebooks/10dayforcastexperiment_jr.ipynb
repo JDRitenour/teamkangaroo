{
 "cells": [
  {
   "cell_type": "code",
   "execution_count": 272,
   "metadata": {},
   "outputs": [],
   "source": [
    "import polars as pl\n",
    "import pandas as pd\n",
    "import numpy as np\n",
    "import seaborn as sns\n",
    "import matplotlib.pyplot as plt\n",
    "import scipy"
   ]
  },
  {
   "cell_type": "markdown",
   "metadata": {},
   "source": [
    "<h3>Destinating Peices</h3>"
   ]
  },
  {
   "cell_type": "code",
   "execution_count": 2,
   "metadata": {},
   "outputs": [],
   "source": [
    "destinatingPeices1 = pl.read_csv('../../Data/Mail_v2/Destinating Pieces pt.1 v2.csv', infer_schema_length=int(1e10))\n"
   ]
  },
  {
   "cell_type": "code",
   "execution_count": 3,
   "metadata": {},
   "outputs": [
    {
     "data": {
      "text/html": [
       "<div><style>\n",
       ".dataframe > thead > tr,\n",
       ".dataframe > tbody > tr {\n",
       "  text-align: right;\n",
       "  white-space: pre-wrap;\n",
       "}\n",
       "</style>\n",
       "<small>shape: (1, 10)</small><table border=\"1\" class=\"dataframe\"><thead><tr><th>UNIQUE_IDENTIFIER</th><th>START_THE_CLOCK_DATE</th><th>ORIGIN_FACILITY</th><th>OZIP3</th><th>ACTUAL_DLVRY_DATE</th><th>EXPECTED_DELIVERY_DATE</th><th>EXPECTED_DESTINATION_FACILITY</th><th>dzip3</th><th>MAIL_CLASS</th><th>MAIL_SHAPE</th></tr><tr><td>u32</td><td>u32</td><td>u32</td><td>u32</td><td>u32</td><td>u32</td><td>u32</td><td>u32</td><td>u32</td><td>u32</td></tr></thead><tbody><tr><td>34242246</td><td>34242246</td><td>34242246</td><td>34242246</td><td>34242246</td><td>34242246</td><td>34242246</td><td>34242246</td><td>34242246</td><td>34242246</td></tr></tbody></table></div>"
      ],
      "text/plain": [
       "shape: (1, 10)\n",
       "┌────────────┬───────────┬───────────┬──────────┬───┬───────────┬──────────┬───────────┬───────────┐\n",
       "│ UNIQUE_IDE ┆ START_THE ┆ ORIGIN_FA ┆ OZIP3    ┆ … ┆ EXPECTED_ ┆ dzip3    ┆ MAIL_CLAS ┆ MAIL_SHAP │\n",
       "│ NTIFIER    ┆ _CLOCK_DA ┆ CILITY    ┆ ---      ┆   ┆ DESTINATI ┆ ---      ┆ S         ┆ E         │\n",
       "│ ---        ┆ TE        ┆ ---       ┆ u32      ┆   ┆ ON_FACILI ┆ u32      ┆ ---       ┆ ---       │\n",
       "│ u32        ┆ ---       ┆ u32       ┆          ┆   ┆ TY        ┆          ┆ u32       ┆ u32       │\n",
       "│            ┆ u32       ┆           ┆          ┆   ┆ ---       ┆          ┆           ┆           │\n",
       "│            ┆           ┆           ┆          ┆   ┆ u32       ┆          ┆           ┆           │\n",
       "╞════════════╪═══════════╪═══════════╪══════════╪═══╪═══════════╪══════════╪═══════════╪═══════════╡\n",
       "│ 34242246   ┆ 34242246  ┆ 34242246  ┆ 34242246 ┆ … ┆ 34242246  ┆ 34242246 ┆ 34242246  ┆ 34242246  │\n",
       "└────────────┴───────────┴───────────┴──────────┴───┴───────────┴──────────┴───────────┴───────────┘"
      ]
     },
     "execution_count": 3,
     "metadata": {},
     "output_type": "execute_result"
    }
   ],
   "source": [
    "destinatingPeices1.count()"
   ]
  },
  {
   "cell_type": "code",
   "execution_count": 4,
   "metadata": {},
   "outputs": [],
   "source": [
    "destinatingPeices2 = pl.read_csv('../../Data/Mail_v2/Destinating Pieces pt.2 v2.csv', infer_schema_length=int(1e10))"
   ]
  },
  {
   "cell_type": "code",
   "execution_count": 5,
   "metadata": {},
   "outputs": [
    {
     "data": {
      "text/html": [
       "<div><style>\n",
       ".dataframe > thead > tr,\n",
       ".dataframe > tbody > tr {\n",
       "  text-align: right;\n",
       "  white-space: pre-wrap;\n",
       "}\n",
       "</style>\n",
       "<small>shape: (1, 10)</small><table border=\"1\" class=\"dataframe\"><thead><tr><th>UNIQUE_IDENTIFIER</th><th>START_THE_CLOCK_DATE</th><th>ORIGIN_FACILITY</th><th>OZIP3</th><th>ACTUAL_DLVRY_DATE</th><th>EXPECTED_DELIVERY_DATE</th><th>EXPECTED_DESTINATION_FACILITY</th><th>dzip3</th><th>MAIL_CLASS</th><th>MAIL_SHAPE</th></tr><tr><td>u32</td><td>u32</td><td>u32</td><td>u32</td><td>u32</td><td>u32</td><td>u32</td><td>u32</td><td>u32</td><td>u32</td></tr></thead><tbody><tr><td>19490878</td><td>19490878</td><td>19490878</td><td>19490878</td><td>19490878</td><td>19490878</td><td>19490878</td><td>19490878</td><td>19490878</td><td>19490878</td></tr></tbody></table></div>"
      ],
      "text/plain": [
       "shape: (1, 10)\n",
       "┌────────────┬───────────┬───────────┬──────────┬───┬───────────┬──────────┬───────────┬───────────┐\n",
       "│ UNIQUE_IDE ┆ START_THE ┆ ORIGIN_FA ┆ OZIP3    ┆ … ┆ EXPECTED_ ┆ dzip3    ┆ MAIL_CLAS ┆ MAIL_SHAP │\n",
       "│ NTIFIER    ┆ _CLOCK_DA ┆ CILITY    ┆ ---      ┆   ┆ DESTINATI ┆ ---      ┆ S         ┆ E         │\n",
       "│ ---        ┆ TE        ┆ ---       ┆ u32      ┆   ┆ ON_FACILI ┆ u32      ┆ ---       ┆ ---       │\n",
       "│ u32        ┆ ---       ┆ u32       ┆          ┆   ┆ TY        ┆          ┆ u32       ┆ u32       │\n",
       "│            ┆ u32       ┆           ┆          ┆   ┆ ---       ┆          ┆           ┆           │\n",
       "│            ┆           ┆           ┆          ┆   ┆ u32       ┆          ┆           ┆           │\n",
       "╞════════════╪═══════════╪═══════════╪══════════╪═══╪═══════════╪══════════╪═══════════╪═══════════╡\n",
       "│ 19490878   ┆ 19490878  ┆ 19490878  ┆ 19490878 ┆ … ┆ 19490878  ┆ 19490878 ┆ 19490878  ┆ 19490878  │\n",
       "└────────────┴───────────┴───────────┴──────────┴───┴───────────┴──────────┴───────────┴───────────┘"
      ]
     },
     "execution_count": 5,
     "metadata": {},
     "output_type": "execute_result"
    }
   ],
   "source": [
    "destinatingPeices2.count()"
   ]
  },
  {
   "cell_type": "code",
   "execution_count": 6,
   "metadata": {},
   "outputs": [],
   "source": [
    "destinatingPeices = pl.concat([destinatingPeices1, destinatingPeices2], how = 'vertical')"
   ]
  },
  {
   "cell_type": "code",
   "execution_count": 7,
   "metadata": {},
   "outputs": [
    {
     "data": {
      "text/html": [
       "<div><style>\n",
       ".dataframe > thead > tr,\n",
       ".dataframe > tbody > tr {\n",
       "  text-align: right;\n",
       "  white-space: pre-wrap;\n",
       "}\n",
       "</style>\n",
       "<small>shape: (1, 10)</small><table border=\"1\" class=\"dataframe\"><thead><tr><th>UNIQUE_IDENTIFIER</th><th>START_THE_CLOCK_DATE</th><th>ORIGIN_FACILITY</th><th>OZIP3</th><th>ACTUAL_DLVRY_DATE</th><th>EXPECTED_DELIVERY_DATE</th><th>EXPECTED_DESTINATION_FACILITY</th><th>dzip3</th><th>MAIL_CLASS</th><th>MAIL_SHAPE</th></tr><tr><td>u32</td><td>u32</td><td>u32</td><td>u32</td><td>u32</td><td>u32</td><td>u32</td><td>u32</td><td>u32</td><td>u32</td></tr></thead><tbody><tr><td>53733124</td><td>53733124</td><td>53733124</td><td>53733124</td><td>53733124</td><td>53733124</td><td>53733124</td><td>53733124</td><td>53733124</td><td>53733124</td></tr></tbody></table></div>"
      ],
      "text/plain": [
       "shape: (1, 10)\n",
       "┌────────────┬───────────┬───────────┬──────────┬───┬───────────┬──────────┬───────────┬───────────┐\n",
       "│ UNIQUE_IDE ┆ START_THE ┆ ORIGIN_FA ┆ OZIP3    ┆ … ┆ EXPECTED_ ┆ dzip3    ┆ MAIL_CLAS ┆ MAIL_SHAP │\n",
       "│ NTIFIER    ┆ _CLOCK_DA ┆ CILITY    ┆ ---      ┆   ┆ DESTINATI ┆ ---      ┆ S         ┆ E         │\n",
       "│ ---        ┆ TE        ┆ ---       ┆ u32      ┆   ┆ ON_FACILI ┆ u32      ┆ ---       ┆ ---       │\n",
       "│ u32        ┆ ---       ┆ u32       ┆          ┆   ┆ TY        ┆          ┆ u32       ┆ u32       │\n",
       "│            ┆ u32       ┆           ┆          ┆   ┆ ---       ┆          ┆           ┆           │\n",
       "│            ┆           ┆           ┆          ┆   ┆ u32       ┆          ┆           ┆           │\n",
       "╞════════════╪═══════════╪═══════════╪══════════╪═══╪═══════════╪══════════╪═══════════╪═══════════╡\n",
       "│ 53733124   ┆ 53733124  ┆ 53733124  ┆ 53733124 ┆ … ┆ 53733124  ┆ 53733124 ┆ 53733124  ┆ 53733124  │\n",
       "└────────────┴───────────┴───────────┴──────────┴───┴───────────┴──────────┴───────────┴───────────┘"
      ]
     },
     "execution_count": 7,
     "metadata": {},
     "output_type": "execute_result"
    }
   ],
   "source": [
    "destinatingPeices.count()"
   ]
  },
  {
   "cell_type": "code",
   "execution_count": 8,
   "metadata": {},
   "outputs": [
    {
     "data": {
      "text/html": [
       "<div><style>\n",
       ".dataframe > thead > tr,\n",
       ".dataframe > tbody > tr {\n",
       "  text-align: right;\n",
       "  white-space: pre-wrap;\n",
       "}\n",
       "</style>\n",
       "<small>shape: (1, 10)</small><table border=\"1\" class=\"dataframe\"><thead><tr><th>UNIQUE_IDENTIFIER</th><th>START_THE_CLOCK_DATE</th><th>ORIGIN_FACILITY</th><th>OZIP3</th><th>ACTUAL_DLVRY_DATE</th><th>EXPECTED_DELIVERY_DATE</th><th>EXPECTED_DESTINATION_FACILITY</th><th>dzip3</th><th>MAIL_CLASS</th><th>MAIL_SHAPE</th></tr><tr><td>u32</td><td>u32</td><td>u32</td><td>u32</td><td>u32</td><td>u32</td><td>u32</td><td>u32</td><td>u32</td><td>u32</td></tr></thead><tbody><tr><td>0</td><td>0</td><td>0</td><td>0</td><td>0</td><td>0</td><td>0</td><td>0</td><td>0</td><td>0</td></tr></tbody></table></div>"
      ],
      "text/plain": [
       "shape: (1, 10)\n",
       "┌─────────────┬────────────┬────────────┬───────┬───┬────────────┬───────┬────────────┬────────────┐\n",
       "│ UNIQUE_IDEN ┆ START_THE_ ┆ ORIGIN_FAC ┆ OZIP3 ┆ … ┆ EXPECTED_D ┆ dzip3 ┆ MAIL_CLASS ┆ MAIL_SHAPE │\n",
       "│ TIFIER      ┆ CLOCK_DATE ┆ ILITY      ┆ ---   ┆   ┆ ESTINATION ┆ ---   ┆ ---        ┆ ---        │\n",
       "│ ---         ┆ ---        ┆ ---        ┆ u32   ┆   ┆ _FACILITY  ┆ u32   ┆ u32        ┆ u32        │\n",
       "│ u32         ┆ u32        ┆ u32        ┆       ┆   ┆ ---        ┆       ┆            ┆            │\n",
       "│             ┆            ┆            ┆       ┆   ┆ u32        ┆       ┆            ┆            │\n",
       "╞═════════════╪════════════╪════════════╪═══════╪═══╪════════════╪═══════╪════════════╪════════════╡\n",
       "│ 0           ┆ 0          ┆ 0          ┆ 0     ┆ … ┆ 0          ┆ 0     ┆ 0          ┆ 0          │\n",
       "└─────────────┴────────────┴────────────┴───────┴───┴────────────┴───────┴────────────┴────────────┘"
      ]
     },
     "execution_count": 8,
     "metadata": {},
     "output_type": "execute_result"
    }
   ],
   "source": [
    "#find count of null values\n",
    "destinatingPeices.null_count()"
   ]
  },
  {
   "cell_type": "code",
   "execution_count": 9,
   "metadata": {},
   "outputs": [
    {
     "name": "stdout",
     "output_type": "stream",
     "text": [
      "# of rows with \"null\" value\n",
      "START_THE_CLOCK_DATE = 6673631\n",
      "ORIGIN_FACILITY = 0\n",
      "OZIP3 = 2674\n",
      "ACTUAL_DLVRY_DATE = 0\n",
      "EXPECTED_DELIVERY_DATE = 6673631\n",
      "EXPECTED_DESTINATION_FACILITY = 0\n",
      "MAIL_CLASS = 0\n",
      "MAIL_SHAPE = 0\n"
     ]
    }
   ],
   "source": [
    "# find count of rows with the word 'null'\n",
    "print('# of rows with \"null\" value')\n",
    "for x in destinatingPeices.columns:\n",
    "    if str(destinatingPeices[x].dtype) == 'String':\n",
    "        filtered_df = destinatingPeices.filter(pl.col(x) == 'null')\n",
    "        count = filtered_df[x].count()\n",
    "        print(\"{} = {}\".format(x, count))"
   ]
  },
  {
   "cell_type": "code",
   "execution_count": 10,
   "metadata": {},
   "outputs": [],
   "source": [
    "#remove null values from the dataset\n",
    "destinatingPeices_noNull = destinatingPeices.filter((pl.col('START_THE_CLOCK_DATE') != 'null') &\n",
    "                                                      (pl.col('OZIP3') != 'null') &\n",
    "                                                      (pl.col('EXPECTED_DELIVERY_DATE') != 'null'))"
   ]
  },
  {
   "cell_type": "code",
   "execution_count": 11,
   "metadata": {},
   "outputs": [
    {
     "data": {
      "text/html": [
       "<div><style>\n",
       ".dataframe > thead > tr,\n",
       ".dataframe > tbody > tr {\n",
       "  text-align: right;\n",
       "  white-space: pre-wrap;\n",
       "}\n",
       "</style>\n",
       "<small>shape: (1, 10)</small><table border=\"1\" class=\"dataframe\"><thead><tr><th>UNIQUE_IDENTIFIER</th><th>START_THE_CLOCK_DATE</th><th>ORIGIN_FACILITY</th><th>OZIP3</th><th>ACTUAL_DLVRY_DATE</th><th>EXPECTED_DELIVERY_DATE</th><th>EXPECTED_DESTINATION_FACILITY</th><th>dzip3</th><th>MAIL_CLASS</th><th>MAIL_SHAPE</th></tr><tr><td>u32</td><td>u32</td><td>u32</td><td>u32</td><td>u32</td><td>u32</td><td>u32</td><td>u32</td><td>u32</td><td>u32</td></tr></thead><tbody><tr><td>47058984</td><td>47058984</td><td>47058984</td><td>47058984</td><td>47058984</td><td>47058984</td><td>47058984</td><td>47058984</td><td>47058984</td><td>47058984</td></tr></tbody></table></div>"
      ],
      "text/plain": [
       "shape: (1, 10)\n",
       "┌────────────┬───────────┬───────────┬──────────┬───┬───────────┬──────────┬───────────┬───────────┐\n",
       "│ UNIQUE_IDE ┆ START_THE ┆ ORIGIN_FA ┆ OZIP3    ┆ … ┆ EXPECTED_ ┆ dzip3    ┆ MAIL_CLAS ┆ MAIL_SHAP │\n",
       "│ NTIFIER    ┆ _CLOCK_DA ┆ CILITY    ┆ ---      ┆   ┆ DESTINATI ┆ ---      ┆ S         ┆ E         │\n",
       "│ ---        ┆ TE        ┆ ---       ┆ u32      ┆   ┆ ON_FACILI ┆ u32      ┆ ---       ┆ ---       │\n",
       "│ u32        ┆ ---       ┆ u32       ┆          ┆   ┆ TY        ┆          ┆ u32       ┆ u32       │\n",
       "│            ┆ u32       ┆           ┆          ┆   ┆ ---       ┆          ┆           ┆           │\n",
       "│            ┆           ┆           ┆          ┆   ┆ u32       ┆          ┆           ┆           │\n",
       "╞════════════╪═══════════╪═══════════╪══════════╪═══╪═══════════╪══════════╪═══════════╪═══════════╡\n",
       "│ 47058984   ┆ 47058984  ┆ 47058984  ┆ 47058984 ┆ … ┆ 47058984  ┆ 47058984 ┆ 47058984  ┆ 47058984  │\n",
       "└────────────┴───────────┴───────────┴──────────┴───┴───────────┴──────────┴───────────┴───────────┘"
      ]
     },
     "execution_count": 11,
     "metadata": {},
     "output_type": "execute_result"
    }
   ],
   "source": [
    "destinatingPeices_noNull.count()"
   ]
  },
  {
   "cell_type": "code",
   "execution_count": 12,
   "metadata": {},
   "outputs": [
    {
     "data": {
      "text/html": [
       "<div><style>\n",
       ".dataframe > thead > tr,\n",
       ".dataframe > tbody > tr {\n",
       "  text-align: right;\n",
       "  white-space: pre-wrap;\n",
       "}\n",
       "</style>\n",
       "<small>shape: (5, 2)</small><table border=\"1\" class=\"dataframe\"><thead><tr><th>UNIQUE_IDENTIFIER</th><th>count</th></tr><tr><td>i64</td><td>u32</td></tr></thead><tbody><tr><td>21040650000001</td><td>43</td></tr><tr><td>21087440000001</td><td>28</td></tr><tr><td>21110390000001</td><td>27</td></tr><tr><td>21102930000001</td><td>26</td></tr><tr><td>21041020000001</td><td>26</td></tr></tbody></table></div>"
      ],
      "text/plain": [
       "shape: (5, 2)\n",
       "┌───────────────────┬───────┐\n",
       "│ UNIQUE_IDENTIFIER ┆ count │\n",
       "│ ---               ┆ ---   │\n",
       "│ i64               ┆ u32   │\n",
       "╞═══════════════════╪═══════╡\n",
       "│ 21040650000001    ┆ 43    │\n",
       "│ 21087440000001    ┆ 28    │\n",
       "│ 21110390000001    ┆ 27    │\n",
       "│ 21102930000001    ┆ 26    │\n",
       "│ 21041020000001    ┆ 26    │\n",
       "└───────────────────┴───────┘"
      ]
     },
     "execution_count": 12,
     "metadata": {},
     "output_type": "execute_result"
    }
   ],
   "source": [
    "# count the number of records associated with each unique id\n",
    "duplicate_counts = destinatingPeices_noNull['UNIQUE_IDENTIFIER'].value_counts(sort=True)\n",
    "duplicate_counts.head()"
   ]
  },
  {
   "cell_type": "code",
   "execution_count": 13,
   "metadata": {},
   "outputs": [],
   "source": [
    "duplicate_ids = duplicate_counts.filter(pl.col('count') > 1)"
   ]
  },
  {
   "cell_type": "code",
   "execution_count": 14,
   "metadata": {},
   "outputs": [
    {
     "data": {
      "text/html": [
       "<div><style>\n",
       ".dataframe > thead > tr,\n",
       ".dataframe > tbody > tr {\n",
       "  text-align: right;\n",
       "  white-space: pre-wrap;\n",
       "}\n",
       "</style>\n",
       "<small>shape: (5, 2)</small><table border=\"1\" class=\"dataframe\"><thead><tr><th>UNIQUE_IDENTIFIER</th><th>count</th></tr><tr><td>i64</td><td>u32</td></tr></thead><tbody><tr><td>21040650000001</td><td>43</td></tr><tr><td>21087440000001</td><td>28</td></tr><tr><td>21110390000001</td><td>27</td></tr><tr><td>21102930000001</td><td>26</td></tr><tr><td>21041020000001</td><td>26</td></tr></tbody></table></div>"
      ],
      "text/plain": [
       "shape: (5, 2)\n",
       "┌───────────────────┬───────┐\n",
       "│ UNIQUE_IDENTIFIER ┆ count │\n",
       "│ ---               ┆ ---   │\n",
       "│ i64               ┆ u32   │\n",
       "╞═══════════════════╪═══════╡\n",
       "│ 21040650000001    ┆ 43    │\n",
       "│ 21087440000001    ┆ 28    │\n",
       "│ 21110390000001    ┆ 27    │\n",
       "│ 21102930000001    ┆ 26    │\n",
       "│ 21041020000001    ┆ 26    │\n",
       "└───────────────────┴───────┘"
      ]
     },
     "execution_count": 14,
     "metadata": {},
     "output_type": "execute_result"
    }
   ],
   "source": [
    "duplicate_ids.head()"
   ]
  },
  {
   "cell_type": "code",
   "execution_count": 15,
   "metadata": {},
   "outputs": [
    {
     "data": {
      "text/html": [
       "<div><style>\n",
       ".dataframe > thead > tr,\n",
       ".dataframe > tbody > tr {\n",
       "  text-align: right;\n",
       "  white-space: pre-wrap;\n",
       "}\n",
       "</style>\n",
       "<small>shape: (1, 2)</small><table border=\"1\" class=\"dataframe\"><thead><tr><th>UNIQUE_IDENTIFIER</th><th>count</th></tr><tr><td>u32</td><td>u32</td></tr></thead><tbody><tr><td>614</td><td>614</td></tr></tbody></table></div>"
      ],
      "text/plain": [
       "shape: (1, 2)\n",
       "┌───────────────────┬───────┐\n",
       "│ UNIQUE_IDENTIFIER ┆ count │\n",
       "│ ---               ┆ ---   │\n",
       "│ u32               ┆ u32   │\n",
       "╞═══════════════════╪═══════╡\n",
       "│ 614               ┆ 614   │\n",
       "└───────────────────┴───────┘"
      ]
     },
     "execution_count": 15,
     "metadata": {},
     "output_type": "execute_result"
    }
   ],
   "source": [
    "duplicate_ids.count()"
   ]
  },
  {
   "cell_type": "code",
   "execution_count": 16,
   "metadata": {},
   "outputs": [],
   "source": [
    "duplicate_ids_list = duplicate_ids['UNIQUE_IDENTIFIER'].to_list()"
   ]
  },
  {
   "cell_type": "code",
   "execution_count": 17,
   "metadata": {},
   "outputs": [],
   "source": [
    "duplicateRecords = destinatingPeices_noNull.filter(pl.col('UNIQUE_IDENTIFIER').is_in(duplicate_ids_list))"
   ]
  },
  {
   "cell_type": "code",
   "execution_count": 18,
   "metadata": {},
   "outputs": [
    {
     "data": {
      "text/html": [
       "<div><style>\n",
       ".dataframe > thead > tr,\n",
       ".dataframe > tbody > tr {\n",
       "  text-align: right;\n",
       "  white-space: pre-wrap;\n",
       "}\n",
       "</style>\n",
       "<small>shape: (1, 10)</small><table border=\"1\" class=\"dataframe\"><thead><tr><th>UNIQUE_IDENTIFIER</th><th>START_THE_CLOCK_DATE</th><th>ORIGIN_FACILITY</th><th>OZIP3</th><th>ACTUAL_DLVRY_DATE</th><th>EXPECTED_DELIVERY_DATE</th><th>EXPECTED_DESTINATION_FACILITY</th><th>dzip3</th><th>MAIL_CLASS</th><th>MAIL_SHAPE</th></tr><tr><td>u32</td><td>u32</td><td>u32</td><td>u32</td><td>u32</td><td>u32</td><td>u32</td><td>u32</td><td>u32</td><td>u32</td></tr></thead><tbody><tr><td>3693</td><td>3693</td><td>3693</td><td>3693</td><td>3693</td><td>3693</td><td>3693</td><td>3693</td><td>3693</td><td>3693</td></tr></tbody></table></div>"
      ],
      "text/plain": [
       "shape: (1, 10)\n",
       "┌─────────────┬────────────┬────────────┬───────┬───┬────────────┬───────┬────────────┬────────────┐\n",
       "│ UNIQUE_IDEN ┆ START_THE_ ┆ ORIGIN_FAC ┆ OZIP3 ┆ … ┆ EXPECTED_D ┆ dzip3 ┆ MAIL_CLASS ┆ MAIL_SHAPE │\n",
       "│ TIFIER      ┆ CLOCK_DATE ┆ ILITY      ┆ ---   ┆   ┆ ESTINATION ┆ ---   ┆ ---        ┆ ---        │\n",
       "│ ---         ┆ ---        ┆ ---        ┆ u32   ┆   ┆ _FACILITY  ┆ u32   ┆ u32        ┆ u32        │\n",
       "│ u32         ┆ u32        ┆ u32        ┆       ┆   ┆ ---        ┆       ┆            ┆            │\n",
       "│             ┆            ┆            ┆       ┆   ┆ u32        ┆       ┆            ┆            │\n",
       "╞═════════════╪════════════╪════════════╪═══════╪═══╪════════════╪═══════╪════════════╪════════════╡\n",
       "│ 3693        ┆ 3693       ┆ 3693       ┆ 3693  ┆ … ┆ 3693       ┆ 3693  ┆ 3693       ┆ 3693       │\n",
       "└─────────────┴────────────┴────────────┴───────┴───┴────────────┴───────┴────────────┴────────────┘"
      ]
     },
     "execution_count": 18,
     "metadata": {},
     "output_type": "execute_result"
    }
   ],
   "source": [
    "duplicateRecords.count()"
   ]
  },
  {
   "cell_type": "code",
   "execution_count": 19,
   "metadata": {},
   "outputs": [],
   "source": [
    "non_duplicate_ids = duplicate_counts.filter(pl.col('count') == 1)"
   ]
  },
  {
   "cell_type": "code",
   "execution_count": 20,
   "metadata": {},
   "outputs": [],
   "source": [
    "list_nonDupIds = non_duplicate_ids['UNIQUE_IDENTIFIER'].to_list()"
   ]
  },
  {
   "cell_type": "code",
   "execution_count": 21,
   "metadata": {},
   "outputs": [],
   "source": [
    "destinatingPeices_noDups = destinatingPeices.filter(pl.col('UNIQUE_IDENTIFIER').is_in(list_nonDupIds))"
   ]
  },
  {
   "cell_type": "code",
   "execution_count": 22,
   "metadata": {},
   "outputs": [
    {
     "data": {
      "text/html": [
       "<div><style>\n",
       ".dataframe > thead > tr,\n",
       ".dataframe > tbody > tr {\n",
       "  text-align: right;\n",
       "  white-space: pre-wrap;\n",
       "}\n",
       "</style>\n",
       "<small>shape: (1, 10)</small><table border=\"1\" class=\"dataframe\"><thead><tr><th>UNIQUE_IDENTIFIER</th><th>START_THE_CLOCK_DATE</th><th>ORIGIN_FACILITY</th><th>OZIP3</th><th>ACTUAL_DLVRY_DATE</th><th>EXPECTED_DELIVERY_DATE</th><th>EXPECTED_DESTINATION_FACILITY</th><th>dzip3</th><th>MAIL_CLASS</th><th>MAIL_SHAPE</th></tr><tr><td>u32</td><td>u32</td><td>u32</td><td>u32</td><td>u32</td><td>u32</td><td>u32</td><td>u32</td><td>u32</td><td>u32</td></tr></thead><tbody><tr><td>47055291</td><td>47055291</td><td>47055291</td><td>47055291</td><td>47055291</td><td>47055291</td><td>47055291</td><td>47055291</td><td>47055291</td><td>47055291</td></tr></tbody></table></div>"
      ],
      "text/plain": [
       "shape: (1, 10)\n",
       "┌────────────┬───────────┬───────────┬──────────┬───┬───────────┬──────────┬───────────┬───────────┐\n",
       "│ UNIQUE_IDE ┆ START_THE ┆ ORIGIN_FA ┆ OZIP3    ┆ … ┆ EXPECTED_ ┆ dzip3    ┆ MAIL_CLAS ┆ MAIL_SHAP │\n",
       "│ NTIFIER    ┆ _CLOCK_DA ┆ CILITY    ┆ ---      ┆   ┆ DESTINATI ┆ ---      ┆ S         ┆ E         │\n",
       "│ ---        ┆ TE        ┆ ---       ┆ u32      ┆   ┆ ON_FACILI ┆ u32      ┆ ---       ┆ ---       │\n",
       "│ u32        ┆ ---       ┆ u32       ┆          ┆   ┆ TY        ┆          ┆ u32       ┆ u32       │\n",
       "│            ┆ u32       ┆           ┆          ┆   ┆ ---       ┆          ┆           ┆           │\n",
       "│            ┆           ┆           ┆          ┆   ┆ u32       ┆          ┆           ┆           │\n",
       "╞════════════╪═══════════╪═══════════╪══════════╪═══╪═══════════╪══════════╪═══════════╪═══════════╡\n",
       "│ 47055291   ┆ 47055291  ┆ 47055291  ┆ 47055291 ┆ … ┆ 47055291  ┆ 47055291 ┆ 47055291  ┆ 47055291  │\n",
       "└────────────┴───────────┴───────────┴──────────┴───┴───────────┴──────────┴───────────┴───────────┘"
      ]
     },
     "execution_count": 22,
     "metadata": {},
     "output_type": "execute_result"
    }
   ],
   "source": [
    "destinatingPeices_noDups.count()"
   ]
  },
  {
   "cell_type": "code",
   "execution_count": 23,
   "metadata": {},
   "outputs": [
    {
     "data": {
      "text/html": [
       "<div><style>\n",
       ".dataframe > thead > tr,\n",
       ".dataframe > tbody > tr {\n",
       "  text-align: right;\n",
       "  white-space: pre-wrap;\n",
       "}\n",
       "</style>\n",
       "<small>shape: (1, 10)</small><table border=\"1\" class=\"dataframe\"><thead><tr><th>UNIQUE_IDENTIFIER</th><th>START_THE_CLOCK_DATE</th><th>ORIGIN_FACILITY</th><th>OZIP3</th><th>ACTUAL_DLVRY_DATE</th><th>EXPECTED_DELIVERY_DATE</th><th>EXPECTED_DESTINATION_FACILITY</th><th>dzip3</th><th>MAIL_CLASS</th><th>MAIL_SHAPE</th></tr><tr><td>u32</td><td>u32</td><td>u32</td><td>u32</td><td>u32</td><td>u32</td><td>u32</td><td>u32</td><td>u32</td><td>u32</td></tr></thead><tbody><tr><td>388444</td><td>388444</td><td>388444</td><td>388444</td><td>388444</td><td>388444</td><td>388444</td><td>388444</td><td>388444</td><td>388444</td></tr></tbody></table></div>"
      ],
      "text/plain": [
       "shape: (1, 10)\n",
       "┌────────────┬────────────┬────────────┬────────┬───┬────────────┬────────┬────────────┬───────────┐\n",
       "│ UNIQUE_IDE ┆ START_THE_ ┆ ORIGIN_FAC ┆ OZIP3  ┆ … ┆ EXPECTED_D ┆ dzip3  ┆ MAIL_CLASS ┆ MAIL_SHAP │\n",
       "│ NTIFIER    ┆ CLOCK_DATE ┆ ILITY      ┆ ---    ┆   ┆ ESTINATION ┆ ---    ┆ ---        ┆ E         │\n",
       "│ ---        ┆ ---        ┆ ---        ┆ u32    ┆   ┆ _FACILITY  ┆ u32    ┆ u32        ┆ ---       │\n",
       "│ u32        ┆ u32        ┆ u32        ┆        ┆   ┆ ---        ┆        ┆            ┆ u32       │\n",
       "│            ┆            ┆            ┆        ┆   ┆ u32        ┆        ┆            ┆           │\n",
       "╞════════════╪════════════╪════════════╪════════╪═══╪════════════╪════════╪════════════╪═══════════╡\n",
       "│ 388444     ┆ 388444     ┆ 388444     ┆ 388444 ┆ … ┆ 388444     ┆ 388444 ┆ 388444     ┆ 388444    │\n",
       "└────────────┴────────────┴────────────┴────────┴───┴────────────┴────────┴────────────┴───────────┘"
      ]
     },
     "execution_count": 23,
     "metadata": {},
     "output_type": "execute_result"
    }
   ],
   "source": [
    "destinatingPeices_noDups.filter(pl.col('ACTUAL_DLVRY_DATE') < pl.col('START_THE_CLOCK_DATE')).count()"
   ]
  },
  {
   "cell_type": "code",
   "execution_count": 24,
   "metadata": {},
   "outputs": [],
   "source": [
    "destinatingPeices_final = destinatingPeices_noDups.filter(pl.col('ACTUAL_DLVRY_DATE') > pl.col('START_THE_CLOCK_DATE'))"
   ]
  },
  {
   "cell_type": "code",
   "execution_count": 25,
   "metadata": {},
   "outputs": [
    {
     "data": {
      "text/html": [
       "<div><style>\n",
       ".dataframe > thead > tr,\n",
       ".dataframe > tbody > tr {\n",
       "  text-align: right;\n",
       "  white-space: pre-wrap;\n",
       "}\n",
       "</style>\n",
       "<small>shape: (1, 10)</small><table border=\"1\" class=\"dataframe\"><thead><tr><th>UNIQUE_IDENTIFIER</th><th>START_THE_CLOCK_DATE</th><th>ORIGIN_FACILITY</th><th>OZIP3</th><th>ACTUAL_DLVRY_DATE</th><th>EXPECTED_DELIVERY_DATE</th><th>EXPECTED_DESTINATION_FACILITY</th><th>dzip3</th><th>MAIL_CLASS</th><th>MAIL_SHAPE</th></tr><tr><td>u32</td><td>u32</td><td>u32</td><td>u32</td><td>u32</td><td>u32</td><td>u32</td><td>u32</td><td>u32</td><td>u32</td></tr></thead><tbody><tr><td>44716693</td><td>44716693</td><td>44716693</td><td>44716693</td><td>44716693</td><td>44716693</td><td>44716693</td><td>44716693</td><td>44716693</td><td>44716693</td></tr></tbody></table></div>"
      ],
      "text/plain": [
       "shape: (1, 10)\n",
       "┌────────────┬───────────┬───────────┬──────────┬───┬───────────┬──────────┬───────────┬───────────┐\n",
       "│ UNIQUE_IDE ┆ START_THE ┆ ORIGIN_FA ┆ OZIP3    ┆ … ┆ EXPECTED_ ┆ dzip3    ┆ MAIL_CLAS ┆ MAIL_SHAP │\n",
       "│ NTIFIER    ┆ _CLOCK_DA ┆ CILITY    ┆ ---      ┆   ┆ DESTINATI ┆ ---      ┆ S         ┆ E         │\n",
       "│ ---        ┆ TE        ┆ ---       ┆ u32      ┆   ┆ ON_FACILI ┆ u32      ┆ ---       ┆ ---       │\n",
       "│ u32        ┆ ---       ┆ u32       ┆          ┆   ┆ TY        ┆          ┆ u32       ┆ u32       │\n",
       "│            ┆ u32       ┆           ┆          ┆   ┆ ---       ┆          ┆           ┆           │\n",
       "│            ┆           ┆           ┆          ┆   ┆ u32       ┆          ┆           ┆           │\n",
       "╞════════════╪═══════════╪═══════════╪══════════╪═══╪═══════════╪══════════╪═══════════╪═══════════╡\n",
       "│ 44716693   ┆ 44716693  ┆ 44716693  ┆ 44716693 ┆ … ┆ 44716693  ┆ 44716693 ┆ 44716693  ┆ 44716693  │\n",
       "└────────────┴───────────┴───────────┴──────────┴───┴───────────┴──────────┴───────────┴───────────┘"
      ]
     },
     "execution_count": 25,
     "metadata": {},
     "output_type": "execute_result"
    }
   ],
   "source": [
    "destinatingPeices_final.count()"
   ]
  },
  {
   "cell_type": "code",
   "execution_count": 26,
   "metadata": {},
   "outputs": [
    {
     "data": {
      "text/html": [
       "<div><style>\n",
       ".dataframe > thead > tr,\n",
       ".dataframe > tbody > tr {\n",
       "  text-align: right;\n",
       "  white-space: pre-wrap;\n",
       "}\n",
       "</style>\n",
       "<small>shape: (3, 2)</small><table border=\"1\" class=\"dataframe\"><thead><tr><th>EXPECTED_DESTINATION_FACILITY</th><th>len</th></tr><tr><td>str</td><td>u32</td></tr></thead><tbody><tr><td>&quot;NASHVILLE - 1441275&quot;</td><td>24657491</td></tr><tr><td>&quot;MUSIC CITY ANNEX - 1532174&quot;</td><td>3534969</td></tr><tr><td>&quot;MEMPHIS - 1441274&quot;</td><td>16524233</td></tr></tbody></table></div>"
      ],
      "text/plain": [
       "shape: (3, 2)\n",
       "┌───────────────────────────────┬──────────┐\n",
       "│ EXPECTED_DESTINATION_FACILITY ┆ len      │\n",
       "│ ---                           ┆ ---      │\n",
       "│ str                           ┆ u32      │\n",
       "╞═══════════════════════════════╪══════════╡\n",
       "│ NASHVILLE - 1441275           ┆ 24657491 │\n",
       "│ MUSIC CITY ANNEX - 1532174    ┆ 3534969  │\n",
       "│ MEMPHIS - 1441274             ┆ 16524233 │\n",
       "└───────────────────────────────┴──────────┘"
      ]
     },
     "execution_count": 26,
     "metadata": {},
     "output_type": "execute_result"
    }
   ],
   "source": [
    "destinatingPeices_final.group_by('EXPECTED_DESTINATION_FACILITY').len()"
   ]
  },
  {
   "cell_type": "code",
   "execution_count": 27,
   "metadata": {},
   "outputs": [
    {
     "data": {
      "text/plain": [
       "111"
      ]
     },
     "execution_count": 27,
     "metadata": {},
     "output_type": "execute_result"
    }
   ],
   "source": [
    "destinatingPeices_final['START_THE_CLOCK_DATE'].n_unique()"
   ]
  },
  {
   "cell_type": "code",
   "execution_count": 28,
   "metadata": {},
   "outputs": [
    {
     "data": {
      "text/plain": [
       "1267"
      ]
     },
     "execution_count": 28,
     "metadata": {},
     "output_type": "execute_result"
    }
   ],
   "source": [
    "destinatingPeices_final['ORIGIN_FACILITY'].n_unique()"
   ]
  },
  {
   "cell_type": "code",
   "execution_count": 29,
   "metadata": {},
   "outputs": [
    {
     "data": {
      "text/plain": [
       "11"
      ]
     },
     "execution_count": 29,
     "metadata": {},
     "output_type": "execute_result"
    }
   ],
   "source": [
    "destinatingPeices_final['ACTUAL_DLVRY_DATE'].n_unique()"
   ]
  },
  {
   "cell_type": "code",
   "execution_count": 30,
   "metadata": {},
   "outputs": [],
   "source": [
    "d1 = destinatingPeices_final.group_by('ACTUAL_DLVRY_DATE').len()"
   ]
  },
  {
   "cell_type": "code",
   "execution_count": 31,
   "metadata": {},
   "outputs": [],
   "source": [
    "d1 = d1.select(pl.col(['ACTUAL_DLVRY_DATE', 'len']).sort_by('ACTUAL_DLVRY_DATE'))"
   ]
  },
  {
   "cell_type": "code",
   "execution_count": 32,
   "metadata": {},
   "outputs": [
    {
     "name": "stdout",
     "output_type": "stream",
     "text": [
      "shape: (11, 2)\n",
      "┌───────────────────┬─────────┐\n",
      "│ ACTUAL_DLVRY_DATE ┆ len     │\n",
      "│ ---               ┆ ---     │\n",
      "│ str               ┆ u32     │\n",
      "╞═══════════════════╪═════════╡\n",
      "│ 2024-01-08        ┆ 6750093 │\n",
      "│ 2024-01-09        ┆ 3863290 │\n",
      "│ 2024-01-10        ┆ 3830652 │\n",
      "│ 2024-01-11        ┆ 4482923 │\n",
      "│ 2024-01-12        ┆ 4321727 │\n",
      "│ 2024-01-13        ┆ 5215929 │\n",
      "│ 2024-01-16        ┆ 4958703 │\n",
      "│ 2024-01-17        ┆ 2993910 │\n",
      "│ 2024-01-18        ┆ 2797221 │\n",
      "│ 2024-01-19        ┆ 2594319 │\n",
      "│ 2024-01-20        ┆ 2907926 │\n",
      "└───────────────────┴─────────┘\n"
     ]
    }
   ],
   "source": [
    "with pl.Config(tbl_rows=20):\n",
    "    print(d1)"
   ]
  },
  {
   "cell_type": "code",
   "execution_count": 33,
   "metadata": {},
   "outputs": [],
   "source": [
    "d1 = destinatingPeices_final.group_by('ACTUAL_DLVRY_DATE').len()"
   ]
  },
  {
   "cell_type": "code",
   "execution_count": 34,
   "metadata": {},
   "outputs": [],
   "source": [
    "d1 = d1.select(pl.col(['ACTUAL_DLVRY_DATE', 'len']).sort_by('ACTUAL_DLVRY_DATE'))"
   ]
  },
  {
   "cell_type": "code",
   "execution_count": 35,
   "metadata": {},
   "outputs": [
    {
     "name": "stdout",
     "output_type": "stream",
     "text": [
      "shape: (11, 2)\n",
      "┌───────────────────┬─────────┐\n",
      "│ ACTUAL_DLVRY_DATE ┆ len     │\n",
      "│ ---               ┆ ---     │\n",
      "│ str               ┆ u32     │\n",
      "╞═══════════════════╪═════════╡\n",
      "│ 2024-01-08        ┆ 6750093 │\n",
      "│ 2024-01-09        ┆ 3863290 │\n",
      "│ 2024-01-10        ┆ 3830652 │\n",
      "│ 2024-01-11        ┆ 4482923 │\n",
      "│ 2024-01-12        ┆ 4321727 │\n",
      "│ 2024-01-13        ┆ 5215929 │\n",
      "│ 2024-01-16        ┆ 4958703 │\n",
      "│ 2024-01-17        ┆ 2993910 │\n",
      "│ 2024-01-18        ┆ 2797221 │\n",
      "│ 2024-01-19        ┆ 2594319 │\n",
      "│ 2024-01-20        ┆ 2907926 │\n",
      "└───────────────────┴─────────┘\n"
     ]
    }
   ],
   "source": [
    "with pl.Config(tbl_rows=20):\n",
    "    print(d1)"
   ]
  },
  {
   "cell_type": "code",
   "execution_count": 36,
   "metadata": {},
   "outputs": [
    {
     "data": {
      "text/plain": [
       "116"
      ]
     },
     "execution_count": 36,
     "metadata": {},
     "output_type": "execute_result"
    }
   ],
   "source": [
    "destinatingPeices_final['EXPECTED_DELIVERY_DATE'].n_unique()"
   ]
  },
  {
   "cell_type": "code",
   "execution_count": 37,
   "metadata": {},
   "outputs": [
    {
     "data": {
      "text/html": [
       "<div><style>\n",
       ".dataframe > thead > tr,\n",
       ".dataframe > tbody > tr {\n",
       "  text-align: right;\n",
       "  white-space: pre-wrap;\n",
       "}\n",
       "</style>\n",
       "<small>shape: (116, 2)</small><table border=\"1\" class=\"dataframe\"><thead><tr><th>EXPECTED_DELIVERY_DATE</th><th>len</th></tr><tr><td>str</td><td>u32</td></tr></thead><tbody><tr><td>&quot;2023-11-20&quot;</td><td>20</td></tr><tr><td>&quot;2024-01-02&quot;</td><td>125447</td></tr><tr><td>&quot;2023-12-18&quot;</td><td>10567</td></tr><tr><td>&quot;2023-10-25&quot;</td><td>1</td></tr><tr><td>&quot;2023-12-19&quot;</td><td>4888</td></tr><tr><td>&hellip;</td><td>&hellip;</td></tr><tr><td>&quot;2023-12-02&quot;</td><td>45</td></tr><tr><td>&quot;2023-12-12&quot;</td><td>3716</td></tr><tr><td>&quot;2024-01-24&quot;</td><td>21703</td></tr><tr><td>&quot;2023-09-06&quot;</td><td>1</td></tr><tr><td>&quot;2023-10-24&quot;</td><td>1</td></tr></tbody></table></div>"
      ],
      "text/plain": [
       "shape: (116, 2)\n",
       "┌────────────────────────┬────────┐\n",
       "│ EXPECTED_DELIVERY_DATE ┆ len    │\n",
       "│ ---                    ┆ ---    │\n",
       "│ str                    ┆ u32    │\n",
       "╞════════════════════════╪════════╡\n",
       "│ 2023-11-20             ┆ 20     │\n",
       "│ 2024-01-02             ┆ 125447 │\n",
       "│ 2023-12-18             ┆ 10567  │\n",
       "│ 2023-10-25             ┆ 1      │\n",
       "│ 2023-12-19             ┆ 4888   │\n",
       "│ …                      ┆ …      │\n",
       "│ 2023-12-02             ┆ 45     │\n",
       "│ 2023-12-12             ┆ 3716   │\n",
       "│ 2024-01-24             ┆ 21703  │\n",
       "│ 2023-09-06             ┆ 1      │\n",
       "│ 2023-10-24             ┆ 1      │\n",
       "└────────────────────────┴────────┘"
      ]
     },
     "execution_count": 37,
     "metadata": {},
     "output_type": "execute_result"
    }
   ],
   "source": [
    "destinatingPeices_final.group_by('EXPECTED_DELIVERY_DATE').len()"
   ]
  },
  {
   "cell_type": "code",
   "execution_count": 38,
   "metadata": {},
   "outputs": [
    {
     "data": {
      "text/plain": [
       "'2023-08-25'"
      ]
     },
     "execution_count": 38,
     "metadata": {},
     "output_type": "execute_result"
    }
   ],
   "source": [
    "destinatingPeices_final['EXPECTED_DELIVERY_DATE'].min()"
   ]
  },
  {
   "cell_type": "code",
   "execution_count": 39,
   "metadata": {},
   "outputs": [
    {
     "data": {
      "text/plain": [
       "'2024-02-07'"
      ]
     },
     "execution_count": 39,
     "metadata": {},
     "output_type": "execute_result"
    }
   ],
   "source": [
    "destinatingPeices_final['EXPECTED_DELIVERY_DATE'].max()"
   ]
  },
  {
   "cell_type": "code",
   "execution_count": 40,
   "metadata": {},
   "outputs": [
    {
     "data": {
      "text/plain": [
       "4"
      ]
     },
     "execution_count": 40,
     "metadata": {},
     "output_type": "execute_result"
    }
   ],
   "source": [
    "destinatingPeices_final['MAIL_CLASS'].n_unique()"
   ]
  },
  {
   "cell_type": "code",
   "execution_count": 41,
   "metadata": {},
   "outputs": [
    {
     "data": {
      "text/html": [
       "<div><style>\n",
       ".dataframe > thead > tr,\n",
       ".dataframe > tbody > tr {\n",
       "  text-align: right;\n",
       "  white-space: pre-wrap;\n",
       "}\n",
       "</style>\n",
       "<small>shape: (4, 2)</small><table border=\"1\" class=\"dataframe\"><thead><tr><th>MAIL_CLASS</th><th>len</th></tr><tr><td>str</td><td>u32</td></tr></thead><tbody><tr><td>&quot;Periodicals&quot;</td><td>789234</td></tr><tr><td>&quot;Single Piece First Class&quot;</td><td>6677212</td></tr><tr><td>&quot;First Class Presort&quot;</td><td>15481257</td></tr><tr><td>&quot;USPS Marketing Mail&quot;</td><td>21768990</td></tr></tbody></table></div>"
      ],
      "text/plain": [
       "shape: (4, 2)\n",
       "┌──────────────────────────┬──────────┐\n",
       "│ MAIL_CLASS               ┆ len      │\n",
       "│ ---                      ┆ ---      │\n",
       "│ str                      ┆ u32      │\n",
       "╞══════════════════════════╪══════════╡\n",
       "│ Periodicals              ┆ 789234   │\n",
       "│ Single Piece First Class ┆ 6677212  │\n",
       "│ First Class Presort      ┆ 15481257 │\n",
       "│ USPS Marketing Mail      ┆ 21768990 │\n",
       "└──────────────────────────┴──────────┘"
      ]
     },
     "execution_count": 41,
     "metadata": {},
     "output_type": "execute_result"
    }
   ],
   "source": [
    "destinatingPeices_final.group_by('MAIL_CLASS').len()"
   ]
  },
  {
   "cell_type": "code",
   "execution_count": 42,
   "metadata": {},
   "outputs": [
    {
     "data": {
      "text/plain": [
       "3"
      ]
     },
     "execution_count": 42,
     "metadata": {},
     "output_type": "execute_result"
    }
   ],
   "source": [
    "destinatingPeices_final['MAIL_SHAPE'].n_unique()"
   ]
  },
  {
   "cell_type": "code",
   "execution_count": 43,
   "metadata": {},
   "outputs": [
    {
     "data": {
      "text/html": [
       "<div><style>\n",
       ".dataframe > thead > tr,\n",
       ".dataframe > tbody > tr {\n",
       "  text-align: right;\n",
       "  white-space: pre-wrap;\n",
       "}\n",
       "</style>\n",
       "<small>shape: (3, 2)</small><table border=\"1\" class=\"dataframe\"><thead><tr><th>MAIL_SHAPE</th><th>len</th></tr><tr><td>str</td><td>u32</td></tr></thead><tbody><tr><td>&quot;Flat&quot;</td><td>4990079</td></tr><tr><td>&quot;Card&quot;</td><td>1011975</td></tr><tr><td>&quot;Letter&quot;</td><td>38714639</td></tr></tbody></table></div>"
      ],
      "text/plain": [
       "shape: (3, 2)\n",
       "┌────────────┬──────────┐\n",
       "│ MAIL_SHAPE ┆ len      │\n",
       "│ ---        ┆ ---      │\n",
       "│ str        ┆ u32      │\n",
       "╞════════════╪══════════╡\n",
       "│ Flat       ┆ 4990079  │\n",
       "│ Card       ┆ 1011975  │\n",
       "│ Letter     ┆ 38714639 │\n",
       "└────────────┴──────────┘"
      ]
     },
     "execution_count": 43,
     "metadata": {},
     "output_type": "execute_result"
    }
   ],
   "source": [
    "destinatingPeices_final.group_by('MAIL_SHAPE').len()"
   ]
  },
  {
   "cell_type": "code",
   "execution_count": 44,
   "metadata": {},
   "outputs": [
    {
     "data": {
      "text/html": [
       "<div><style>\n",
       ".dataframe > thead > tr,\n",
       ".dataframe > tbody > tr {\n",
       "  text-align: right;\n",
       "  white-space: pre-wrap;\n",
       "}\n",
       "</style>\n",
       "<small>shape: (9, 3)</small><table border=\"1\" class=\"dataframe\"><thead><tr><th>MAIL_CLASS</th><th>MAIL_SHAPE</th><th>len</th></tr><tr><td>str</td><td>str</td><td>u32</td></tr></thead><tbody><tr><td>&quot;First Class Presort&quot;</td><td>&quot;Card&quot;</td><td>1011975</td></tr><tr><td>&quot;First Class Presort&quot;</td><td>&quot;Flat&quot;</td><td>184609</td></tr><tr><td>&quot;First Class Presort&quot;</td><td>&quot;Letter&quot;</td><td>14284673</td></tr><tr><td>&quot;Periodicals&quot;</td><td>&quot;Flat&quot;</td><td>786870</td></tr><tr><td>&quot;Periodicals&quot;</td><td>&quot;Letter&quot;</td><td>2364</td></tr><tr><td>&quot;Single Piece First Class&quot;</td><td>&quot;Flat&quot;</td><td>1285818</td></tr><tr><td>&quot;Single Piece First Class&quot;</td><td>&quot;Letter&quot;</td><td>5391394</td></tr><tr><td>&quot;USPS Marketing Mail&quot;</td><td>&quot;Flat&quot;</td><td>2732782</td></tr><tr><td>&quot;USPS Marketing Mail&quot;</td><td>&quot;Letter&quot;</td><td>19036208</td></tr></tbody></table></div>"
      ],
      "text/plain": [
       "shape: (9, 3)\n",
       "┌──────────────────────────┬────────────┬──────────┐\n",
       "│ MAIL_CLASS               ┆ MAIL_SHAPE ┆ len      │\n",
       "│ ---                      ┆ ---        ┆ ---      │\n",
       "│ str                      ┆ str        ┆ u32      │\n",
       "╞══════════════════════════╪════════════╪══════════╡\n",
       "│ First Class Presort      ┆ Card       ┆ 1011975  │\n",
       "│ First Class Presort      ┆ Flat       ┆ 184609   │\n",
       "│ First Class Presort      ┆ Letter     ┆ 14284673 │\n",
       "│ Periodicals              ┆ Flat       ┆ 786870   │\n",
       "│ Periodicals              ┆ Letter     ┆ 2364     │\n",
       "│ Single Piece First Class ┆ Flat       ┆ 1285818  │\n",
       "│ Single Piece First Class ┆ Letter     ┆ 5391394  │\n",
       "│ USPS Marketing Mail      ┆ Flat       ┆ 2732782  │\n",
       "│ USPS Marketing Mail      ┆ Letter     ┆ 19036208 │\n",
       "└──────────────────────────┴────────────┴──────────┘"
      ]
     },
     "execution_count": 44,
     "metadata": {},
     "output_type": "execute_result"
    }
   ],
   "source": [
    "destinatingPeices_final.group_by(['MAIL_CLASS', 'MAIL_SHAPE']).len().select(pl.col(['MAIL_CLASS', 'MAIL_SHAPE', 'len']).sort_by(['MAIL_CLASS', 'MAIL_SHAPE']))"
   ]
  },
  {
   "cell_type": "markdown",
   "metadata": {},
   "source": [
    "<h3>Destinating Scans</h3>"
   ]
  },
  {
   "cell_type": "code",
   "execution_count": 45,
   "metadata": {},
   "outputs": [],
   "source": [
    "destinatingScans1 = pl.read_csv('../../Data/Scan Data/Mail/Destinating Scans pt. 1.csv', infer_schema_length=int(1e10))"
   ]
  },
  {
   "cell_type": "code",
   "execution_count": 46,
   "metadata": {},
   "outputs": [],
   "source": [
    "destinatingScans2 = pl.read_csv('../../Data/Scan Data/Mail/Destinating Scans pt. 2.csv', infer_schema_length=int(1e10))"
   ]
  },
  {
   "cell_type": "code",
   "execution_count": 47,
   "metadata": {},
   "outputs": [],
   "source": [
    "destinatingScans3 = pl.read_csv('../../Data/Scan Data/Mail/Destinating Scans pt. 3.csv', infer_schema_length=int(1e10))"
   ]
  },
  {
   "cell_type": "code",
   "execution_count": 48,
   "metadata": {},
   "outputs": [],
   "source": [
    "destinatingScans = pl.concat([destinatingScans1, destinatingScans2, destinatingScans3], how = 'vertical')"
   ]
  },
  {
   "cell_type": "code",
   "execution_count": 49,
   "metadata": {},
   "outputs": [
    {
     "data": {
      "text/html": [
       "<div><style>\n",
       ".dataframe > thead > tr,\n",
       ".dataframe > tbody > tr {\n",
       "  text-align: right;\n",
       "  white-space: pre-wrap;\n",
       "}\n",
       "</style>\n",
       "<small>shape: (1, 4)</small><table border=\"1\" class=\"dataframe\"><thead><tr><th>UNIQUE_IDENTIFIER</th><th>scan_datetime</th><th>scan_facility</th><th>op_code</th></tr><tr><td>u32</td><td>u32</td><td>u32</td><td>u32</td></tr></thead><tbody><tr><td>139005571</td><td>139005571</td><td>139005571</td><td>139005571</td></tr></tbody></table></div>"
      ],
      "text/plain": [
       "shape: (1, 4)\n",
       "┌───────────────────┬───────────────┬───────────────┬───────────┐\n",
       "│ UNIQUE_IDENTIFIER ┆ scan_datetime ┆ scan_facility ┆ op_code   │\n",
       "│ ---               ┆ ---           ┆ ---           ┆ ---       │\n",
       "│ u32               ┆ u32           ┆ u32           ┆ u32       │\n",
       "╞═══════════════════╪═══════════════╪═══════════════╪═══════════╡\n",
       "│ 139005571         ┆ 139005571     ┆ 139005571     ┆ 139005571 │\n",
       "└───────────────────┴───────────────┴───────────────┴───────────┘"
      ]
     },
     "execution_count": 49,
     "metadata": {},
     "output_type": "execute_result"
    }
   ],
   "source": [
    "destinatingScans.count()"
   ]
  },
  {
   "cell_type": "code",
   "execution_count": 50,
   "metadata": {},
   "outputs": [
    {
     "data": {
      "text/html": [
       "<div><style>\n",
       ".dataframe > thead > tr,\n",
       ".dataframe > tbody > tr {\n",
       "  text-align: right;\n",
       "  white-space: pre-wrap;\n",
       "}\n",
       "</style>\n",
       "<small>shape: (1, 4)</small><table border=\"1\" class=\"dataframe\"><thead><tr><th>UNIQUE_IDENTIFIER</th><th>scan_datetime</th><th>scan_facility</th><th>op_code</th></tr><tr><td>u32</td><td>u32</td><td>u32</td><td>u32</td></tr></thead><tbody><tr><td>0</td><td>0</td><td>0</td><td>0</td></tr></tbody></table></div>"
      ],
      "text/plain": [
       "shape: (1, 4)\n",
       "┌───────────────────┬───────────────┬───────────────┬─────────┐\n",
       "│ UNIQUE_IDENTIFIER ┆ scan_datetime ┆ scan_facility ┆ op_code │\n",
       "│ ---               ┆ ---           ┆ ---           ┆ ---     │\n",
       "│ u32               ┆ u32           ┆ u32           ┆ u32     │\n",
       "╞═══════════════════╪═══════════════╪═══════════════╪═════════╡\n",
       "│ 0                 ┆ 0             ┆ 0             ┆ 0       │\n",
       "└───────────────────┴───────────────┴───────────────┴─────────┘"
      ]
     },
     "execution_count": 50,
     "metadata": {},
     "output_type": "execute_result"
    }
   ],
   "source": [
    "destinatingScans.null_count()"
   ]
  },
  {
   "cell_type": "code",
   "execution_count": 51,
   "metadata": {},
   "outputs": [
    {
     "name": "stdout",
     "output_type": "stream",
     "text": [
      "# of rows with \"null\" value\n",
      "scan_datetime = 1599\n",
      "scan_facility = 59362\n",
      "op_code = 224992\n"
     ]
    }
   ],
   "source": [
    "print('# of rows with \"null\" value')\n",
    "for x in destinatingScans.columns:\n",
    "    if str(destinatingScans[x].dtype) == 'String':\n",
    "        filtered_df = destinatingScans.filter(pl.col(x) == 'null')\n",
    "        count = filtered_df[x].count()\n",
    "        print(\"{} = {}\".format(x, count))"
   ]
  },
  {
   "cell_type": "code",
   "execution_count": 52,
   "metadata": {},
   "outputs": [],
   "source": [
    "destinatingScans_noNulls = destinatingScans.filter((pl.col('scan_datetime') != 'null') &\n",
    "                                                     (pl.col('scan_facility') != 'null') &\n",
    "                                                     (pl.col('op_code') != 'null'))"
   ]
  },
  {
   "cell_type": "code",
   "execution_count": 53,
   "metadata": {},
   "outputs": [
    {
     "data": {
      "text/html": [
       "<div><style>\n",
       ".dataframe > thead > tr,\n",
       ".dataframe > tbody > tr {\n",
       "  text-align: right;\n",
       "  white-space: pre-wrap;\n",
       "}\n",
       "</style>\n",
       "<small>shape: (1, 4)</small><table border=\"1\" class=\"dataframe\"><thead><tr><th>UNIQUE_IDENTIFIER</th><th>scan_datetime</th><th>scan_facility</th><th>op_code</th></tr><tr><td>u32</td><td>u32</td><td>u32</td><td>u32</td></tr></thead><tbody><tr><td>138722816</td><td>138722816</td><td>138722816</td><td>138722816</td></tr></tbody></table></div>"
      ],
      "text/plain": [
       "shape: (1, 4)\n",
       "┌───────────────────┬───────────────┬───────────────┬───────────┐\n",
       "│ UNIQUE_IDENTIFIER ┆ scan_datetime ┆ scan_facility ┆ op_code   │\n",
       "│ ---               ┆ ---           ┆ ---           ┆ ---       │\n",
       "│ u32               ┆ u32           ┆ u32           ┆ u32       │\n",
       "╞═══════════════════╪═══════════════╪═══════════════╪═══════════╡\n",
       "│ 138722816         ┆ 138722816     ┆ 138722816     ┆ 138722816 │\n",
       "└───────────────────┴───────────────┴───────────────┴───────────┘"
      ]
     },
     "execution_count": 53,
     "metadata": {},
     "output_type": "execute_result"
    }
   ],
   "source": [
    "destinatingScans_noNulls.count()"
   ]
  },
  {
   "cell_type": "code",
   "execution_count": 54,
   "metadata": {},
   "outputs": [
    {
     "data": {
      "text/plain": [
       "138722816"
      ]
     },
     "execution_count": 54,
     "metadata": {},
     "output_type": "execute_result"
    }
   ],
   "source": [
    "destinatingScans_noNulls.n_unique()"
   ]
  },
  {
   "cell_type": "code",
   "execution_count": 55,
   "metadata": {},
   "outputs": [
    {
     "name": "stdout",
     "output_type": "stream",
     "text": [
      "# of unique values in each column\n",
      "UNIQUE_IDENTIFIER = 53621334\n",
      "scan_datetime = 2063170\n",
      "scan_facility = 369\n",
      "op_code = 228\n"
     ]
    }
   ],
   "source": [
    "print('# of unique values in each column')\n",
    "for x in destinatingScans_noNulls.columns:\n",
    "    count = destinatingScans_noNulls[x].n_unique()\n",
    "    print(\"{} = {}\".format(x, count))"
   ]
  },
  {
   "cell_type": "code",
   "execution_count": 56,
   "metadata": {},
   "outputs": [
    {
     "data": {
      "text/plain": [
       "'2023-08-22 23:09:59'"
      ]
     },
     "execution_count": 56,
     "metadata": {},
     "output_type": "execute_result"
    }
   ],
   "source": [
    "destinatingScans_noNulls['scan_datetime'].min()"
   ]
  },
  {
   "cell_type": "code",
   "execution_count": 57,
   "metadata": {},
   "outputs": [
    {
     "data": {
      "text/plain": [
       "'2024-06-03 09:28:51'"
      ]
     },
     "execution_count": 57,
     "metadata": {},
     "output_type": "execute_result"
    }
   ],
   "source": [
    "destinatingScans_noNulls['scan_datetime'].max()"
   ]
  },
  {
   "cell_type": "code",
   "execution_count": 58,
   "metadata": {},
   "outputs": [],
   "source": [
    "opsCodes = pd.read_excel('../usps_opscodes.xlsx', header = 1, sheet_name='OpCodes')"
   ]
  },
  {
   "cell_type": "code",
   "execution_count": 59,
   "metadata": {},
   "outputs": [],
   "source": [
    "opsCodes = opsCodes['Operation Code'].to_list()"
   ]
  },
  {
   "cell_type": "code",
   "execution_count": 60,
   "metadata": {},
   "outputs": [],
   "source": [
    "cleanedCodes = [x for x in opsCodes if str(x) != 'nan']"
   ]
  },
  {
   "cell_type": "code",
   "execution_count": 61,
   "metadata": {},
   "outputs": [],
   "source": [
    "cleanedCodes = [int(x) for x in cleanedCodes]"
   ]
  },
  {
   "cell_type": "code",
   "execution_count": 63,
   "metadata": {},
   "outputs": [],
   "source": [
    "destinatingScans_0 = destinatingScans_noNulls.select(pl.col('UNIQUE_IDENTIFIER'),\n",
    "                                                     pl.col('scan_datetime'),\n",
    "                                                     pl.col('scan_facility'),\n",
    "                                                     pl.col('op_code').cast(pl.Int64))"
   ]
  },
  {
   "cell_type": "code",
   "execution_count": 64,
   "metadata": {},
   "outputs": [],
   "source": [
    "destinatingScans_1 = destinatingScans_0.filter(pl.col('op_code').is_in(cleanedCodes))"
   ]
  },
  {
   "cell_type": "code",
   "execution_count": 65,
   "metadata": {},
   "outputs": [
    {
     "data": {
      "text/html": [
       "<div><style>\n",
       ".dataframe > thead > tr,\n",
       ".dataframe > tbody > tr {\n",
       "  text-align: right;\n",
       "  white-space: pre-wrap;\n",
       "}\n",
       "</style>\n",
       "<small>shape: (1, 4)</small><table border=\"1\" class=\"dataframe\"><thead><tr><th>UNIQUE_IDENTIFIER</th><th>scan_datetime</th><th>scan_facility</th><th>op_code</th></tr><tr><td>u32</td><td>u32</td><td>u32</td><td>u32</td></tr></thead><tbody><tr><td>126286017</td><td>126286017</td><td>126286017</td><td>126286017</td></tr></tbody></table></div>"
      ],
      "text/plain": [
       "shape: (1, 4)\n",
       "┌───────────────────┬───────────────┬───────────────┬───────────┐\n",
       "│ UNIQUE_IDENTIFIER ┆ scan_datetime ┆ scan_facility ┆ op_code   │\n",
       "│ ---               ┆ ---           ┆ ---           ┆ ---       │\n",
       "│ u32               ┆ u32           ┆ u32           ┆ u32       │\n",
       "╞═══════════════════╪═══════════════╪═══════════════╪═══════════╡\n",
       "│ 126286017         ┆ 126286017     ┆ 126286017     ┆ 126286017 │\n",
       "└───────────────────┴───────────────┴───────────────┴───────────┘"
      ]
     },
     "execution_count": 65,
     "metadata": {},
     "output_type": "execute_result"
    }
   ],
   "source": [
    "destinatingScans_1.count()"
   ]
  },
  {
   "cell_type": "code",
   "execution_count": 66,
   "metadata": {},
   "outputs": [
    {
     "name": "stdout",
     "output_type": "stream",
     "text": [
      "# of unique values in each column\n",
      "UNIQUE_IDENTIFIER = 53269421\n",
      "scan_datetime = 2050263\n",
      "scan_facility = 354\n",
      "op_code = 172\n"
     ]
    }
   ],
   "source": [
    "print('# of unique values in each column')\n",
    "for x in destinatingScans_1.columns:\n",
    "    count = destinatingScans_1[x].n_unique()\n",
    "    print(\"{} = {}\".format(x, count))"
   ]
  },
  {
   "cell_type": "code",
   "execution_count": 67,
   "metadata": {},
   "outputs": [],
   "source": [
    "destinatingTotalScanInterval = destinatingScans_1.group_by('UNIQUE_IDENTIFIER').agg([pl.max('scan_datetime').alias('maxScan'),\n",
    "                                                      pl.min('scan_datetime').alias('minScan')])"
   ]
  },
  {
   "cell_type": "code",
   "execution_count": 70,
   "metadata": {},
   "outputs": [],
   "source": [
    "destinatingFacilityScanInterval = destinatingScans_1.group_by(['UNIQUE_IDENTIFIER', 'scan_facility']).agg([pl.max('scan_datetime').alias('maxScan'),\n",
    "                                                      pl.min('scan_datetime').alias('minScan')])"
   ]
  },
  {
   "cell_type": "markdown",
   "metadata": {},
   "source": [
    "<h3>Originating Pieces</h3>"
   ]
  },
  {
   "cell_type": "code",
   "execution_count": 73,
   "metadata": {},
   "outputs": [],
   "source": [
    "originatingPeices1 = pl.read_csv('../../Data/Mail_v2/Originating Pieces pt.1 v2.csv', infer_schema_length=int(1e10))"
   ]
  },
  {
   "cell_type": "code",
   "execution_count": 74,
   "metadata": {},
   "outputs": [
    {
     "data": {
      "text/html": [
       "<div><style>\n",
       ".dataframe > thead > tr,\n",
       ".dataframe > tbody > tr {\n",
       "  text-align: right;\n",
       "  white-space: pre-wrap;\n",
       "}\n",
       "</style>\n",
       "<small>shape: (1, 10)</small><table border=\"1\" class=\"dataframe\"><thead><tr><th>UNIQUE_IDENTIFIER</th><th>START_THE_CLOCK_DATE</th><th>ORIGIN_FACILITY</th><th>OZIP3</th><th>ACTUAL_DLVRY_DATE</th><th>EXPECTED_DELIVERY_DATE</th><th>EXPECTED_DESTINATION_FACILITY</th><th>DZIP3</th><th>MAIL_CLASS</th><th>MAIL_SHAPE</th></tr><tr><td>u32</td><td>u32</td><td>u32</td><td>u32</td><td>u32</td><td>u32</td><td>u32</td><td>u32</td><td>u32</td><td>u32</td></tr></thead><tbody><tr><td>22653310</td><td>22653310</td><td>22653310</td><td>22653310</td><td>22653310</td><td>22653310</td><td>22653310</td><td>22653310</td><td>22653310</td><td>22653310</td></tr></tbody></table></div>"
      ],
      "text/plain": [
       "shape: (1, 10)\n",
       "┌────────────┬───────────┬───────────┬──────────┬───┬───────────┬──────────┬───────────┬───────────┐\n",
       "│ UNIQUE_IDE ┆ START_THE ┆ ORIGIN_FA ┆ OZIP3    ┆ … ┆ EXPECTED_ ┆ DZIP3    ┆ MAIL_CLAS ┆ MAIL_SHAP │\n",
       "│ NTIFIER    ┆ _CLOCK_DA ┆ CILITY    ┆ ---      ┆   ┆ DESTINATI ┆ ---      ┆ S         ┆ E         │\n",
       "│ ---        ┆ TE        ┆ ---       ┆ u32      ┆   ┆ ON_FACILI ┆ u32      ┆ ---       ┆ ---       │\n",
       "│ u32        ┆ ---       ┆ u32       ┆          ┆   ┆ TY        ┆          ┆ u32       ┆ u32       │\n",
       "│            ┆ u32       ┆           ┆          ┆   ┆ ---       ┆          ┆           ┆           │\n",
       "│            ┆           ┆           ┆          ┆   ┆ u32       ┆          ┆           ┆           │\n",
       "╞════════════╪═══════════╪═══════════╪══════════╪═══╪═══════════╪══════════╪═══════════╪═══════════╡\n",
       "│ 22653310   ┆ 22653310  ┆ 22653310  ┆ 22653310 ┆ … ┆ 22653310  ┆ 22653310 ┆ 22653310  ┆ 22653310  │\n",
       "└────────────┴───────────┴───────────┴──────────┴───┴───────────┴──────────┴───────────┴───────────┘"
      ]
     },
     "execution_count": 74,
     "metadata": {},
     "output_type": "execute_result"
    }
   ],
   "source": [
    "originatingPeices1.count()"
   ]
  },
  {
   "cell_type": "code",
   "execution_count": 75,
   "metadata": {},
   "outputs": [],
   "source": [
    "originatingPeices2 = pl.read_csv('../../Data/Mail_v2/Originating Pieces pt.2 v2.csv', infer_schema_length=int(1e10))"
   ]
  },
  {
   "cell_type": "code",
   "execution_count": 76,
   "metadata": {},
   "outputs": [
    {
     "data": {
      "text/html": [
       "<div><style>\n",
       ".dataframe > thead > tr,\n",
       ".dataframe > tbody > tr {\n",
       "  text-align: right;\n",
       "  white-space: pre-wrap;\n",
       "}\n",
       "</style>\n",
       "<small>shape: (1, 10)</small><table border=\"1\" class=\"dataframe\"><thead><tr><th>UNIQUE_IDENTIFIER</th><th>START_THE_CLOCK_DATE</th><th>ORIGIN_FACILITY</th><th>OZIP3</th><th>ACTUAL_DLVRY_DATE</th><th>EXPECTED_DELIVERY_DATE</th><th>EXPECTED_DESTINATION_FACILITY</th><th>DZIP3</th><th>MAIL_CLASS</th><th>MAIL_SHAPE</th></tr><tr><td>u32</td><td>u32</td><td>u32</td><td>u32</td><td>u32</td><td>u32</td><td>u32</td><td>u32</td><td>u32</td><td>u32</td></tr></thead><tbody><tr><td>19521636</td><td>19521636</td><td>19521636</td><td>19521636</td><td>19521636</td><td>19521636</td><td>19521636</td><td>19521636</td><td>19521636</td><td>19521636</td></tr></tbody></table></div>"
      ],
      "text/plain": [
       "shape: (1, 10)\n",
       "┌────────────┬───────────┬───────────┬──────────┬───┬───────────┬──────────┬───────────┬───────────┐\n",
       "│ UNIQUE_IDE ┆ START_THE ┆ ORIGIN_FA ┆ OZIP3    ┆ … ┆ EXPECTED_ ┆ DZIP3    ┆ MAIL_CLAS ┆ MAIL_SHAP │\n",
       "│ NTIFIER    ┆ _CLOCK_DA ┆ CILITY    ┆ ---      ┆   ┆ DESTINATI ┆ ---      ┆ S         ┆ E         │\n",
       "│ ---        ┆ TE        ┆ ---       ┆ u32      ┆   ┆ ON_FACILI ┆ u32      ┆ ---       ┆ ---       │\n",
       "│ u32        ┆ ---       ┆ u32       ┆          ┆   ┆ TY        ┆          ┆ u32       ┆ u32       │\n",
       "│            ┆ u32       ┆           ┆          ┆   ┆ ---       ┆          ┆           ┆           │\n",
       "│            ┆           ┆           ┆          ┆   ┆ u32       ┆          ┆           ┆           │\n",
       "╞════════════╪═══════════╪═══════════╪══════════╪═══╪═══════════╪══════════╪═══════════╪═══════════╡\n",
       "│ 19521636   ┆ 19521636  ┆ 19521636  ┆ 19521636 ┆ … ┆ 19521636  ┆ 19521636 ┆ 19521636  ┆ 19521636  │\n",
       "└────────────┴───────────┴───────────┴──────────┴───┴───────────┴──────────┴───────────┴───────────┘"
      ]
     },
     "execution_count": 76,
     "metadata": {},
     "output_type": "execute_result"
    }
   ],
   "source": [
    "originatingPeices2.count()"
   ]
  },
  {
   "cell_type": "code",
   "execution_count": 77,
   "metadata": {},
   "outputs": [],
   "source": [
    "originatingPeices = pl.concat([originatingPeices1, originatingPeices2], how = 'vertical')"
   ]
  },
  {
   "cell_type": "code",
   "execution_count": 78,
   "metadata": {},
   "outputs": [
    {
     "data": {
      "text/html": [
       "<div><style>\n",
       ".dataframe > thead > tr,\n",
       ".dataframe > tbody > tr {\n",
       "  text-align: right;\n",
       "  white-space: pre-wrap;\n",
       "}\n",
       "</style>\n",
       "<small>shape: (1, 10)</small><table border=\"1\" class=\"dataframe\"><thead><tr><th>UNIQUE_IDENTIFIER</th><th>START_THE_CLOCK_DATE</th><th>ORIGIN_FACILITY</th><th>OZIP3</th><th>ACTUAL_DLVRY_DATE</th><th>EXPECTED_DELIVERY_DATE</th><th>EXPECTED_DESTINATION_FACILITY</th><th>DZIP3</th><th>MAIL_CLASS</th><th>MAIL_SHAPE</th></tr><tr><td>u32</td><td>u32</td><td>u32</td><td>u32</td><td>u32</td><td>u32</td><td>u32</td><td>u32</td><td>u32</td><td>u32</td></tr></thead><tbody><tr><td>42174946</td><td>42174946</td><td>42174946</td><td>42174946</td><td>42174946</td><td>42174946</td><td>42174946</td><td>42174946</td><td>42174946</td><td>42174946</td></tr></tbody></table></div>"
      ],
      "text/plain": [
       "shape: (1, 10)\n",
       "┌────────────┬───────────┬───────────┬──────────┬───┬───────────┬──────────┬───────────┬───────────┐\n",
       "│ UNIQUE_IDE ┆ START_THE ┆ ORIGIN_FA ┆ OZIP3    ┆ … ┆ EXPECTED_ ┆ DZIP3    ┆ MAIL_CLAS ┆ MAIL_SHAP │\n",
       "│ NTIFIER    ┆ _CLOCK_DA ┆ CILITY    ┆ ---      ┆   ┆ DESTINATI ┆ ---      ┆ S         ┆ E         │\n",
       "│ ---        ┆ TE        ┆ ---       ┆ u32      ┆   ┆ ON_FACILI ┆ u32      ┆ ---       ┆ ---       │\n",
       "│ u32        ┆ ---       ┆ u32       ┆          ┆   ┆ TY        ┆          ┆ u32       ┆ u32       │\n",
       "│            ┆ u32       ┆           ┆          ┆   ┆ ---       ┆          ┆           ┆           │\n",
       "│            ┆           ┆           ┆          ┆   ┆ u32       ┆          ┆           ┆           │\n",
       "╞════════════╪═══════════╪═══════════╪══════════╪═══╪═══════════╪══════════╪═══════════╪═══════════╡\n",
       "│ 42174946   ┆ 42174946  ┆ 42174946  ┆ 42174946 ┆ … ┆ 42174946  ┆ 42174946 ┆ 42174946  ┆ 42174946  │\n",
       "└────────────┴───────────┴───────────┴──────────┴───┴───────────┴──────────┴───────────┴───────────┘"
      ]
     },
     "execution_count": 78,
     "metadata": {},
     "output_type": "execute_result"
    }
   ],
   "source": [
    "originatingPeices.count()"
   ]
  },
  {
   "cell_type": "code",
   "execution_count": 80,
   "metadata": {},
   "outputs": [
    {
     "data": {
      "text/html": [
       "<div><style>\n",
       ".dataframe > thead > tr,\n",
       ".dataframe > tbody > tr {\n",
       "  text-align: right;\n",
       "  white-space: pre-wrap;\n",
       "}\n",
       "</style>\n",
       "<small>shape: (1, 10)</small><table border=\"1\" class=\"dataframe\"><thead><tr><th>UNIQUE_IDENTIFIER</th><th>START_THE_CLOCK_DATE</th><th>ORIGIN_FACILITY</th><th>OZIP3</th><th>ACTUAL_DLVRY_DATE</th><th>EXPECTED_DELIVERY_DATE</th><th>EXPECTED_DESTINATION_FACILITY</th><th>DZIP3</th><th>MAIL_CLASS</th><th>MAIL_SHAPE</th></tr><tr><td>u32</td><td>u32</td><td>u32</td><td>u32</td><td>u32</td><td>u32</td><td>u32</td><td>u32</td><td>u32</td><td>u32</td></tr></thead><tbody><tr><td>0</td><td>0</td><td>0</td><td>0</td><td>0</td><td>0</td><td>0</td><td>0</td><td>0</td><td>0</td></tr></tbody></table></div>"
      ],
      "text/plain": [
       "shape: (1, 10)\n",
       "┌─────────────┬────────────┬────────────┬───────┬───┬────────────┬───────┬────────────┬────────────┐\n",
       "│ UNIQUE_IDEN ┆ START_THE_ ┆ ORIGIN_FAC ┆ OZIP3 ┆ … ┆ EXPECTED_D ┆ DZIP3 ┆ MAIL_CLASS ┆ MAIL_SHAPE │\n",
       "│ TIFIER      ┆ CLOCK_DATE ┆ ILITY      ┆ ---   ┆   ┆ ESTINATION ┆ ---   ┆ ---        ┆ ---        │\n",
       "│ ---         ┆ ---        ┆ ---        ┆ u32   ┆   ┆ _FACILITY  ┆ u32   ┆ u32        ┆ u32        │\n",
       "│ u32         ┆ u32        ┆ u32        ┆       ┆   ┆ ---        ┆       ┆            ┆            │\n",
       "│             ┆            ┆            ┆       ┆   ┆ u32        ┆       ┆            ┆            │\n",
       "╞═════════════╪════════════╪════════════╪═══════╪═══╪════════════╪═══════╪════════════╪════════════╡\n",
       "│ 0           ┆ 0          ┆ 0          ┆ 0     ┆ … ┆ 0          ┆ 0     ┆ 0          ┆ 0          │\n",
       "└─────────────┴────────────┴────────────┴───────┴───┴────────────┴───────┴────────────┴────────────┘"
      ]
     },
     "execution_count": 80,
     "metadata": {},
     "output_type": "execute_result"
    }
   ],
   "source": [
    "originatingPeices.null_count()"
   ]
  },
  {
   "cell_type": "code",
   "execution_count": 81,
   "metadata": {},
   "outputs": [
    {
     "name": "stdout",
     "output_type": "stream",
     "text": [
      "# of rows with \"null\" value\n",
      "START_THE_CLOCK_DATE = 0\n",
      "ORIGIN_FACILITY = 0\n",
      "ACTUAL_DLVRY_DATE = 973625\n",
      "EXPECTED_DELIVERY_DATE = 23484\n",
      "EXPECTED_DESTINATION_FACILITY = 41118\n",
      "MAIL_CLASS = 0\n",
      "MAIL_SHAPE = 0\n"
     ]
    }
   ],
   "source": [
    "# find count of rows with the word 'null'\n",
    "print('# of rows with \"null\" value')\n",
    "for x in originatingPeices.columns:\n",
    "    if str(originatingPeices[x].dtype) == 'String':\n",
    "        filtered_df = originatingPeices.filter(pl.col(x) == 'null')\n",
    "        count = filtered_df[x].count()\n",
    "        print(\"{} = {}\".format(x, count))"
   ]
  },
  {
   "cell_type": "code",
   "execution_count": 82,
   "metadata": {},
   "outputs": [],
   "source": [
    "originatingPeices_noNulls = originatingPeices.filter((pl.col('ACTUAL_DLVRY_DATE') != 'null') &\n",
    "                                                     (pl.col('EXPECTED_DELIVERY_DATE') != 'null') &\n",
    "                                                     (pl.col('EXPECTED_DESTINATION_FACILITY') != 'null'))"
   ]
  },
  {
   "cell_type": "code",
   "execution_count": 83,
   "metadata": {},
   "outputs": [
    {
     "data": {
      "text/html": [
       "<div><style>\n",
       ".dataframe > thead > tr,\n",
       ".dataframe > tbody > tr {\n",
       "  text-align: right;\n",
       "  white-space: pre-wrap;\n",
       "}\n",
       "</style>\n",
       "<small>shape: (1, 10)</small><table border=\"1\" class=\"dataframe\"><thead><tr><th>UNIQUE_IDENTIFIER</th><th>START_THE_CLOCK_DATE</th><th>ORIGIN_FACILITY</th><th>OZIP3</th><th>ACTUAL_DLVRY_DATE</th><th>EXPECTED_DELIVERY_DATE</th><th>EXPECTED_DESTINATION_FACILITY</th><th>DZIP3</th><th>MAIL_CLASS</th><th>MAIL_SHAPE</th></tr><tr><td>u32</td><td>u32</td><td>u32</td><td>u32</td><td>u32</td><td>u32</td><td>u32</td><td>u32</td><td>u32</td><td>u32</td></tr></thead><tbody><tr><td>41160323</td><td>41160323</td><td>41160323</td><td>41160323</td><td>41160323</td><td>41160323</td><td>41160323</td><td>41160323</td><td>41160323</td><td>41160323</td></tr></tbody></table></div>"
      ],
      "text/plain": [
       "shape: (1, 10)\n",
       "┌────────────┬───────────┬───────────┬──────────┬───┬───────────┬──────────┬───────────┬───────────┐\n",
       "│ UNIQUE_IDE ┆ START_THE ┆ ORIGIN_FA ┆ OZIP3    ┆ … ┆ EXPECTED_ ┆ DZIP3    ┆ MAIL_CLAS ┆ MAIL_SHAP │\n",
       "│ NTIFIER    ┆ _CLOCK_DA ┆ CILITY    ┆ ---      ┆   ┆ DESTINATI ┆ ---      ┆ S         ┆ E         │\n",
       "│ ---        ┆ TE        ┆ ---       ┆ u32      ┆   ┆ ON_FACILI ┆ u32      ┆ ---       ┆ ---       │\n",
       "│ u32        ┆ ---       ┆ u32       ┆          ┆   ┆ TY        ┆          ┆ u32       ┆ u32       │\n",
       "│            ┆ u32       ┆           ┆          ┆   ┆ ---       ┆          ┆           ┆           │\n",
       "│            ┆           ┆           ┆          ┆   ┆ u32       ┆          ┆           ┆           │\n",
       "╞════════════╪═══════════╪═══════════╪══════════╪═══╪═══════════╪══════════╪═══════════╪═══════════╡\n",
       "│ 41160323   ┆ 41160323  ┆ 41160323  ┆ 41160323 ┆ … ┆ 41160323  ┆ 41160323 ┆ 41160323  ┆ 41160323  │\n",
       "└────────────┴───────────┴───────────┴──────────┴───┴───────────┴──────────┴───────────┴───────────┘"
      ]
     },
     "execution_count": 83,
     "metadata": {},
     "output_type": "execute_result"
    }
   ],
   "source": [
    "originatingPeices_noNulls.count()"
   ]
  },
  {
   "cell_type": "code",
   "execution_count": 84,
   "metadata": {},
   "outputs": [
    {
     "data": {
      "text/html": [
       "<div><style>\n",
       ".dataframe > thead > tr,\n",
       ".dataframe > tbody > tr {\n",
       "  text-align: right;\n",
       "  white-space: pre-wrap;\n",
       "}\n",
       "</style>\n",
       "<small>shape: (5, 2)</small><table border=\"1\" class=\"dataframe\"><thead><tr><th>UNIQUE_IDENTIFIER</th><th>count</th></tr><tr><td>i64</td><td>u32</td></tr></thead><tbody><tr><td>21202680000001</td><td>79</td></tr><tr><td>21071570000001</td><td>31</td></tr><tr><td>21061070000001</td><td>26</td></tr><tr><td>21064440000001</td><td>18</td></tr><tr><td>21193190000001</td><td>14</td></tr></tbody></table></div>"
      ],
      "text/plain": [
       "shape: (5, 2)\n",
       "┌───────────────────┬───────┐\n",
       "│ UNIQUE_IDENTIFIER ┆ count │\n",
       "│ ---               ┆ ---   │\n",
       "│ i64               ┆ u32   │\n",
       "╞═══════════════════╪═══════╡\n",
       "│ 21202680000001    ┆ 79    │\n",
       "│ 21071570000001    ┆ 31    │\n",
       "│ 21061070000001    ┆ 26    │\n",
       "│ 21064440000001    ┆ 18    │\n",
       "│ 21193190000001    ┆ 14    │\n",
       "└───────────────────┴───────┘"
      ]
     },
     "execution_count": 84,
     "metadata": {},
     "output_type": "execute_result"
    }
   ],
   "source": [
    "# count the number of records associated with each unique id\n",
    "duplicate_counts_originating = originatingPeices_noNulls['UNIQUE_IDENTIFIER'].value_counts(sort=True)\n",
    "duplicate_counts_originating.head()"
   ]
  },
  {
   "cell_type": "code",
   "execution_count": 85,
   "metadata": {},
   "outputs": [],
   "source": [
    "duplicate_ids_originating = duplicate_counts_originating.filter(pl.col('count') > 1)"
   ]
  },
  {
   "cell_type": "code",
   "execution_count": 86,
   "metadata": {},
   "outputs": [
    {
     "data": {
      "text/html": [
       "<div><style>\n",
       ".dataframe > thead > tr,\n",
       ".dataframe > tbody > tr {\n",
       "  text-align: right;\n",
       "  white-space: pre-wrap;\n",
       "}\n",
       "</style>\n",
       "<small>shape: (1, 2)</small><table border=\"1\" class=\"dataframe\"><thead><tr><th>UNIQUE_IDENTIFIER</th><th>count</th></tr><tr><td>u32</td><td>u32</td></tr></thead><tbody><tr><td>7</td><td>7</td></tr></tbody></table></div>"
      ],
      "text/plain": [
       "shape: (1, 2)\n",
       "┌───────────────────┬───────┐\n",
       "│ UNIQUE_IDENTIFIER ┆ count │\n",
       "│ ---               ┆ ---   │\n",
       "│ u32               ┆ u32   │\n",
       "╞═══════════════════╪═══════╡\n",
       "│ 7                 ┆ 7     │\n",
       "└───────────────────┴───────┘"
      ]
     },
     "execution_count": 86,
     "metadata": {},
     "output_type": "execute_result"
    }
   ],
   "source": [
    "duplicate_ids_originating.count()"
   ]
  },
  {
   "cell_type": "code",
   "execution_count": 87,
   "metadata": {},
   "outputs": [],
   "source": [
    "duplicate_ids_list_originating = duplicate_ids_originating['UNIQUE_IDENTIFIER'].to_list()"
   ]
  },
  {
   "cell_type": "code",
   "execution_count": 88,
   "metadata": {},
   "outputs": [],
   "source": [
    "duplicateRecordsOriginating = originatingPeices_noNulls.filter(pl.col('UNIQUE_IDENTIFIER').is_in(duplicate_ids_list_originating))"
   ]
  },
  {
   "cell_type": "code",
   "execution_count": 89,
   "metadata": {},
   "outputs": [
    {
     "data": {
      "text/html": [
       "<div><style>\n",
       ".dataframe > thead > tr,\n",
       ".dataframe > tbody > tr {\n",
       "  text-align: right;\n",
       "  white-space: pre-wrap;\n",
       "}\n",
       "</style>\n",
       "<small>shape: (1, 10)</small><table border=\"1\" class=\"dataframe\"><thead><tr><th>UNIQUE_IDENTIFIER</th><th>START_THE_CLOCK_DATE</th><th>ORIGIN_FACILITY</th><th>OZIP3</th><th>ACTUAL_DLVRY_DATE</th><th>EXPECTED_DELIVERY_DATE</th><th>EXPECTED_DESTINATION_FACILITY</th><th>DZIP3</th><th>MAIL_CLASS</th><th>MAIL_SHAPE</th></tr><tr><td>u32</td><td>u32</td><td>u32</td><td>u32</td><td>u32</td><td>u32</td><td>u32</td><td>u32</td><td>u32</td><td>u32</td></tr></thead><tbody><tr><td>183</td><td>183</td><td>183</td><td>183</td><td>183</td><td>183</td><td>183</td><td>183</td><td>183</td><td>183</td></tr></tbody></table></div>"
      ],
      "text/plain": [
       "shape: (1, 10)\n",
       "┌─────────────┬────────────┬────────────┬───────┬───┬────────────┬───────┬────────────┬────────────┐\n",
       "│ UNIQUE_IDEN ┆ START_THE_ ┆ ORIGIN_FAC ┆ OZIP3 ┆ … ┆ EXPECTED_D ┆ DZIP3 ┆ MAIL_CLASS ┆ MAIL_SHAPE │\n",
       "│ TIFIER      ┆ CLOCK_DATE ┆ ILITY      ┆ ---   ┆   ┆ ESTINATION ┆ ---   ┆ ---        ┆ ---        │\n",
       "│ ---         ┆ ---        ┆ ---        ┆ u32   ┆   ┆ _FACILITY  ┆ u32   ┆ u32        ┆ u32        │\n",
       "│ u32         ┆ u32        ┆ u32        ┆       ┆   ┆ ---        ┆       ┆            ┆            │\n",
       "│             ┆            ┆            ┆       ┆   ┆ u32        ┆       ┆            ┆            │\n",
       "╞═════════════╪════════════╪════════════╪═══════╪═══╪════════════╪═══════╪════════════╪════════════╡\n",
       "│ 183         ┆ 183        ┆ 183        ┆ 183   ┆ … ┆ 183        ┆ 183   ┆ 183        ┆ 183        │\n",
       "└─────────────┴────────────┴────────────┴───────┴───┴────────────┴───────┴────────────┴────────────┘"
      ]
     },
     "execution_count": 89,
     "metadata": {},
     "output_type": "execute_result"
    }
   ],
   "source": [
    "duplicateRecordsOriginating.count()"
   ]
  },
  {
   "cell_type": "code",
   "execution_count": 90,
   "metadata": {},
   "outputs": [],
   "source": [
    "non_duplicate_ids_originating = duplicate_counts_originating.filter(pl.col('count') == 1)"
   ]
  },
  {
   "cell_type": "code",
   "execution_count": 91,
   "metadata": {},
   "outputs": [],
   "source": [
    "list_nonDupIds_originating = non_duplicate_ids_originating['UNIQUE_IDENTIFIER'].to_list()"
   ]
  },
  {
   "cell_type": "code",
   "execution_count": 92,
   "metadata": {},
   "outputs": [],
   "source": [
    "originatingPeices_noDups = originatingPeices.filter(pl.col('UNIQUE_IDENTIFIER').is_in(list_nonDupIds_originating))"
   ]
  },
  {
   "cell_type": "code",
   "execution_count": 93,
   "metadata": {},
   "outputs": [
    {
     "data": {
      "text/html": [
       "<div><style>\n",
       ".dataframe > thead > tr,\n",
       ".dataframe > tbody > tr {\n",
       "  text-align: right;\n",
       "  white-space: pre-wrap;\n",
       "}\n",
       "</style>\n",
       "<small>shape: (1, 10)</small><table border=\"1\" class=\"dataframe\"><thead><tr><th>UNIQUE_IDENTIFIER</th><th>START_THE_CLOCK_DATE</th><th>ORIGIN_FACILITY</th><th>OZIP3</th><th>ACTUAL_DLVRY_DATE</th><th>EXPECTED_DELIVERY_DATE</th><th>EXPECTED_DESTINATION_FACILITY</th><th>DZIP3</th><th>MAIL_CLASS</th><th>MAIL_SHAPE</th></tr><tr><td>u32</td><td>u32</td><td>u32</td><td>u32</td><td>u32</td><td>u32</td><td>u32</td><td>u32</td><td>u32</td><td>u32</td></tr></thead><tbody><tr><td>41160140</td><td>41160140</td><td>41160140</td><td>41160140</td><td>41160140</td><td>41160140</td><td>41160140</td><td>41160140</td><td>41160140</td><td>41160140</td></tr></tbody></table></div>"
      ],
      "text/plain": [
       "shape: (1, 10)\n",
       "┌────────────┬───────────┬───────────┬──────────┬───┬───────────┬──────────┬───────────┬───────────┐\n",
       "│ UNIQUE_IDE ┆ START_THE ┆ ORIGIN_FA ┆ OZIP3    ┆ … ┆ EXPECTED_ ┆ DZIP3    ┆ MAIL_CLAS ┆ MAIL_SHAP │\n",
       "│ NTIFIER    ┆ _CLOCK_DA ┆ CILITY    ┆ ---      ┆   ┆ DESTINATI ┆ ---      ┆ S         ┆ E         │\n",
       "│ ---        ┆ TE        ┆ ---       ┆ u32      ┆   ┆ ON_FACILI ┆ u32      ┆ ---       ┆ ---       │\n",
       "│ u32        ┆ ---       ┆ u32       ┆          ┆   ┆ TY        ┆          ┆ u32       ┆ u32       │\n",
       "│            ┆ u32       ┆           ┆          ┆   ┆ ---       ┆          ┆           ┆           │\n",
       "│            ┆           ┆           ┆          ┆   ┆ u32       ┆          ┆           ┆           │\n",
       "╞════════════╪═══════════╪═══════════╪══════════╪═══╪═══════════╪══════════╪═══════════╪═══════════╡\n",
       "│ 41160140   ┆ 41160140  ┆ 41160140  ┆ 41160140 ┆ … ┆ 41160140  ┆ 41160140 ┆ 41160140  ┆ 41160140  │\n",
       "└────────────┴───────────┴───────────┴──────────┴───┴───────────┴──────────┴───────────┴───────────┘"
      ]
     },
     "execution_count": 93,
     "metadata": {},
     "output_type": "execute_result"
    }
   ],
   "source": [
    "originatingPeices_noDups.count()"
   ]
  },
  {
   "cell_type": "code",
   "execution_count": 94,
   "metadata": {},
   "outputs": [],
   "source": [
    "originatingPeices_final = originatingPeices_noDups.filter(pl.col('START_THE_CLOCK_DATE') < pl.col('ACTUAL_DLVRY_DATE'))"
   ]
  },
  {
   "cell_type": "code",
   "execution_count": 95,
   "metadata": {},
   "outputs": [
    {
     "data": {
      "text/html": [
       "<div><style>\n",
       ".dataframe > thead > tr,\n",
       ".dataframe > tbody > tr {\n",
       "  text-align: right;\n",
       "  white-space: pre-wrap;\n",
       "}\n",
       "</style>\n",
       "<small>shape: (1, 10)</small><table border=\"1\" class=\"dataframe\"><thead><tr><th>UNIQUE_IDENTIFIER</th><th>START_THE_CLOCK_DATE</th><th>ORIGIN_FACILITY</th><th>OZIP3</th><th>ACTUAL_DLVRY_DATE</th><th>EXPECTED_DELIVERY_DATE</th><th>EXPECTED_DESTINATION_FACILITY</th><th>DZIP3</th><th>MAIL_CLASS</th><th>MAIL_SHAPE</th></tr><tr><td>u32</td><td>u32</td><td>u32</td><td>u32</td><td>u32</td><td>u32</td><td>u32</td><td>u32</td><td>u32</td><td>u32</td></tr></thead><tbody><tr><td>38832134</td><td>38832134</td><td>38832134</td><td>38832134</td><td>38832134</td><td>38832134</td><td>38832134</td><td>38832134</td><td>38832134</td><td>38832134</td></tr></tbody></table></div>"
      ],
      "text/plain": [
       "shape: (1, 10)\n",
       "┌────────────┬───────────┬───────────┬──────────┬───┬───────────┬──────────┬───────────┬───────────┐\n",
       "│ UNIQUE_IDE ┆ START_THE ┆ ORIGIN_FA ┆ OZIP3    ┆ … ┆ EXPECTED_ ┆ DZIP3    ┆ MAIL_CLAS ┆ MAIL_SHAP │\n",
       "│ NTIFIER    ┆ _CLOCK_DA ┆ CILITY    ┆ ---      ┆   ┆ DESTINATI ┆ ---      ┆ S         ┆ E         │\n",
       "│ ---        ┆ TE        ┆ ---       ┆ u32      ┆   ┆ ON_FACILI ┆ u32      ┆ ---       ┆ ---       │\n",
       "│ u32        ┆ ---       ┆ u32       ┆          ┆   ┆ TY        ┆          ┆ u32       ┆ u32       │\n",
       "│            ┆ u32       ┆           ┆          ┆   ┆ ---       ┆          ┆           ┆           │\n",
       "│            ┆           ┆           ┆          ┆   ┆ u32       ┆          ┆           ┆           │\n",
       "╞════════════╪═══════════╪═══════════╪══════════╪═══╪═══════════╪══════════╪═══════════╪═══════════╡\n",
       "│ 38832134   ┆ 38832134  ┆ 38832134  ┆ 38832134 ┆ … ┆ 38832134  ┆ 38832134 ┆ 38832134  ┆ 38832134  │\n",
       "└────────────┴───────────┴───────────┴──────────┴───┴───────────┴──────────┴───────────┴───────────┘"
      ]
     },
     "execution_count": 95,
     "metadata": {},
     "output_type": "execute_result"
    }
   ],
   "source": [
    "originatingPeices_final.count()"
   ]
  },
  {
   "cell_type": "code",
   "execution_count": 96,
   "metadata": {},
   "outputs": [
    {
     "data": {
      "text/plain": [
       "13"
      ]
     },
     "execution_count": 96,
     "metadata": {},
     "output_type": "execute_result"
    }
   ],
   "source": [
    "originatingPeices_final['START_THE_CLOCK_DATE'].n_unique()"
   ]
  },
  {
   "cell_type": "code",
   "execution_count": 97,
   "metadata": {},
   "outputs": [],
   "source": [
    "originating_start_count = originatingPeices_final.group_by('START_THE_CLOCK_DATE').len()"
   ]
  },
  {
   "cell_type": "code",
   "execution_count": 98,
   "metadata": {},
   "outputs": [],
   "source": [
    "originating_start_count = originating_start_count.select(pl.col(['START_THE_CLOCK_DATE', 'len']).sort_by('START_THE_CLOCK_DATE'))"
   ]
  },
  {
   "cell_type": "code",
   "execution_count": 99,
   "metadata": {},
   "outputs": [
    {
     "name": "stdout",
     "output_type": "stream",
     "text": [
      "shape: (13, 2)\n",
      "┌──────────────────────┬─────────┐\n",
      "│ START_THE_CLOCK_DATE ┆ len     │\n",
      "│ ---                  ┆ ---     │\n",
      "│ str                  ┆ u32     │\n",
      "╞══════════════════════╪═════════╡\n",
      "│ 2024-01-08           ┆ 3999653 │\n",
      "│ 2024-01-09           ┆ 2660531 │\n",
      "│ 2024-01-10           ┆ 1923229 │\n",
      "│ 2024-01-11           ┆ 5073488 │\n",
      "│ 2024-01-12           ┆ 5417864 │\n",
      "│ 2024-01-13           ┆ 1826678 │\n",
      "│ 2024-01-14           ┆ 537432  │\n",
      "│ 2024-01-16           ┆ 3985836 │\n",
      "│ 2024-01-17           ┆ 1788910 │\n",
      "│ 2024-01-18           ┆ 3254326 │\n",
      "│ 2024-01-19           ┆ 3840076 │\n",
      "│ 2024-01-20           ┆ 2823666 │\n",
      "│ 2024-01-21           ┆ 1700445 │\n",
      "└──────────────────────┴─────────┘\n"
     ]
    }
   ],
   "source": [
    "with pl.Config(tbl_rows=20):\n",
    "    print(originating_start_count)"
   ]
  },
  {
   "cell_type": "code",
   "execution_count": 100,
   "metadata": {},
   "outputs": [
    {
     "data": {
      "text/plain": [
       "4"
      ]
     },
     "execution_count": 100,
     "metadata": {},
     "output_type": "execute_result"
    }
   ],
   "source": [
    "originatingPeices_final['ORIGIN_FACILITY'].n_unique()"
   ]
  },
  {
   "cell_type": "code",
   "execution_count": 101,
   "metadata": {},
   "outputs": [
    {
     "data": {
      "text/html": [
       "<div><style>\n",
       ".dataframe > thead > tr,\n",
       ".dataframe > tbody > tr {\n",
       "  text-align: right;\n",
       "  white-space: pre-wrap;\n",
       "}\n",
       "</style>\n",
       "<small>shape: (4, 2)</small><table border=\"1\" class=\"dataframe\"><thead><tr><th>ORIGIN_FACILITY</th><th>len</th></tr><tr><td>str</td><td>u32</td></tr></thead><tbody><tr><td>&quot;NASHVILLE - 1441275&quot;</td><td>16218460</td></tr><tr><td>&quot;MUSIC CITY ANNEX - 1532174&quot;</td><td>2345795</td></tr><tr><td>&quot;MEMPHIS NDC - 1372672&quot;</td><td>9994238</td></tr><tr><td>&quot;MEMPHIS - 1441274&quot;</td><td>10273641</td></tr></tbody></table></div>"
      ],
      "text/plain": [
       "shape: (4, 2)\n",
       "┌────────────────────────────┬──────────┐\n",
       "│ ORIGIN_FACILITY            ┆ len      │\n",
       "│ ---                        ┆ ---      │\n",
       "│ str                        ┆ u32      │\n",
       "╞════════════════════════════╪══════════╡\n",
       "│ NASHVILLE - 1441275        ┆ 16218460 │\n",
       "│ MUSIC CITY ANNEX - 1532174 ┆ 2345795  │\n",
       "│ MEMPHIS NDC - 1372672      ┆ 9994238  │\n",
       "│ MEMPHIS - 1441274          ┆ 10273641 │\n",
       "└────────────────────────────┴──────────┘"
      ]
     },
     "execution_count": 101,
     "metadata": {},
     "output_type": "execute_result"
    }
   ],
   "source": [
    "originatingPeices_final.group_by('ORIGIN_FACILITY').len()"
   ]
  },
  {
   "cell_type": "code",
   "execution_count": 102,
   "metadata": {},
   "outputs": [
    {
     "data": {
      "text/plain": [
       "131"
      ]
     },
     "execution_count": 102,
     "metadata": {},
     "output_type": "execute_result"
    }
   ],
   "source": [
    "originatingPeices_final['ACTUAL_DLVRY_DATE'].n_unique()"
   ]
  },
  {
   "cell_type": "code",
   "execution_count": 103,
   "metadata": {},
   "outputs": [
    {
     "data": {
      "text/plain": [
       "'2024-01-09'"
      ]
     },
     "execution_count": 103,
     "metadata": {},
     "output_type": "execute_result"
    }
   ],
   "source": [
    "originatingPeices_final['ACTUAL_DLVRY_DATE'].min()"
   ]
  },
  {
   "cell_type": "code",
   "execution_count": 104,
   "metadata": {},
   "outputs": [
    {
     "data": {
      "text/plain": [
       "'2024-06-17'"
      ]
     },
     "execution_count": 104,
     "metadata": {},
     "output_type": "execute_result"
    }
   ],
   "source": [
    "originatingPeices_final['ACTUAL_DLVRY_DATE'].max()"
   ]
  },
  {
   "cell_type": "code",
   "execution_count": 105,
   "metadata": {},
   "outputs": [
    {
     "data": {
      "text/plain": [
       "24"
      ]
     },
     "execution_count": 105,
     "metadata": {},
     "output_type": "execute_result"
    }
   ],
   "source": [
    "originatingPeices_final['EXPECTED_DELIVERY_DATE'].n_unique()"
   ]
  },
  {
   "cell_type": "code",
   "execution_count": 106,
   "metadata": {},
   "outputs": [],
   "source": [
    "originating_expectedDelivery_count = originatingPeices_final.group_by('EXPECTED_DELIVERY_DATE').len()"
   ]
  },
  {
   "cell_type": "code",
   "execution_count": 107,
   "metadata": {},
   "outputs": [],
   "source": [
    "originating_expectedDelivery_count = originating_expectedDelivery_count.select(pl.col(['EXPECTED_DELIVERY_DATE', 'len']).sort_by('EXPECTED_DELIVERY_DATE'))"
   ]
  },
  {
   "cell_type": "code",
   "execution_count": 108,
   "metadata": {},
   "outputs": [
    {
     "name": "stdout",
     "output_type": "stream",
     "text": [
      "shape: (24, 2)\n",
      "┌────────────────────────┬─────────┐\n",
      "│ EXPECTED_DELIVERY_DATE ┆ len     │\n",
      "│ ---                    ┆ ---     │\n",
      "│ str                    ┆ u32     │\n",
      "╞════════════════════════╪═════════╡\n",
      "│ 2024-01-09             ┆ 31496   │\n",
      "│ 2024-01-10             ┆ 491075  │\n",
      "│ 2024-01-11             ┆ 2715603 │\n",
      "│ 2024-01-12             ┆ 2395243 │\n",
      "│ 2024-01-13             ┆ 3288919 │\n",
      "│ 2024-01-16             ┆ 9947344 │\n",
      "│ 2024-01-17             ┆ 2496157 │\n",
      "│ 2024-01-18             ┆ 300748  │\n",
      "│ 2024-01-19             ┆ 3452241 │\n",
      "│ 2024-01-20             ┆ 1772085 │\n",
      "│ 2024-01-22             ┆ 4449691 │\n",
      "│ 2024-01-23             ┆ 3771003 │\n",
      "│ 2024-01-24             ┆ 3167868 │\n",
      "│ 2024-01-25             ┆ 69868   │\n",
      "│ 2024-01-26             ┆ 434086  │\n",
      "│ 2024-01-27             ┆ 43949   │\n",
      "│ 2024-01-29             ┆ 4037    │\n",
      "│ 2024-01-30             ┆ 24      │\n",
      "│ 2024-01-31             ┆ 138     │\n",
      "│ 2024-02-01             ┆ 52      │\n",
      "│ 2024-02-02             ┆ 127     │\n",
      "│ 2024-02-03             ┆ 161     │\n",
      "│ 2024-02-05             ┆ 218     │\n",
      "│ 2024-02-06             ┆ 1       │\n",
      "└────────────────────────┴─────────┘\n"
     ]
    }
   ],
   "source": [
    "with pl.Config(tbl_rows=30):\n",
    "    print(originating_expectedDelivery_count)"
   ]
  },
  {
   "cell_type": "code",
   "execution_count": 109,
   "metadata": {},
   "outputs": [
    {
     "data": {
      "text/plain": [
       "182"
      ]
     },
     "execution_count": 109,
     "metadata": {},
     "output_type": "execute_result"
    }
   ],
   "source": [
    "originatingPeices_final['EXPECTED_DESTINATION_FACILITY'].n_unique()"
   ]
  },
  {
   "cell_type": "code",
   "execution_count": 110,
   "metadata": {},
   "outputs": [
    {
     "data": {
      "text/plain": [
       "4"
      ]
     },
     "execution_count": 110,
     "metadata": {},
     "output_type": "execute_result"
    }
   ],
   "source": [
    "originatingPeices_final['MAIL_CLASS'].n_unique()"
   ]
  },
  {
   "cell_type": "code",
   "execution_count": 111,
   "metadata": {},
   "outputs": [
    {
     "data": {
      "text/html": [
       "<div><style>\n",
       ".dataframe > thead > tr,\n",
       ".dataframe > tbody > tr {\n",
       "  text-align: right;\n",
       "  white-space: pre-wrap;\n",
       "}\n",
       "</style>\n",
       "<small>shape: (4, 2)</small><table border=\"1\" class=\"dataframe\"><thead><tr><th>MAIL_CLASS</th><th>len</th></tr><tr><td>str</td><td>u32</td></tr></thead><tbody><tr><td>&quot;USPS Marketing Mail&quot;</td><td>25194036</td></tr><tr><td>&quot;Single Piece First Class&quot;</td><td>5839829</td></tr><tr><td>&quot;Periodicals&quot;</td><td>473297</td></tr><tr><td>&quot;First Class Presort&quot;</td><td>7324972</td></tr></tbody></table></div>"
      ],
      "text/plain": [
       "shape: (4, 2)\n",
       "┌──────────────────────────┬──────────┐\n",
       "│ MAIL_CLASS               ┆ len      │\n",
       "│ ---                      ┆ ---      │\n",
       "│ str                      ┆ u32      │\n",
       "╞══════════════════════════╪══════════╡\n",
       "│ USPS Marketing Mail      ┆ 25194036 │\n",
       "│ Single Piece First Class ┆ 5839829  │\n",
       "│ Periodicals              ┆ 473297   │\n",
       "│ First Class Presort      ┆ 7324972  │\n",
       "└──────────────────────────┴──────────┘"
      ]
     },
     "execution_count": 111,
     "metadata": {},
     "output_type": "execute_result"
    }
   ],
   "source": [
    "originatingPeices_final.group_by('MAIL_CLASS').len()"
   ]
  },
  {
   "cell_type": "code",
   "execution_count": 112,
   "metadata": {},
   "outputs": [
    {
     "data": {
      "text/html": [
       "<div><style>\n",
       ".dataframe > thead > tr,\n",
       ".dataframe > tbody > tr {\n",
       "  text-align: right;\n",
       "  white-space: pre-wrap;\n",
       "}\n",
       "</style>\n",
       "<small>shape: (3, 2)</small><table border=\"1\" class=\"dataframe\"><thead><tr><th>MAIL_SHAPE</th><th>len</th></tr><tr><td>str</td><td>u32</td></tr></thead><tbody><tr><td>&quot;Flat&quot;</td><td>3081974</td></tr><tr><td>&quot;Letter&quot;</td><td>35275497</td></tr><tr><td>&quot;Card&quot;</td><td>474663</td></tr></tbody></table></div>"
      ],
      "text/plain": [
       "shape: (3, 2)\n",
       "┌────────────┬──────────┐\n",
       "│ MAIL_SHAPE ┆ len      │\n",
       "│ ---        ┆ ---      │\n",
       "│ str        ┆ u32      │\n",
       "╞════════════╪══════════╡\n",
       "│ Flat       ┆ 3081974  │\n",
       "│ Letter     ┆ 35275497 │\n",
       "│ Card       ┆ 474663   │\n",
       "└────────────┴──────────┘"
      ]
     },
     "execution_count": 112,
     "metadata": {},
     "output_type": "execute_result"
    }
   ],
   "source": [
    "originatingPeices_final.group_by('MAIL_SHAPE').len()"
   ]
  },
  {
   "cell_type": "code",
   "execution_count": 113,
   "metadata": {},
   "outputs": [
    {
     "data": {
      "text/html": [
       "<div><style>\n",
       ".dataframe > thead > tr,\n",
       ".dataframe > tbody > tr {\n",
       "  text-align: right;\n",
       "  white-space: pre-wrap;\n",
       "}\n",
       "</style>\n",
       "<small>shape: (9, 3)</small><table border=\"1\" class=\"dataframe\"><thead><tr><th>MAIL_CLASS</th><th>MAIL_SHAPE</th><th>len</th></tr><tr><td>str</td><td>str</td><td>u32</td></tr></thead><tbody><tr><td>&quot;First Class Presort&quot;</td><td>&quot;Card&quot;</td><td>474663</td></tr><tr><td>&quot;First Class Presort&quot;</td><td>&quot;Flat&quot;</td><td>3772</td></tr><tr><td>&quot;First Class Presort&quot;</td><td>&quot;Letter&quot;</td><td>6846537</td></tr><tr><td>&quot;Periodicals&quot;</td><td>&quot;Flat&quot;</td><td>473294</td></tr><tr><td>&quot;Periodicals&quot;</td><td>&quot;Letter&quot;</td><td>3</td></tr><tr><td>&quot;Single Piece First Class&quot;</td><td>&quot;Flat&quot;</td><td>284969</td></tr><tr><td>&quot;Single Piece First Class&quot;</td><td>&quot;Letter&quot;</td><td>5554860</td></tr><tr><td>&quot;USPS Marketing Mail&quot;</td><td>&quot;Flat&quot;</td><td>2319939</td></tr><tr><td>&quot;USPS Marketing Mail&quot;</td><td>&quot;Letter&quot;</td><td>22874097</td></tr></tbody></table></div>"
      ],
      "text/plain": [
       "shape: (9, 3)\n",
       "┌──────────────────────────┬────────────┬──────────┐\n",
       "│ MAIL_CLASS               ┆ MAIL_SHAPE ┆ len      │\n",
       "│ ---                      ┆ ---        ┆ ---      │\n",
       "│ str                      ┆ str        ┆ u32      │\n",
       "╞══════════════════════════╪════════════╪══════════╡\n",
       "│ First Class Presort      ┆ Card       ┆ 474663   │\n",
       "│ First Class Presort      ┆ Flat       ┆ 3772     │\n",
       "│ First Class Presort      ┆ Letter     ┆ 6846537  │\n",
       "│ Periodicals              ┆ Flat       ┆ 473294   │\n",
       "│ Periodicals              ┆ Letter     ┆ 3        │\n",
       "│ Single Piece First Class ┆ Flat       ┆ 284969   │\n",
       "│ Single Piece First Class ┆ Letter     ┆ 5554860  │\n",
       "│ USPS Marketing Mail      ┆ Flat       ┆ 2319939  │\n",
       "│ USPS Marketing Mail      ┆ Letter     ┆ 22874097 │\n",
       "└──────────────────────────┴────────────┴──────────┘"
      ]
     },
     "execution_count": 113,
     "metadata": {},
     "output_type": "execute_result"
    }
   ],
   "source": [
    "originatingPeices_final.group_by(['MAIL_CLASS', 'MAIL_SHAPE']).len().select(pl.col(['MAIL_CLASS', 'MAIL_SHAPE', 'len']).sort_by(['MAIL_CLASS', 'MAIL_SHAPE']))"
   ]
  },
  {
   "cell_type": "markdown",
   "metadata": {},
   "source": [
    "<h3>Originating Scan</h3>"
   ]
  },
  {
   "cell_type": "code",
   "execution_count": 116,
   "metadata": {},
   "outputs": [],
   "source": [
    "originatingScans1 = pl.read_csv('../../Data/Scan Data/Mail/Originating Scans pt. 1.csv', infer_schema_length=int(1e10))"
   ]
  },
  {
   "cell_type": "code",
   "execution_count": 117,
   "metadata": {},
   "outputs": [],
   "source": [
    "originatingScans2 = pl.read_csv('../../Data/Scan Data/Mail/Originating Scans pt. 2.csv', infer_schema_length=int(1e10))"
   ]
  },
  {
   "cell_type": "code",
   "execution_count": 118,
   "metadata": {},
   "outputs": [],
   "source": [
    "originatingScans3 = pl.read_csv('../../Data/Scan Data/Mail/Originating Scans pt. 3.csv', infer_schema_length=int(1e10))"
   ]
  },
  {
   "cell_type": "code",
   "execution_count": 119,
   "metadata": {},
   "outputs": [],
   "source": [
    "originatingScans = pl.concat([originatingScans1, originatingScans2, originatingScans3], how = 'vertical')"
   ]
  },
  {
   "cell_type": "code",
   "execution_count": 120,
   "metadata": {},
   "outputs": [
    {
     "data": {
      "text/html": [
       "<div><style>\n",
       ".dataframe > thead > tr,\n",
       ".dataframe > tbody > tr {\n",
       "  text-align: right;\n",
       "  white-space: pre-wrap;\n",
       "}\n",
       "</style>\n",
       "<small>shape: (5, 4)</small><table border=\"1\" class=\"dataframe\"><thead><tr><th>UNIQUE_IDENTIFIER</th><th>scan_datetime</th><th>scan_facility</th><th>op_code</th></tr><tr><td>i64</td><td>str</td><td>str</td><td>str</td></tr></thead><tbody><tr><td>203245128357</td><td>&quot;2024-01-08 12:08:00&quot;</td><td>&quot;MEMPHIS NDC - 1372672&quot;</td><td>&quot;321&quot;</td></tr><tr><td>203245128357</td><td>&quot;2024-01-09 15:21:44&quot;</td><td>&quot;LITTLE ROCK - 1441359&quot;</td><td>&quot;325&quot;</td></tr><tr><td>203245128357</td><td>&quot;2024-01-10 07:06:58&quot;</td><td>&quot;LITTLE ROCK - 1441359&quot;</td><td>&quot;79&quot;</td></tr><tr><td>203245480247</td><td>&quot;2024-01-08 12:05:54&quot;</td><td>&quot;MEMPHIS NDC - 1372672&quot;</td><td>&quot;321&quot;</td></tr><tr><td>203245480247</td><td>&quot;2024-01-10 06:59:58&quot;</td><td>&quot;MEMPHIS - 1441274&quot;</td><td>&quot;79&quot;</td></tr></tbody></table></div>"
      ],
      "text/plain": [
       "shape: (5, 4)\n",
       "┌───────────────────┬─────────────────────┬───────────────────────┬─────────┐\n",
       "│ UNIQUE_IDENTIFIER ┆ scan_datetime       ┆ scan_facility         ┆ op_code │\n",
       "│ ---               ┆ ---                 ┆ ---                   ┆ ---     │\n",
       "│ i64               ┆ str                 ┆ str                   ┆ str     │\n",
       "╞═══════════════════╪═════════════════════╪═══════════════════════╪═════════╡\n",
       "│ 203245128357      ┆ 2024-01-08 12:08:00 ┆ MEMPHIS NDC - 1372672 ┆ 321     │\n",
       "│ 203245128357      ┆ 2024-01-09 15:21:44 ┆ LITTLE ROCK - 1441359 ┆ 325     │\n",
       "│ 203245128357      ┆ 2024-01-10 07:06:58 ┆ LITTLE ROCK - 1441359 ┆ 79      │\n",
       "│ 203245480247      ┆ 2024-01-08 12:05:54 ┆ MEMPHIS NDC - 1372672 ┆ 321     │\n",
       "│ 203245480247      ┆ 2024-01-10 06:59:58 ┆ MEMPHIS - 1441274     ┆ 79      │\n",
       "└───────────────────┴─────────────────────┴───────────────────────┴─────────┘"
      ]
     },
     "execution_count": 120,
     "metadata": {},
     "output_type": "execute_result"
    }
   ],
   "source": [
    "originatingScans.head()"
   ]
  },
  {
   "cell_type": "code",
   "execution_count": 121,
   "metadata": {},
   "outputs": [
    {
     "data": {
      "text/html": [
       "<div><style>\n",
       ".dataframe > thead > tr,\n",
       ".dataframe > tbody > tr {\n",
       "  text-align: right;\n",
       "  white-space: pre-wrap;\n",
       "}\n",
       "</style>\n",
       "<small>shape: (1, 4)</small><table border=\"1\" class=\"dataframe\"><thead><tr><th>UNIQUE_IDENTIFIER</th><th>scan_datetime</th><th>scan_facility</th><th>op_code</th></tr><tr><td>u32</td><td>u32</td><td>u32</td><td>u32</td></tr></thead><tbody><tr><td>110233486</td><td>110233486</td><td>110233486</td><td>110233486</td></tr></tbody></table></div>"
      ],
      "text/plain": [
       "shape: (1, 4)\n",
       "┌───────────────────┬───────────────┬───────────────┬───────────┐\n",
       "│ UNIQUE_IDENTIFIER ┆ scan_datetime ┆ scan_facility ┆ op_code   │\n",
       "│ ---               ┆ ---           ┆ ---           ┆ ---       │\n",
       "│ u32               ┆ u32           ┆ u32           ┆ u32       │\n",
       "╞═══════════════════╪═══════════════╪═══════════════╪═══════════╡\n",
       "│ 110233486         ┆ 110233486     ┆ 110233486     ┆ 110233486 │\n",
       "└───────────────────┴───────────────┴───────────────┴───────────┘"
      ]
     },
     "execution_count": 121,
     "metadata": {},
     "output_type": "execute_result"
    }
   ],
   "source": [
    "originatingScans.count()"
   ]
  },
  {
   "cell_type": "code",
   "execution_count": 122,
   "metadata": {},
   "outputs": [
    {
     "data": {
      "text/html": [
       "<div><style>\n",
       ".dataframe > thead > tr,\n",
       ".dataframe > tbody > tr {\n",
       "  text-align: right;\n",
       "  white-space: pre-wrap;\n",
       "}\n",
       "</style>\n",
       "<small>shape: (1, 4)</small><table border=\"1\" class=\"dataframe\"><thead><tr><th>UNIQUE_IDENTIFIER</th><th>scan_datetime</th><th>scan_facility</th><th>op_code</th></tr><tr><td>u32</td><td>u32</td><td>u32</td><td>u32</td></tr></thead><tbody><tr><td>0</td><td>0</td><td>0</td><td>0</td></tr></tbody></table></div>"
      ],
      "text/plain": [
       "shape: (1, 4)\n",
       "┌───────────────────┬───────────────┬───────────────┬─────────┐\n",
       "│ UNIQUE_IDENTIFIER ┆ scan_datetime ┆ scan_facility ┆ op_code │\n",
       "│ ---               ┆ ---           ┆ ---           ┆ ---     │\n",
       "│ u32               ┆ u32           ┆ u32           ┆ u32     │\n",
       "╞═══════════════════╪═══════════════╪═══════════════╪═════════╡\n",
       "│ 0                 ┆ 0             ┆ 0             ┆ 0       │\n",
       "└───────────────────┴───────────────┴───────────────┴─────────┘"
      ]
     },
     "execution_count": 122,
     "metadata": {},
     "output_type": "execute_result"
    }
   ],
   "source": [
    "originatingScans.null_count()"
   ]
  },
  {
   "cell_type": "code",
   "execution_count": 123,
   "metadata": {},
   "outputs": [
    {
     "name": "stdout",
     "output_type": "stream",
     "text": [
      "# of rows with \"null\" value\n",
      "scan_datetime = 973713\n",
      "scan_facility = 977968\n",
      "op_code = 973828\n"
     ]
    }
   ],
   "source": [
    "# find count of rows with the word 'null'\n",
    "print('# of rows with \"null\" value')\n",
    "for x in originatingScans.columns:\n",
    "    if str(originatingScans[x].dtype) == 'String':\n",
    "        filtered_df = originatingScans.filter(pl.col(x) == 'null')\n",
    "        count = filtered_df[x].count()\n",
    "        print(\"{} = {}\".format(x, count))"
   ]
  },
  {
   "cell_type": "code",
   "execution_count": 124,
   "metadata": {},
   "outputs": [],
   "source": [
    "originatingScans_noNulls = originatingScans.filter((pl.col('scan_datetime') != 'null') &\n",
    "                                                  (pl.col('scan_facility') != 'null') &\n",
    "                                                  (pl.col('op_code') != 'null'))"
   ]
  },
  {
   "cell_type": "code",
   "execution_count": 125,
   "metadata": {},
   "outputs": [
    {
     "data": {
      "text/html": [
       "<div><style>\n",
       ".dataframe > thead > tr,\n",
       ".dataframe > tbody > tr {\n",
       "  text-align: right;\n",
       "  white-space: pre-wrap;\n",
       "}\n",
       "</style>\n",
       "<small>shape: (1, 4)</small><table border=\"1\" class=\"dataframe\"><thead><tr><th>UNIQUE_IDENTIFIER</th><th>scan_datetime</th><th>scan_facility</th><th>op_code</th></tr><tr><td>u32</td><td>u32</td><td>u32</td><td>u32</td></tr></thead><tbody><tr><td>109255403</td><td>109255403</td><td>109255403</td><td>109255403</td></tr></tbody></table></div>"
      ],
      "text/plain": [
       "shape: (1, 4)\n",
       "┌───────────────────┬───────────────┬───────────────┬───────────┐\n",
       "│ UNIQUE_IDENTIFIER ┆ scan_datetime ┆ scan_facility ┆ op_code   │\n",
       "│ ---               ┆ ---           ┆ ---           ┆ ---       │\n",
       "│ u32               ┆ u32           ┆ u32           ┆ u32       │\n",
       "╞═══════════════════╪═══════════════╪═══════════════╪═══════════╡\n",
       "│ 109255403         ┆ 109255403     ┆ 109255403     ┆ 109255403 │\n",
       "└───────────────────┴───────────────┴───────────────┴───────────┘"
      ]
     },
     "execution_count": 125,
     "metadata": {},
     "output_type": "execute_result"
    }
   ],
   "source": [
    "originatingScans_noNulls.count()"
   ]
  },
  {
   "cell_type": "code",
   "execution_count": 131,
   "metadata": {},
   "outputs": [
    {
     "name": "stdout",
     "output_type": "stream",
     "text": [
      "# of unique values in each column\n",
      "UNIQUE_IDENTIFIER = 41201056\n",
      "scan_datetime = 2210457\n",
      "scan_facility = 352\n",
      "op_code = 195\n"
     ]
    }
   ],
   "source": [
    "print('# of unique values in each column')\n",
    "for x in originatingScans_noNulls.columns:\n",
    "    count = originatingScans_noNulls[x].n_unique()\n",
    "    print(\"{} = {}\".format(x, count))"
   ]
  },
  {
   "cell_type": "code",
   "execution_count": 127,
   "metadata": {},
   "outputs": [
    {
     "data": {
      "text/plain": [
       "'2023-11-24 13:19:42'"
      ]
     },
     "execution_count": 127,
     "metadata": {},
     "output_type": "execute_result"
    }
   ],
   "source": [
    "originatingScans_noNulls['scan_datetime'].min()"
   ]
  },
  {
   "cell_type": "code",
   "execution_count": 128,
   "metadata": {},
   "outputs": [
    {
     "data": {
      "text/plain": [
       "'2024-06-06 08:59:38'"
      ]
     },
     "execution_count": 128,
     "metadata": {},
     "output_type": "execute_result"
    }
   ],
   "source": [
    "originatingScans_noNulls['scan_datetime'].max()"
   ]
  },
  {
   "cell_type": "code",
   "execution_count": 132,
   "metadata": {},
   "outputs": [],
   "source": [
    "originatingScans_0 = originatingScans_noNulls.select(pl.col('UNIQUE_IDENTIFIER'),\n",
    "                                                     pl.col('scan_datetime'),\n",
    "                                                     pl.col('scan_facility'),\n",
    "                                                     pl.col('op_code').cast(pl.Int64))"
   ]
  },
  {
   "cell_type": "code",
   "execution_count": 133,
   "metadata": {},
   "outputs": [],
   "source": [
    "originatingScans_1 = originatingScans_0.filter(pl.col('op_code').is_in(cleanedCodes))"
   ]
  },
  {
   "cell_type": "code",
   "execution_count": 134,
   "metadata": {},
   "outputs": [
    {
     "data": {
      "text/html": [
       "<div><style>\n",
       ".dataframe > thead > tr,\n",
       ".dataframe > tbody > tr {\n",
       "  text-align: right;\n",
       "  white-space: pre-wrap;\n",
       "}\n",
       "</style>\n",
       "<small>shape: (1, 4)</small><table border=\"1\" class=\"dataframe\"><thead><tr><th>UNIQUE_IDENTIFIER</th><th>scan_datetime</th><th>scan_facility</th><th>op_code</th></tr><tr><td>u32</td><td>u32</td><td>u32</td><td>u32</td></tr></thead><tbody><tr><td>98590287</td><td>98590287</td><td>98590287</td><td>98590287</td></tr></tbody></table></div>"
      ],
      "text/plain": [
       "shape: (1, 4)\n",
       "┌───────────────────┬───────────────┬───────────────┬──────────┐\n",
       "│ UNIQUE_IDENTIFIER ┆ scan_datetime ┆ scan_facility ┆ op_code  │\n",
       "│ ---               ┆ ---           ┆ ---           ┆ ---      │\n",
       "│ u32               ┆ u32           ┆ u32           ┆ u32      │\n",
       "╞═══════════════════╪═══════════════╪═══════════════╪══════════╡\n",
       "│ 98590287          ┆ 98590287      ┆ 98590287      ┆ 98590287 │\n",
       "└───────────────────┴───────────────┴───────────────┴──────────┘"
      ]
     },
     "execution_count": 134,
     "metadata": {},
     "output_type": "execute_result"
    }
   ],
   "source": [
    "originatingScans_1.count()"
   ]
  },
  {
   "cell_type": "code",
   "execution_count": 135,
   "metadata": {},
   "outputs": [
    {
     "name": "stdout",
     "output_type": "stream",
     "text": [
      "# of unique values in each column\n",
      "UNIQUE_IDENTIFIER = 40989173\n",
      "scan_datetime = 2206734\n",
      "scan_facility = 344\n",
      "op_code = 152\n"
     ]
    }
   ],
   "source": [
    "print('# of unique values in each column')\n",
    "for x in originatingScans_1.columns:\n",
    "    count = originatingScans_1[x].n_unique()\n",
    "    print(\"{} = {}\".format(x, count))"
   ]
  },
  {
   "cell_type": "code",
   "execution_count": 136,
   "metadata": {},
   "outputs": [],
   "source": [
    "originatingTotalScanInterval = originatingScans_1.group_by('UNIQUE_IDENTIFIER').agg([pl.max('scan_datetime').alias('maxScan'),\n",
    "                                                      pl.min('scan_datetime').alias('minScan')])"
   ]
  },
  {
   "cell_type": "code",
   "execution_count": 138,
   "metadata": {},
   "outputs": [],
   "source": [
    "originatingFacilityScanInterval = originatingScans_1.group_by(['UNIQUE_IDENTIFIER', \n",
    "                                                               'scan_facility']).agg([pl.max('scan_datetime').alias('maxScan'),\n",
    "                                                                                    pl.min('scan_datetime').alias('minScan')])"
   ]
  },
  {
   "cell_type": "code",
   "execution_count": 150,
   "metadata": {},
   "outputs": [],
   "source": [
    "originatingFacilityScanInterval_0 = originatingFacilityScanInterval.select(pl.col('UNIQUE_IDENTIFIER'),\n",
    "                                                                           pl.col('scan_facility'),\n",
    "                                                                           pl.col('maxScan').str.to_date('%Y-%m-%d %H:%M:%S').cast(pl.Int64),\n",
    "                                                                           pl.col('minScan').str.to_date('%Y-%m-%d %H:%M:%S').cast(pl.Int64))"
   ]
  },
  {
   "cell_type": "code",
   "execution_count": 159,
   "metadata": {},
   "outputs": [],
   "source": [
    "originatingFacilityScanInterval_1 = originatingFacilityScanInterval_0.with_columns((pl.col('maxScan')-pl.col('minScan')).alias('facilityInterval'))"
   ]
  },
  {
   "cell_type": "code",
   "execution_count": 164,
   "metadata": {},
   "outputs": [],
   "source": [
    "originatingFacilityScanInterval_2 = originatingFacilityScanInterval_1.select(pl.col('UNIQUE_IDENTIFIER'),\n",
    "                                                                           pl.col('scan_facility'),\n",
    "                                                                           pl.col('maxScan').cast(pl.Date),\n",
    "                                                                           pl.col('minScan').cast(pl.Date),\n",
    "                                                                           pl.col('facilityInterval'))"
   ]
  },
  {
   "cell_type": "code",
   "execution_count": 168,
   "metadata": {},
   "outputs": [],
   "source": [
    "originatingPeices_3 = originatingPeices_final.join(originatingFacilityScanInterval_2, \n",
    "                                                    left_on=['UNIQUE_IDENTIFIER', 'ORIGIN_FACILITY'], \n",
    "                                                    right_on=['UNIQUE_IDENTIFIER', 'scan_facility'])"
   ]
  },
  {
   "cell_type": "code",
   "execution_count": 170,
   "metadata": {},
   "outputs": [
    {
     "data": {
      "text/html": [
       "<div><style>\n",
       ".dataframe > thead > tr,\n",
       ".dataframe > tbody > tr {\n",
       "  text-align: right;\n",
       "  white-space: pre-wrap;\n",
       "}\n",
       "</style>\n",
       "<small>shape: (1, 13)</small><table border=\"1\" class=\"dataframe\"><thead><tr><th>UNIQUE_IDENTIFIER</th><th>START_THE_CLOCK_DATE</th><th>ORIGIN_FACILITY</th><th>OZIP3</th><th>ACTUAL_DLVRY_DATE</th><th>EXPECTED_DELIVERY_DATE</th><th>EXPECTED_DESTINATION_FACILITY</th><th>DZIP3</th><th>MAIL_CLASS</th><th>MAIL_SHAPE</th><th>maxScan</th><th>minScan</th><th>facilityInterval</th></tr><tr><td>u32</td><td>u32</td><td>u32</td><td>u32</td><td>u32</td><td>u32</td><td>u32</td><td>u32</td><td>u32</td><td>u32</td><td>u32</td><td>u32</td><td>u32</td></tr></thead><tbody><tr><td>26460265</td><td>26460265</td><td>26460265</td><td>26460265</td><td>26460265</td><td>26460265</td><td>26460265</td><td>26460265</td><td>26460265</td><td>26460265</td><td>26460265</td><td>26460265</td><td>26460265</td></tr></tbody></table></div>"
      ],
      "text/plain": [
       "shape: (1, 13)\n",
       "┌────────────┬────────────┬───────────┬──────────┬───┬───────────┬──────────┬──────────┬───────────┐\n",
       "│ UNIQUE_IDE ┆ START_THE_ ┆ ORIGIN_FA ┆ OZIP3    ┆ … ┆ MAIL_SHAP ┆ maxScan  ┆ minScan  ┆ facilityI │\n",
       "│ NTIFIER    ┆ CLOCK_DATE ┆ CILITY    ┆ ---      ┆   ┆ E         ┆ ---      ┆ ---      ┆ nterval   │\n",
       "│ ---        ┆ ---        ┆ ---       ┆ u32      ┆   ┆ ---       ┆ u32      ┆ u32      ┆ ---       │\n",
       "│ u32        ┆ u32        ┆ u32       ┆          ┆   ┆ u32       ┆          ┆          ┆ u32       │\n",
       "╞════════════╪════════════╪═══════════╪══════════╪═══╪═══════════╪══════════╪══════════╪═══════════╡\n",
       "│ 26460265   ┆ 26460265   ┆ 26460265  ┆ 26460265 ┆ … ┆ 26460265  ┆ 26460265 ┆ 26460265 ┆ 26460265  │\n",
       "└────────────┴────────────┴───────────┴──────────┴───┴───────────┴──────────┴──────────┴───────────┘"
      ]
     },
     "execution_count": 170,
     "metadata": {},
     "output_type": "execute_result"
    }
   ],
   "source": [
    "originatingPeices_3.count()"
   ]
  },
  {
   "cell_type": "code",
   "execution_count": 171,
   "metadata": {},
   "outputs": [
    {
     "name": "stdout",
     "output_type": "stream",
     "text": [
      "# of rows with \"null\" value\n",
      "START_THE_CLOCK_DATE = 0\n",
      "ORIGIN_FACILITY = 0\n",
      "ACTUAL_DLVRY_DATE = 0\n",
      "EXPECTED_DELIVERY_DATE = 0\n",
      "EXPECTED_DESTINATION_FACILITY = 0\n",
      "MAIL_CLASS = 0\n",
      "MAIL_SHAPE = 0\n"
     ]
    }
   ],
   "source": [
    "# find count of rows with the word 'null'\n",
    "print('# of rows with \"null\" value')\n",
    "for x in originatingPeices_3.columns:\n",
    "    if str(originatingPeices_3[x].dtype) == 'String':\n",
    "        filtered_df = originatingPeices_3.filter(pl.col(x) == 'null')\n",
    "        count = filtered_df[x].count()\n",
    "        print(\"{} = {}\".format(x, count))"
   ]
  },
  {
   "cell_type": "code",
   "execution_count": 172,
   "metadata": {},
   "outputs": [
    {
     "data": {
      "text/html": [
       "<div><style>\n",
       ".dataframe > thead > tr,\n",
       ".dataframe > tbody > tr {\n",
       "  text-align: right;\n",
       "  white-space: pre-wrap;\n",
       "}\n",
       "</style>\n",
       "<small>shape: (1, 13)</small><table border=\"1\" class=\"dataframe\"><thead><tr><th>UNIQUE_IDENTIFIER</th><th>START_THE_CLOCK_DATE</th><th>ORIGIN_FACILITY</th><th>OZIP3</th><th>ACTUAL_DLVRY_DATE</th><th>EXPECTED_DELIVERY_DATE</th><th>EXPECTED_DESTINATION_FACILITY</th><th>DZIP3</th><th>MAIL_CLASS</th><th>MAIL_SHAPE</th><th>maxScan</th><th>minScan</th><th>facilityInterval</th></tr><tr><td>u32</td><td>u32</td><td>u32</td><td>u32</td><td>u32</td><td>u32</td><td>u32</td><td>u32</td><td>u32</td><td>u32</td><td>u32</td><td>u32</td><td>u32</td></tr></thead><tbody><tr><td>0</td><td>0</td><td>0</td><td>0</td><td>0</td><td>0</td><td>0</td><td>0</td><td>0</td><td>0</td><td>0</td><td>0</td><td>0</td></tr></tbody></table></div>"
      ],
      "text/plain": [
       "shape: (1, 13)\n",
       "┌─────────────┬─────────────┬────────────┬───────┬───┬────────────┬─────────┬─────────┬────────────┐\n",
       "│ UNIQUE_IDEN ┆ START_THE_C ┆ ORIGIN_FAC ┆ OZIP3 ┆ … ┆ MAIL_SHAPE ┆ maxScan ┆ minScan ┆ facilityIn │\n",
       "│ TIFIER      ┆ LOCK_DATE   ┆ ILITY      ┆ ---   ┆   ┆ ---        ┆ ---     ┆ ---     ┆ terval     │\n",
       "│ ---         ┆ ---         ┆ ---        ┆ u32   ┆   ┆ u32        ┆ u32     ┆ u32     ┆ ---        │\n",
       "│ u32         ┆ u32         ┆ u32        ┆       ┆   ┆            ┆         ┆         ┆ u32        │\n",
       "╞═════════════╪═════════════╪════════════╪═══════╪═══╪════════════╪═════════╪═════════╪════════════╡\n",
       "│ 0           ┆ 0           ┆ 0          ┆ 0     ┆ … ┆ 0          ┆ 0       ┆ 0       ┆ 0          │\n",
       "└─────────────┴─────────────┴────────────┴───────┴───┴────────────┴─────────┴─────────┴────────────┘"
      ]
     },
     "execution_count": 172,
     "metadata": {},
     "output_type": "execute_result"
    }
   ],
   "source": [
    "originatingPeices_3.null_count()"
   ]
  },
  {
   "cell_type": "code",
   "execution_count": 177,
   "metadata": {},
   "outputs": [],
   "source": [
    "originatingPeices_4 = originatingPeices_3.select(pl.col('UNIQUE_IDENTIFIER'),\n",
    "                                                 pl.col('START_THE_CLOCK_DATE').str.to_date('%Y-%m-%d').cast(pl.Int64),\n",
    "                                                 pl.col('ORIGIN_FACILITY'),\n",
    "                                                 pl.col('EXPECTED_DESTINATION_FACILITY'),\n",
    "                                                 pl.col('MAIL_CLASS'),\n",
    "                                                 pl.col('MAIL_SHAPE'),\n",
    "                                                 pl.col('maxScan').cast(pl.Int64))"
   ]
  },
  {
   "cell_type": "code",
   "execution_count": 287,
   "metadata": {},
   "outputs": [],
   "source": [
    "originatingPeices_5 = originatingPeices_4.with_columns(((pl.col('maxScan')-pl.col('START_THE_CLOCK_DATE')) + 1).alias('originationInterval'))"
   ]
  },
  {
   "cell_type": "code",
   "execution_count": 289,
   "metadata": {},
   "outputs": [
    {
     "name": "stdout",
     "output_type": "stream",
     "text": [
      "# unique values\n",
      "UNIQUE_IDENTIFIER = 26460265\n",
      "START_THE_CLOCK_DATE = 13\n",
      "ORIGIN_FACILITY = 4\n",
      "EXPECTED_DESTINATION_FACILITY = 182\n",
      "MAIL_CLASS = 4\n",
      "MAIL_SHAPE = 3\n",
      "maxScan = 134\n",
      "originationInterval = 135\n"
     ]
    }
   ],
   "source": [
    "print('# unique values')\n",
    "for x in originatingPeices_5.columns:\n",
    "    count = originatingPeices_5[x].n_unique()\n",
    "    print(\"{} = {}\".format(x, count))"
   ]
  },
  {
   "cell_type": "code",
   "execution_count": 290,
   "metadata": {},
   "outputs": [],
   "source": [
    "originatingPeices_6 = originatingPeices_5.with_columns(pl.when(pl.col('ORIGIN_FACILITY') == pl.col('EXPECTED_DESTINATION_FACILITY')).then(1).otherwise(0).alias('oneFacility'))"
   ]
  },
  {
   "cell_type": "code",
   "execution_count": 291,
   "metadata": {},
   "outputs": [],
   "source": [
    "originatingPeices_6 = originatingPeices_6.filter(pl.col('ORIGIN_FACILITY') == 'MUSIC CITY ANNEX - 1532174')"
   ]
  },
  {
   "cell_type": "code",
   "execution_count": 292,
   "metadata": {},
   "outputs": [
    {
     "name": "stdout",
     "output_type": "stream",
     "text": [
      "# unique values\n",
      "UNIQUE_IDENTIFIER = 1810330\n",
      "START_THE_CLOCK_DATE = 13\n",
      "ORIGIN_FACILITY = 1\n",
      "EXPECTED_DESTINATION_FACILITY = 168\n",
      "MAIL_CLASS = 4\n",
      "MAIL_SHAPE = 3\n",
      "maxScan = 116\n",
      "originationInterval = 112\n",
      "oneFacility = 2\n"
     ]
    }
   ],
   "source": [
    "print('# unique values')\n",
    "for x in originatingPeices_6.columns:\n",
    "    count = originatingPeices_6[x].n_unique()\n",
    "    print(\"{} = {}\".format(x, count))"
   ]
  },
  {
   "cell_type": "code",
   "execution_count": 293,
   "metadata": {},
   "outputs": [
    {
     "data": {
      "image/png": "[encoded data removed]",
      "text/plain": [
       "<Figure size 640x480 with 1 Axes>"
      ]
     },
     "metadata": {},
     "output_type": "display_data"
    }
   ],
   "source": [
    "plt.hist(originatingPeices_6.select(pl.col('originationInterval')), bins=20)\n",
    "\n",
    "plt.xlabel('Days in Origination Facility')\n",
    "plt.ylabel('Days')\n",
    "plt.title('Distribution of Days in Origination Facility')\n",
    "plt.show()"
   ]
  },
  {
   "cell_type": "code",
   "execution_count": 294,
   "metadata": {},
   "outputs": [
    {
     "data": {
      "image/png": "[encoded data removed]",
      "text/plain": [
       "<Figure size 640x480 with 1 Axes>"
      ]
     },
     "metadata": {},
     "output_type": "display_data"
    }
   ],
   "source": [
    "plt.boxplot(originatingPeices_6.select(pl.col('originationInterval')), meanline=True)\n",
    "\n",
    "plt.xlabel('Days in Origination Facility')\n",
    "plt.ylabel('Days')\n",
    "plt.title('Distribution of Days in Origination Facility')\n",
    "plt.show()"
   ]
  },
  {
   "cell_type": "code",
   "execution_count": 295,
   "metadata": {},
   "outputs": [],
   "source": [
    "import scipy.stats as st"
   ]
  },
  {
   "cell_type": "code",
   "execution_count": 296,
   "metadata": {},
   "outputs": [
    {
     "data": {
      "text/plain": [
       "1.0"
      ]
     },
     "execution_count": 296,
     "metadata": {},
     "output_type": "execute_result"
    }
   ],
   "source": [
    "iqr = st.iqr(originatingPeices_6.select(pl.col('originationInterval')))\n",
    "iqr"
   ]
  },
  {
   "cell_type": "code",
   "execution_count": 297,
   "metadata": {},
   "outputs": [
    {
     "data": {
      "text/plain": [
       "2.0"
      ]
     },
     "execution_count": 297,
     "metadata": {},
     "output_type": "execute_result"
    }
   ],
   "source": [
    "q3 = st.scoreatpercentile(originatingPeices_6.select(pl.col('originationInterval')), per=75)\n",
    "q3"
   ]
  },
  {
   "cell_type": "code",
   "execution_count": 299,
   "metadata": {},
   "outputs": [
    {
     "data": {
      "text/plain": [
       "0.5"
      ]
     },
     "execution_count": 299,
     "metadata": {},
     "output_type": "execute_result"
    }
   ],
   "source": [
    "max= (q3 - 1.5 * iqr)\n",
    "max"
   ]
  },
  {
   "cell_type": "code",
   "execution_count": 304,
   "metadata": {},
   "outputs": [],
   "source": [
    "originatingPeices_7 = originatingPeices_6.filter((pl.col('originationInterval') < 5) &\n",
    "                                                 (pl.col('originationInterval') > 0))"
   ]
  },
  {
   "cell_type": "code",
   "execution_count": 305,
   "metadata": {},
   "outputs": [
    {
     "data": {
      "text/html": [
       "<div><style>\n",
       ".dataframe > thead > tr,\n",
       ".dataframe > tbody > tr {\n",
       "  text-align: right;\n",
       "  white-space: pre-wrap;\n",
       "}\n",
       "</style>\n",
       "<small>shape: (1, 9)</small><table border=\"1\" class=\"dataframe\"><thead><tr><th>UNIQUE_IDENTIFIER</th><th>START_THE_CLOCK_DATE</th><th>ORIGIN_FACILITY</th><th>EXPECTED_DESTINATION_FACILITY</th><th>MAIL_CLASS</th><th>MAIL_SHAPE</th><th>maxScan</th><th>originationInterval</th><th>oneFacility</th></tr><tr><td>u32</td><td>u32</td><td>u32</td><td>u32</td><td>u32</td><td>u32</td><td>u32</td><td>u32</td><td>u32</td></tr></thead><tbody><tr><td>1778663</td><td>1778663</td><td>1778663</td><td>1778663</td><td>1778663</td><td>1778663</td><td>1778663</td><td>1778663</td><td>1778663</td></tr></tbody></table></div>"
      ],
      "text/plain": [
       "shape: (1, 9)\n",
       "┌────────────┬───────────┬───────────┬───────────┬───┬───────────┬─────────┬───────────┬───────────┐\n",
       "│ UNIQUE_IDE ┆ START_THE ┆ ORIGIN_FA ┆ EXPECTED_ ┆ … ┆ MAIL_SHAP ┆ maxScan ┆ originati ┆ oneFacili │\n",
       "│ NTIFIER    ┆ _CLOCK_DA ┆ CILITY    ┆ DESTINATI ┆   ┆ E         ┆ ---     ┆ onInterva ┆ ty        │\n",
       "│ ---        ┆ TE        ┆ ---       ┆ ON_FACILI ┆   ┆ ---       ┆ u32     ┆ l         ┆ ---       │\n",
       "│ u32        ┆ ---       ┆ u32       ┆ TY        ┆   ┆ u32       ┆         ┆ ---       ┆ u32       │\n",
       "│            ┆ u32       ┆           ┆ ---       ┆   ┆           ┆         ┆ u32       ┆           │\n",
       "│            ┆           ┆           ┆ u32       ┆   ┆           ┆         ┆           ┆           │\n",
       "╞════════════╪═══════════╪═══════════╪═══════════╪═══╪═══════════╪═════════╪═══════════╪═══════════╡\n",
       "│ 1778663    ┆ 1778663   ┆ 1778663   ┆ 1778663   ┆ … ┆ 1778663   ┆ 1778663 ┆ 1778663   ┆ 1778663   │\n",
       "└────────────┴───────────┴───────────┴───────────┴───┴───────────┴─────────┴───────────┴───────────┘"
      ]
     },
     "execution_count": 305,
     "metadata": {},
     "output_type": "execute_result"
    }
   ],
   "source": [
    "originatingPeices_7.count()"
   ]
  },
  {
   "cell_type": "code",
   "execution_count": 306,
   "metadata": {},
   "outputs": [
    {
     "data": {
      "image/png": "[encoded data removed]",
      "text/plain": [
       "<Figure size 640x480 with 1 Axes>"
      ]
     },
     "metadata": {},
     "output_type": "display_data"
    }
   ],
   "source": [
    "plt.hist(originatingPeices_7.select(pl.col('originationInterval')), bins=20)\n",
    "\n",
    "plt.xlabel('Days in Origination Facility')\n",
    "plt.ylabel('Days')\n",
    "plt.title('Distribution of Days in Origination Facility')\n",
    "plt.show()"
   ]
  },
  {
   "cell_type": "code",
   "execution_count": 308,
   "metadata": {},
   "outputs": [
    {
     "name": "stderr",
     "output_type": "stream",
     "text": [
      "/var/folders/r6/6lnhxb15071_vwfk77wkdc9m0000gn/T/ipykernel_922/798443399.py:1: DeprecationWarning: `suffix` is deprecated. It has been moved to `name.suffix`.\n",
      "  originatingPeices_8 = originatingPeices_7.with_columns([pl.col(i).rank('dense').cast(pl.Int64).suffix('_encoded') for i in ['EXPECTED_DESTINATION_FACILITY', 'MAIL_CLASS', 'MAIL_SHAPE']])\n"
     ]
    }
   ],
   "source": [
    "originatingPeices_8 = originatingPeices_7.with_columns([pl.col(i).rank('dense').cast(pl.Int64).suffix('_encoded') for i in ['EXPECTED_DESTINATION_FACILITY', 'MAIL_CLASS', 'MAIL_SHAPE']])"
   ]
  },
  {
   "cell_type": "code",
   "execution_count": 309,
   "metadata": {},
   "outputs": [
    {
     "data": {
      "text/html": [
       "<div><style>\n",
       ".dataframe > thead > tr,\n",
       ".dataframe > tbody > tr {\n",
       "  text-align: right;\n",
       "  white-space: pre-wrap;\n",
       "}\n",
       "</style>\n",
       "<small>shape: (5, 12)</small><table border=\"1\" class=\"dataframe\"><thead><tr><th>UNIQUE_IDENTIFIER</th><th>START_THE_CLOCK_DATE</th><th>ORIGIN_FACILITY</th><th>EXPECTED_DESTINATION_FACILITY</th><th>MAIL_CLASS</th><th>MAIL_SHAPE</th><th>maxScan</th><th>originationInterval</th><th>oneFacility</th><th>EXPECTED_DESTINATION_FACILITY_encoded</th><th>MAIL_CLASS_encoded</th><th>MAIL_SHAPE_encoded</th></tr><tr><td>i64</td><td>i64</td><td>str</td><td>str</td><td>str</td><td>str</td><td>i64</td><td>i64</td><td>i32</td><td>i64</td><td>i64</td><td>i64</td></tr></thead><tbody><tr><td>287408501836752</td><td>19733</td><td>&quot;MUSIC CITY ANNEX - 1532174&quot;</td><td>&quot;MUSIC CITY ANNEX - 1532174&quot;</td><td>&quot;USPS Marketing Mail&quot;</td><td>&quot;Flat&quot;</td><td>19734</td><td>2</td><td>1</td><td>96</td><td>4</td><td>2</td></tr><tr><td>287744641281334</td><td>19742</td><td>&quot;MUSIC CITY ANNEX - 1532174&quot;</td><td>&quot;MUSIC CITY ANNEX - 1532174&quot;</td><td>&quot;Periodicals&quot;</td><td>&quot;Flat&quot;</td><td>19743</td><td>2</td><td>1</td><td>96</td><td>2</td><td>2</td></tr><tr><td>287810450733073</td><td>19741</td><td>&quot;MUSIC CITY ANNEX - 1532174&quot;</td><td>&quot;MUSIC CITY ANNEX - 1532174&quot;</td><td>&quot;USPS Marketing Mail&quot;</td><td>&quot;Flat&quot;</td><td>19741</td><td>1</td><td>1</td><td>96</td><td>4</td><td>2</td></tr><tr><td>287407400187497</td><td>19734</td><td>&quot;MUSIC CITY ANNEX - 1532174&quot;</td><td>&quot;MUSIC CITY ANNEX - 1532174&quot;</td><td>&quot;USPS Marketing Mail&quot;</td><td>&quot;Flat&quot;</td><td>19734</td><td>1</td><td>1</td><td>96</td><td>4</td><td>2</td></tr><tr><td>287527460559020</td><td>19741</td><td>&quot;MUSIC CITY ANNEX - 1532174&quot;</td><td>&quot;MUSIC CITY ANNEX - 1532174&quot;</td><td>&quot;Periodicals&quot;</td><td>&quot;Flat&quot;</td><td>19741</td><td>1</td><td>1</td><td>96</td><td>2</td><td>2</td></tr></tbody></table></div>"
      ],
      "text/plain": [
       "shape: (5, 12)\n",
       "┌───────────┬───────────┬───────────┬───────────┬───┬───────────┬───────────┬───────────┬──────────┐\n",
       "│ UNIQUE_ID ┆ START_THE ┆ ORIGIN_FA ┆ EXPECTED_ ┆ … ┆ oneFacili ┆ EXPECTED_ ┆ MAIL_CLAS ┆ MAIL_SHA │\n",
       "│ ENTIFIER  ┆ _CLOCK_DA ┆ CILITY    ┆ DESTINATI ┆   ┆ ty        ┆ DESTINATI ┆ S_encoded ┆ PE_encod │\n",
       "│ ---       ┆ TE        ┆ ---       ┆ ON_FACILI ┆   ┆ ---       ┆ ON_FACILI ┆ ---       ┆ ed       │\n",
       "│ i64       ┆ ---       ┆ str       ┆ TY        ┆   ┆ i32       ┆ TY_…      ┆ i64       ┆ ---      │\n",
       "│           ┆ i64       ┆           ┆ ---       ┆   ┆           ┆ ---       ┆           ┆ i64      │\n",
       "│           ┆           ┆           ┆ str       ┆   ┆           ┆ i64       ┆           ┆          │\n",
       "╞═══════════╪═══════════╪═══════════╪═══════════╪═══╪═══════════╪═══════════╪═══════════╪══════════╡\n",
       "│ 287408501 ┆ 19733     ┆ MUSIC     ┆ MUSIC     ┆ … ┆ 1         ┆ 96        ┆ 4         ┆ 2        │\n",
       "│ 836752    ┆           ┆ CITY      ┆ CITY      ┆   ┆           ┆           ┆           ┆          │\n",
       "│           ┆           ┆ ANNEX -   ┆ ANNEX -   ┆   ┆           ┆           ┆           ┆          │\n",
       "│           ┆           ┆ 1532174   ┆ 1532174   ┆   ┆           ┆           ┆           ┆          │\n",
       "│ 287744641 ┆ 19742     ┆ MUSIC     ┆ MUSIC     ┆ … ┆ 1         ┆ 96        ┆ 2         ┆ 2        │\n",
       "│ 281334    ┆           ┆ CITY      ┆ CITY      ┆   ┆           ┆           ┆           ┆          │\n",
       "│           ┆           ┆ ANNEX -   ┆ ANNEX -   ┆   ┆           ┆           ┆           ┆          │\n",
       "│           ┆           ┆ 1532174   ┆ 1532174   ┆   ┆           ┆           ┆           ┆          │\n",
       "│ 287810450 ┆ 19741     ┆ MUSIC     ┆ MUSIC     ┆ … ┆ 1         ┆ 96        ┆ 4         ┆ 2        │\n",
       "│ 733073    ┆           ┆ CITY      ┆ CITY      ┆   ┆           ┆           ┆           ┆          │\n",
       "│           ┆           ┆ ANNEX -   ┆ ANNEX -   ┆   ┆           ┆           ┆           ┆          │\n",
       "│           ┆           ┆ 1532174   ┆ 1532174   ┆   ┆           ┆           ┆           ┆          │\n",
       "│ 287407400 ┆ 19734     ┆ MUSIC     ┆ MUSIC     ┆ … ┆ 1         ┆ 96        ┆ 4         ┆ 2        │\n",
       "│ 187497    ┆           ┆ CITY      ┆ CITY      ┆   ┆           ┆           ┆           ┆          │\n",
       "│           ┆           ┆ ANNEX -   ┆ ANNEX -   ┆   ┆           ┆           ┆           ┆          │\n",
       "│           ┆           ┆ 1532174   ┆ 1532174   ┆   ┆           ┆           ┆           ┆          │\n",
       "│ 287527460 ┆ 19741     ┆ MUSIC     ┆ MUSIC     ┆ … ┆ 1         ┆ 96        ┆ 2         ┆ 2        │\n",
       "│ 559020    ┆           ┆ CITY      ┆ CITY      ┆   ┆           ┆           ┆           ┆          │\n",
       "│           ┆           ┆ ANNEX -   ┆ ANNEX -   ┆   ┆           ┆           ┆           ┆          │\n",
       "│           ┆           ┆ 1532174   ┆ 1532174   ┆   ┆           ┆           ┆           ┆          │\n",
       "└───────────┴───────────┴───────────┴───────────┴───┴───────────┴───────────┴───────────┴──────────┘"
      ]
     },
     "execution_count": 309,
     "metadata": {},
     "output_type": "execute_result"
    }
   ],
   "source": [
    "originatingPeices_8.head()"
   ]
  },
  {
   "cell_type": "code",
   "execution_count": 310,
   "metadata": {},
   "outputs": [],
   "source": [
    "originatingPeices_9 = originatingPeices_8.select(pl.col('UNIQUE_IDENTIFIER'),\n",
    "                                                 pl.col('START_THE_CLOCK_DATE').cast(pl.Date),\n",
    "                                                 pl.col('originationInterval'),\n",
    "                                                 pl.col('oneFacility'),\n",
    "                                                 pl.col('EXPECTED_DESTINATION_FACILITY_encoded'),\n",
    "                                                 pl.col('MAIL_CLASS_encoded'),\n",
    "                                                 pl.col('MAIL_SHAPE_encoded'))"
   ]
  },
  {
   "cell_type": "code",
   "execution_count": 313,
   "metadata": {},
   "outputs": [
    {
     "data": {
      "text/plain": [
       "datetime.date(2024, 1, 8)"
      ]
     },
     "execution_count": 313,
     "metadata": {},
     "output_type": "execute_result"
    }
   ],
   "source": [
    "originatingPeices_9['START_THE_CLOCK_DATE'].min()"
   ]
  },
  {
   "cell_type": "code",
   "execution_count": 314,
   "metadata": {},
   "outputs": [
    {
     "data": {
      "text/plain": [
       "datetime.date(2024, 1, 21)"
      ]
     },
     "execution_count": 314,
     "metadata": {},
     "output_type": "execute_result"
    }
   ],
   "source": [
    "originatingPeices_9['START_THE_CLOCK_DATE'].max()"
   ]
  },
  {
   "cell_type": "code",
   "execution_count": 348,
   "metadata": {},
   "outputs": [
    {
     "data": {
      "text/html": [
       "<div><style>\n",
       ".dataframe > thead > tr,\n",
       ".dataframe > tbody > tr {\n",
       "  text-align: right;\n",
       "  white-space: pre-wrap;\n",
       "}\n",
       "</style>\n",
       "<small>shape: (4, 2)</small><table border=\"1\" class=\"dataframe\"><thead><tr><th>originationInterval</th><th>len</th></tr><tr><td>i64</td><td>u32</td></tr></thead><tbody><tr><td>3</td><td>64342</td></tr><tr><td>4</td><td>10889</td></tr><tr><td>2</td><td>817228</td></tr><tr><td>1</td><td>886204</td></tr></tbody></table></div>"
      ],
      "text/plain": [
       "shape: (4, 2)\n",
       "┌─────────────────────┬────────┐\n",
       "│ originationInterval ┆ len    │\n",
       "│ ---                 ┆ ---    │\n",
       "│ i64                 ┆ u32    │\n",
       "╞═════════════════════╪════════╡\n",
       "│ 3                   ┆ 64342  │\n",
       "│ 4                   ┆ 10889  │\n",
       "│ 2                   ┆ 817228 │\n",
       "│ 1                   ┆ 886204 │\n",
       "└─────────────────────┴────────┘"
      ]
     },
     "execution_count": 348,
     "metadata": {},
     "output_type": "execute_result"
    }
   ],
   "source": [
    "originatingPeices_9.group_by('originationInterval').len()"
   ]
  },
  {
   "cell_type": "code",
   "execution_count": 315,
   "metadata": {},
   "outputs": [],
   "source": [
    "weather = pl.read_csv('../Weather_Data/10dayforcast.csv', try_parse_dates=True)"
   ]
  },
  {
   "cell_type": "code",
   "execution_count": 316,
   "metadata": {},
   "outputs": [
    {
     "data": {
      "text/html": [
       "<div><style>\n",
       ".dataframe > thead > tr,\n",
       ".dataframe > tbody > tr {\n",
       "  text-align: right;\n",
       "  white-space: pre-wrap;\n",
       "}\n",
       "</style>\n",
       "<small>shape: (5, 34)</small><table border=\"1\" class=\"dataframe\"><thead><tr><th>DATE</th><th>Day0_PRCP</th><th>Day1_PRCP</th><th>Day2_PRCP</th><th>Day3_PRCP</th><th>Day4_PRCP</th><th>Day5_PRCP</th><th>Day6_PRCP</th><th>Day7_PRCP</th><th>Day8_PRCP</th><th>Day9_PRCP</th><th>Day10_PRCP</th><th>Day0_SNOW</th><th>Day1_SNOW</th><th>Day2_SNOW</th><th>Day3_SNOW</th><th>Day4_SNOW</th><th>Day5_SNOW</th><th>Day6_SNOW</th><th>Day7_SNOW</th><th>Day8_SNOW</th><th>Day9_SNOW</th><th>Day10_SNOW</th><th>Day0_SNWD</th><th>Day1_SNWD</th><th>Day2_SNWD</th><th>Day3_SNWD</th><th>Day4_SNWD</th><th>Day5_SNWD</th><th>Day6_SNWD</th><th>Day7_SNWD</th><th>Day8_SNWD</th><th>Day9_SNWD</th><th>Day10_SNWD</th></tr><tr><td>str</td><td>f64</td><td>f64</td><td>f64</td><td>f64</td><td>f64</td><td>f64</td><td>f64</td><td>f64</td><td>f64</td><td>f64</td><td>f64</td><td>f64</td><td>f64</td><td>f64</td><td>f64</td><td>f64</td><td>f64</td><td>f64</td><td>f64</td><td>f64</td><td>i64</td><td>i64</td><td>f64</td><td>f64</td><td>f64</td><td>f64</td><td>f64</td><td>f64</td><td>f64</td><td>f64</td><td>f64</td><td>f64</td><td>f64</td></tr></thead><tbody><tr><td>&quot;1/8/24&quot;</td><td>0.0</td><td>0.625</td><td>0.02</td><td>0.0</td><td>0.646667</td><td>0.105</td><td>0.0</td><td>0.415</td><td>0.175</td><td>0.0</td><td>0.0</td><td>0.0</td><td>0.0</td><td>0.0</td><td>0.0</td><td>0.0</td><td>0.0</td><td>0.0</td><td>3.2</td><td>2.1</td><td>0</td><td>0</td><td>0.0</td><td>0.0</td><td>0.0</td><td>0.0</td><td>0.0</td><td>0.0</td><td>0.0</td><td>0.0</td><td>5.2</td><td>4.5</td><td>4.0</td></tr><tr><td>&quot;1/9/24&quot;</td><td>0.625</td><td>0.02</td><td>0.0</td><td>0.646667</td><td>0.105</td><td>0.0</td><td>0.415</td><td>0.175</td><td>0.0</td><td>0.0</td><td>0.16</td><td>0.0</td><td>0.0</td><td>0.0</td><td>0.0</td><td>0.0</td><td>0.0</td><td>3.2</td><td>2.1</td><td>0.0</td><td>0</td><td>0</td><td>0.0</td><td>0.0</td><td>0.0</td><td>0.0</td><td>0.0</td><td>0.0</td><td>0.0</td><td>5.2</td><td>4.5</td><td>4.0</td><td>2.5</td></tr><tr><td>&quot;1/10/24&quot;</td><td>0.02</td><td>0.0</td><td>0.646667</td><td>0.105</td><td>0.0</td><td>0.415</td><td>0.175</td><td>0.0</td><td>0.0</td><td>0.16</td><td>0.0</td><td>0.0</td><td>0.0</td><td>0.0</td><td>0.0</td><td>0.0</td><td>3.2</td><td>2.1</td><td>0.0</td><td>0.0</td><td>0</td><td>0</td><td>0.0</td><td>0.0</td><td>0.0</td><td>0.0</td><td>0.0</td><td>0.0</td><td>5.2</td><td>4.5</td><td>4.0</td><td>2.5</td><td>2.0</td></tr><tr><td>&quot;1/11/24&quot;</td><td>0.0</td><td>0.646667</td><td>0.105</td><td>0.0</td><td>0.415</td><td>0.175</td><td>0.0</td><td>0.0</td><td>0.16</td><td>0.0</td><td>0.0</td><td>0.0</td><td>0.0</td><td>0.0</td><td>0.0</td><td>3.2</td><td>2.1</td><td>0.0</td><td>0.0</td><td>0.0</td><td>0</td><td>0</td><td>0.0</td><td>0.0</td><td>0.0</td><td>0.0</td><td>0.0</td><td>5.2</td><td>4.5</td><td>4.0</td><td>2.5</td><td>2.0</td><td>2.0</td></tr><tr><td>&quot;1/12/24&quot;</td><td>0.646667</td><td>0.105</td><td>0.0</td><td>0.415</td><td>0.175</td><td>0.0</td><td>0.0</td><td>0.16</td><td>0.0</td><td>0.0</td><td>0.0</td><td>0.0</td><td>0.0</td><td>0.0</td><td>3.2</td><td>2.1</td><td>0.0</td><td>0.0</td><td>0.0</td><td>0.0</td><td>0</td><td>0</td><td>0.0</td><td>0.0</td><td>0.0</td><td>0.0</td><td>5.2</td><td>4.5</td><td>4.0</td><td>2.5</td><td>2.0</td><td>2.0</td><td>1.5</td></tr></tbody></table></div>"
      ],
      "text/plain": [
       "shape: (5, 34)\n",
       "┌─────────┬───────────┬───────────┬───────────┬───┬───────────┬───────────┬───────────┬────────────┐\n",
       "│ DATE    ┆ Day0_PRCP ┆ Day1_PRCP ┆ Day2_PRCP ┆ … ┆ Day7_SNWD ┆ Day8_SNWD ┆ Day9_SNWD ┆ Day10_SNWD │\n",
       "│ ---     ┆ ---       ┆ ---       ┆ ---       ┆   ┆ ---       ┆ ---       ┆ ---       ┆ ---        │\n",
       "│ str     ┆ f64       ┆ f64       ┆ f64       ┆   ┆ f64       ┆ f64       ┆ f64       ┆ f64        │\n",
       "╞═════════╪═══════════╪═══════════╪═══════════╪═══╪═══════════╪═══════════╪═══════════╪════════════╡\n",
       "│ 1/8/24  ┆ 0.0       ┆ 0.625     ┆ 0.02      ┆ … ┆ 0.0       ┆ 5.2       ┆ 4.5       ┆ 4.0        │\n",
       "│ 1/9/24  ┆ 0.625     ┆ 0.02      ┆ 0.0       ┆ … ┆ 5.2       ┆ 4.5       ┆ 4.0       ┆ 2.5        │\n",
       "│ 1/10/24 ┆ 0.02      ┆ 0.0       ┆ 0.646667  ┆ … ┆ 4.5       ┆ 4.0       ┆ 2.5       ┆ 2.0        │\n",
       "│ 1/11/24 ┆ 0.0       ┆ 0.646667  ┆ 0.105     ┆ … ┆ 4.0       ┆ 2.5       ┆ 2.0       ┆ 2.0        │\n",
       "│ 1/12/24 ┆ 0.646667  ┆ 0.105     ┆ 0.0       ┆ … ┆ 2.5       ┆ 2.0       ┆ 2.0       ┆ 1.5        │\n",
       "└─────────┴───────────┴───────────┴───────────┴───┴───────────┴───────────┴───────────┴────────────┘"
      ]
     },
     "execution_count": 316,
     "metadata": {},
     "output_type": "execute_result"
    }
   ],
   "source": [
    "weather.head()"
   ]
  },
  {
   "cell_type": "code",
   "execution_count": 317,
   "metadata": {},
   "outputs": [],
   "source": [
    "weather = weather.with_columns(pl.col('DATE').str.to_date('%m/%d/%y'))"
   ]
  },
  {
   "cell_type": "code",
   "execution_count": 318,
   "metadata": {},
   "outputs": [
    {
     "data": {
      "text/html": [
       "<div><style>\n",
       ".dataframe > thead > tr,\n",
       ".dataframe > tbody > tr {\n",
       "  text-align: right;\n",
       "  white-space: pre-wrap;\n",
       "}\n",
       "</style>\n",
       "<small>shape: (5, 34)</small><table border=\"1\" class=\"dataframe\"><thead><tr><th>DATE</th><th>Day0_PRCP</th><th>Day1_PRCP</th><th>Day2_PRCP</th><th>Day3_PRCP</th><th>Day4_PRCP</th><th>Day5_PRCP</th><th>Day6_PRCP</th><th>Day7_PRCP</th><th>Day8_PRCP</th><th>Day9_PRCP</th><th>Day10_PRCP</th><th>Day0_SNOW</th><th>Day1_SNOW</th><th>Day2_SNOW</th><th>Day3_SNOW</th><th>Day4_SNOW</th><th>Day5_SNOW</th><th>Day6_SNOW</th><th>Day7_SNOW</th><th>Day8_SNOW</th><th>Day9_SNOW</th><th>Day10_SNOW</th><th>Day0_SNWD</th><th>Day1_SNWD</th><th>Day2_SNWD</th><th>Day3_SNWD</th><th>Day4_SNWD</th><th>Day5_SNWD</th><th>Day6_SNWD</th><th>Day7_SNWD</th><th>Day8_SNWD</th><th>Day9_SNWD</th><th>Day10_SNWD</th></tr><tr><td>date</td><td>f64</td><td>f64</td><td>f64</td><td>f64</td><td>f64</td><td>f64</td><td>f64</td><td>f64</td><td>f64</td><td>f64</td><td>f64</td><td>f64</td><td>f64</td><td>f64</td><td>f64</td><td>f64</td><td>f64</td><td>f64</td><td>f64</td><td>f64</td><td>i64</td><td>i64</td><td>f64</td><td>f64</td><td>f64</td><td>f64</td><td>f64</td><td>f64</td><td>f64</td><td>f64</td><td>f64</td><td>f64</td><td>f64</td></tr></thead><tbody><tr><td>2024-01-08</td><td>0.0</td><td>0.625</td><td>0.02</td><td>0.0</td><td>0.646667</td><td>0.105</td><td>0.0</td><td>0.415</td><td>0.175</td><td>0.0</td><td>0.0</td><td>0.0</td><td>0.0</td><td>0.0</td><td>0.0</td><td>0.0</td><td>0.0</td><td>0.0</td><td>3.2</td><td>2.1</td><td>0</td><td>0</td><td>0.0</td><td>0.0</td><td>0.0</td><td>0.0</td><td>0.0</td><td>0.0</td><td>0.0</td><td>0.0</td><td>5.2</td><td>4.5</td><td>4.0</td></tr><tr><td>2024-01-09</td><td>0.625</td><td>0.02</td><td>0.0</td><td>0.646667</td><td>0.105</td><td>0.0</td><td>0.415</td><td>0.175</td><td>0.0</td><td>0.0</td><td>0.16</td><td>0.0</td><td>0.0</td><td>0.0</td><td>0.0</td><td>0.0</td><td>0.0</td><td>3.2</td><td>2.1</td><td>0.0</td><td>0</td><td>0</td><td>0.0</td><td>0.0</td><td>0.0</td><td>0.0</td><td>0.0</td><td>0.0</td><td>0.0</td><td>5.2</td><td>4.5</td><td>4.0</td><td>2.5</td></tr><tr><td>2024-01-10</td><td>0.02</td><td>0.0</td><td>0.646667</td><td>0.105</td><td>0.0</td><td>0.415</td><td>0.175</td><td>0.0</td><td>0.0</td><td>0.16</td><td>0.0</td><td>0.0</td><td>0.0</td><td>0.0</td><td>0.0</td><td>0.0</td><td>3.2</td><td>2.1</td><td>0.0</td><td>0.0</td><td>0</td><td>0</td><td>0.0</td><td>0.0</td><td>0.0</td><td>0.0</td><td>0.0</td><td>0.0</td><td>5.2</td><td>4.5</td><td>4.0</td><td>2.5</td><td>2.0</td></tr><tr><td>2024-01-11</td><td>0.0</td><td>0.646667</td><td>0.105</td><td>0.0</td><td>0.415</td><td>0.175</td><td>0.0</td><td>0.0</td><td>0.16</td><td>0.0</td><td>0.0</td><td>0.0</td><td>0.0</td><td>0.0</td><td>0.0</td><td>3.2</td><td>2.1</td><td>0.0</td><td>0.0</td><td>0.0</td><td>0</td><td>0</td><td>0.0</td><td>0.0</td><td>0.0</td><td>0.0</td><td>0.0</td><td>5.2</td><td>4.5</td><td>4.0</td><td>2.5</td><td>2.0</td><td>2.0</td></tr><tr><td>2024-01-12</td><td>0.646667</td><td>0.105</td><td>0.0</td><td>0.415</td><td>0.175</td><td>0.0</td><td>0.0</td><td>0.16</td><td>0.0</td><td>0.0</td><td>0.0</td><td>0.0</td><td>0.0</td><td>0.0</td><td>3.2</td><td>2.1</td><td>0.0</td><td>0.0</td><td>0.0</td><td>0.0</td><td>0</td><td>0</td><td>0.0</td><td>0.0</td><td>0.0</td><td>0.0</td><td>5.2</td><td>4.5</td><td>4.0</td><td>2.5</td><td>2.0</td><td>2.0</td><td>1.5</td></tr></tbody></table></div>"
      ],
      "text/plain": [
       "shape: (5, 34)\n",
       "┌───────────┬───────────┬───────────┬───────────┬───┬───────────┬───────────┬───────────┬──────────┐\n",
       "│ DATE      ┆ Day0_PRCP ┆ Day1_PRCP ┆ Day2_PRCP ┆ … ┆ Day7_SNWD ┆ Day8_SNWD ┆ Day9_SNWD ┆ Day10_SN │\n",
       "│ ---       ┆ ---       ┆ ---       ┆ ---       ┆   ┆ ---       ┆ ---       ┆ ---       ┆ WD       │\n",
       "│ date      ┆ f64       ┆ f64       ┆ f64       ┆   ┆ f64       ┆ f64       ┆ f64       ┆ ---      │\n",
       "│           ┆           ┆           ┆           ┆   ┆           ┆           ┆           ┆ f64      │\n",
       "╞═══════════╪═══════════╪═══════════╪═══════════╪═══╪═══════════╪═══════════╪═══════════╪══════════╡\n",
       "│ 2024-01-0 ┆ 0.0       ┆ 0.625     ┆ 0.02      ┆ … ┆ 0.0       ┆ 5.2       ┆ 4.5       ┆ 4.0      │\n",
       "│ 8         ┆           ┆           ┆           ┆   ┆           ┆           ┆           ┆          │\n",
       "│ 2024-01-0 ┆ 0.625     ┆ 0.02      ┆ 0.0       ┆ … ┆ 5.2       ┆ 4.5       ┆ 4.0       ┆ 2.5      │\n",
       "│ 9         ┆           ┆           ┆           ┆   ┆           ┆           ┆           ┆          │\n",
       "│ 2024-01-1 ┆ 0.02      ┆ 0.0       ┆ 0.646667  ┆ … ┆ 4.5       ┆ 4.0       ┆ 2.5       ┆ 2.0      │\n",
       "│ 0         ┆           ┆           ┆           ┆   ┆           ┆           ┆           ┆          │\n",
       "│ 2024-01-1 ┆ 0.0       ┆ 0.646667  ┆ 0.105     ┆ … ┆ 4.0       ┆ 2.5       ┆ 2.0       ┆ 2.0      │\n",
       "│ 1         ┆           ┆           ┆           ┆   ┆           ┆           ┆           ┆          │\n",
       "│ 2024-01-1 ┆ 0.646667  ┆ 0.105     ┆ 0.0       ┆ … ┆ 2.5       ┆ 2.0       ┆ 2.0       ┆ 1.5      │\n",
       "│ 2         ┆           ┆           ┆           ┆   ┆           ┆           ┆           ┆          │\n",
       "└───────────┴───────────┴───────────┴───────────┴───┴───────────┴───────────┴───────────┴──────────┘"
      ]
     },
     "execution_count": 318,
     "metadata": {},
     "output_type": "execute_result"
    }
   ],
   "source": [
    "weather.head()"
   ]
  },
  {
   "cell_type": "code",
   "execution_count": 319,
   "metadata": {},
   "outputs": [],
   "source": [
    "dfModel = originatingPeices_9.join(weather, left_on='START_THE_CLOCK_DATE', right_on='DATE')"
   ]
  },
  {
   "cell_type": "code",
   "execution_count": 320,
   "metadata": {},
   "outputs": [
    {
     "data": {
      "text/html": [
       "<div><style>\n",
       ".dataframe > thead > tr,\n",
       ".dataframe > tbody > tr {\n",
       "  text-align: right;\n",
       "  white-space: pre-wrap;\n",
       "}\n",
       "</style>\n",
       "<small>shape: (5, 40)</small><table border=\"1\" class=\"dataframe\"><thead><tr><th>UNIQUE_IDENTIFIER</th><th>START_THE_CLOCK_DATE</th><th>originationInterval</th><th>oneFacility</th><th>EXPECTED_DESTINATION_FACILITY_encoded</th><th>MAIL_CLASS_encoded</th><th>MAIL_SHAPE_encoded</th><th>Day0_PRCP</th><th>Day1_PRCP</th><th>Day2_PRCP</th><th>Day3_PRCP</th><th>Day4_PRCP</th><th>Day5_PRCP</th><th>Day6_PRCP</th><th>Day7_PRCP</th><th>Day8_PRCP</th><th>Day9_PRCP</th><th>Day10_PRCP</th><th>Day0_SNOW</th><th>Day1_SNOW</th><th>Day2_SNOW</th><th>Day3_SNOW</th><th>Day4_SNOW</th><th>Day5_SNOW</th><th>Day6_SNOW</th><th>Day7_SNOW</th><th>Day8_SNOW</th><th>Day9_SNOW</th><th>Day10_SNOW</th><th>Day0_SNWD</th><th>Day1_SNWD</th><th>Day2_SNWD</th><th>Day3_SNWD</th><th>Day4_SNWD</th><th>Day5_SNWD</th><th>Day6_SNWD</th><th>Day7_SNWD</th><th>Day8_SNWD</th><th>Day9_SNWD</th><th>Day10_SNWD</th></tr><tr><td>i64</td><td>date</td><td>i64</td><td>i32</td><td>i64</td><td>i64</td><td>i64</td><td>f64</td><td>f64</td><td>f64</td><td>f64</td><td>f64</td><td>f64</td><td>f64</td><td>f64</td><td>f64</td><td>f64</td><td>f64</td><td>f64</td><td>f64</td><td>f64</td><td>f64</td><td>f64</td><td>f64</td><td>f64</td><td>f64</td><td>f64</td><td>i64</td><td>i64</td><td>f64</td><td>f64</td><td>f64</td><td>f64</td><td>f64</td><td>f64</td><td>f64</td><td>f64</td><td>f64</td><td>f64</td><td>f64</td></tr></thead><tbody><tr><td>287408501836752</td><td>2024-01-11</td><td>2</td><td>1</td><td>96</td><td>4</td><td>2</td><td>0.0</td><td>0.646667</td><td>0.105</td><td>0.0</td><td>0.415</td><td>0.175</td><td>0.0</td><td>0.0</td><td>0.16</td><td>0.0</td><td>0.0</td><td>0.0</td><td>0.0</td><td>0.0</td><td>0.0</td><td>3.2</td><td>2.1</td><td>0.0</td><td>0.0</td><td>0.0</td><td>0</td><td>0</td><td>0.0</td><td>0.0</td><td>0.0</td><td>0.0</td><td>0.0</td><td>5.2</td><td>4.5</td><td>4.0</td><td>2.5</td><td>2.0</td><td>2.0</td></tr><tr><td>287744641281334</td><td>2024-01-20</td><td>2</td><td>1</td><td>96</td><td>2</td><td>2</td><td>0.0</td><td>0.0</td><td>0.0</td><td>0.0</td><td>0.283333</td><td>0.366667</td><td>0.685</td><td>0.306667</td><td>0.11</td><td>0.01</td><td>0.01</td><td>0.0</td><td>0.0</td><td>0.0</td><td>0.0</td><td>0.0</td><td>0.0</td><td>0.0</td><td>0.0</td><td>0.0</td><td>0</td><td>0</td><td>2.0</td><td>2.0</td><td>1.5</td><td>0.0</td><td>0.0</td><td>0.0</td><td>0.0</td><td>0.0</td><td>0.0</td><td>0.0</td><td>0.0</td></tr><tr><td>287810450733073</td><td>2024-01-19</td><td>1</td><td>1</td><td>96</td><td>4</td><td>2</td><td>0.16</td><td>0.0</td><td>0.0</td><td>0.0</td><td>0.0</td><td>0.283333</td><td>0.366667</td><td>0.685</td><td>0.306667</td><td>0.11</td><td>0.01</td><td>0.0</td><td>0.0</td><td>0.0</td><td>0.0</td><td>0.0</td><td>0.0</td><td>0.0</td><td>0.0</td><td>0.0</td><td>0</td><td>0</td><td>2.5</td><td>2.0</td><td>2.0</td><td>1.5</td><td>0.0</td><td>0.0</td><td>0.0</td><td>0.0</td><td>0.0</td><td>0.0</td><td>0.0</td></tr><tr><td>287407400187497</td><td>2024-01-12</td><td>1</td><td>1</td><td>96</td><td>4</td><td>2</td><td>0.646667</td><td>0.105</td><td>0.0</td><td>0.415</td><td>0.175</td><td>0.0</td><td>0.0</td><td>0.16</td><td>0.0</td><td>0.0</td><td>0.0</td><td>0.0</td><td>0.0</td><td>0.0</td><td>3.2</td><td>2.1</td><td>0.0</td><td>0.0</td><td>0.0</td><td>0.0</td><td>0</td><td>0</td><td>0.0</td><td>0.0</td><td>0.0</td><td>0.0</td><td>5.2</td><td>4.5</td><td>4.0</td><td>2.5</td><td>2.0</td><td>2.0</td><td>1.5</td></tr><tr><td>287527460559020</td><td>2024-01-19</td><td>1</td><td>1</td><td>96</td><td>2</td><td>2</td><td>0.16</td><td>0.0</td><td>0.0</td><td>0.0</td><td>0.0</td><td>0.283333</td><td>0.366667</td><td>0.685</td><td>0.306667</td><td>0.11</td><td>0.01</td><td>0.0</td><td>0.0</td><td>0.0</td><td>0.0</td><td>0.0</td><td>0.0</td><td>0.0</td><td>0.0</td><td>0.0</td><td>0</td><td>0</td><td>2.5</td><td>2.0</td><td>2.0</td><td>1.5</td><td>0.0</td><td>0.0</td><td>0.0</td><td>0.0</td><td>0.0</td><td>0.0</td><td>0.0</td></tr></tbody></table></div>"
      ],
      "text/plain": [
       "shape: (5, 40)\n",
       "┌───────────┬───────────┬───────────┬───────────┬───┬───────────┬───────────┬───────────┬──────────┐\n",
       "│ UNIQUE_ID ┆ START_THE ┆ originati ┆ oneFacili ┆ … ┆ Day7_SNWD ┆ Day8_SNWD ┆ Day9_SNWD ┆ Day10_SN │\n",
       "│ ENTIFIER  ┆ _CLOCK_DA ┆ onInterva ┆ ty        ┆   ┆ ---       ┆ ---       ┆ ---       ┆ WD       │\n",
       "│ ---       ┆ TE        ┆ l         ┆ ---       ┆   ┆ f64       ┆ f64       ┆ f64       ┆ ---      │\n",
       "│ i64       ┆ ---       ┆ ---       ┆ i32       ┆   ┆           ┆           ┆           ┆ f64      │\n",
       "│           ┆ date      ┆ i64       ┆           ┆   ┆           ┆           ┆           ┆          │\n",
       "╞═══════════╪═══════════╪═══════════╪═══════════╪═══╪═══════════╪═══════════╪═══════════╪══════════╡\n",
       "│ 287408501 ┆ 2024-01-1 ┆ 2         ┆ 1         ┆ … ┆ 4.0       ┆ 2.5       ┆ 2.0       ┆ 2.0      │\n",
       "│ 836752    ┆ 1         ┆           ┆           ┆   ┆           ┆           ┆           ┆          │\n",
       "│ 287744641 ┆ 2024-01-2 ┆ 2         ┆ 1         ┆ … ┆ 0.0       ┆ 0.0       ┆ 0.0       ┆ 0.0      │\n",
       "│ 281334    ┆ 0         ┆           ┆           ┆   ┆           ┆           ┆           ┆          │\n",
       "│ 287810450 ┆ 2024-01-1 ┆ 1         ┆ 1         ┆ … ┆ 0.0       ┆ 0.0       ┆ 0.0       ┆ 0.0      │\n",
       "│ 733073    ┆ 9         ┆           ┆           ┆   ┆           ┆           ┆           ┆          │\n",
       "│ 287407400 ┆ 2024-01-1 ┆ 1         ┆ 1         ┆ … ┆ 2.5       ┆ 2.0       ┆ 2.0       ┆ 1.5      │\n",
       "│ 187497    ┆ 2         ┆           ┆           ┆   ┆           ┆           ┆           ┆          │\n",
       "│ 287527460 ┆ 2024-01-1 ┆ 1         ┆ 1         ┆ … ┆ 0.0       ┆ 0.0       ┆ 0.0       ┆ 0.0      │\n",
       "│ 559020    ┆ 9         ┆           ┆           ┆   ┆           ┆           ┆           ┆          │\n",
       "└───────────┴───────────┴───────────┴───────────┴───┴───────────┴───────────┴───────────┴──────────┘"
      ]
     },
     "execution_count": 320,
     "metadata": {},
     "output_type": "execute_result"
    }
   ],
   "source": [
    "dfModel.head()"
   ]
  },
  {
   "cell_type": "code",
   "execution_count": 321,
   "metadata": {},
   "outputs": [],
   "source": [
    "dfModel = dfModel.drop(['UNIQUE_IDENTIFIER', 'START_THE_CLOCK_DATE'])"
   ]
  },
  {
   "cell_type": "code",
   "execution_count": 389,
   "metadata": {},
   "outputs": [],
   "source": [
    "import sklearn\n",
    "from sklearn.utils import resample,shuffle\n",
    "from sklearn.model_selection import train_test_split, RandomizedSearchCV\n",
    "from sklearn.ensemble import RandomForestClassifier\n",
    "from sklearn.metrics import accuracy_score, confusion_matrix, precision_score, recall_score, ConfusionMatrixDisplay\n",
    "from scipy.stats import randint\n",
    "from sklearn.preprocessing import StandardScaler"
   ]
  },
  {
   "cell_type": "code",
   "execution_count": 361,
   "metadata": {},
   "outputs": [],
   "source": [
    "day_1 = dfModel.filter(pl.col('originationInterval') == 1)"
   ]
  },
  {
   "cell_type": "code",
   "execution_count": 362,
   "metadata": {},
   "outputs": [],
   "source": [
    "day_2 = dfModel.filter(pl.col('originationInterval') == 2)"
   ]
  },
  {
   "cell_type": "code",
   "execution_count": 363,
   "metadata": {},
   "outputs": [],
   "source": [
    "day_3 = dfModel.filter(pl.col('originationInterval') == 3)"
   ]
  },
  {
   "cell_type": "code",
   "execution_count": 364,
   "metadata": {},
   "outputs": [],
   "source": [
    "day_4 = dfModel.filter(pl.col('originationInterval') == 4)"
   ]
  },
  {
   "cell_type": "code",
   "execution_count": 366,
   "metadata": {},
   "outputs": [],
   "source": [
    "day_1_resample = resample(day_1, random_state=96, n_samples=25000, replace=True)\n"
   ]
  },
  {
   "cell_type": "code",
   "execution_count": 367,
   "metadata": {},
   "outputs": [],
   "source": [
    "day_2_resample = resample(day_2, random_state=96, n_samples=25000, replace=True)"
   ]
  },
  {
   "cell_type": "code",
   "execution_count": 368,
   "metadata": {},
   "outputs": [],
   "source": [
    "day_3_resample = resample(day_3, random_state=96, n_samples=25000, replace=True)"
   ]
  },
  {
   "cell_type": "code",
   "execution_count": 369,
   "metadata": {},
   "outputs": [],
   "source": [
    "day_4_resample = resample(day_4, random_state=96, n_samples=25000, replace=True)"
   ]
  },
  {
   "cell_type": "code",
   "execution_count": 371,
   "metadata": {},
   "outputs": [],
   "source": [
    "df_resampled = pl.concat([day_1_resample, day_2_resample, day_3_resample, day_4_resample])"
   ]
  },
  {
   "cell_type": "code",
   "execution_count": 372,
   "metadata": {},
   "outputs": [
    {
     "data": {
      "text/html": [
       "<div><style>\n",
       ".dataframe > thead > tr,\n",
       ".dataframe > tbody > tr {\n",
       "  text-align: right;\n",
       "  white-space: pre-wrap;\n",
       "}\n",
       "</style>\n",
       "<small>shape: (1, 38)</small><table border=\"1\" class=\"dataframe\"><thead><tr><th>originationInterval</th><th>oneFacility</th><th>EXPECTED_DESTINATION_FACILITY_encoded</th><th>MAIL_CLASS_encoded</th><th>MAIL_SHAPE_encoded</th><th>Day0_PRCP</th><th>Day1_PRCP</th><th>Day2_PRCP</th><th>Day3_PRCP</th><th>Day4_PRCP</th><th>Day5_PRCP</th><th>Day6_PRCP</th><th>Day7_PRCP</th><th>Day8_PRCP</th><th>Day9_PRCP</th><th>Day10_PRCP</th><th>Day0_SNOW</th><th>Day1_SNOW</th><th>Day2_SNOW</th><th>Day3_SNOW</th><th>Day4_SNOW</th><th>Day5_SNOW</th><th>Day6_SNOW</th><th>Day7_SNOW</th><th>Day8_SNOW</th><th>Day9_SNOW</th><th>Day10_SNOW</th><th>Day0_SNWD</th><th>Day1_SNWD</th><th>Day2_SNWD</th><th>Day3_SNWD</th><th>Day4_SNWD</th><th>Day5_SNWD</th><th>Day6_SNWD</th><th>Day7_SNWD</th><th>Day8_SNWD</th><th>Day9_SNWD</th><th>Day10_SNWD</th></tr><tr><td>u32</td><td>u32</td><td>u32</td><td>u32</td><td>u32</td><td>u32</td><td>u32</td><td>u32</td><td>u32</td><td>u32</td><td>u32</td><td>u32</td><td>u32</td><td>u32</td><td>u32</td><td>u32</td><td>u32</td><td>u32</td><td>u32</td><td>u32</td><td>u32</td><td>u32</td><td>u32</td><td>u32</td><td>u32</td><td>u32</td><td>u32</td><td>u32</td><td>u32</td><td>u32</td><td>u32</td><td>u32</td><td>u32</td><td>u32</td><td>u32</td><td>u32</td><td>u32</td><td>u32</td></tr></thead><tbody><tr><td>100000</td><td>100000</td><td>100000</td><td>100000</td><td>100000</td><td>100000</td><td>100000</td><td>100000</td><td>100000</td><td>100000</td><td>100000</td><td>100000</td><td>100000</td><td>100000</td><td>100000</td><td>100000</td><td>100000</td><td>100000</td><td>100000</td><td>100000</td><td>100000</td><td>100000</td><td>100000</td><td>100000</td><td>100000</td><td>100000</td><td>100000</td><td>100000</td><td>100000</td><td>100000</td><td>100000</td><td>100000</td><td>100000</td><td>100000</td><td>100000</td><td>100000</td><td>100000</td><td>100000</td></tr></tbody></table></div>"
      ],
      "text/plain": [
       "shape: (1, 38)\n",
       "┌───────────┬───────────┬───────────┬───────────┬───┬───────────┬───────────┬───────────┬──────────┐\n",
       "│ originati ┆ oneFacili ┆ EXPECTED_ ┆ MAIL_CLAS ┆ … ┆ Day7_SNWD ┆ Day8_SNWD ┆ Day9_SNWD ┆ Day10_SN │\n",
       "│ onInterva ┆ ty        ┆ DESTINATI ┆ S_encoded ┆   ┆ ---       ┆ ---       ┆ ---       ┆ WD       │\n",
       "│ l         ┆ ---       ┆ ON_FACILI ┆ ---       ┆   ┆ u32       ┆ u32       ┆ u32       ┆ ---      │\n",
       "│ ---       ┆ u32       ┆ TY_…      ┆ u32       ┆   ┆           ┆           ┆           ┆ u32      │\n",
       "│ u32       ┆           ┆ ---       ┆           ┆   ┆           ┆           ┆           ┆          │\n",
       "│           ┆           ┆ u32       ┆           ┆   ┆           ┆           ┆           ┆          │\n",
       "╞═══════════╪═══════════╪═══════════╪═══════════╪═══╪═══════════╪═══════════╪═══════════╪══════════╡\n",
       "│ 100000    ┆ 100000    ┆ 100000    ┆ 100000    ┆ … ┆ 100000    ┆ 100000    ┆ 100000    ┆ 100000   │\n",
       "└───────────┴───────────┴───────────┴───────────┴───┴───────────┴───────────┴───────────┴──────────┘"
      ]
     },
     "execution_count": 372,
     "metadata": {},
     "output_type": "execute_result"
    }
   ],
   "source": [
    "df_resampled.count()"
   ]
  },
  {
   "cell_type": "code",
   "execution_count": 328,
   "metadata": {},
   "outputs": [],
   "source": [
    "x = dfModel.drop('originationInterval')"
   ]
  },
  {
   "cell_type": "code",
   "execution_count": 373,
   "metadata": {},
   "outputs": [],
   "source": [
    "y = dfModel['originationInterval']"
   ]
  },
  {
   "cell_type": "code",
   "execution_count": 330,
   "metadata": {},
   "outputs": [],
   "source": [
    "x_train, x_test, y_train, y_test = train_test_split(x, y, test_size=.3, train_size=.7, random_state=96)"
   ]
  },
  {
   "cell_type": "code",
   "execution_count": 333,
   "metadata": {},
   "outputs": [],
   "source": [
    "rf = RandomForestClassifier()"
   ]
  },
  {
   "cell_type": "code",
   "execution_count": 334,
   "metadata": {},
   "outputs": [
    {
     "data": {
      "text/html": [
       "<style>#sk-container-id-3 {color: black;}#sk-container-id-3 pre{padding: 0;}#sk-container-id-3 div.sk-toggleable {background-color: white;}#sk-container-id-3 label.sk-toggleable__label {cursor: pointer;display: block;width: 100%;margin-bottom: 0;padding: 0.3em;box-sizing: border-box;text-align: center;}#sk-container-id-3 label.sk-toggleable__label-arrow:before {content: \"▸\";float: left;margin-right: 0.25em;color: #696969;}#sk-container-id-3 label.sk-toggleable__label-arrow:hover:before {color: black;}#sk-container-id-3 div.sk-estimator:hover label.sk-toggleable__label-arrow:before {color: black;}#sk-container-id-3 div.sk-toggleable__content {max-height: 0;max-width: 0;overflow: hidden;text-align: left;background-color: #f0f8ff;}#sk-container-id-3 div.sk-toggleable__content pre {margin: 0.2em;color: black;border-radius: 0.25em;background-color: #f0f8ff;}#sk-container-id-3 input.sk-toggleable__control:checked~div.sk-toggleable__content {max-height: 200px;max-width: 100%;overflow: auto;}#sk-container-id-3 input.sk-toggleable__control:checked~label.sk-toggleable__label-arrow:before {content: \"▾\";}#sk-container-id-3 div.sk-estimator input.sk-toggleable__control:checked~label.sk-toggleable__label {background-color: #d4ebff;}#sk-container-id-3 div.sk-label input.sk-toggleable__control:checked~label.sk-toggleable__label {background-color: #d4ebff;}#sk-container-id-3 input.sk-hidden--visually {border: 0;clip: rect(1px 1px 1px 1px);clip: rect(1px, 1px, 1px, 1px);height: 1px;margin: -1px;overflow: hidden;padding: 0;position: absolute;width: 1px;}#sk-container-id-3 div.sk-estimator {font-family: monospace;background-color: #f0f8ff;border: 1px dotted black;border-radius: 0.25em;box-sizing: border-box;margin-bottom: 0.5em;}#sk-container-id-3 div.sk-estimator:hover {background-color: #d4ebff;}#sk-container-id-3 div.sk-parallel-item::after {content: \"\";width: 100%;border-bottom: 1px solid gray;flex-grow: 1;}#sk-container-id-3 div.sk-label:hover label.sk-toggleable__label {background-color: #d4ebff;}#sk-container-id-3 div.sk-serial::before {content: \"\";position: absolute;border-left: 1px solid gray;box-sizing: border-box;top: 0;bottom: 0;left: 50%;z-index: 0;}#sk-container-id-3 div.sk-serial {display: flex;flex-direction: column;align-items: center;background-color: white;padding-right: 0.2em;padding-left: 0.2em;position: relative;}#sk-container-id-3 div.sk-item {position: relative;z-index: 1;}#sk-container-id-3 div.sk-parallel {display: flex;align-items: stretch;justify-content: center;background-color: white;position: relative;}#sk-container-id-3 div.sk-item::before, #sk-container-id-3 div.sk-parallel-item::before {content: \"\";position: absolute;border-left: 1px solid gray;box-sizing: border-box;top: 0;bottom: 0;left: 50%;z-index: -1;}#sk-container-id-3 div.sk-parallel-item {display: flex;flex-direction: column;z-index: 1;position: relative;background-color: white;}#sk-container-id-3 div.sk-parallel-item:first-child::after {align-self: flex-end;width: 50%;}#sk-container-id-3 div.sk-parallel-item:last-child::after {align-self: flex-start;width: 50%;}#sk-container-id-3 div.sk-parallel-item:only-child::after {width: 0;}#sk-container-id-3 div.sk-dashed-wrapped {border: 1px dashed gray;margin: 0 0.4em 0.5em 0.4em;box-sizing: border-box;padding-bottom: 0.4em;background-color: white;}#sk-container-id-3 div.sk-label label {font-family: monospace;font-weight: bold;display: inline-block;line-height: 1.2em;}#sk-container-id-3 div.sk-label-container {text-align: center;}#sk-container-id-3 div.sk-container {/* jupyter's `normalize.less` sets `[hidden] { display: none; }` but bootstrap.min.css set `[hidden] { display: none !important; }` so we also need the `!important` here to be able to override the default hidden behavior on the sphinx rendered scikit-learn.org. See: https://github.com/scikit-learn/scikit-learn/issues/21755 */display: inline-block !important;position: relative;}#sk-container-id-3 div.sk-text-repr-fallback {display: none;}</style><div id=\"sk-container-id-3\" class=\"sk-top-container\"><div class=\"sk-text-repr-fallback\"><pre>RandomForestClassifier()</pre><b>In a Jupyter environment, please rerun this cell to show the HTML representation or trust the notebook. <br />On GitHub, the HTML representation is unable to render, please try loading this page with nbviewer.org.</b></div><div class=\"sk-container\" hidden><div class=\"sk-item\"><div class=\"sk-estimator sk-toggleable\"><input class=\"sk-toggleable__control sk-hidden--visually\" id=\"sk-estimator-id-5\" type=\"checkbox\" checked><label for=\"sk-estimator-id-5\" class=\"sk-toggleable__label sk-toggleable__label-arrow\">RandomForestClassifier</label><div class=\"sk-toggleable__content\"><pre>RandomForestClassifier()</pre></div></div></div></div></div>"
      ],
      "text/plain": [
       "RandomForestClassifier()"
      ]
     },
     "execution_count": 334,
     "metadata": {},
     "output_type": "execute_result"
    }
   ],
   "source": [
    "rf.fit(x_train, y_train)"
   ]
  },
  {
   "cell_type": "code",
   "execution_count": 335,
   "metadata": {},
   "outputs": [],
   "source": [
    "y_pred = rf.predict(x_test)"
   ]
  },
  {
   "cell_type": "code",
   "execution_count": 336,
   "metadata": {},
   "outputs": [
    {
     "data": {
      "text/plain": [
       "array([2, 1, 2, ..., 2, 2, 2])"
      ]
     },
     "execution_count": 336,
     "metadata": {},
     "output_type": "execute_result"
    }
   ],
   "source": [
    "y_pred"
   ]
  },
  {
   "cell_type": "code",
   "execution_count": 338,
   "metadata": {},
   "outputs": [
    {
     "name": "stdout",
     "output_type": "stream",
     "text": [
      "Accuracy: 0.7108840158995801\n"
     ]
    }
   ],
   "source": [
    "accuracy = accuracy_score(y_test, y_pred)\n",
    "print(\"Accuracy:\", accuracy)"
   ]
  },
  {
   "cell_type": "code",
   "execution_count": 340,
   "metadata": {},
   "outputs": [],
   "source": [
    "param_dist = {'n_estimators': randint(50,500),\n",
    "              'max_depth': randint(1,20)}"
   ]
  },
  {
   "cell_type": "code",
   "execution_count": 341,
   "metadata": {},
   "outputs": [],
   "source": [
    "rf_tuned = RandomForestClassifier()"
   ]
  },
  {
   "cell_type": "code",
   "execution_count": 343,
   "metadata": {},
   "outputs": [],
   "source": [
    "rand_search = RandomizedSearchCV(rf_tuned, \n",
    "                                 param_distributions = param_dist, \n",
    "                                 n_iter=5, \n",
    "                                 cv=5)"
   ]
  },
  {
   "cell_type": "code",
   "execution_count": 344,
   "metadata": {},
   "outputs": [
    {
     "data": {
      "text/html": [
       "<style>#sk-container-id-4 {color: black;}#sk-container-id-4 pre{padding: 0;}#sk-container-id-4 div.sk-toggleable {background-color: white;}#sk-container-id-4 label.sk-toggleable__label {cursor: pointer;display: block;width: 100%;margin-bottom: 0;padding: 0.3em;box-sizing: border-box;text-align: center;}#sk-container-id-4 label.sk-toggleable__label-arrow:before {content: \"▸\";float: left;margin-right: 0.25em;color: #696969;}#sk-container-id-4 label.sk-toggleable__label-arrow:hover:before {color: black;}#sk-container-id-4 div.sk-estimator:hover label.sk-toggleable__label-arrow:before {color: black;}#sk-container-id-4 div.sk-toggleable__content {max-height: 0;max-width: 0;overflow: hidden;text-align: left;background-color: #f0f8ff;}#sk-container-id-4 div.sk-toggleable__content pre {margin: 0.2em;color: black;border-radius: 0.25em;background-color: #f0f8ff;}#sk-container-id-4 input.sk-toggleable__control:checked~div.sk-toggleable__content {max-height: 200px;max-width: 100%;overflow: auto;}#sk-container-id-4 input.sk-toggleable__control:checked~label.sk-toggleable__label-arrow:before {content: \"▾\";}#sk-container-id-4 div.sk-estimator input.sk-toggleable__control:checked~label.sk-toggleable__label {background-color: #d4ebff;}#sk-container-id-4 div.sk-label input.sk-toggleable__control:checked~label.sk-toggleable__label {background-color: #d4ebff;}#sk-container-id-4 input.sk-hidden--visually {border: 0;clip: rect(1px 1px 1px 1px);clip: rect(1px, 1px, 1px, 1px);height: 1px;margin: -1px;overflow: hidden;padding: 0;position: absolute;width: 1px;}#sk-container-id-4 div.sk-estimator {font-family: monospace;background-color: #f0f8ff;border: 1px dotted black;border-radius: 0.25em;box-sizing: border-box;margin-bottom: 0.5em;}#sk-container-id-4 div.sk-estimator:hover {background-color: #d4ebff;}#sk-container-id-4 div.sk-parallel-item::after {content: \"\";width: 100%;border-bottom: 1px solid gray;flex-grow: 1;}#sk-container-id-4 div.sk-label:hover label.sk-toggleable__label {background-color: #d4ebff;}#sk-container-id-4 div.sk-serial::before {content: \"\";position: absolute;border-left: 1px solid gray;box-sizing: border-box;top: 0;bottom: 0;left: 50%;z-index: 0;}#sk-container-id-4 div.sk-serial {display: flex;flex-direction: column;align-items: center;background-color: white;padding-right: 0.2em;padding-left: 0.2em;position: relative;}#sk-container-id-4 div.sk-item {position: relative;z-index: 1;}#sk-container-id-4 div.sk-parallel {display: flex;align-items: stretch;justify-content: center;background-color: white;position: relative;}#sk-container-id-4 div.sk-item::before, #sk-container-id-4 div.sk-parallel-item::before {content: \"\";position: absolute;border-left: 1px solid gray;box-sizing: border-box;top: 0;bottom: 0;left: 50%;z-index: -1;}#sk-container-id-4 div.sk-parallel-item {display: flex;flex-direction: column;z-index: 1;position: relative;background-color: white;}#sk-container-id-4 div.sk-parallel-item:first-child::after {align-self: flex-end;width: 50%;}#sk-container-id-4 div.sk-parallel-item:last-child::after {align-self: flex-start;width: 50%;}#sk-container-id-4 div.sk-parallel-item:only-child::after {width: 0;}#sk-container-id-4 div.sk-dashed-wrapped {border: 1px dashed gray;margin: 0 0.4em 0.5em 0.4em;box-sizing: border-box;padding-bottom: 0.4em;background-color: white;}#sk-container-id-4 div.sk-label label {font-family: monospace;font-weight: bold;display: inline-block;line-height: 1.2em;}#sk-container-id-4 div.sk-label-container {text-align: center;}#sk-container-id-4 div.sk-container {/* jupyter's `normalize.less` sets `[hidden] { display: none; }` but bootstrap.min.css set `[hidden] { display: none !important; }` so we also need the `!important` here to be able to override the default hidden behavior on the sphinx rendered scikit-learn.org. See: https://github.com/scikit-learn/scikit-learn/issues/21755 */display: inline-block !important;position: relative;}#sk-container-id-4 div.sk-text-repr-fallback {display: none;}</style><div id=\"sk-container-id-4\" class=\"sk-top-container\"><div class=\"sk-text-repr-fallback\"><pre>RandomizedSearchCV(cv=5, estimator=RandomForestClassifier(), n_iter=5,\n",
       "                   param_distributions={&#x27;max_depth&#x27;: &lt;scipy.stats._distn_infrastructure.rv_discrete_frozen object at 0x7fc1bfd72130&gt;,\n",
       "                                        &#x27;n_estimators&#x27;: &lt;scipy.stats._distn_infrastructure.rv_discrete_frozen object at 0x7fbebbb10b20&gt;})</pre><b>In a Jupyter environment, please rerun this cell to show the HTML representation or trust the notebook. <br />On GitHub, the HTML representation is unable to render, please try loading this page with nbviewer.org.</b></div><div class=\"sk-container\" hidden><div class=\"sk-item sk-dashed-wrapped\"><div class=\"sk-label-container\"><div class=\"sk-label sk-toggleable\"><input class=\"sk-toggleable__control sk-hidden--visually\" id=\"sk-estimator-id-6\" type=\"checkbox\" ><label for=\"sk-estimator-id-6\" class=\"sk-toggleable__label sk-toggleable__label-arrow\">RandomizedSearchCV</label><div class=\"sk-toggleable__content\"><pre>RandomizedSearchCV(cv=5, estimator=RandomForestClassifier(), n_iter=5,\n",
       "                   param_distributions={&#x27;max_depth&#x27;: &lt;scipy.stats._distn_infrastructure.rv_discrete_frozen object at 0x7fc1bfd72130&gt;,\n",
       "                                        &#x27;n_estimators&#x27;: &lt;scipy.stats._distn_infrastructure.rv_discrete_frozen object at 0x7fbebbb10b20&gt;})</pre></div></div></div><div class=\"sk-parallel\"><div class=\"sk-parallel-item\"><div class=\"sk-item\"><div class=\"sk-label-container\"><div class=\"sk-label sk-toggleable\"><input class=\"sk-toggleable__control sk-hidden--visually\" id=\"sk-estimator-id-7\" type=\"checkbox\" ><label for=\"sk-estimator-id-7\" class=\"sk-toggleable__label sk-toggleable__label-arrow\">estimator: RandomForestClassifier</label><div class=\"sk-toggleable__content\"><pre>RandomForestClassifier()</pre></div></div></div><div class=\"sk-serial\"><div class=\"sk-item\"><div class=\"sk-estimator sk-toggleable\"><input class=\"sk-toggleable__control sk-hidden--visually\" id=\"sk-estimator-id-8\" type=\"checkbox\" ><label for=\"sk-estimator-id-8\" class=\"sk-toggleable__label sk-toggleable__label-arrow\">RandomForestClassifier</label><div class=\"sk-toggleable__content\"><pre>RandomForestClassifier()</pre></div></div></div></div></div></div></div></div></div></div>"
      ],
      "text/plain": [
       "RandomizedSearchCV(cv=5, estimator=RandomForestClassifier(), n_iter=5,\n",
       "                   param_distributions={'max_depth': <scipy.stats._distn_infrastructure.rv_discrete_frozen object at 0x7fc1bfd72130>,\n",
       "                                        'n_estimators': <scipy.stats._distn_infrastructure.rv_discrete_frozen object at 0x7fbebbb10b20>})"
      ]
     },
     "execution_count": 344,
     "metadata": {},
     "output_type": "execute_result"
    }
   ],
   "source": [
    "rand_search.fit(x_train, y_train)"
   ]
  },
  {
   "cell_type": "code",
   "execution_count": 345,
   "metadata": {},
   "outputs": [
    {
     "name": "stdout",
     "output_type": "stream",
     "text": [
      "Best hyperparameters: {'max_depth': 10, 'n_estimators': 384}\n"
     ]
    }
   ],
   "source": [
    "# Create a variable for the best model\n",
    "best_rf = rand_search.best_estimator_\n",
    "\n",
    "# Print the best hyperparameters\n",
    "print('Best hyperparameters:',  rand_search.best_params_)"
   ]
  },
  {
   "cell_type": "code",
   "execution_count": 346,
   "metadata": {},
   "outputs": [],
   "source": [
    "y_pred_tuned = best_rf.predict(x_test)"
   ]
  },
  {
   "cell_type": "code",
   "execution_count": 347,
   "metadata": {},
   "outputs": [
    {
     "name": "stdout",
     "output_type": "stream",
     "text": [
      "Accuracy: 0.7102786924263351\n"
     ]
    }
   ],
   "source": [
    "accuracy = accuracy_score(y_test, y_pred_tuned)\n",
    "print(\"Accuracy:\", accuracy)"
   ]
  },
  {
   "cell_type": "code",
   "execution_count": 374,
   "metadata": {},
   "outputs": [],
   "source": [
    "x_resampled = df_resampled.drop('originationInterval')"
   ]
  },
  {
   "cell_type": "code",
   "execution_count": 375,
   "metadata": {},
   "outputs": [],
   "source": [
    "y_resampled = df_resampled['originationInterval']"
   ]
  },
  {
   "cell_type": "code",
   "execution_count": 376,
   "metadata": {},
   "outputs": [],
   "source": [
    "x_train_resampled, x_test_resampled, y_train_resampled, y_test_resampled = train_test_split(x, \n",
    "                                                                                            y, \n",
    "                                                                                            test_size=.3, \n",
    "                                                                                            train_size=.7, \n",
    "                                                                                            random_state=96)"
   ]
  },
  {
   "cell_type": "code",
   "execution_count": 377,
   "metadata": {},
   "outputs": [],
   "source": [
    "rf = RandomForestClassifier()"
   ]
  },
  {
   "cell_type": "code",
   "execution_count": 378,
   "metadata": {},
   "outputs": [
    {
     "data": {
      "text/html": [
       "<style>#sk-container-id-5 {color: black;}#sk-container-id-5 pre{padding: 0;}#sk-container-id-5 div.sk-toggleable {background-color: white;}#sk-container-id-5 label.sk-toggleable__label {cursor: pointer;display: block;width: 100%;margin-bottom: 0;padding: 0.3em;box-sizing: border-box;text-align: center;}#sk-container-id-5 label.sk-toggleable__label-arrow:before {content: \"▸\";float: left;margin-right: 0.25em;color: #696969;}#sk-container-id-5 label.sk-toggleable__label-arrow:hover:before {color: black;}#sk-container-id-5 div.sk-estimator:hover label.sk-toggleable__label-arrow:before {color: black;}#sk-container-id-5 div.sk-toggleable__content {max-height: 0;max-width: 0;overflow: hidden;text-align: left;background-color: #f0f8ff;}#sk-container-id-5 div.sk-toggleable__content pre {margin: 0.2em;color: black;border-radius: 0.25em;background-color: #f0f8ff;}#sk-container-id-5 input.sk-toggleable__control:checked~div.sk-toggleable__content {max-height: 200px;max-width: 100%;overflow: auto;}#sk-container-id-5 input.sk-toggleable__control:checked~label.sk-toggleable__label-arrow:before {content: \"▾\";}#sk-container-id-5 div.sk-estimator input.sk-toggleable__control:checked~label.sk-toggleable__label {background-color: #d4ebff;}#sk-container-id-5 div.sk-label input.sk-toggleable__control:checked~label.sk-toggleable__label {background-color: #d4ebff;}#sk-container-id-5 input.sk-hidden--visually {border: 0;clip: rect(1px 1px 1px 1px);clip: rect(1px, 1px, 1px, 1px);height: 1px;margin: -1px;overflow: hidden;padding: 0;position: absolute;width: 1px;}#sk-container-id-5 div.sk-estimator {font-family: monospace;background-color: #f0f8ff;border: 1px dotted black;border-radius: 0.25em;box-sizing: border-box;margin-bottom: 0.5em;}#sk-container-id-5 div.sk-estimator:hover {background-color: #d4ebff;}#sk-container-id-5 div.sk-parallel-item::after {content: \"\";width: 100%;border-bottom: 1px solid gray;flex-grow: 1;}#sk-container-id-5 div.sk-label:hover label.sk-toggleable__label {background-color: #d4ebff;}#sk-container-id-5 div.sk-serial::before {content: \"\";position: absolute;border-left: 1px solid gray;box-sizing: border-box;top: 0;bottom: 0;left: 50%;z-index: 0;}#sk-container-id-5 div.sk-serial {display: flex;flex-direction: column;align-items: center;background-color: white;padding-right: 0.2em;padding-left: 0.2em;position: relative;}#sk-container-id-5 div.sk-item {position: relative;z-index: 1;}#sk-container-id-5 div.sk-parallel {display: flex;align-items: stretch;justify-content: center;background-color: white;position: relative;}#sk-container-id-5 div.sk-item::before, #sk-container-id-5 div.sk-parallel-item::before {content: \"\";position: absolute;border-left: 1px solid gray;box-sizing: border-box;top: 0;bottom: 0;left: 50%;z-index: -1;}#sk-container-id-5 div.sk-parallel-item {display: flex;flex-direction: column;z-index: 1;position: relative;background-color: white;}#sk-container-id-5 div.sk-parallel-item:first-child::after {align-self: flex-end;width: 50%;}#sk-container-id-5 div.sk-parallel-item:last-child::after {align-self: flex-start;width: 50%;}#sk-container-id-5 div.sk-parallel-item:only-child::after {width: 0;}#sk-container-id-5 div.sk-dashed-wrapped {border: 1px dashed gray;margin: 0 0.4em 0.5em 0.4em;box-sizing: border-box;padding-bottom: 0.4em;background-color: white;}#sk-container-id-5 div.sk-label label {font-family: monospace;font-weight: bold;display: inline-block;line-height: 1.2em;}#sk-container-id-5 div.sk-label-container {text-align: center;}#sk-container-id-5 div.sk-container {/* jupyter's `normalize.less` sets `[hidden] { display: none; }` but bootstrap.min.css set `[hidden] { display: none !important; }` so we also need the `!important` here to be able to override the default hidden behavior on the sphinx rendered scikit-learn.org. See: https://github.com/scikit-learn/scikit-learn/issues/21755 */display: inline-block !important;position: relative;}#sk-container-id-5 div.sk-text-repr-fallback {display: none;}</style><div id=\"sk-container-id-5\" class=\"sk-top-container\"><div class=\"sk-text-repr-fallback\"><pre>RandomForestClassifier()</pre><b>In a Jupyter environment, please rerun this cell to show the HTML representation or trust the notebook. <br />On GitHub, the HTML representation is unable to render, please try loading this page with nbviewer.org.</b></div><div class=\"sk-container\" hidden><div class=\"sk-item\"><div class=\"sk-estimator sk-toggleable\"><input class=\"sk-toggleable__control sk-hidden--visually\" id=\"sk-estimator-id-9\" type=\"checkbox\" checked><label for=\"sk-estimator-id-9\" class=\"sk-toggleable__label sk-toggleable__label-arrow\">RandomForestClassifier</label><div class=\"sk-toggleable__content\"><pre>RandomForestClassifier()</pre></div></div></div></div></div>"
      ],
      "text/plain": [
       "RandomForestClassifier()"
      ]
     },
     "execution_count": 378,
     "metadata": {},
     "output_type": "execute_result"
    }
   ],
   "source": [
    "rf.fit(x_train_resampled, y_train_resampled)"
   ]
  },
  {
   "cell_type": "code",
   "execution_count": 382,
   "metadata": {},
   "outputs": [],
   "source": [
    "y_pred = rf.predict(x_test_resampled)"
   ]
  },
  {
   "cell_type": "code",
   "execution_count": 383,
   "metadata": {},
   "outputs": [
    {
     "data": {
      "text/plain": [
       "array([2, 1, 2, ..., 2, 2, 2])"
      ]
     },
     "execution_count": 383,
     "metadata": {},
     "output_type": "execute_result"
    }
   ],
   "source": [
    "y_pred"
   ]
  },
  {
   "cell_type": "code",
   "execution_count": 384,
   "metadata": {},
   "outputs": [
    {
     "name": "stdout",
     "output_type": "stream",
     "text": [
      "Accuracy: 0.7108933862319832\n"
     ]
    }
   ],
   "source": [
    "accuracy = accuracy_score(y_test, y_pred)\n",
    "print(\"Accuracy:\", accuracy)"
   ]
  },
  {
   "cell_type": "code",
   "execution_count": 403,
   "metadata": {},
   "outputs": [],
   "source": [
    "import tensorflow as tf\n",
    "from tensorflow import keras\n",
    "from tensorflow.keras import layers\n",
    "from keras.callbacks import ModelCheckpoint\n",
    "from keras.models import Sequential\n",
    "from keras.layers import Dense, Activation, Flatten"
   ]
  },
  {
   "cell_type": "code",
   "execution_count": 385,
   "metadata": {},
   "outputs": [],
   "source": [
    "NN_model = Sequential()"
   ]
  },
  {
   "cell_type": "code",
   "execution_count": 386,
   "metadata": {},
   "outputs": [
    {
     "name": "stderr",
     "output_type": "stream",
     "text": [
      "/opt/anaconda3/envs/env_capstone/lib/python3.9/site-packages/keras/src/layers/core/dense.py:87: UserWarning: Do not pass an `input_shape`/`input_dim` argument to a layer. When using Sequential models, prefer using an `Input(shape)` object as the first layer in the model instead.\n",
      "  super().__init__(activity_regularizer=activity_regularizer, **kwargs)\n"
     ]
    }
   ],
   "source": [
    "# The Input Layer :\n",
    "NN_model.add(Dense(128, kernel_initializer='normal',input_dim = x_train.shape[1], activation='relu'))"
   ]
  },
  {
   "cell_type": "code",
   "execution_count": 247,
   "metadata": {},
   "outputs": [],
   "source": [
    "# The Hidden Layers :\n",
    "NN_model.add(Dense(256, kernel_initializer='normal',activation='relu'))\n",
    "NN_model.add(Dense(256, kernel_initializer='normal',activation='relu'))\n",
    "NN_model.add(Dense(256, kernel_initializer='normal',activation='relu'))"
   ]
  },
  {
   "cell_type": "code",
   "execution_count": 387,
   "metadata": {},
   "outputs": [],
   "source": [
    "# The Output Layer :\n",
    "NN_model.add(Dense(1, kernel_initializer='normal',activation='sigmoid'))"
   ]
  },
  {
   "cell_type": "code",
   "execution_count": 249,
   "metadata": {},
   "outputs": [
    {
     "data": {
      "text/html": [
       "<pre style=\"white-space:pre;overflow-x:auto;line-height:normal;font-family:Menlo,'DejaVu Sans Mono',consolas,'Courier New',monospace\"><span style=\"font-weight: bold\">Model: \"sequential\"</span>\n",
       "</pre>\n"
      ],
      "text/plain": [
       "\u001b[1mModel: \"sequential\"\u001b[0m\n"
      ]
     },
     "metadata": {},
     "output_type": "display_data"
    },
    {
     "data": {
      "text/html": [
       "<pre style=\"white-space:pre;overflow-x:auto;line-height:normal;font-family:Menlo,'DejaVu Sans Mono',consolas,'Courier New',monospace\">┏━━━━━━━━━━━━━━━━━━━━━━━━━━━━━━━━━┳━━━━━━━━━━━━━━━━━━━━━━━━┳━━━━━━━━━━━━━━━┓\n",
       "┃<span style=\"font-weight: bold\"> Layer (type)                    </span>┃<span style=\"font-weight: bold\"> Output Shape           </span>┃<span style=\"font-weight: bold\">       Param # </span>┃\n",
       "┡━━━━━━━━━━━━━━━━━━━━━━━━━━━━━━━━━╇━━━━━━━━━━━━━━━━━━━━━━━━╇━━━━━━━━━━━━━━━┩\n",
       "│ dense (<span style=\"color: #0087ff; text-decoration-color: #0087ff\">Dense</span>)                   │ (<span style=\"color: #00d7ff; text-decoration-color: #00d7ff\">None</span>, <span style=\"color: #00af00; text-decoration-color: #00af00\">128</span>)            │         <span style=\"color: #00af00; text-decoration-color: #00af00\">4,864</span> │\n",
       "├─────────────────────────────────┼────────────────────────┼───────────────┤\n",
       "│ dense_1 (<span style=\"color: #0087ff; text-decoration-color: #0087ff\">Dense</span>)                 │ (<span style=\"color: #00d7ff; text-decoration-color: #00d7ff\">None</span>, <span style=\"color: #00af00; text-decoration-color: #00af00\">256</span>)            │        <span style=\"color: #00af00; text-decoration-color: #00af00\">33,024</span> │\n",
       "├─────────────────────────────────┼────────────────────────┼───────────────┤\n",
       "│ dense_2 (<span style=\"color: #0087ff; text-decoration-color: #0087ff\">Dense</span>)                 │ (<span style=\"color: #00d7ff; text-decoration-color: #00d7ff\">None</span>, <span style=\"color: #00af00; text-decoration-color: #00af00\">256</span>)            │        <span style=\"color: #00af00; text-decoration-color: #00af00\">65,792</span> │\n",
       "├─────────────────────────────────┼────────────────────────┼───────────────┤\n",
       "│ dense_3 (<span style=\"color: #0087ff; text-decoration-color: #0087ff\">Dense</span>)                 │ (<span style=\"color: #00d7ff; text-decoration-color: #00d7ff\">None</span>, <span style=\"color: #00af00; text-decoration-color: #00af00\">256</span>)            │        <span style=\"color: #00af00; text-decoration-color: #00af00\">65,792</span> │\n",
       "├─────────────────────────────────┼────────────────────────┼───────────────┤\n",
       "│ dense_4 (<span style=\"color: #0087ff; text-decoration-color: #0087ff\">Dense</span>)                 │ (<span style=\"color: #00d7ff; text-decoration-color: #00d7ff\">None</span>, <span style=\"color: #00af00; text-decoration-color: #00af00\">1</span>)              │           <span style=\"color: #00af00; text-decoration-color: #00af00\">257</span> │\n",
       "└─────────────────────────────────┴────────────────────────┴───────────────┘\n",
       "</pre>\n"
      ],
      "text/plain": [
       "┏━━━━━━━━━━━━━━━━━━━━━━━━━━━━━━━━━┳━━━━━━━━━━━━━━━━━━━━━━━━┳━━━━━━━━━━━━━━━┓\n",
       "┃\u001b[1m \u001b[0m\u001b[1mLayer (type)                   \u001b[0m\u001b[1m \u001b[0m┃\u001b[1m \u001b[0m\u001b[1mOutput Shape          \u001b[0m\u001b[1m \u001b[0m┃\u001b[1m \u001b[0m\u001b[1m      Param #\u001b[0m\u001b[1m \u001b[0m┃\n",
       "┡━━━━━━━━━━━━━━━━━━━━━━━━━━━━━━━━━╇━━━━━━━━━━━━━━━━━━━━━━━━╇━━━━━━━━━━━━━━━┩\n",
       "│ dense (\u001b[38;5;33mDense\u001b[0m)                   │ (\u001b[38;5;45mNone\u001b[0m, \u001b[38;5;34m128\u001b[0m)            │         \u001b[38;5;34m4,864\u001b[0m │\n",
       "├─────────────────────────────────┼────────────────────────┼───────────────┤\n",
       "│ dense_1 (\u001b[38;5;33mDense\u001b[0m)                 │ (\u001b[38;5;45mNone\u001b[0m, \u001b[38;5;34m256\u001b[0m)            │        \u001b[38;5;34m33,024\u001b[0m │\n",
       "├─────────────────────────────────┼────────────────────────┼───────────────┤\n",
       "│ dense_2 (\u001b[38;5;33mDense\u001b[0m)                 │ (\u001b[38;5;45mNone\u001b[0m, \u001b[38;5;34m256\u001b[0m)            │        \u001b[38;5;34m65,792\u001b[0m │\n",
       "├─────────────────────────────────┼────────────────────────┼───────────────┤\n",
       "│ dense_3 (\u001b[38;5;33mDense\u001b[0m)                 │ (\u001b[38;5;45mNone\u001b[0m, \u001b[38;5;34m256\u001b[0m)            │        \u001b[38;5;34m65,792\u001b[0m │\n",
       "├─────────────────────────────────┼────────────────────────┼───────────────┤\n",
       "│ dense_4 (\u001b[38;5;33mDense\u001b[0m)                 │ (\u001b[38;5;45mNone\u001b[0m, \u001b[38;5;34m1\u001b[0m)              │           \u001b[38;5;34m257\u001b[0m │\n",
       "└─────────────────────────────────┴────────────────────────┴───────────────┘\n"
      ]
     },
     "metadata": {},
     "output_type": "display_data"
    },
    {
     "data": {
      "text/html": [
       "<pre style=\"white-space:pre;overflow-x:auto;line-height:normal;font-family:Menlo,'DejaVu Sans Mono',consolas,'Courier New',monospace\"><span style=\"font-weight: bold\"> Total params: </span><span style=\"color: #00af00; text-decoration-color: #00af00\">169,729</span> (663.00 KB)\n",
       "</pre>\n"
      ],
      "text/plain": [
       "\u001b[1m Total params: \u001b[0m\u001b[38;5;34m169,729\u001b[0m (663.00 KB)\n"
      ]
     },
     "metadata": {},
     "output_type": "display_data"
    },
    {
     "data": {
      "text/html": [
       "<pre style=\"white-space:pre;overflow-x:auto;line-height:normal;font-family:Menlo,'DejaVu Sans Mono',consolas,'Courier New',monospace\"><span style=\"font-weight: bold\"> Trainable params: </span><span style=\"color: #00af00; text-decoration-color: #00af00\">169,729</span> (663.00 KB)\n",
       "</pre>\n"
      ],
      "text/plain": [
       "\u001b[1m Trainable params: \u001b[0m\u001b[38;5;34m169,729\u001b[0m (663.00 KB)\n"
      ]
     },
     "metadata": {},
     "output_type": "display_data"
    },
    {
     "data": {
      "text/html": [
       "<pre style=\"white-space:pre;overflow-x:auto;line-height:normal;font-family:Menlo,'DejaVu Sans Mono',consolas,'Courier New',monospace\"><span style=\"font-weight: bold\"> Non-trainable params: </span><span style=\"color: #00af00; text-decoration-color: #00af00\">0</span> (0.00 B)\n",
       "</pre>\n"
      ],
      "text/plain": [
       "\u001b[1m Non-trainable params: \u001b[0m\u001b[38;5;34m0\u001b[0m (0.00 B)\n"
      ]
     },
     "metadata": {},
     "output_type": "display_data"
    }
   ],
   "source": [
    "NN_model.compile(optimizer=Adam(lr=0.0001),\n",
    "                loss='binary_crossentropy',\n",
    "                metrics=['accuracy'])"
   ]
  },
  {
   "cell_type": "code",
   "execution_count": 253,
   "metadata": {},
   "outputs": [],
   "source": [
    "checkpoint_name = 'Weights-{epoch:03d}--{val_loss:.5f}.keras' \n",
    "checkpoint = ModelCheckpoint(checkpoint_name, monitor='val_loss', verbose = 1, save_best_only = True, mode ='auto')\n",
    "callbacks_list = [checkpoint]"
   ]
  },
  {
   "cell_type": "code",
   "execution_count": 258,
   "metadata": {},
   "outputs": [
    {
     "name": "stdout",
     "output_type": "stream",
     "text": [
      "Epoch 1/5\n",
      "\u001b[1m36184/36207\u001b[0m \u001b[32m━━━━━━━━━━━━━━━━━━━\u001b[0m\u001b[37m━\u001b[0m \u001b[1m0s\u001b[0m 2ms/step - loss: 0.4624 - mean_absolute_error: 0.4624\n",
      "Epoch 1: val_loss improved from 0.49486 to 0.43910, saving model to Weights-001--0.43910.keras\n",
      "\u001b[1m36207/36207\u001b[0m \u001b[32m━━━━━━━━━━━━━━━━━━━━\u001b[0m\u001b[37m\u001b[0m \u001b[1m84s\u001b[0m 2ms/step - loss: 0.4624 - mean_absolute_error: 0.4624 - val_loss: 0.4391 - val_mean_absolute_error: 0.4391\n",
      "Epoch 2/5\n",
      "\u001b[1m36194/36207\u001b[0m \u001b[32m━━━━━━━━━━━━━━━━━━━\u001b[0m\u001b[37m━\u001b[0m \u001b[1m0s\u001b[0m 2ms/step - loss: 0.4572 - mean_absolute_error: 0.4572\n",
      "Epoch 2: val_loss improved from 0.43910 to 0.43846, saving model to Weights-002--0.43846.keras\n",
      "\u001b[1m36207/36207\u001b[0m \u001b[32m━━━━━━━━━━━━━━━━━━━━\u001b[0m\u001b[37m\u001b[0m \u001b[1m82s\u001b[0m 2ms/step - loss: 0.4571 - mean_absolute_error: 0.4571 - val_loss: 0.4385 - val_mean_absolute_error: 0.4385\n",
      "Epoch 3/5\n",
      "\u001b[1m36200/36207\u001b[0m \u001b[32m━━━━━━━━━━━━━━━━━━━\u001b[0m\u001b[37m━\u001b[0m \u001b[1m0s\u001b[0m 2ms/step - loss: 0.4417 - mean_absolute_error: 0.4417\n",
      "Epoch 3: val_loss improved from 0.43846 to 0.43418, saving model to Weights-003--0.43418.keras\n",
      "\u001b[1m36207/36207\u001b[0m \u001b[32m━━━━━━━━━━━━━━━━━━━━\u001b[0m\u001b[37m\u001b[0m \u001b[1m83s\u001b[0m 2ms/step - loss: 0.4417 - mean_absolute_error: 0.4417 - val_loss: 0.4342 - val_mean_absolute_error: 0.4342\n",
      "Epoch 4/5\n",
      "\u001b[1m36206/36207\u001b[0m \u001b[32m━━━━━━━━━━━━━━━━━━━\u001b[0m\u001b[37m━\u001b[0m \u001b[1m0s\u001b[0m 2ms/step - loss: 0.4338 - mean_absolute_error: 0.4338\n",
      "Epoch 4: val_loss improved from 0.43418 to 0.43232, saving model to Weights-004--0.43232.keras\n",
      "\u001b[1m36207/36207\u001b[0m \u001b[32m━━━━━━━━━━━━━━━━━━━━\u001b[0m\u001b[37m\u001b[0m \u001b[1m86s\u001b[0m 2ms/step - loss: 0.4338 - mean_absolute_error: 0.4338 - val_loss: 0.4323 - val_mean_absolute_error: 0.4323\n",
      "Epoch 5/5\n",
      "\u001b[1m36184/36207\u001b[0m \u001b[32m━━━━━━━━━━━━━━━━━━━\u001b[0m\u001b[37m━\u001b[0m \u001b[1m0s\u001b[0m 2ms/step - loss: 0.4337 - mean_absolute_error: 0.4337\n",
      "Epoch 5: val_loss improved from 0.43232 to 0.42856, saving model to Weights-005--0.42856.keras\n",
      "\u001b[1m36207/36207\u001b[0m \u001b[32m━━━━━━━━━━━━━━━━━━━━\u001b[0m\u001b[37m\u001b[0m \u001b[1m86s\u001b[0m 2ms/step - loss: 0.4337 - mean_absolute_error: 0.4337 - val_loss: 0.4286 - val_mean_absolute_error: 0.4286\n"
     ]
    },
    {
     "data": {
      "text/plain": [
       "<keras.src.callbacks.history.History at 0x7fbeabf43bb0>"
      ]
     },
     "execution_count": 258,
     "metadata": {},
     "output_type": "execute_result"
    }
   ],
   "source": [
    "NN_model.fit(x_train, y_train, epochs=5, batch_size=32, validation_split = 0.2, callbacks=callbacks_list)"
   ]
  },
  {
   "cell_type": "code",
   "execution_count": 259,
   "metadata": {},
   "outputs": [
    {
     "name": "stdout",
     "output_type": "stream",
     "text": [
      "\u001b[1m11315/11315\u001b[0m \u001b[32m━━━━━━━━━━━━━━━━━━━━\u001b[0m\u001b[37m\u001b[0m \u001b[1m11s\u001b[0m 940us/step\n"
     ]
    }
   ],
   "source": [
    "predictions = NN_model.predict(x_test)"
   ]
  },
  {
   "cell_type": "code",
   "execution_count": 260,
   "metadata": {},
   "outputs": [
    {
     "data": {
      "text/plain": [
       "-0.0011277489265306695"
      ]
     },
     "execution_count": 260,
     "metadata": {},
     "output_type": "execute_result"
    }
   ],
   "source": [
    "NN_r2 = r2_score(y_test, predictions)\n",
    "NN_r2"
   ]
  },
  {
   "cell_type": "code",
   "execution_count": null,
   "metadata": {},
   "outputs": [],
   "source": []
  }
 ],
 "metadata": {
  "kernelspec": {
   "display_name": "env_capstone",
   "language": "python",
   "name": "python3"
  },
  "language_info": {
   "codemirror_mode": {
    "name": "ipython",
    "version": 3
   },
   "file_extension": ".py",
   "mimetype": "text/x-python",
   "name": "python",
   "nbconvert_exporter": "python",
   "pygments_lexer": "ipython3",
   "version": "3.9.19"
  }
 },
 "nbformat": 4,
 "nbformat_minor": 2
}
