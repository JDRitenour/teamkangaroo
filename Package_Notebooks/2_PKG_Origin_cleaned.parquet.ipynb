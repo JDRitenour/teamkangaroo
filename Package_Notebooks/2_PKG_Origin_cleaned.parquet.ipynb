{
 "cells": [
  {
   "cell_type": "code",
   "execution_count": 1,
   "id": "0278aa8d",
   "metadata": {},
   "outputs": [
    {
     "name": "stderr",
     "output_type": "stream",
     "text": [
      "/tmp/ipykernel_10111/4280649393.py:1: DeprecationWarning: Importing display from IPython.core.display is deprecated since IPython 7.14, please import from IPython display\n",
      "  from IPython.core.display import display, HTML\n"
     ]
    },
    {
     "data": {
      "text/html": [
       "<style>.container { width:90% !important; }</style>"
      ],
      "text/plain": [
       "<IPython.core.display.HTML object>"
      ]
     },
     "metadata": {},
     "output_type": "display_data"
    }
   ],
   "source": [
    "from IPython.core.display import display, HTML\n",
    "display(HTML(\"<style>.container { width:90% !important; }</style>\"))\n",
    "import findspark\n",
    "findspark.init()"
   ]
  },
  {
   "cell_type": "code",
   "execution_count": 1,
   "id": "534a516c",
   "metadata": {},
   "outputs": [
    {
     "name": "stderr",
     "output_type": "stream",
     "text": [
      "/tmp/ipykernel_65386/1922623038.py:1: DeprecationWarning: Importing display from IPython.core.display is deprecated since IPython 7.14, please import from IPython display\n",
      "  from IPython.core.display import display, HTML\n"
     ]
    },
    {
     "data": {
      "text/html": [
       "<style>.container { width:90% !important; }</style>"
      ],
      "text/plain": [
       "<IPython.core.display.HTML object>"
      ]
     },
     "metadata": {},
     "output_type": "display_data"
    },
    {
     "name": "stderr",
     "output_type": "stream",
     "text": [
      "Setting default log level to \"WARN\".\n",
      "To adjust logging level use sc.setLogLevel(newLevel). For SparkR, use setLogLevel(newLevel).\n",
      "24/06/21 21:14:00 WARN NativeCodeLoader: Unable to load native-hadoop library for your platform... using builtin-java classes where applicable\n",
      "24/06/21 21:14:01 WARN Utils: Service 'SparkUI' could not bind on port 4040. Attempting port 4041.\n",
      "24/06/21 21:14:01 WARN Utils: Service 'SparkUI' could not bind on port 4041. Attempting port 4042.\n",
      "24/06/21 21:14:01 WARN Utils: Service 'SparkUI' could not bind on port 4042. Attempting port 4043.\n",
      "24/06/21 21:14:01 WARN Utils: Service 'SparkUI' could not bind on port 4043. Attempting port 4044.\n",
      "24/06/21 21:14:01 WARN Utils: Service 'SparkUI' could not bind on port 4044. Attempting port 4045.\n",
      "24/06/21 21:14:01 WARN Utils: Service 'SparkUI' could not bind on port 4045. Attempting port 4046.\n"
     ]
    }
   ],
   "source": [
    "from pyspark.sql import SparkSession\n",
    "import os\n",
    "\n",
    "os.environ[\"SPARK_LOCAL_IP\"] = \"127.0.0.1\"\n",
    "\n",
    "spark = SparkSession.builder \\\n",
    "    .appName(\"USPS\") \\\n",
    "    .config(\"spark.executor.memory\", \"8G\") \\\n",
    "    .config(\"spark.driver.memory\", \"8G\") \\\n",
    "    .config(\"spark.executor.cores\", \"4\") \\\n",
    "    .config(\"spark.driver.maxResultSize\", \"4G\") \\\n",
    "    .getOrCreate()\n",
    "\n",
    "spark.sparkContext.setLogLevel(\"ERROR\")\n"
   ]
  },
  {
   "cell_type": "code",
   "execution_count": 3,
   "id": "999ba464",
   "metadata": {},
   "outputs": [],
   "source": [
    "df = spark.read.csv(\"/home/pk/DAEN690/package_data/PKG_Origin_PcLevel.txt\", header=True, sep=\"|\")"
   ]
  },
  {
   "cell_type": "code",
   "execution_count": 4,
   "id": "2c21d9f0",
   "metadata": {},
   "outputs": [
    {
     "name": "stdout",
     "output_type": "stream",
     "text": [
      "+-----------+---------------+--------------------+----------------+---------------------+-------------------+-------------+\n",
      "|MailPieceID|ServiceTypeCode|StartTheClockZipCode|StopTheClockDate|ScheduledDeliveryDate|StopTheClockZipCode|MailClassCode|\n",
      "+-----------+---------------+--------------------+----------------+---------------------+-------------------+-------------+\n",
      "|88228305910|           001 |               37040|       1/16/2024|            1/16/2024|              15613|           G0|\n",
      "|88180422391|           001 |               37090|       1/16/2024|            1/16/2024|              92247|           G0|\n",
      "|88147885963|           055 |               37167|       1/11/2024|            1/11/2024|              33770|           PM|\n",
      "+-----------+---------------+--------------------+----------------+---------------------+-------------------+-------------+\n",
      "only showing top 3 rows\n",
      "\n"
     ]
    }
   ],
   "source": [
    "df.show(3)"
   ]
  },
  {
   "cell_type": "code",
   "execution_count": 7,
   "id": "fcda96ff",
   "metadata": {},
   "outputs": [
    {
     "data": {
      "text/html": [
       "<div>\n",
       "<style scoped>\n",
       "    .dataframe tbody tr th:only-of-type {\n",
       "        vertical-align: middle;\n",
       "    }\n",
       "\n",
       "    .dataframe tbody tr th {\n",
       "        vertical-align: top;\n",
       "    }\n",
       "\n",
       "    .dataframe thead th {\n",
       "        text-align: right;\n",
       "    }\n",
       "</style>\n",
       "<table border=\"1\" class=\"dataframe\">\n",
       "  <thead>\n",
       "    <tr style=\"text-align: right;\">\n",
       "      <th></th>\n",
       "      <th>MailPieceID</th>\n",
       "      <th>ServiceTypeCode</th>\n",
       "      <th>StartTheClockZipCode</th>\n",
       "      <th>StopTheClockDate</th>\n",
       "      <th>ScheduledDeliveryDate</th>\n",
       "      <th>StopTheClockZipCode</th>\n",
       "      <th>MailClassCode</th>\n",
       "    </tr>\n",
       "  </thead>\n",
       "  <tbody>\n",
       "    <tr>\n",
       "      <th>0</th>\n",
       "      <td>88228305910</td>\n",
       "      <td>001</td>\n",
       "      <td>37040</td>\n",
       "      <td>1/16/2024</td>\n",
       "      <td>1/16/2024</td>\n",
       "      <td>15613</td>\n",
       "      <td>G0</td>\n",
       "    </tr>\n",
       "    <tr>\n",
       "      <th>1</th>\n",
       "      <td>88180422391</td>\n",
       "      <td>001</td>\n",
       "      <td>37090</td>\n",
       "      <td>1/16/2024</td>\n",
       "      <td>1/16/2024</td>\n",
       "      <td>92247</td>\n",
       "      <td>G0</td>\n",
       "    </tr>\n",
       "    <tr>\n",
       "      <th>2</th>\n",
       "      <td>88147885963</td>\n",
       "      <td>055</td>\n",
       "      <td>37167</td>\n",
       "      <td>1/11/2024</td>\n",
       "      <td>1/11/2024</td>\n",
       "      <td>33770</td>\n",
       "      <td>PM</td>\n",
       "    </tr>\n",
       "  </tbody>\n",
       "</table>\n",
       "</div>"
      ],
      "text/plain": [
       "   MailPieceID ServiceTypeCode StartTheClockZipCode StopTheClockDate  \\\n",
       "0  88228305910            001                 37040        1/16/2024   \n",
       "1  88180422391            001                 37090        1/16/2024   \n",
       "2  88147885963            055                 37167        1/11/2024   \n",
       "\n",
       "  ScheduledDeliveryDate StopTheClockZipCode MailClassCode  \n",
       "0             1/16/2024               15613            G0  \n",
       "1             1/16/2024               92247            G0  \n",
       "2             1/11/2024               33770            PM  "
      ]
     },
     "execution_count": 7,
     "metadata": {},
     "output_type": "execute_result"
    }
   ],
   "source": [
    "import pandas as pd\n",
    "pandas_df = df.limit(3).toPandas()\n",
    "pandas_df"
   ]
  },
  {
   "cell_type": "code",
   "execution_count": 4,
   "id": "d650acff",
   "metadata": {},
   "outputs": [
    {
     "data": {
      "text/plain": [
       "1115279"
      ]
     },
     "execution_count": 4,
     "metadata": {},
     "output_type": "execute_result"
    }
   ],
   "source": [
    "df.count()"
   ]
  },
  {
   "cell_type": "code",
   "execution_count": 5,
   "id": "98811940",
   "metadata": {},
   "outputs": [
    {
     "name": "stdout",
     "output_type": "stream",
     "text": [
      "root\n",
      " |-- MailPieceID: string (nullable = true)\n",
      " |-- ServiceTypeCode: string (nullable = true)\n",
      " |-- StartTheClockZipCode: string (nullable = true)\n",
      " |-- StopTheClockDate: string (nullable = true)\n",
      " |-- ScheduledDeliveryDate: string (nullable = true)\n",
      " |-- StopTheClockZipCode: string (nullable = true)\n",
      " |-- MailClassCode: string (nullable = true)\n",
      "\n"
     ]
    }
   ],
   "source": [
    "df.printSchema()"
   ]
  },
  {
   "cell_type": "code",
   "execution_count": 6,
   "id": "c221232a",
   "metadata": {},
   "outputs": [
    {
     "name": "stdout",
     "output_type": "stream",
     "text": [
      "+-----------+---------------+--------------------+----------------+---------------------+-------------------+-------------+\n",
      "|MailPieceID|ServiceTypeCode|StartTheClockZipCode|StopTheClockDate|ScheduledDeliveryDate|StopTheClockZipCode|MailClassCode|\n",
      "+-----------+---------------+--------------------+----------------+---------------------+-------------------+-------------+\n",
      "|88228305910|           001 |               37040|      2024-01-16|           2024-01-16|              15613|           G0|\n",
      "|88180422391|           001 |               37090|      2024-01-16|           2024-01-16|              92247|           G0|\n",
      "|88147885963|           055 |               37167|      2024-01-11|           2024-01-11|              33770|           PM|\n",
      "+-----------+---------------+--------------------+----------------+---------------------+-------------------+-------------+\n",
      "only showing top 3 rows\n",
      "\n",
      "root\n",
      " |-- MailPieceID: string (nullable = true)\n",
      " |-- ServiceTypeCode: string (nullable = true)\n",
      " |-- StartTheClockZipCode: string (nullable = true)\n",
      " |-- StopTheClockDate: date (nullable = true)\n",
      " |-- ScheduledDeliveryDate: date (nullable = true)\n",
      " |-- StopTheClockZipCode: string (nullable = true)\n",
      " |-- MailClassCode: string (nullable = true)\n",
      "\n"
     ]
    }
   ],
   "source": [
    "from pyspark.sql.functions import to_date\n",
    "\n",
    "df = df.withColumn(\"StopTheClockDate\", to_date(\"StopTheClockDate\", \"M/d/yyyy\"))\n",
    "df = df.withColumn(\"ScheduledDeliveryDate\", to_date(\"ScheduledDeliveryDate\", \"M/d/yyyy\"))\n",
    "\n",
    "df.show(3)\n",
    "df.printSchema()"
   ]
  },
  {
   "cell_type": "code",
   "execution_count": 8,
   "id": "efbdc34b",
   "metadata": {},
   "outputs": [
    {
     "name": "stdout",
     "output_type": "stream",
     "text": [
      "+-----------+-------------------+-------------------+-----------+------------------+--------------------+------------------+\n",
      "|MailPieceID|  min_scan_datetime|  max_scan_datetime|total_scans|Distinct_zip_scans|Distinct_event_scans|time_delta_minutes|\n",
      "+-----------+-------------------+-------------------+-----------+------------------+--------------------+------------------+\n",
      "|88275302703|2024-01-14 23:05:28|2024-01-22 16:26:24|         27|                 9|                  14|             11520|\n",
      "|88246618470|2024-01-12 15:09:48|2024-01-15 11:11:41|         27|                 8|                  13|              4320|\n",
      "|88365344486|2024-01-18 09:29:59|2024-01-23 15:38:41|         31|                 8|                  15|              7200|\n",
      "+-----------+-------------------+-------------------+-----------+------------------+--------------------+------------------+\n",
      "only showing top 3 rows\n",
      "\n"
     ]
    }
   ],
   "source": [
    "df2 = spark.read.parquet(\"/home/pk/DAEN690/mail_data/Scan Output/result.parquet\")\n",
    "df2.show(3)"
   ]
  },
  {
   "cell_type": "code",
   "execution_count": 9,
   "id": "0529dbad",
   "metadata": {},
   "outputs": [],
   "source": [
    "# Join DataFrames on MailPieceID\n",
    "joined_df = df.join(df2, \"MailPieceID\", \"inner\")"
   ]
  },
  {
   "cell_type": "code",
   "execution_count": 10,
   "id": "c66f84b5",
   "metadata": {},
   "outputs": [
    {
     "name": "stderr",
     "output_type": "stream",
     "text": [
      "[Stage 11:======================================>                   (6 + 3) / 9]\r"
     ]
    },
    {
     "name": "stdout",
     "output_type": "stream",
     "text": [
      "+-----------+---------------+--------------------+----------------+---------------------+-------------------+-------------+-------------------+-------------------+-----------+------------------+--------------------+------------------+\n",
      "|MailPieceID|ServiceTypeCode|StartTheClockZipCode|StopTheClockDate|ScheduledDeliveryDate|StopTheClockZipCode|MailClassCode|  min_scan_datetime|  max_scan_datetime|total_scans|Distinct_zip_scans|Distinct_event_scans|time_delta_minutes|\n",
      "+-----------+---------------+--------------------+----------------+---------------------+-------------------+-------------+-------------------+-------------------+-----------+------------------+--------------------+------------------+\n",
      "|85660637209|           020 |               42240|      2024-01-22|           2024-01-22|              98230|           G0|2023-09-26 00:03:03|2024-01-22 12:01:21|         16|                 5|                  12|            169920|\n",
      "|85684177804|           020 |               42141|      2024-01-13|           2024-01-12|              91715|           G0|2023-09-26 16:33:28|2024-01-18 03:37:08|         19|                 7|                  13|            164160|\n",
      "|85710348611|           020 |               37062|      2023-10-02|           2024-01-13|              60143|           G0|2023-09-27 18:32:55|2024-01-12 06:25:21|         58|                14|                  23|            154080|\n",
      "+-----------+---------------+--------------------+----------------+---------------------+-------------------+-------------+-------------------+-------------------+-----------+------------------+--------------------+------------------+\n",
      "only showing top 3 rows\n",
      "\n"
     ]
    },
    {
     "name": "stderr",
     "output_type": "stream",
     "text": [
      "\r",
      "[Stage 14:>                                                         (0 + 1) / 1]\r",
      "\r",
      "                                                                                \r"
     ]
    }
   ],
   "source": [
    "joined_df.show(3)"
   ]
  },
  {
   "cell_type": "code",
   "execution_count": 11,
   "id": "24207bbc",
   "metadata": {},
   "outputs": [
    {
     "name": "stderr",
     "output_type": "stream",
     "text": [
      "[Stage 16:=========================>                                (4 + 5) / 9]\r"
     ]
    },
    {
     "name": "stdout",
     "output_type": "stream",
     "text": [
      "+-----------+---------------+--------------------+----------------+---------------------+-------------------+-------------+-------------------+-------------------+-----------+------------------+--------------------+------------------+----------+----------+\n",
      "|MailPieceID|ServiceTypeCode|StartTheClockZipCode|StopTheClockDate|ScheduledDeliveryDate|StopTheClockZipCode|MailClassCode|  min_scan_datetime|  max_scan_datetime|total_scans|Distinct_zip_scans|Distinct_event_scans|time_delta_minutes|  min_date|  max_date|\n",
      "+-----------+---------------+--------------------+----------------+---------------------+-------------------+-------------+-------------------+-------------------+-----------+------------------+--------------------+------------------+----------+----------+\n",
      "|85660637209|           020 |               42240|      2024-01-22|           2024-01-22|              98230|           G0|2023-09-26 00:03:03|2024-01-22 12:01:21|         16|                 5|                  12|            169920|2023-09-26|2024-01-22|\n",
      "|85684177804|           020 |               42141|      2024-01-13|           2024-01-12|              91715|           G0|2023-09-26 16:33:28|2024-01-18 03:37:08|         19|                 7|                  13|            164160|2023-09-26|2024-01-18|\n",
      "|85710348611|           020 |               37062|      2023-10-02|           2024-01-13|              60143|           G0|2023-09-27 18:32:55|2024-01-12 06:25:21|         58|                14|                  23|            154080|2023-09-27|2024-01-12|\n",
      "+-----------+---------------+--------------------+----------------+---------------------+-------------------+-------------+-------------------+-------------------+-----------+------------------+--------------------+------------------+----------+----------+\n",
      "only showing top 3 rows\n",
      "\n"
     ]
    },
    {
     "name": "stderr",
     "output_type": "stream",
     "text": [
      "\r",
      "                                                                                \r"
     ]
    }
   ],
   "source": [
    "from pyspark.sql.functions import col, to_date\n",
    "\n",
    "joined_df = joined_df.withColumn(\"min_date\", to_date(col(\"min_scan_datetime\")))\n",
    "joined_df = joined_df.withColumn(\"max_date\", to_date(col(\"max_scan_datetime\")))\n",
    "\n",
    "joined_df.show(3)"
   ]
  },
  {
   "cell_type": "code",
   "execution_count": 12,
   "id": "6dfe39f4",
   "metadata": {},
   "outputs": [],
   "source": [
    "from pyspark.sql.functions import when, col, expr\n",
    "joined_df = joined_df.withColumn(\"late\", when(col(\"StopTheClockDate\") > col(\"ScheduledDeliveryDate\"), 1).otherwise(0))"
   ]
  },
  {
   "cell_type": "code",
   "execution_count": 13,
   "id": "42ee8583",
   "metadata": {},
   "outputs": [
    {
     "name": "stderr",
     "output_type": "stream",
     "text": [
      "[Stage 21:===================================================>      (8 + 1) / 9]\r"
     ]
    },
    {
     "name": "stdout",
     "output_type": "stream",
     "text": [
      "+-----------+---------------+--------------------+----------------+---------------------+-------------------+-------------+-------------------+-------------------+-----------+------------------+--------------------+------------------+----------+----------+----+\n",
      "|MailPieceID|ServiceTypeCode|StartTheClockZipCode|StopTheClockDate|ScheduledDeliveryDate|StopTheClockZipCode|MailClassCode|  min_scan_datetime|  max_scan_datetime|total_scans|Distinct_zip_scans|Distinct_event_scans|time_delta_minutes|  min_date|  max_date|late|\n",
      "+-----------+---------------+--------------------+----------------+---------------------+-------------------+-------------+-------------------+-------------------+-----------+------------------+--------------------+------------------+----------+----------+----+\n",
      "|85660637209|           020 |               42240|      2024-01-22|           2024-01-22|              98230|           G0|2023-09-26 00:03:03|2024-01-22 12:01:21|         16|                 5|                  12|            169920|2023-09-26|2024-01-22|   0|\n",
      "|85684177804|           020 |               42141|      2024-01-13|           2024-01-12|              91715|           G0|2023-09-26 16:33:28|2024-01-18 03:37:08|         19|                 7|                  13|            164160|2023-09-26|2024-01-18|   1|\n",
      "|85710348611|           020 |               37062|      2023-10-02|           2024-01-13|              60143|           G0|2023-09-27 18:32:55|2024-01-12 06:25:21|         58|                14|                  23|            154080|2023-09-27|2024-01-12|   0|\n",
      "+-----------+---------------+--------------------+----------------+---------------------+-------------------+-------------+-------------------+-------------------+-----------+------------------+--------------------+------------------+----------+----------+----+\n",
      "only showing top 3 rows\n",
      "\n"
     ]
    },
    {
     "name": "stderr",
     "output_type": "stream",
     "text": [
      "\r",
      "                                                                                \r"
     ]
    }
   ],
   "source": [
    "joined_df.show(3)"
   ]
  },
  {
   "cell_type": "code",
   "execution_count": 15,
   "id": "2037c5b0",
   "metadata": {},
   "outputs": [
    {
     "name": "stdout",
     "output_type": "stream",
     "text": [
      "root\n",
      " |-- MailPieceID: string (nullable = true)\n",
      " |-- ServiceTypeCode: string (nullable = true)\n",
      " |-- StartTheClockZipCode: string (nullable = true)\n",
      " |-- StopTheClockDate: date (nullable = true)\n",
      " |-- ScheduledDeliveryDate: date (nullable = true)\n",
      " |-- StopTheClockZipCode: string (nullable = true)\n",
      " |-- MailClassCode: string (nullable = true)\n",
      " |-- min_scan_datetime: timestamp (nullable = true)\n",
      " |-- max_scan_datetime: timestamp (nullable = true)\n",
      " |-- total_scans: long (nullable = true)\n",
      " |-- Distinct_zip_scans: long (nullable = true)\n",
      " |-- Distinct_event_scans: long (nullable = true)\n",
      " |-- time_delta_minutes: integer (nullable = true)\n",
      " |-- min_date: date (nullable = true)\n",
      " |-- max_date: date (nullable = true)\n",
      " |-- late: integer (nullable = false)\n",
      "\n"
     ]
    }
   ],
   "source": [
    "joined_df.printSchema()"
   ]
  },
  {
   "cell_type": "code",
   "execution_count": 16,
   "id": "a4021a77",
   "metadata": {},
   "outputs": [],
   "source": [
    "#################################################################################################"
   ]
  },
  {
   "cell_type": "code",
   "execution_count": 16,
   "id": "575ff902",
   "metadata": {},
   "outputs": [
    {
     "name": "stderr",
     "output_type": "stream",
     "text": [
      "[Stage 29:===================================================>      (8 + 1) / 9]\r"
     ]
    },
    {
     "name": "stdout",
     "output_type": "stream",
     "text": [
      "done\n"
     ]
    },
    {
     "name": "stderr",
     "output_type": "stream",
     "text": [
      "\r",
      "                                                                                \r"
     ]
    }
   ],
   "source": [
    "joined_df.write.mode('overwrite').parquet(\"/home/pk/DAEN690/PKG_Origin_cleaned.parquet\")\n",
    "print(\"done\")"
   ]
  },
  {
   "cell_type": "code",
   "execution_count": 17,
   "id": "aabed675",
   "metadata": {},
   "outputs": [],
   "source": [
    "df = spark.read.parquet(\"/home/pk/DAEN690/PKG_Origin_cleaned.parquet\")"
   ]
  },
  {
   "cell_type": "code",
   "execution_count": 18,
   "id": "f872f3af",
   "metadata": {},
   "outputs": [
    {
     "name": "stdout",
     "output_type": "stream",
     "text": [
      "+-----------+---------------+--------------------+----------------+---------------------+-------------------+-------------+-------------------+-------------------+-----------+------------------+--------------------+------------------+----------+----------+----+\n",
      "|MailPieceID|ServiceTypeCode|StartTheClockZipCode|StopTheClockDate|ScheduledDeliveryDate|StopTheClockZipCode|MailClassCode|  min_scan_datetime|  max_scan_datetime|total_scans|Distinct_zip_scans|Distinct_event_scans|time_delta_minutes|  min_date|  max_date|late|\n",
      "+-----------+---------------+--------------------+----------------+---------------------+-------------------+-------------+-------------------+-------------------+-----------+------------------+--------------------+------------------+----------+----------+----+\n",
      "|85660637209|           020 |               42240|      2024-01-22|           2024-01-22|              98230|           G0|2023-09-26 00:03:03|2024-01-22 12:01:21|         16|                 5|                  12|            169920|2023-09-26|2024-01-22|   0|\n",
      "|85684177804|           020 |               42141|      2024-01-13|           2024-01-12|              91715|           G0|2023-09-26 16:33:28|2024-01-18 03:37:08|         19|                 7|                  13|            164160|2023-09-26|2024-01-18|   1|\n",
      "|85710348611|           020 |               37062|      2023-10-02|           2024-01-13|              60143|           G0|2023-09-27 18:32:55|2024-01-12 06:25:21|         58|                14|                  23|            154080|2023-09-27|2024-01-12|   0|\n",
      "+-----------+---------------+--------------------+----------------+---------------------+-------------------+-------------+-------------------+-------------------+-----------+------------------+--------------------+------------------+----------+----------+----+\n",
      "only showing top 3 rows\n",
      "\n"
     ]
    },
    {
     "data": {
      "text/plain": [
       "1115279"
      ]
     },
     "execution_count": 18,
     "metadata": {},
     "output_type": "execute_result"
    }
   ],
   "source": [
    "#1115279 conts before join\n",
    "df.show(3)\n",
    "df.count()"
   ]
  },
  {
   "cell_type": "code",
   "execution_count": 19,
   "id": "0e5e384c",
   "metadata": {},
   "outputs": [
    {
     "name": "stdout",
     "output_type": "stream",
     "text": [
      "+-----------+---------------+----------+----------------+---------------------+---------------+-------------+-------------------+-------------------+-----------+------------------+--------------------+------------------+----------+----------+----+\n",
      "|MailPieceID|ServiceTypeCode|Origin_zip|StopTheClockDate|ScheduledDeliveryDate|destination_zip|MailClassCode|  min_scan_datetime|  max_scan_datetime|total_scans|Distinct_zip_scans|Distinct_event_scans|time_delta_minutes|  min_date|  max_date|late|\n",
      "+-----------+---------------+----------+----------------+---------------------+---------------+-------------+-------------------+-------------------+-----------+------------------+--------------------+------------------+----------+----------+----+\n",
      "|85660637209|           020 |     42240|      2024-01-22|           2024-01-22|          98230|           G0|2023-09-26 00:03:03|2024-01-22 12:01:21|         16|                 5|                  12|            169920|2023-09-26|2024-01-22|   0|\n",
      "|85684177804|           020 |     42141|      2024-01-13|           2024-01-12|          91715|           G0|2023-09-26 16:33:28|2024-01-18 03:37:08|         19|                 7|                  13|            164160|2023-09-26|2024-01-18|   1|\n",
      "|85710348611|           020 |     37062|      2023-10-02|           2024-01-13|          60143|           G0|2023-09-27 18:32:55|2024-01-12 06:25:21|         58|                14|                  23|            154080|2023-09-27|2024-01-12|   0|\n",
      "|85730795185|           490 |     37217|      2024-01-18|           2024-01-20|          98503|           BS|2023-09-27 16:00:00|2024-01-18 14:41:44|         28|                 9|                  14|            162720|2023-09-27|2024-01-18|   0|\n",
      "|85754705526|           490 |     37217|      2024-01-12|           2024-01-16|          30281|           BS|2023-09-28 20:38:38|2024-01-12 16:26:27|         17|                 5|                  13|            152640|2023-09-28|2024-01-12|   0|\n",
      "|85754705532|           490 |     37217|      2024-01-16|           2024-01-19|          91307|           BS|2023-09-28 20:34:14|2024-01-16 18:27:26|         37|                 8|                  16|            158400|2023-09-28|2024-01-16|   0|\n",
      "|85754705656|           490 |     37217|      2024-01-13|           2024-01-17|          80435|           BS|2023-09-28 20:24:18|2024-01-13 15:16:05|         23|                 7|                  11|            154080|2023-09-28|2024-01-13|   0|\n",
      "|85754705949|           490 |     37217|      2024-01-12|           2024-01-17|          29492|           BS|2023-09-28 20:22:32|2024-01-12 12:18:40|         21|                 7|                  13|            152640|2023-09-28|2024-01-12|   0|\n",
      "|85754705953|           490 |     37217|      2024-01-12|           2024-01-16|          33414|           BS|2023-09-28 20:22:29|2024-01-12 14:54:04|         27|                 5|                  14|            152640|2023-09-28|2024-01-12|   0|\n",
      "|85754705961|           490 |     37217|      2024-01-13|           2024-01-18|          02703|           BS|2023-09-28 20:22:31|2024-01-13 10:50:01|         27|                 6|                  13|            154080|2023-09-28|2024-01-13|   0|\n",
      "|85773230420|           001 |     38456|      2023-10-02|           2024-01-23|          21227|           G0|2023-09-29 01:03:20|2024-01-23 14:57:45|         49|                 7|                  15|            167040|2023-09-29|2024-01-23|   0|\n",
      "|85775194415|           020 |     38506|      2024-01-19|           2024-01-20|          60169|           G0|2023-09-29 13:46:22|2024-01-19 11:32:20|         33|                10|                  14|            161280|2023-09-29|2024-01-19|   0|\n",
      "|85791857150|           020 |     37129|      2024-01-24|           2024-01-23|          98684|           G0|2023-09-30 09:09:55|2024-01-24 08:41:14|         18|                 5|                  13|            167040|2023-09-30|2024-01-24|   1|\n",
      "|85825425143|           490 |     37217|      2024-01-12|           2024-01-16|          76502|           BS|2023-10-02 20:57:49|2024-01-12 14:12:05|         33|                10|                  15|            146880|2023-10-02|2024-01-12|   0|\n",
      "|85825425177|           490 |     37217|      2024-01-12|           2024-01-17|          55110|           BS|2023-10-02 20:38:36|2024-01-12 13:58:35|         32|                 7|                  15|            146880|2023-10-02|2024-01-12|   0|\n",
      "|85825425212|           490 |     37217|      2024-01-12|           2024-01-17|          11373|           BS|2023-10-02 21:03:24|2024-01-12 07:10:28|         32|                 7|                  13|            146880|2023-10-02|2024-01-12|   0|\n",
      "|85825425279|           490 |     37217|      2024-01-16|           2024-01-17|          93304|           BS|2023-10-02 20:44:10|2024-01-22 03:55:23|         43|                13|                  14|            161280|2023-10-02|2024-01-22|   0|\n",
      "|85848429252|           020 |     38456|      2024-01-13|           2024-01-13|          60169|           G0|2023-10-03 15:23:02|2024-01-13 16:25:07|         22|                 8|                  14|            146880|2023-10-03|2024-01-13|   0|\n",
      "|85848438206|           020 |     38558|      2024-01-16|           2024-01-11|          60169|           G0|2023-10-03 12:08:59|2024-01-16 10:14:40|         28|                 7|                  13|            151200|2023-10-03|2024-01-16|   1|\n",
      "|85863879455|           020 |     42164|      2024-01-16|           2024-01-17|          92705|           G0|2023-10-05 00:30:57|2024-01-24 12:19:31|         50|                11|                  13|            159840|2023-10-05|2024-01-24|   0|\n",
      "+-----------+---------------+----------+----------------+---------------------+---------------+-------------+-------------------+-------------------+-----------+------------------+--------------------+------------------+----------+----------+----+\n",
      "only showing top 20 rows\n",
      "\n"
     ]
    }
   ],
   "source": [
    "dict_rename = {\"StartTheClockZipCode\": \"Origin_zip\", \"StopTheClockZipCode\": \"destination_zip\"}\n",
    "\n",
    "for old_name, new_name in dict_rename.items():\n",
    "    df = df.withColumnRenamed(old_name, new_name)\n",
    "\n",
    "df.show()"
   ]
  },
  {
   "cell_type": "code",
   "execution_count": 20,
   "id": "14598a5b",
   "metadata": {},
   "outputs": [
    {
     "name": "stdout",
     "output_type": "stream",
     "text": [
      "+-----------+---------------+----------+---------------------+---------------+-------------+-----------+------------------+--------------------+------------------+----------+----------+----+\n",
      "|MailPieceID|ServiceTypeCode|Origin_zip|ScheduledDeliveryDate|destination_zip|MailClassCode|total_scans|Distinct_zip_scans|Distinct_event_scans|time_delta_minutes|  min_date|  max_date|late|\n",
      "+-----------+---------------+----------+---------------------+---------------+-------------+-----------+------------------+--------------------+------------------+----------+----------+----+\n",
      "|85660637209|           020 |     42240|           2024-01-22|          98230|           G0|         16|                 5|                  12|            169920|2023-09-26|2024-01-22|   0|\n",
      "|85684177804|           020 |     42141|           2024-01-12|          91715|           G0|         19|                 7|                  13|            164160|2023-09-26|2024-01-18|   1|\n",
      "|85710348611|           020 |     37062|           2024-01-13|          60143|           G0|         58|                14|                  23|            154080|2023-09-27|2024-01-12|   0|\n",
      "|85730795185|           490 |     37217|           2024-01-20|          98503|           BS|         28|                 9|                  14|            162720|2023-09-27|2024-01-18|   0|\n",
      "|85754705526|           490 |     37217|           2024-01-16|          30281|           BS|         17|                 5|                  13|            152640|2023-09-28|2024-01-12|   0|\n",
      "|85754705532|           490 |     37217|           2024-01-19|          91307|           BS|         37|                 8|                  16|            158400|2023-09-28|2024-01-16|   0|\n",
      "|85754705656|           490 |     37217|           2024-01-17|          80435|           BS|         23|                 7|                  11|            154080|2023-09-28|2024-01-13|   0|\n",
      "|85754705949|           490 |     37217|           2024-01-17|          29492|           BS|         21|                 7|                  13|            152640|2023-09-28|2024-01-12|   0|\n",
      "|85754705953|           490 |     37217|           2024-01-16|          33414|           BS|         27|                 5|                  14|            152640|2023-09-28|2024-01-12|   0|\n",
      "|85754705961|           490 |     37217|           2024-01-18|          02703|           BS|         27|                 6|                  13|            154080|2023-09-28|2024-01-13|   0|\n",
      "|85773230420|           001 |     38456|           2024-01-23|          21227|           G0|         49|                 7|                  15|            167040|2023-09-29|2024-01-23|   0|\n",
      "|85775194415|           020 |     38506|           2024-01-20|          60169|           G0|         33|                10|                  14|            161280|2023-09-29|2024-01-19|   0|\n",
      "|85791857150|           020 |     37129|           2024-01-23|          98684|           G0|         18|                 5|                  13|            167040|2023-09-30|2024-01-24|   1|\n",
      "|85825425143|           490 |     37217|           2024-01-16|          76502|           BS|         33|                10|                  15|            146880|2023-10-02|2024-01-12|   0|\n",
      "|85825425177|           490 |     37217|           2024-01-17|          55110|           BS|         32|                 7|                  15|            146880|2023-10-02|2024-01-12|   0|\n",
      "|85825425212|           490 |     37217|           2024-01-17|          11373|           BS|         32|                 7|                  13|            146880|2023-10-02|2024-01-12|   0|\n",
      "|85825425279|           490 |     37217|           2024-01-17|          93304|           BS|         43|                13|                  14|            161280|2023-10-02|2024-01-22|   0|\n",
      "|85848429252|           020 |     38456|           2024-01-13|          60169|           G0|         22|                 8|                  14|            146880|2023-10-03|2024-01-13|   0|\n",
      "|85848438206|           020 |     38558|           2024-01-11|          60169|           G0|         28|                 7|                  13|            151200|2023-10-03|2024-01-16|   1|\n",
      "|85863879455|           020 |     42164|           2024-01-17|          92705|           G0|         50|                11|                  13|            159840|2023-10-05|2024-01-24|   0|\n",
      "+-----------+---------------+----------+---------------------+---------------+-------------+-----------+------------------+--------------------+------------------+----------+----------+----+\n",
      "only showing top 20 rows\n",
      "\n"
     ]
    }
   ],
   "source": [
    "columns_to_drop = [\"StopTheClockDate\", \"min_scan_datetime\", \"max_scan_datetime\"]\n",
    "\n",
    "df = df.drop(*columns_to_drop)\n",
    "\n",
    "df.show()"
   ]
  },
  {
   "cell_type": "code",
   "execution_count": 21,
   "id": "3134787e",
   "metadata": {},
   "outputs": [
    {
     "name": "stdout",
     "output_type": "stream",
     "text": [
      "+-----------+---------------+----------+---------------------+---------------+-------------+-----------+------------------+--------------------+------------------+-----------+----------------+----+-------------+-------------+\n",
      "|MailPieceID|ServiceTypeCode|Origin_zip|ScheduledDeliveryDate|destination_zip|MailClassCode|total_scans|Distinct_zip_scans|Distinct_event_scans|time_delta_minutes|Origin_date|destination_date|late|YEARMONTH_Ori|YEARMONTH_Des|\n",
      "+-----------+---------------+----------+---------------------+---------------+-------------+-----------+------------------+--------------------+------------------+-----------+----------------+----+-------------+-------------+\n",
      "|85660637209|           020 |     42240|           2024-01-22|          98230|           G0|         16|                 5|                  12|            169920| 2023-09-26|      2024-01-22|   0|       202309|       202401|\n",
      "|85684177804|           020 |     42141|           2024-01-12|          91715|           G0|         19|                 7|                  13|            164160| 2023-09-26|      2024-01-18|   1|       202309|       202401|\n",
      "|85710348611|           020 |     37062|           2024-01-13|          60143|           G0|         58|                14|                  23|            154080| 2023-09-27|      2024-01-12|   0|       202309|       202401|\n",
      "|85730795185|           490 |     37217|           2024-01-20|          98503|           BS|         28|                 9|                  14|            162720| 2023-09-27|      2024-01-18|   0|       202309|       202401|\n",
      "|85754705526|           490 |     37217|           2024-01-16|          30281|           BS|         17|                 5|                  13|            152640| 2023-09-28|      2024-01-12|   0|       202309|       202401|\n",
      "|85754705532|           490 |     37217|           2024-01-19|          91307|           BS|         37|                 8|                  16|            158400| 2023-09-28|      2024-01-16|   0|       202309|       202401|\n",
      "|85754705656|           490 |     37217|           2024-01-17|          80435|           BS|         23|                 7|                  11|            154080| 2023-09-28|      2024-01-13|   0|       202309|       202401|\n",
      "|85754705949|           490 |     37217|           2024-01-17|          29492|           BS|         21|                 7|                  13|            152640| 2023-09-28|      2024-01-12|   0|       202309|       202401|\n",
      "|85754705953|           490 |     37217|           2024-01-16|          33414|           BS|         27|                 5|                  14|            152640| 2023-09-28|      2024-01-12|   0|       202309|       202401|\n",
      "|85754705961|           490 |     37217|           2024-01-18|          02703|           BS|         27|                 6|                  13|            154080| 2023-09-28|      2024-01-13|   0|       202309|       202401|\n",
      "|85773230420|           001 |     38456|           2024-01-23|          21227|           G0|         49|                 7|                  15|            167040| 2023-09-29|      2024-01-23|   0|       202309|       202401|\n",
      "|85775194415|           020 |     38506|           2024-01-20|          60169|           G0|         33|                10|                  14|            161280| 2023-09-29|      2024-01-19|   0|       202309|       202401|\n",
      "|85791857150|           020 |     37129|           2024-01-23|          98684|           G0|         18|                 5|                  13|            167040| 2023-09-30|      2024-01-24|   1|       202309|       202401|\n",
      "|85825425143|           490 |     37217|           2024-01-16|          76502|           BS|         33|                10|                  15|            146880| 2023-10-02|      2024-01-12|   0|       202310|       202401|\n",
      "|85825425177|           490 |     37217|           2024-01-17|          55110|           BS|         32|                 7|                  15|            146880| 2023-10-02|      2024-01-12|   0|       202310|       202401|\n",
      "|85825425212|           490 |     37217|           2024-01-17|          11373|           BS|         32|                 7|                  13|            146880| 2023-10-02|      2024-01-12|   0|       202310|       202401|\n",
      "|85825425279|           490 |     37217|           2024-01-17|          93304|           BS|         43|                13|                  14|            161280| 2023-10-02|      2024-01-22|   0|       202310|       202401|\n",
      "|85848429252|           020 |     38456|           2024-01-13|          60169|           G0|         22|                 8|                  14|            146880| 2023-10-03|      2024-01-13|   0|       202310|       202401|\n",
      "|85848438206|           020 |     38558|           2024-01-11|          60169|           G0|         28|                 7|                  13|            151200| 2023-10-03|      2024-01-16|   1|       202310|       202401|\n",
      "|85863879455|           020 |     42164|           2024-01-17|          92705|           G0|         50|                11|                  13|            159840| 2023-10-05|      2024-01-24|   0|       202310|       202401|\n",
      "+-----------+---------------+----------+---------------------+---------------+-------------+-----------+------------------+--------------------+------------------+-----------+----------------+----+-------------+-------------+\n",
      "only showing top 20 rows\n",
      "\n"
     ]
    }
   ],
   "source": [
    "from pyspark.sql.functions import date_format\n",
    "dict_rename = {\"min_date\": \"Origin_date\", \"max_date\": \"destination_date\"}\n",
    "\n",
    "for old_name, new_name in dict_rename.items():\n",
    "    df = df.withColumnRenamed(old_name, new_name)\n",
    "    \n",
    "df = df.withColumn(\"YEARMONTH_Ori\", date_format(col(\"Origin_date\"), \"yyyyMM\"))\n",
    "df = df.withColumn(\"YEARMONTH_Des\", date_format(col(\"destination_date\"), \"yyyyMM\"))\n",
    "\n",
    "df.show()"
   ]
  },
  {
   "cell_type": "code",
   "execution_count": 22,
   "id": "0f23cbd4",
   "metadata": {},
   "outputs": [
    {
     "name": "stderr",
     "output_type": "stream",
     "text": [
      "[Stage 38:===================================================>      (8 + 1) / 9]\r"
     ]
    },
    {
     "name": "stdout",
     "output_type": "stream",
     "text": [
      "done\n"
     ]
    },
    {
     "name": "stderr",
     "output_type": "stream",
     "text": [
      "\r",
      "                                                                                \r"
     ]
    }
   ],
   "source": [
    "df.write.mode('overwrite').parquet(\"/home/pk/DAEN690/PKG_Origin_cleaned_YM.parquet\") \n",
    "print(\"done\")"
   ]
  },
  {
   "cell_type": "markdown",
   "id": "174e9edd",
   "metadata": {},
   "source": [
    "Get LAT LON for zipcodes in Data\n"
   ]
  },
  {
   "cell_type": "code",
   "execution_count": 23,
   "id": "83e6ace4",
   "metadata": {},
   "outputs": [],
   "source": [
    "from pyspark.sql import functions as F\n",
    "\n",
    "df_col1 = df.select(F.col(\"Origin_zip\").alias(\"zipcode\"))\n",
    "df_col2 = df.select(F.col(\"destination_zip\").alias(\"zipcode\"))\n",
    "\n",
    "union_df = df_col1.union(df_col2)"
   ]
  },
  {
   "cell_type": "code",
   "execution_count": 24,
   "id": "22564db2",
   "metadata": {},
   "outputs": [
    {
     "name": "stderr",
     "output_type": "stream",
     "text": [
      "                                                                                \r"
     ]
    },
    {
     "data": {
      "text/plain": [
       "32043"
      ]
     },
     "execution_count": 24,
     "metadata": {},
     "output_type": "execute_result"
    }
   ],
   "source": [
    "unique_values_df = union_df.distinct()\n",
    "unique_values_df.count()"
   ]
  },
  {
   "cell_type": "code",
   "execution_count": 25,
   "id": "0b87f624",
   "metadata": {},
   "outputs": [
    {
     "name": "stdout",
     "output_type": "stream",
     "text": [
      "done\n"
     ]
    }
   ],
   "source": [
    "unique_values_df.write.mode('overwrite').parquet(\"/home/pk/DAEN690/PKG_zip.parquet\")\n",
    "print(\"done\")"
   ]
  },
  {
   "cell_type": "code",
   "execution_count": 26,
   "id": "fd59f467",
   "metadata": {},
   "outputs": [
    {
     "name": "stdout",
     "output_type": "stream",
     "text": [
      "+-------+\n",
      "|zipcode|\n",
      "+-------+\n",
      "|  37160|\n",
      "|  37228|\n",
      "|  42134|\n",
      "+-------+\n",
      "only showing top 3 rows\n",
      "\n"
     ]
    },
    {
     "data": {
      "text/plain": [
       "32043"
      ]
     },
     "execution_count": 26,
     "metadata": {},
     "output_type": "execute_result"
    }
   ],
   "source": [
    "df_zip = spark.read.parquet(\"/home/pk/DAEN690/PKG_zip.parquet\")\n",
    "df_zip.show(3)\n",
    "df_zip.count()"
   ]
  },
  {
   "cell_type": "code",
   "execution_count": 27,
   "id": "d17c3f2a",
   "metadata": {},
   "outputs": [
    {
     "name": "stdout",
     "output_type": "stream",
     "text": [
      "+---+---------+----------+\n",
      "|ZIP|      LAT|       LNG|\n",
      "+---+---------+----------+\n",
      "|601|18.180555|-66.749961|\n",
      "|602|18.361945|-67.175597|\n",
      "|603|18.455183|-67.119887|\n",
      "|606|18.158327|-66.932928|\n",
      "|610|18.295366|-67.125135|\n",
      "|612|18.402253|-66.711397|\n",
      "|616|18.420412|-66.671979|\n",
      "|617|18.447538|-66.557681|\n",
      "|622|17.991245|-67.153993|\n",
      "|623|18.083361|-67.153897|\n",
      "|624|18.064919|-66.716683|\n",
      "|627|  18.4126|-66.863926|\n",
      "|631|18.190607|-66.832041|\n",
      "|637|18.076713|-66.947389|\n",
      "|638|18.295913|-66.515588|\n",
      "|641|18.263097|-66.712963|\n",
      "|646| 18.43315|-66.285875|\n",
      "|647|17.963613|-66.947127|\n",
      "|650|18.349416|-66.578079|\n",
      "|652| 18.44844| -66.59411|\n",
      "+---+---------+----------+\n",
      "only showing top 20 rows\n",
      "\n"
     ]
    }
   ],
   "source": [
    "csv_file_path = \"/home/pk/DAEN690/2018_zip_lat_lon.csv\"\n",
    "zip_lat_lon_df = spark.read.csv(csv_file_path, header=True, inferSchema=True)\n",
    "\n",
    "zip_lat_lon_df.show()"
   ]
  },
  {
   "cell_type": "code",
   "execution_count": 28,
   "id": "1e535298",
   "metadata": {},
   "outputs": [],
   "source": [
    "# Join on the zip code column\n",
    "joined_df = df_zip.join(zip_lat_lon_df, df_zip[\"zipcode\"] == zip_lat_lon_df[\"ZIP\"], \"inner\")"
   ]
  },
  {
   "cell_type": "code",
   "execution_count": 29,
   "id": "89c49034",
   "metadata": {},
   "outputs": [
    {
     "name": "stdout",
     "output_type": "stream",
     "text": [
      "+-------+---------+----------+\n",
      "|zipcode|      LAT|       LNG|\n",
      "+-------+---------+----------+\n",
      "|  00601|18.180555|-66.749961|\n",
      "|  00602|18.361945|-67.175597|\n",
      "|  00603|18.455183|-67.119887|\n",
      "+-------+---------+----------+\n",
      "only showing top 3 rows\n",
      "\n"
     ]
    },
    {
     "data": {
      "text/plain": [
       "29090"
      ]
     },
     "execution_count": 29,
     "metadata": {},
     "output_type": "execute_result"
    }
   ],
   "source": [
    "columns_to_drop = [\"ZIP\"]\n",
    "\n",
    "joined_df = joined_df.drop(*columns_to_drop)\n",
    "joined_df.show(3)\n",
    "joined_df.count()"
   ]
  },
  {
   "cell_type": "code",
   "execution_count": 31,
   "id": "0270d45c",
   "metadata": {},
   "outputs": [
    {
     "name": "stdout",
     "output_type": "stream",
     "text": [
      "done\n"
     ]
    }
   ],
   "source": [
    "joined_df.write.mode('overwrite').parquet(\"/home/pk/DAEN690/zip_latlon.parquet\") \n",
    "print(\"done\")"
   ]
  },
  {
   "cell_type": "code",
   "execution_count": null,
   "id": "090de4de",
   "metadata": {},
   "outputs": [],
   "source": []
  }
 ],
 "metadata": {
  "kernelspec": {
   "display_name": "Python 3 (ipykernel)",
   "language": "python",
   "name": "python3"
  },
  "language_info": {
   "codemirror_mode": {
    "name": "ipython",
    "version": 3
   },
   "file_extension": ".py",
   "mimetype": "text/x-python",
   "name": "python",
   "nbconvert_exporter": "python",
   "pygments_lexer": "ipython3",
   "version": "3.11.5"
  }
 },
 "nbformat": 4,
 "nbformat_minor": 5
}
