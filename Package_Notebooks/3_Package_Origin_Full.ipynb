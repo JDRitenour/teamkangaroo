{
 "cells": [
  {
   "cell_type": "code",
   "execution_count": 1,
   "id": "820c10eb",
   "metadata": {},
   "outputs": [
    {
     "name": "stderr",
     "output_type": "stream",
     "text": [
      "/tmp/ipykernel_10014/912229180.py:1: DeprecationWarning: Importing display from IPython.core.display is deprecated since IPython 7.14, please import from IPython display\n",
      "  from IPython.core.display import display, HTML\n"
     ]
    },
    {
     "data": {
      "text/html": [
       "<style>.container { width:90% !important; }</style>"
      ],
      "text/plain": [
       "<IPython.core.display.HTML object>"
      ]
     },
     "metadata": {},
     "output_type": "display_data"
    }
   ],
   "source": [
    "from IPython.core.display import display, HTML\n",
    "display(HTML(\"<style>.container { width:90% !important; }</style>\"))"
   ]
  },
  {
   "cell_type": "code",
   "execution_count": 3,
   "id": "d594c8ee",
   "metadata": {},
   "outputs": [
    {
     "name": "stderr",
     "output_type": "stream",
     "text": [
      "Setting default log level to \"WARN\".\n",
      "To adjust logging level use sc.setLogLevel(newLevel). For SparkR, use setLogLevel(newLevel).\n",
      "24/06/21 16:46:32 WARN NativeCodeLoader: Unable to load native-hadoop library for your platform... using builtin-java classes where applicable\n",
      "24/06/21 16:46:33 WARN Utils: Service 'SparkUI' could not bind on port 4040. Attempting port 4041.\n",
      "24/06/21 16:46:33 WARN Utils: Service 'SparkUI' could not bind on port 4041. Attempting port 4042.\n",
      "24/06/21 16:46:33 WARN Utils: Service 'SparkUI' could not bind on port 4042. Attempting port 4043.\n",
      "24/06/21 16:46:33 WARN Utils: Service 'SparkUI' could not bind on port 4043. Attempting port 4044.\n",
      "24/06/21 16:46:33 WARN Utils: Service 'SparkUI' could not bind on port 4044. Attempting port 4045.\n"
     ]
    }
   ],
   "source": [
    "import findspark\n",
    "findspark.init()\n",
    "\n",
    "from pyspark.sql import SparkSession\n",
    "\n",
    "import os\n",
    "\n",
    "os.environ[\"SPARK_LOCAL_IP\"] = \"127.0.0.1\"\n",
    "\n",
    "spark = SparkSession.builder \\\n",
    "    .appName(\"USPS\") \\\n",
    "    .config(\"spark.executor.memory\", \"8G\") \\\n",
    "    .config(\"spark.driver.memory\", \"8G\") \\\n",
    "    .config(\"spark.executor.cores\", \"4\") \\\n",
    "    .config(\"spark.driver.maxResultSize\", \"4G\") \\\n",
    "    .getOrCreate()\n",
    "\n",
    "spark.sparkContext.setLogLevel(\"ERROR\")\n"
   ]
  },
  {
   "cell_type": "code",
   "execution_count": 4,
   "id": "7f55cf27",
   "metadata": {},
   "outputs": [],
   "source": [
    "df_zip_latlon = spark.read.parquet(\"/home/pk/DAEN690/zip_latlon.parquet\")"
   ]
  },
  {
   "cell_type": "code",
   "execution_count": 5,
   "id": "215d125d",
   "metadata": {},
   "outputs": [
    {
     "name": "stdout",
     "output_type": "stream",
     "text": [
      "+-------+---------+----------+\n",
      "|zipcode|      LAT|       LNG|\n",
      "+-------+---------+----------+\n",
      "|  00601|18.180555|-66.749961|\n",
      "|  00602|18.361945|-67.175597|\n",
      "|  00603|18.455183|-67.119887|\n",
      "+-------+---------+----------+\n",
      "only showing top 3 rows\n",
      "\n"
     ]
    }
   ],
   "source": [
    "df_zip_latlon.show(3)"
   ]
  },
  {
   "cell_type": "code",
   "execution_count": 6,
   "id": "a20100b1",
   "metadata": {},
   "outputs": [],
   "source": [
    "df_PKG_O = spark.read.parquet(\"/home/pk/DAEN690/PKG_Origin_cleaned_YM.parquet\")"
   ]
  },
  {
   "cell_type": "code",
   "execution_count": 7,
   "id": "39e6ff72",
   "metadata": {},
   "outputs": [
    {
     "name": "stdout",
     "output_type": "stream",
     "text": [
      "+-----------+---------------+----------+---------------------+---------------+-------------+-----------+------------------+--------------------+------------------+-----------+----------------+----+-------------+-------------+\n",
      "|MailPieceID|ServiceTypeCode|Origin_zip|ScheduledDeliveryDate|destination_zip|MailClassCode|total_scans|Distinct_zip_scans|Distinct_event_scans|time_delta_minutes|Origin_date|destination_date|late|YEARMONTH_Ori|YEARMONTH_Des|\n",
      "+-----------+---------------+----------+---------------------+---------------+-------------+-----------+------------------+--------------------+------------------+-----------+----------------+----+-------------+-------------+\n",
      "|85660637209|           020 |     42240|           2024-01-22|          98230|           G0|         16|                 5|                  12|            169920| 2023-09-26|      2024-01-22|   0|       202309|       202401|\n",
      "|85684177804|           020 |     42141|           2024-01-12|          91715|           G0|         19|                 7|                  13|            164160| 2023-09-26|      2024-01-18|   1|       202309|       202401|\n",
      "|85710348611|           020 |     37062|           2024-01-13|          60143|           G0|         58|                14|                  23|            154080| 2023-09-27|      2024-01-12|   0|       202309|       202401|\n",
      "+-----------+---------------+----------+---------------------+---------------+-------------+-----------+------------------+--------------------+------------------+-----------+----------------+----+-------------+-------------+\n",
      "only showing top 3 rows\n",
      "\n"
     ]
    }
   ],
   "source": [
    "df_PKG_O.show(3)"
   ]
  },
  {
   "cell_type": "code",
   "execution_count": 8,
   "id": "ac63e24c",
   "metadata": {},
   "outputs": [
    {
     "name": "stdout",
     "output_type": "stream",
     "text": [
      "Minimum Date Ori: 1969-12-31  ---  Minimum Date Des: 2024-01-08\n",
      "1115279\n"
     ]
    }
   ],
   "source": [
    "from pyspark.sql.functions import min\n",
    "min_date_Ori = df_PKG_O.agg(min(\"Origin_date\")).first()[0]\n",
    "min_date_Des = df_PKG_O.agg(min(\"destination_date\")).first()[0]\n",
    "\n",
    "# Show the minimum date\n",
    "print(\"Minimum Date Ori:\", min_date_Ori,\" --- \",\"Minimum Date Des:\", min_date_Des )\n",
    "print(df_PKG_O.count())"
   ]
  },
  {
   "cell_type": "code",
   "execution_count": 10,
   "id": "3ba837e4",
   "metadata": {},
   "outputs": [],
   "source": [
    "df_PKG_O = df_PKG_O.join(df_zip_latlon, df_PKG_O[\"Origin_zip\"] == df_zip_latlon[\"zipcode\"], \"left\")"
   ]
  },
  {
   "cell_type": "code",
   "execution_count": 11,
   "id": "3e4a2711",
   "metadata": {},
   "outputs": [
    {
     "name": "stdout",
     "output_type": "stream",
     "text": [
      "+-----------+---------------+----------+---------------------+---------------+-------------+-----------+------------------+--------------------+------------------+-----------+----------------+----+-------------+-------------+-------+---------+----------+\n",
      "|MailPieceID|ServiceTypeCode|Origin_zip|ScheduledDeliveryDate|destination_zip|MailClassCode|total_scans|Distinct_zip_scans|Distinct_event_scans|time_delta_minutes|Origin_date|destination_date|late|YEARMONTH_Ori|YEARMONTH_Des|zipcode|      LAT|       LNG|\n",
      "+-----------+---------------+----------+---------------------+---------------+-------------+-----------+------------------+--------------------+------------------+-----------+----------------+----+-------------+-------------+-------+---------+----------+\n",
      "|85660637209|           020 |     42240|           2024-01-22|          98230|           G0|         16|                 5|                  12|            169920| 2023-09-26|      2024-01-22|   0|       202309|       202401|  42240|36.880182|-87.463142|\n",
      "|85684177804|           020 |     42141|           2024-01-12|          91715|           G0|         19|                 7|                  13|            164160| 2023-09-26|      2024-01-18|   1|       202309|       202401|  42141|36.947551|-85.918331|\n",
      "|85710348611|           020 |     37062|           2024-01-13|          60143|           G0|         58|                14|                  23|            154080| 2023-09-27|      2024-01-12|   0|       202309|       202401|  37062|35.990294|-87.135646|\n",
      "+-----------+---------------+----------+---------------------+---------------+-------------+-----------+------------------+--------------------+------------------+-----------+----------------+----+-------------+-------------+-------+---------+----------+\n",
      "only showing top 3 rows\n",
      "\n"
     ]
    }
   ],
   "source": [
    "df_PKG_O.show(3)"
   ]
  },
  {
   "cell_type": "code",
   "execution_count": 12,
   "id": "27d8d026",
   "metadata": {},
   "outputs": [
    {
     "data": {
      "text/plain": [
       "1115279"
      ]
     },
     "execution_count": 12,
     "metadata": {},
     "output_type": "execute_result"
    }
   ],
   "source": [
    "df_PKG_O.count()"
   ]
  },
  {
   "cell_type": "code",
   "execution_count": 13,
   "id": "f2a81cbe",
   "metadata": {},
   "outputs": [
    {
     "name": "stdout",
     "output_type": "stream",
     "text": [
      "+-----------+---------------+----------+---------------------+---------------+-------------+-----------+------------------+--------------------+------------------+-----------+----------------+----+-------------+-------------+---------+----------+\n",
      "|MailPieceID|ServiceTypeCode|Origin_zip|ScheduledDeliveryDate|destination_zip|MailClassCode|total_scans|Distinct_zip_scans|Distinct_event_scans|time_delta_minutes|Origin_date|destination_date|late|YEARMONTH_Ori|YEARMONTH_Des|    LAT_O|     LNG_O|\n",
      "+-----------+---------------+----------+---------------------+---------------+-------------+-----------+------------------+--------------------+------------------+-----------+----------------+----+-------------+-------------+---------+----------+\n",
      "|85660637209|           020 |     42240|           2024-01-22|          98230|           G0|         16|                 5|                  12|            169920| 2023-09-26|      2024-01-22|   0|       202309|       202401|36.880182|-87.463142|\n",
      "|85684177804|           020 |     42141|           2024-01-12|          91715|           G0|         19|                 7|                  13|            164160| 2023-09-26|      2024-01-18|   1|       202309|       202401|36.947551|-85.918331|\n",
      "|85710348611|           020 |     37062|           2024-01-13|          60143|           G0|         58|                14|                  23|            154080| 2023-09-27|      2024-01-12|   0|       202309|       202401|35.990294|-87.135646|\n",
      "+-----------+---------------+----------+---------------------+---------------+-------------+-----------+------------------+--------------------+------------------+-----------+----------------+----+-------------+-------------+---------+----------+\n",
      "only showing top 3 rows\n",
      "\n"
     ]
    }
   ],
   "source": [
    "df_PKG_O = df_PKG_O.drop(\"zipcode\")\n",
    "dict_rename = {\"LAT\": \"LAT_O\", \"LNG\": \"LNG_O\"}\n",
    "\n",
    "for old_name, new_name in dict_rename.items():\n",
    "    df_PKG_O = df_PKG_O.withColumnRenamed(old_name, new_name)\n",
    "\n",
    "df_PKG_O.show(3)"
   ]
  },
  {
   "cell_type": "code",
   "execution_count": 14,
   "id": "d768918a",
   "metadata": {},
   "outputs": [],
   "source": [
    "df_PKG_O = df_PKG_O.join(df_zip_latlon, df_PKG_O[\"destination_zip\"] == df_zip_latlon[\"zipcode\"], \"left\")"
   ]
  },
  {
   "cell_type": "code",
   "execution_count": 15,
   "id": "0ab88eae",
   "metadata": {},
   "outputs": [
    {
     "name": "stdout",
     "output_type": "stream",
     "text": [
      "+-----------+---------------+----------+---------------------+---------------+-------------+-----------+------------------+--------------------+------------------+-----------+----------------+----+-------------+-------------+---------+----------+-------+---------+-----------+\n",
      "|MailPieceID|ServiceTypeCode|Origin_zip|ScheduledDeliveryDate|destination_zip|MailClassCode|total_scans|Distinct_zip_scans|Distinct_event_scans|time_delta_minutes|Origin_date|destination_date|late|YEARMONTH_Ori|YEARMONTH_Des|    LAT_O|     LNG_O|zipcode|      LAT|        LNG|\n",
      "+-----------+---------------+----------+---------------------+---------------+-------------+-----------+------------------+--------------------+------------------+-----------+----------------+----+-------------+-------------+---------+----------+-------+---------+-----------+\n",
      "|85660637209|           020 |     42240|           2024-01-22|          98230|           G0|         16|                 5|                  12|            169920| 2023-09-26|      2024-01-22|   0|       202309|       202401|36.880182|-87.463142|  98230|48.953455|-122.705013|\n",
      "|85684177804|           020 |     42141|           2024-01-12|          91715|           G0|         19|                 7|                  13|            164160| 2023-09-26|      2024-01-18|   1|       202309|       202401|36.947551|-85.918331|   NULL|     NULL|       NULL|\n",
      "|85710348611|           020 |     37062|           2024-01-13|          60143|           G0|         58|                14|                  23|            154080| 2023-09-27|      2024-01-12|   0|       202309|       202401|35.990294|-87.135646|  60143|41.975335| -88.022464|\n",
      "+-----------+---------------+----------+---------------------+---------------+-------------+-----------+------------------+--------------------+------------------+-----------+----------------+----+-------------+-------------+---------+----------+-------+---------+-----------+\n",
      "only showing top 3 rows\n",
      "\n"
     ]
    }
   ],
   "source": [
    "df_PKG_O.show(3)"
   ]
  },
  {
   "cell_type": "code",
   "execution_count": 16,
   "id": "29a71431",
   "metadata": {},
   "outputs": [
    {
     "name": "stdout",
     "output_type": "stream",
     "text": [
      "+-----------+---------------+----------+---------------------+---------------+-------------+-----------+------------------+--------------------+------------------+-----------+----------------+----+-------------+-------------+---------+----------+---------+-----------+\n",
      "|MailPieceID|ServiceTypeCode|Origin_zip|ScheduledDeliveryDate|destination_zip|MailClassCode|total_scans|Distinct_zip_scans|Distinct_event_scans|time_delta_minutes|Origin_date|destination_date|late|YEARMONTH_Ori|YEARMONTH_Des|    LAT_O|     LNG_O|    LAT_D|      LNG_D|\n",
      "+-----------+---------------+----------+---------------------+---------------+-------------+-----------+------------------+--------------------+------------------+-----------+----------------+----+-------------+-------------+---------+----------+---------+-----------+\n",
      "|85660637209|           020 |     42240|           2024-01-22|          98230|           G0|         16|                 5|                  12|            169920| 2023-09-26|      2024-01-22|   0|       202309|       202401|36.880182|-87.463142|48.953455|-122.705013|\n",
      "|85684177804|           020 |     42141|           2024-01-12|          91715|           G0|         19|                 7|                  13|            164160| 2023-09-26|      2024-01-18|   1|       202309|       202401|36.947551|-85.918331|     NULL|       NULL|\n",
      "|85710348611|           020 |     37062|           2024-01-13|          60143|           G0|         58|                14|                  23|            154080| 2023-09-27|      2024-01-12|   0|       202309|       202401|35.990294|-87.135646|41.975335| -88.022464|\n",
      "+-----------+---------------+----------+---------------------+---------------+-------------+-----------+------------------+--------------------+------------------+-----------+----------------+----+-------------+-------------+---------+----------+---------+-----------+\n",
      "only showing top 3 rows\n",
      "\n"
     ]
    },
    {
     "data": {
      "text/plain": [
       "1115279"
      ]
     },
     "execution_count": 16,
     "metadata": {},
     "output_type": "execute_result"
    }
   ],
   "source": [
    "df_PKG_O = df_PKG_O.drop(\"zipcode\")\n",
    "dict_rename = {\"LAT\": \"LAT_D\", \"LNG\": \"LNG_D\"}\n",
    "\n",
    "for old_name, new_name in dict_rename.items():\n",
    "    df_PKG_O = df_PKG_O.withColumnRenamed(old_name, new_name)\n",
    "\n",
    "df_PKG_O.show(3)\n",
    "df_PKG_O.count()"
   ]
  },
  {
   "cell_type": "code",
   "execution_count": 17,
   "id": "8c2566c7",
   "metadata": {},
   "outputs": [],
   "source": [
    "########################################################################################################"
   ]
  },
  {
   "cell_type": "code",
   "execution_count": 18,
   "id": "f0143c9a",
   "metadata": {
    "scrolled": true
   },
   "outputs": [
    {
     "name": "stdout",
     "output_type": "stream",
     "text": [
      "+---------+----------+--------+--------------+-----+-------+------------+--------+---------+-------+--------+------------+\n",
      "|YEARMONTH|EPISODE_ID|EVENT_ID|LOCATION_INDEX|RANGE|AZIMUTH|    LOCATION|LATITUDE|LONGITUDE|   LAT2|    LON2|  EVENT_TYPE|\n",
      "+---------+----------+--------+--------------+-----+-------+------------+--------+---------+-------+--------+------------+\n",
      "|   202210|    173111| 1051457|             1|  0.0|      N|    EDGEWOOD|   35.07|   -106.2| 354200|10612000|Funnel Cloud|\n",
      "|   202210|    173111| 1053281|             1| 9.95|     NW|MEXICAN SPGS| 35.8753|-108.9632|3552518|10857792|Funnel Cloud|\n",
      "|   202210|    173122| 1051505|             1| 1.08|      W|       NUCLA|   38.27|  -108.55|3816200|10833000|        Hail|\n",
      "+---------+----------+--------+--------------+-----+-------+------------+--------+---------+-------+--------+------------+\n",
      "only showing top 3 rows\n",
      "\n"
     ]
    }
   ],
   "source": [
    "df_weather = spark.read.csv(\"combined_storm_events_with_types.csv\", header=True)\n",
    "df_weather.show(3)"
   ]
  },
  {
   "cell_type": "code",
   "execution_count": 19,
   "id": "dfa8ac68",
   "metadata": {},
   "outputs": [],
   "source": [
    "df1 = df_PKG_O\n",
    "df2 = df_weather"
   ]
  },
  {
   "cell_type": "code",
   "execution_count": 20,
   "id": "30e65976",
   "metadata": {
    "scrolled": true
   },
   "outputs": [
    {
     "name": "stdout",
     "output_type": "stream",
     "text": [
      "+-----------+---------------+----------+---------------------+---------------+-------------+-----------+------------------+--------------------+------------------+-----------+----------------+----+-------------+-------------+---------+----------+---------+-----------+-----------+-----------+-----------+-----------+\n",
      "|MailPieceID|ServiceTypeCode|Origin_zip|ScheduledDeliveryDate|destination_zip|MailClassCode|total_scans|Distinct_zip_scans|Distinct_event_scans|time_delta_minutes|Origin_date|destination_date|late|YEARMONTH_Ori|YEARMONTH_Des|    LAT_O|     LNG_O|    LAT_D|      LNG_D|LAT_O_ROUND|LNG_O_ROUND|LAT_D_ROUND|LNG_D_ROUND|\n",
      "+-----------+---------------+----------+---------------------+---------------+-------------+-----------+------------------+--------------------+------------------+-----------+----------------+----+-------------+-------------+---------+----------+---------+-----------+-----------+-----------+-----------+-----------+\n",
      "|85660637209|           020 |     42240|           2024-01-22|          98230|           G0|         16|                 5|                  12|            169920| 2023-09-26|      2024-01-22|   0|       202309|       202401|36.880182|-87.463142|48.953455|-122.705013|       36.9|      -87.5|       49.0|     -122.7|\n",
      "|85684177804|           020 |     42141|           2024-01-12|          91715|           G0|         19|                 7|                  13|            164160| 2023-09-26|      2024-01-18|   1|       202309|       202401|36.947551|-85.918331|     NULL|       NULL|       36.9|      -85.9|       NULL|       NULL|\n",
      "|85710348611|           020 |     37062|           2024-01-13|          60143|           G0|         58|                14|                  23|            154080| 2023-09-27|      2024-01-12|   0|       202309|       202401|35.990294|-87.135646|41.975335| -88.022464|       36.0|      -87.1|       42.0|      -88.0|\n",
      "+-----------+---------------+----------+---------------------+---------------+-------------+-----------+------------------+--------------------+------------------+-----------+----------------+----+-------------+-------------+---------+----------+---------+-----------+-----------+-----------+-----------+-----------+\n",
      "only showing top 3 rows\n",
      "\n",
      "+---------+----------+--------+--------------+-----+-------+------------+--------+---------+-------+--------+------------+--------------+---------------+\n",
      "|YEARMONTH|EPISODE_ID|EVENT_ID|LOCATION_INDEX|RANGE|AZIMUTH|    LOCATION|LATITUDE|LONGITUDE|   LAT2|    LON2|  EVENT_TYPE|LATITUDE_ROUND|LONGITUDE_ROUND|\n",
      "+---------+----------+--------+--------------+-----+-------+------------+--------+---------+-------+--------+------------+--------------+---------------+\n",
      "|   202210|    173111| 1051457|             1|  0.0|      N|    EDGEWOOD|   35.07|   -106.2| 354200|10612000|Funnel Cloud|          35.1|         -106.2|\n",
      "|   202210|    173111| 1053281|             1| 9.95|     NW|MEXICAN SPGS| 35.8753|-108.9632|3552518|10857792|Funnel Cloud|          35.9|         -109.0|\n",
      "|   202210|    173122| 1051505|             1| 1.08|      W|       NUCLA|   38.27|  -108.55|3816200|10833000|        Hail|          38.3|         -108.6|\n",
      "+---------+----------+--------+--------------+-----+-------+------------+--------+---------+-------+--------+------------+--------------+---------------+\n",
      "only showing top 3 rows\n",
      "\n"
     ]
    }
   ],
   "source": [
    "from pyspark.sql.functions import col, round\n",
    "\n",
    "df1 = df1.withColumn(\"LAT_O_ROUND\", round(col(\"LAT_O\"), 1)) \\\n",
    "         .withColumn(\"LNG_O_ROUND\", round(col(\"LNG_O\"), 1)) \\\n",
    "         .withColumn(\"LAT_D_ROUND\", round(col(\"LAT_D\"), 1)) \\\n",
    "         .withColumn(\"LNG_D_ROUND\", round(col(\"LNG_D\"), 1)) \\\n",
    "\n",
    "df2 = df2.withColumn(\"LATITUDE_ROUND\", round(col(\"LATITUDE\"), 1)) \\\n",
    "         .withColumn(\"LONGITUDE_ROUND\", round(col(\"LONGITUDE\"), 1))\n",
    "\n",
    "df1.show(3)\n",
    "df2.show(3)"
   ]
  },
  {
   "cell_type": "code",
   "execution_count": 21,
   "id": "f390e64b",
   "metadata": {},
   "outputs": [
    {
     "name": "stdout",
     "output_type": "stream",
     "text": [
      "+-----------+---------------+----------+---------------------+---------------+-------------+-----------+------------------+--------------------+------------------+-----------+----------------+----+-------------+-------------+---------+----------+---------+-----------+-----------+-----------+-----------+-----------+--------+---------+-----------+\n",
      "|MailPieceID|ServiceTypeCode|Origin_zip|ScheduledDeliveryDate|destination_zip|MailClassCode|total_scans|Distinct_zip_scans|Distinct_event_scans|time_delta_minutes|Origin_date|destination_date|late|YEARMONTH_Ori|YEARMONTH_Des|    LAT_O|     LNG_O|    LAT_D|      LNG_D|LAT_O_ROUND|LNG_O_ROUND|LAT_D_ROUND|LNG_D_ROUND|EVENT_ID|YEARMONTH| EVENT_TYPE|\n",
      "+-----------+---------------+----------+---------------------+---------------+-------------+-----------+------------------+--------------------+------------------+-----------+----------------+----+-------------+-------------+---------+----------+---------+-----------+-----------+-----------+-----------+-----------+--------+---------+-----------+\n",
      "|85660637209|           020 |     42240|           2024-01-22|          98230|           G0|         16|                 5|                  12|            169920| 2023-09-26|      2024-01-22|   0|       202309|       202401|36.880182|-87.463142|48.953455|-122.705013|       36.9|      -87.5|       49.0|     -122.7| 1133997|   202309|      Flood|\n",
      "|85660637209|           020 |     42240|           2024-01-22|          98230|           G0|         16|                 5|                  12|            169920| 2023-09-26|      2024-01-22|   0|       202309|       202401|36.880182|-87.463142|48.953455|-122.705013|       36.9|      -87.5|       49.0|     -122.7| 1133996|   202309|Flash Flood|\n",
      "|85660637209|           020 |     42240|           2024-01-22|          98230|           G0|         16|                 5|                  12|            169920| 2023-09-26|      2024-01-22|   0|       202309|       202401|36.880182|-87.463142|48.953455|-122.705013|       36.9|      -87.5|       49.0|     -122.7| 1133996|   202309|Flash Flood|\n",
      "+-----------+---------------+----------+---------------------+---------------+-------------+-----------+------------------+--------------------+------------------+-----------+----------------+----+-------------+-------------+---------+----------+---------+-----------+-----------+-----------+-----------+-----------+--------+---------+-----------+\n",
      "only showing top 3 rows\n",
      "\n"
     ]
    }
   ],
   "source": [
    "result_df = df1.join(\n",
    "    df2,\n",
    "    (df1[\"LAT_O_ROUND\"] == df2[\"LATITUDE_ROUND\"]) &\n",
    "    (df1[\"LNG_O_ROUND\"] == df2[\"LONGITUDE_ROUND\"]) &\n",
    "    (df1[\"YEARMONTH_Ori\"] == df2[\"YEARMONTH\"]),\n",
    "    how=\"left\"\n",
    ").select(\n",
    "    df1[\"*\"], df2[\"EVENT_ID\"], df2[\"YEARMONTH\"],df2[\"EVENT_TYPE\"]\n",
    ")\n",
    "\n",
    "result_df.show(3)"
   ]
  },
  {
   "cell_type": "code",
   "execution_count": 22,
   "id": "fb3de44e",
   "metadata": {},
   "outputs": [
    {
     "data": {
      "text/plain": [
       "1115489"
      ]
     },
     "execution_count": 22,
     "metadata": {},
     "output_type": "execute_result"
    }
   ],
   "source": [
    "result_df.count()\n",
    "# 1115279 original size\n",
    "# new size 1115489"
   ]
  },
  {
   "cell_type": "code",
   "execution_count": 25,
   "id": "987f6eda",
   "metadata": {},
   "outputs": [
    {
     "name": "stderr",
     "output_type": "stream",
     "text": [
      "[Stage 57:==================================================>       (7 + 1) / 8]\r"
     ]
    },
    {
     "name": "stdout",
     "output_type": "stream",
     "text": [
      "+-----------+--------+\n",
      "|MailPieceID|EVENT_ID|\n",
      "+-----------+--------+\n",
      "|85660637209| 1133997|\n",
      "|85660637209| 1133996|\n",
      "|85660637209| 1133996|\n",
      "|85660637209| 1130760|\n",
      "|87652110395| 1144555|\n",
      "|87652110395| 1144554|\n",
      "|87896824000| 1144555|\n",
      "|87896824000| 1144554|\n",
      "|87924089178| 1144555|\n",
      "|87924089178| 1144554|\n",
      "|87935789929| 1144555|\n",
      "|87935789929| 1144554|\n",
      "|87935789930| 1144555|\n",
      "|87935789930| 1144554|\n",
      "|87935789935| 1144555|\n",
      "|87935789935| 1144554|\n",
      "|87935789948| 1144555|\n",
      "|87935789948| 1144554|\n",
      "|87935789949| 1144555|\n",
      "|87935789949| 1144554|\n",
      "+-----------+--------+\n",
      "only showing top 20 rows\n",
      "\n"
     ]
    },
    {
     "name": "stderr",
     "output_type": "stream",
     "text": [
      "\r",
      "                                                                                \r"
     ]
    }
   ],
   "source": [
    "from pyspark.sql.functions import col, count\n",
    "\n",
    "\n",
    "duplicate_ids = (result_df.groupBy(\"MailPieceID\")\n",
    "                  .agg(count(\"MailPieceID\").alias(\"count\"))\n",
    "                  .filter(col(\"count\") > 1)\n",
    "                  .select(\"MailPieceID\"))\n",
    "\n",
    "duplicate_rows = result_df.join(duplicate_ids, on=\"MailPieceID\", how=\"inner\")\n",
    "\n",
    "result_val = duplicate_rows.select(\"MailPieceID\", \"EVENT_ID\")\n",
    "\n",
    "result_val.show()"
   ]
  },
  {
   "cell_type": "code",
   "execution_count": 25,
   "id": "fe38d25a",
   "metadata": {},
   "outputs": [
    {
     "name": "stdout",
     "output_type": "stream",
     "text": [
      "+-----------+---------------+----------+---------------------+---------------+-------------+-----------+------------------+--------------------+------------------+-----------+----------------+----+-------------+-------------+---------+----------+---------+-----------+-----------+-----------+-----------+-----------+----------+-----------+------------+\n",
      "|MailPieceID|ServiceTypeCode|Origin_zip|ScheduledDeliveryDate|destination_zip|MailClassCode|total_scans|Distinct_zip_scans|Distinct_event_scans|time_delta_minutes|Origin_date|destination_date|late|YEARMONTH_Ori|YEARMONTH_Des|    LAT_O|     LNG_O|    LAT_D|      LNG_D|LAT_O_ROUND|LNG_O_ROUND|LAT_D_ROUND|LNG_D_ROUND|EVENT_ID_O|YEARMONTH_O|EVENT_TYPE_O|\n",
      "+-----------+---------------+----------+---------------------+---------------+-------------+-----------+------------------+--------------------+------------------+-----------+----------------+----+-------------+-------------+---------+----------+---------+-----------+-----------+-----------+-----------+-----------+----------+-----------+------------+\n",
      "|85660637209|           020 |     42240|           2024-01-22|          98230|           G0|         16|                 5|                  12|            169920| 2023-09-26|      2024-01-22|   0|       202309|       202401|36.880182|-87.463142|48.953455|-122.705013|       36.9|      -87.5|       49.0|     -122.7|   1133997|     202309|       Flood|\n",
      "|85660637209|           020 |     42240|           2024-01-22|          98230|           G0|         16|                 5|                  12|            169920| 2023-09-26|      2024-01-22|   0|       202309|       202401|36.880182|-87.463142|48.953455|-122.705013|       36.9|      -87.5|       49.0|     -122.7|   1133996|     202309| Flash Flood|\n",
      "|85660637209|           020 |     42240|           2024-01-22|          98230|           G0|         16|                 5|                  12|            169920| 2023-09-26|      2024-01-22|   0|       202309|       202401|36.880182|-87.463142|48.953455|-122.705013|       36.9|      -87.5|       49.0|     -122.7|   1133996|     202309| Flash Flood|\n",
      "+-----------+---------------+----------+---------------------+---------------+-------------+-----------+------------------+--------------------+------------------+-----------+----------------+----+-------------+-------------+---------+----------+---------+-----------+-----------+-----------+-----------+-----------+----------+-----------+------------+\n",
      "only showing top 3 rows\n",
      "\n"
     ]
    }
   ],
   "source": [
    "dict_rename = {\"EVENT_ID\": \"EVENT_ID_O\",\"YEARMONTH\":\"YEARMONTH_O\", \"EVENT_TYPE\": \"EVENT_TYPE_O\"}\n",
    "\n",
    "for old_name, new_name in dict_rename.items():\n",
    "    result_df = result_df.withColumnRenamed(old_name, new_name)\n",
    "\n",
    "result_df.show(3)"
   ]
  },
  {
   "cell_type": "code",
   "execution_count": 26,
   "id": "2a9a60c7",
   "metadata": {},
   "outputs": [
    {
     "name": "stdout",
     "output_type": "stream",
     "text": [
      "+---------+----------+--------+--------------+-----+-------+------------+--------+---------+-------+--------+------------+--------------+---------------+\n",
      "|YEARMONTH|EPISODE_ID|EVENT_ID|LOCATION_INDEX|RANGE|AZIMUTH|    LOCATION|LATITUDE|LONGITUDE|   LAT2|    LON2|  EVENT_TYPE|LATITUDE_ROUND|LONGITUDE_ROUND|\n",
      "+---------+----------+--------+--------------+-----+-------+------------+--------+---------+-------+--------+------------+--------------+---------------+\n",
      "|   202210|    173111| 1051457|             1|  0.0|      N|    EDGEWOOD|   35.07|   -106.2| 354200|10612000|Funnel Cloud|          35.1|         -106.2|\n",
      "|   202210|    173111| 1053281|             1| 9.95|     NW|MEXICAN SPGS| 35.8753|-108.9632|3552518|10857792|Funnel Cloud|          35.9|         -109.0|\n",
      "|   202210|    173122| 1051505|             1| 1.08|      W|       NUCLA|   38.27|  -108.55|3816200|10833000|        Hail|          38.3|         -108.6|\n",
      "+---------+----------+--------+--------------+-----+-------+------------+--------+---------+-------+--------+------------+--------------+---------------+\n",
      "only showing top 3 rows\n",
      "\n"
     ]
    }
   ],
   "source": [
    "df2.show(3)"
   ]
  },
  {
   "cell_type": "code",
   "execution_count": 27,
   "id": "a358fd6d",
   "metadata": {},
   "outputs": [
    {
     "name": "stdout",
     "output_type": "stream",
     "text": [
      "+-----------+---------------+----------+---------------------+---------------+-------------+-----------+------------------+--------------------+------------------+-----------+----------------+----+-------------+-------------+---------+----------+---------+-----------+-----------+-----------+-----------+-----------+----------+-----------+------------+--------+---------+----------+\n",
      "|MailPieceID|ServiceTypeCode|Origin_zip|ScheduledDeliveryDate|destination_zip|MailClassCode|total_scans|Distinct_zip_scans|Distinct_event_scans|time_delta_minutes|Origin_date|destination_date|late|YEARMONTH_Ori|YEARMONTH_Des|    LAT_O|     LNG_O|    LAT_D|      LNG_D|LAT_O_ROUND|LNG_O_ROUND|LAT_D_ROUND|LNG_D_ROUND|EVENT_ID_O|YEARMONTH_O|EVENT_TYPE_O|EVENT_ID|YEARMONTH|EVENT_TYPE|\n",
      "+-----------+---------------+----------+---------------------+---------------+-------------+-----------+------------------+--------------------+------------------+-----------+----------------+----+-------------+-------------+---------+----------+---------+-----------+-----------+-----------+-----------+-----------+----------+-----------+------------+--------+---------+----------+\n",
      "|85660637209|           020 |     42240|           2024-01-22|          98230|           G0|         16|                 5|                  12|            169920| 2023-09-26|      2024-01-22|   0|       202309|       202401|36.880182|-87.463142|48.953455|-122.705013|       36.9|      -87.5|       49.0|     -122.7|   1133997|     202309|       Flood|    NULL|     NULL|      NULL|\n",
      "|85660637209|           020 |     42240|           2024-01-22|          98230|           G0|         16|                 5|                  12|            169920| 2023-09-26|      2024-01-22|   0|       202309|       202401|36.880182|-87.463142|48.953455|-122.705013|       36.9|      -87.5|       49.0|     -122.7|   1133996|     202309| Flash Flood|    NULL|     NULL|      NULL|\n",
      "|85660637209|           020 |     42240|           2024-01-22|          98230|           G0|         16|                 5|                  12|            169920| 2023-09-26|      2024-01-22|   0|       202309|       202401|36.880182|-87.463142|48.953455|-122.705013|       36.9|      -87.5|       49.0|     -122.7|   1133996|     202309| Flash Flood|    NULL|     NULL|      NULL|\n",
      "+-----------+---------------+----------+---------------------+---------------+-------------+-----------+------------------+--------------------+------------------+-----------+----------------+----+-------------+-------------+---------+----------+---------+-----------+-----------+-----------+-----------+-----------+----------+-----------+------------+--------+---------+----------+\n",
      "only showing top 3 rows\n",
      "\n"
     ]
    }
   ],
   "source": [
    "from pyspark.sql import functions as F\n",
    "\n",
    "result_df_alias = result_df.alias(\"result_df\")\n",
    "df2_alias = df2.alias(\"df2\")\n",
    "\n",
    "result_df2 = result_df_alias.join(\n",
    "    df2_alias,\n",
    "    (result_df_alias[\"LAT_D_ROUND\"] == df2_alias[\"LATITUDE_ROUND\"]) &\n",
    "    (result_df_alias[\"LNG_D_ROUND\"] == df2_alias[\"LONGITUDE_ROUND\"]) &\n",
    "    (result_df_alias[\"YEARMONTH_Des\"] == df2_alias[\"YEARMONTH\"]),\n",
    "    how=\"left\"\n",
    ").select(\n",
    "    [F.col(\"result_df.*\")] + [F.col(\"df2.EVENT_ID\"), F.col(\"df2.YEARMONTH\"), F.col(\"df2.EVENT_TYPE\")]\n",
    ")\n",
    "\n",
    "result_df2.show(3)"
   ]
  },
  {
   "cell_type": "code",
   "execution_count": 29,
   "id": "c33765c0",
   "metadata": {},
   "outputs": [
    {
     "name": "stderr",
     "output_type": "stream",
     "text": [
      "\r",
      "[Stage 68:===========================================>              (6 + 2) / 8]\r",
      "\r",
      "                                                                                \r"
     ]
    },
    {
     "data": {
      "text/plain": [
       "1228246"
      ]
     },
     "execution_count": 29,
     "metadata": {},
     "output_type": "execute_result"
    }
   ],
   "source": [
    "result_df2.count()\n",
    "# 1115279 original size\n",
    "# new size 1115489, 1228246"
   ]
  },
  {
   "cell_type": "code",
   "execution_count": 26,
   "id": "df1c5434",
   "metadata": {},
   "outputs": [
    {
     "name": "stdout",
     "output_type": "stream",
     "text": [
      "+-----------+---------------+----------+---------------------+---------------+-------------+-----------+------------------+--------------------+------------------+-----------+----------------+----+-------------+-------------+---------+----------+---------+-----------+-----------+-----------+-----------+-----------+----------+-----------+------------+----------+-----------+------------+\n",
      "|MailPieceID|ServiceTypeCode|Origin_zip|ScheduledDeliveryDate|destination_zip|MailClassCode|total_scans|Distinct_zip_scans|Distinct_event_scans|time_delta_minutes|Origin_date|destination_date|late|YEARMONTH_Ori|YEARMONTH_Des|    LAT_O|     LNG_O|    LAT_D|      LNG_D|LAT_O_ROUND|LNG_O_ROUND|LAT_D_ROUND|LNG_D_ROUND|EVENT_ID_O|YEARMONTH_O|EVENT_TYPE_O|EVENT_ID_D|YEARMONTH_D|EVENT_TYPE_D|\n",
      "+-----------+---------------+----------+---------------------+---------------+-------------+-----------+------------------+--------------------+------------------+-----------+----------------+----+-------------+-------------+---------+----------+---------+-----------+-----------+-----------+-----------+-----------+----------+-----------+------------+----------+-----------+------------+\n",
      "|85660637209|           020 |     42240|           2024-01-22|          98230|           G0|         16|                 5|                  12|            169920| 2023-09-26|      2024-01-22|   0|       202309|       202401|36.880182|-87.463142|48.953455|-122.705013|       36.9|      -87.5|       49.0|     -122.7|   1133997|     202309|       Flood|      NULL|       NULL|        NULL|\n",
      "|85660637209|           020 |     42240|           2024-01-22|          98230|           G0|         16|                 5|                  12|            169920| 2023-09-26|      2024-01-22|   0|       202309|       202401|36.880182|-87.463142|48.953455|-122.705013|       36.9|      -87.5|       49.0|     -122.7|   1133996|     202309| Flash Flood|      NULL|       NULL|        NULL|\n",
      "|85660637209|           020 |     42240|           2024-01-22|          98230|           G0|         16|                 5|                  12|            169920| 2023-09-26|      2024-01-22|   0|       202309|       202401|36.880182|-87.463142|48.953455|-122.705013|       36.9|      -87.5|       49.0|     -122.7|   1133996|     202309| Flash Flood|      NULL|       NULL|        NULL|\n",
      "+-----------+---------------+----------+---------------------+---------------+-------------+-----------+------------------+--------------------+------------------+-----------+----------------+----+-------------+-------------+---------+----------+---------+-----------+-----------+-----------+-----------+-----------+----------+-----------+------------+----------+-----------+------------+\n",
      "only showing top 3 rows\n",
      "\n"
     ]
    }
   ],
   "source": [
    "dict_rename = {\"EVENT_ID\": \"EVENT_ID_D\",\"YEARMONTH\":\"YEARMONTH_D\", \"EVENT_TYPE\": \"EVENT_TYPE_D\"}\n",
    "\n",
    "for old_name, new_name in dict_rename.items():\n",
    "    result_df2 = result_df2.withColumnRenamed(old_name, new_name)\n",
    "\n",
    "result_df2.show(3)"
   ]
  },
  {
   "cell_type": "code",
   "execution_count": 27,
   "id": "6dc8aa73",
   "metadata": {},
   "outputs": [
    {
     "name": "stderr",
     "output_type": "stream",
     "text": [
      "\r",
      "[Stage 46:>                                                         (0 + 8) / 8]\r"
     ]
    },
    {
     "name": "stdout",
     "output_type": "stream",
     "text": [
      "done\n"
     ]
    },
    {
     "name": "stderr",
     "output_type": "stream",
     "text": [
      "\r",
      "[Stage 46:==================================================>       (7 + 1) / 8]\r",
      "\r",
      "                                                                                \r"
     ]
    }
   ],
   "source": [
    "result_df2.write.mode('overwrite').parquet(\"/home/pk/DAEN690/PKG_final.parquet\")\n",
    "print(\"done\")"
   ]
  },
  {
   "cell_type": "code",
   "execution_count": 28,
   "id": "588a5b25",
   "metadata": {},
   "outputs": [
    {
     "name": "stderr",
     "output_type": "stream",
     "text": [
      "                                                                                \r"
     ]
    },
    {
     "data": {
      "text/plain": [
       "1228246"
      ]
     },
     "execution_count": 28,
     "metadata": {},
     "output_type": "execute_result"
    }
   ],
   "source": [
    "result_df2.count()"
   ]
  },
  {
   "cell_type": "code",
   "execution_count": 29,
   "id": "84f917f3",
   "metadata": {},
   "outputs": [],
   "source": [
    "spark.stop()"
   ]
  }
 ],
 "metadata": {
  "kernelspec": {
   "display_name": "Python 3 (ipykernel)",
   "language": "python",
   "name": "python3"
  },
  "language_info": {
   "codemirror_mode": {
    "name": "ipython",
    "version": 3
   },
   "file_extension": ".py",
   "mimetype": "text/x-python",
   "name": "python",
   "nbconvert_exporter": "python",
   "pygments_lexer": "ipython3",
   "version": "3.11.5"
  }
 },
 "nbformat": 4,
 "nbformat_minor": 5
}
