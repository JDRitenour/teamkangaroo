{
 "cells": [
  {
   "cell_type": "code",
   "execution_count": 6,
   "id": "011c2584",
   "metadata": {},
   "outputs": [
    {
     "name": "stderr",
     "output_type": "stream",
     "text": [
      "/tmp/ipykernel_59807/912229180.py:1: DeprecationWarning: Importing display from IPython.core.display is deprecated since IPython 7.14, please import from IPython display\n",
      "  from IPython.core.display import display, HTML\n"
     ]
    },
    {
     "data": {
      "text/html": [
       "<style>.container { width:90% !important; }</style>"
      ],
      "text/plain": [
       "<IPython.core.display.HTML object>"
      ]
     },
     "metadata": {},
     "output_type": "display_data"
    }
   ],
   "source": [
    "from IPython.core.display import display, HTML\n",
    "display(HTML(\"<style>.container { width:90% !important; }</style>\"))"
   ]
  },
  {
   "cell_type": "code",
   "execution_count": 7,
   "id": "284224c1",
   "metadata": {},
   "outputs": [
    {
     "name": "stdout",
     "output_type": "stream",
     "text": [
      "   BEGIN_YEARMONTH  BEGIN_DAY  BEGIN_TIME  END_YEARMONTH  END_DAY  END_TIME  \\\n",
      "0           202202         20        2118         202202       20      2218   \n",
      "1           202202         21         800         202202       22      1000   \n",
      "2           202202         22         200         202202       22       900   \n",
      "3           202202         18        1609         202202       18      1609   \n",
      "4           202202          2           0         202202        3         0   \n",
      "\n",
      "   EPISODE_ID  EVENT_ID           STATE  STATE_FIPS  ...  END_RANGE  \\\n",
      "0      165464    999902          NEVADA          32  ...        NaN   \n",
      "1      165465    999903          NEVADA          32  ...        NaN   \n",
      "2      165465    999904          NEVADA          32  ...        NaN   \n",
      "3      165611   1001181  ATLANTIC SOUTH          87  ...        7.0   \n",
      "4      165668   1001527  AMERICAN SAMOA          97  ...        5.0   \n",
      "\n",
      "  END_AZIMUTH END_LOCATION BEGIN_LAT  BEGIN_LON  END_LAT   END_LON  \\\n",
      "0         NaN          NaN       NaN        NaN      NaN       NaN   \n",
      "1         NaN          NaN       NaN        NaN      NaN       NaN   \n",
      "2         NaN          NaN       NaN        NaN      NaN       NaN   \n",
      "3          SE  PONTE VEDRA    30.050   -81.1700  30.0500  -81.1700   \n",
      "4         NNW      VAITOGI   -14.333  -170.7157 -14.3393 -170.7268   \n",
      "\n",
      "                                   EPISODE_NARRATIVE  \\\n",
      "0  Strong winds increased ahead of an approaching...   \n",
      "1  A low centered over northern and central Nevad...   \n",
      "2  A low centered over northern and central Nevad...   \n",
      "3  Pre-frontal showers and thunderstorms moved so...   \n",
      "4  A surface trough over the Islands held  the po...   \n",
      "\n",
      "                                     EVENT_NARRATIVE DATA_SOURCE  \n",
      "0  Station (UP994) 3.1 SE West Wendover, Elevatio...         CSV  \n",
      "1  Thirteen inches fell at station (BCSN2) Big Cr...         CSV  \n",
      "2  Fifteen inches fell at station (TJMN2) Toe Jam...         CSV  \n",
      "3  A brief waterspout was observed offshore of So...         CSV  \n",
      "4  Over a 24-hour period, WSO Pago Pago recorded ...         CSV  \n",
      "\n",
      "[5 rows x 51 columns]\n"
     ]
    }
   ],
   "source": [
    "import pandas as pd\n",
    "import glob\n",
    "import os\n",
    "\n",
    "\n",
    "directory = '/home/pk/DAEN690/'\n",
    "file_pattern = os.path.join(directory, 'StormEvents_details*.csv')\n",
    "\n",
    "files = glob.glob(file_pattern)\n",
    "dataframes = [pd.read_csv(file) for file in files]\n",
    "combined_df_detail = pd.concat(dataframes, ignore_index=True)\n",
    "print(combined_df_detail.head())\n"
   ]
  },
  {
   "cell_type": "code",
   "execution_count": 8,
   "id": "5dd1ba3b",
   "metadata": {},
   "outputs": [
    {
     "name": "stdout",
     "output_type": "stream",
     "text": [
      "   YEARMONTH  EPISODE_ID  EVENT_ID  LOCATION_INDEX  RANGE AZIMUTH  \\\n",
      "0     202210      173111   1051457               1   0.00       N   \n",
      "1     202210      173111   1053281               1   9.95      NW   \n",
      "2     202210      173122   1051505               1   1.08       W   \n",
      "3     202210      173123   1051506               1   0.81      NE   \n",
      "4     202210      173123   1051507               1   1.75     WNW   \n",
      "\n",
      "          LOCATION  LATITUDE  LONGITUDE     LAT2      LON2  \n",
      "0         EDGEWOOD   35.0700  -106.2000   354200  10612000  \n",
      "1     MEXICAN SPGS   35.8753  -108.9632  3552518  10857792  \n",
      "2            NUCLA   38.2700  -108.5500  3816200  10833000  \n",
      "3            ELGIN   38.9880  -110.1390  3859280   1108340  \n",
      "4  SOLITUDE SIDING   38.9600  -110.0600  3857600   1103600  \n"
     ]
    }
   ],
   "source": [
    "file_pattern = os.path.join(directory, 'StormEvents_locations*.csv')\n",
    "files = glob.glob(file_pattern)\n",
    "dataframes = [pd.read_csv(file) for file in files]\n",
    "combined_df_location = pd.concat(dataframes, ignore_index=True)\n",
    "print(combined_df_location.head())"
   ]
  },
  {
   "cell_type": "code",
   "execution_count": 5,
   "id": "fa0252bb",
   "metadata": {},
   "outputs": [
    {
     "name": "stdout",
     "output_type": "stream",
     "text": [
      "   YEARMONTH  EPISODE_ID  EVENT_ID  LOCATION_INDEX  RANGE AZIMUTH  \\\n",
      "0     202210      173111   1051457               1   0.00       N   \n",
      "1     202210      173111   1053281               1   9.95      NW   \n",
      "2     202210      173122   1051505               1   1.08       W   \n",
      "3     202210      173123   1051506               1   0.81      NE   \n",
      "4     202210      173123   1051507               1   1.75     WNW   \n",
      "\n",
      "          LOCATION  LATITUDE  LONGITUDE     LAT2      LON2    EVENT_TYPE  \n",
      "0         EDGEWOOD   35.0700  -106.2000   354200  10612000  Funnel Cloud  \n",
      "1     MEXICAN SPGS   35.8753  -108.9632  3552518  10857792  Funnel Cloud  \n",
      "2            NUCLA   38.2700  -108.5500  3816200  10833000          Hail  \n",
      "3            ELGIN   38.9880  -110.1390  3859280   1108340          Hail  \n",
      "4  SOLITUDE SIDING   38.9600  -110.0600  3857600   1103600   Debris Flow  \n"
     ]
    }
   ],
   "source": [
    "#join on EVENT_ID to get EVENT_TYPE\n",
    "result_df = pd.merge(combined_df_location, combined_df_detail[['EVENT_ID', 'EVENT_TYPE']], on='EVENT_ID', how='left')\n",
    "\n",
    "output_path = os.path.join(directory, 'combined_storm_events_with_types.csv')\n",
    "result_df.to_csv(output_path, index=False)\n",
    "\n",
    "print(result_df.head())"
   ]
  },
  {
   "cell_type": "code",
   "execution_count": 9,
   "id": "433d8d13",
   "metadata": {},
   "outputs": [
    {
     "data": {
      "text/html": [
       "<div>\n",
       "<style scoped>\n",
       "    .dataframe tbody tr th:only-of-type {\n",
       "        vertical-align: middle;\n",
       "    }\n",
       "\n",
       "    .dataframe tbody tr th {\n",
       "        vertical-align: top;\n",
       "    }\n",
       "\n",
       "    .dataframe thead th {\n",
       "        text-align: right;\n",
       "    }\n",
       "</style>\n",
       "<table border=\"1\" class=\"dataframe\">\n",
       "  <thead>\n",
       "    <tr style=\"text-align: right;\">\n",
       "      <th></th>\n",
       "      <th>YEARMONTH</th>\n",
       "      <th>EPISODE_ID</th>\n",
       "      <th>EVENT_ID</th>\n",
       "      <th>LOCATION_INDEX</th>\n",
       "      <th>RANGE</th>\n",
       "      <th>AZIMUTH</th>\n",
       "      <th>LOCATION</th>\n",
       "      <th>LATITUDE</th>\n",
       "      <th>LONGITUDE</th>\n",
       "      <th>LAT2</th>\n",
       "      <th>LON2</th>\n",
       "      <th>EVENT_TYPE</th>\n",
       "    </tr>\n",
       "  </thead>\n",
       "  <tbody>\n",
       "    <tr>\n",
       "      <th>0</th>\n",
       "      <td>202210</td>\n",
       "      <td>173111</td>\n",
       "      <td>1051457</td>\n",
       "      <td>1</td>\n",
       "      <td>0.00</td>\n",
       "      <td>N</td>\n",
       "      <td>EDGEWOOD</td>\n",
       "      <td>35.0700</td>\n",
       "      <td>-106.2000</td>\n",
       "      <td>354200</td>\n",
       "      <td>10612000</td>\n",
       "      <td>Funnel Cloud</td>\n",
       "    </tr>\n",
       "    <tr>\n",
       "      <th>1</th>\n",
       "      <td>202210</td>\n",
       "      <td>173111</td>\n",
       "      <td>1053281</td>\n",
       "      <td>1</td>\n",
       "      <td>9.95</td>\n",
       "      <td>NW</td>\n",
       "      <td>MEXICAN SPGS</td>\n",
       "      <td>35.8753</td>\n",
       "      <td>-108.9632</td>\n",
       "      <td>3552518</td>\n",
       "      <td>10857792</td>\n",
       "      <td>Funnel Cloud</td>\n",
       "    </tr>\n",
       "    <tr>\n",
       "      <th>2</th>\n",
       "      <td>202210</td>\n",
       "      <td>173122</td>\n",
       "      <td>1051505</td>\n",
       "      <td>1</td>\n",
       "      <td>1.08</td>\n",
       "      <td>W</td>\n",
       "      <td>NUCLA</td>\n",
       "      <td>38.2700</td>\n",
       "      <td>-108.5500</td>\n",
       "      <td>3816200</td>\n",
       "      <td>10833000</td>\n",
       "      <td>Hail</td>\n",
       "    </tr>\n",
       "    <tr>\n",
       "      <th>3</th>\n",
       "      <td>202210</td>\n",
       "      <td>173123</td>\n",
       "      <td>1051506</td>\n",
       "      <td>1</td>\n",
       "      <td>0.81</td>\n",
       "      <td>NE</td>\n",
       "      <td>ELGIN</td>\n",
       "      <td>38.9880</td>\n",
       "      <td>-110.1390</td>\n",
       "      <td>3859280</td>\n",
       "      <td>1108340</td>\n",
       "      <td>Hail</td>\n",
       "    </tr>\n",
       "    <tr>\n",
       "      <th>4</th>\n",
       "      <td>202210</td>\n",
       "      <td>173123</td>\n",
       "      <td>1051507</td>\n",
       "      <td>1</td>\n",
       "      <td>1.75</td>\n",
       "      <td>WNW</td>\n",
       "      <td>SOLITUDE SIDING</td>\n",
       "      <td>38.9600</td>\n",
       "      <td>-110.0600</td>\n",
       "      <td>3857600</td>\n",
       "      <td>1103600</td>\n",
       "      <td>Debris Flow</td>\n",
       "    </tr>\n",
       "  </tbody>\n",
       "</table>\n",
       "</div>"
      ],
      "text/plain": [
       "   YEARMONTH  EPISODE_ID  EVENT_ID  LOCATION_INDEX  RANGE AZIMUTH  \\\n",
       "0     202210      173111   1051457               1   0.00       N   \n",
       "1     202210      173111   1053281               1   9.95      NW   \n",
       "2     202210      173122   1051505               1   1.08       W   \n",
       "3     202210      173123   1051506               1   0.81      NE   \n",
       "4     202210      173123   1051507               1   1.75     WNW   \n",
       "\n",
       "          LOCATION  LATITUDE  LONGITUDE     LAT2      LON2    EVENT_TYPE  \n",
       "0         EDGEWOOD   35.0700  -106.2000   354200  10612000  Funnel Cloud  \n",
       "1     MEXICAN SPGS   35.8753  -108.9632  3552518  10857792  Funnel Cloud  \n",
       "2            NUCLA   38.2700  -108.5500  3816200  10833000          Hail  \n",
       "3            ELGIN   38.9880  -110.1390  3859280   1108340          Hail  \n",
       "4  SOLITUDE SIDING   38.9600  -110.0600  3857600   1103600   Debris Flow  "
      ]
     },
     "execution_count": 9,
     "metadata": {},
     "output_type": "execute_result"
    }
   ],
   "source": [
    "result_df.head()"
   ]
  }
 ],
 "metadata": {
  "kernelspec": {
   "display_name": "Python 3 (ipykernel)",
   "language": "python",
   "name": "python3"
  },
  "language_info": {
   "codemirror_mode": {
    "name": "ipython",
    "version": 3
   },
   "file_extension": ".py",
   "mimetype": "text/x-python",
   "name": "python",
   "nbconvert_exporter": "python",
   "pygments_lexer": "ipython3",
   "version": "3.11.5"
  }
 },
 "nbformat": 4,
 "nbformat_minor": 5
}
